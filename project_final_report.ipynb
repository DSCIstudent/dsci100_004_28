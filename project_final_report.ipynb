{
 "cells": [
  {
   "cell_type": "markdown",
   "id": "abacff2d-78c5-48c8-a912-6a1a3d924738",
   "metadata": {},
   "source": [
    "<h1> Project Final Report</h1>\n",
    "<h3>Group 004_28 </h3>"
   ]
  },
  {
   "cell_type": "markdown",
   "id": "8baf3769-7a1c-4ab0-bde4-5fd054b8c3db",
   "metadata": {},
   "source": [
    "<h2>Introduction</h2>"
   ]
  },
  {
   "cell_type": "markdown",
   "id": "274bfc36-e25d-43fd-8bd9-8e262158d9d2",
   "metadata": {},
   "source": [
    "<h3>Background</h3>\n",
    "\n",
    "The Pacific Laboratory for Artificial Intelligence (PLAI) is a research group in computer science at UBC. They have a Minecraft server, PLAIcraft, where they record players' actions as they navigate the virtual world. The research group would like to target their PLAIcraft recruitment efforts and ensure they have enough resources to handle the number of players they attract. \n",
    "\n",
    "This report explores the question \"*What *kinds* of players are most likely to contribute a large amount of data?*\"</br> \n",
    "Specifically, our group is interested in learning how a **player's age** might be related to **how much data they contribute** (i.e. total played hours). "
   ]
  },
  {
   "cell_type": "markdown",
   "id": "2626a210-5d40-48a0-b842-c80a9d8ed13b",
   "metadata": {},
   "source": [
    "<h3>Summary of Datasets</h3>\n",
    "The provided data consists of two csv files, 'Players' (9 variables, 196 observations), and 'Sessions' (5 variables, 1535 observations). Both are summarized below.\n",
    "\n",
    "<h4>Players</h4> \n",
    "\n",
    "<div style=\"display: inline-block\">  \n",
    "    \n",
    "| Variable         | Type of Data*         | Interpretation | Options / Other Notes|\n",
    "| ------------------- | --------------------- | -------------------- | ------- |\n",
    "| *experience*          | categorial - ordinal  | experience level of player, selected by player | *Beginner, Amateur, Regular, Pro, Veteran* |\n",
    "| *hashedEmail*         | character             | email address of player in hashed form | e.g. *f6daba428a5e19a3d47574858c135*... |\n",
    "| *name* | character | pseudonym chosen by player | Many options were provided to players. Given this, it makes sense to treat this as character, not factor. |\n",
    "| *gender* | categorial | gender of player, selected by the player | *Male, Female, Non-binary, Agender, Two-Spirited, Other, Prefer not to say* |\n",
    "| *played_hours* | double | number of hours player has played on server, to one decimal place | e.g. *22.5* |\n",
    "| *age* | double | age of player, selected by the player | e.g. *30* |\n",
    "| *subscribe* | logical | a boolean indicating whether player subscribed to PlaiCraft  updates | *TRUE, FALSE* | \n",
    "| *individualId* | double | unique number identifying player | Note that this column contains only *N/A*. |\n",
    "| *organizationName* | character | organization as indicated by player | Note that this column contains only *N/A*. |\n",
    "</div>\n",
    "\n",
    "\\* Represents most appropriate type, not the type initially assigned by R.\n",
    "<br />\n",
    "\n",
    "<h4>Sessions</h4> \n",
    "\n",
    "<div style=\"display: inline-block\"> \n",
    "    \n",
    "| Variable                 | Type of Data* | Interpretation                           | Other Notes |\n",
    "| ------------------------ | ------------- | ---------------------------------------- | ----------- |\n",
    "| *hashed_Email*           | character | email address of player in hashed form | e.g. *50499be23603422e6a0ee97...* |\n",
    "| *start_time*             | character | date, time Plaicraft session began | e.g. *30/06/2024 18:12* |\n",
    "| *end_time*               | character | date, time  Plaicraft session finished | e.g. *30/06/2024 18:24* |\n",
    "| *original_start_time*    | double        | UNIX timestamp of session start | e.g. *1.71977E+12* |\n",
    "| *original_end_time*      | double        | UNIX timestamp of session end | e.g. *1.71977E+12* |\n",
    "\n",
    "</div>"
   ]
  },
  {
   "cell_type": "markdown",
   "id": "0a756d0f-af2c-4e9f-b95b-aad7f3a4dbf0",
   "metadata": {},
   "source": [
    "<h2>Method & Results</h2>"
   ]
  },
  {
   "cell_type": "markdown",
   "id": "89ece880-d635-4df5-bd43-634d59e72e2e",
   "metadata": {},
   "source": [
    "<h3>Loading Data</h3>"
   ]
  },
  {
   "cell_type": "markdown",
   "id": "7d96c147-2496-40e2-a2d8-db8871c1388e",
   "metadata": {},
   "source": [
    "First, we load the necessary libraries, then read the datasets from their URLs."
   ]
  },
  {
   "cell_type": "code",
   "execution_count": 16,
   "id": "93e7aeac-0840-4c8a-bd0a-0b7881b0ea6d",
   "metadata": {},
   "outputs": [
    {
     "name": "stderr",
     "output_type": "stream",
     "text": [
      "\u001b[1mRows: \u001b[22m\u001b[34m196\u001b[39m \u001b[1mColumns: \u001b[22m\u001b[34m9\u001b[39m\n",
      "\u001b[36m──\u001b[39m \u001b[1mColumn specification\u001b[22m \u001b[36m────────────────────────────────────────────────────────\u001b[39m\n",
      "\u001b[1mDelimiter:\u001b[22m \",\"\n",
      "\u001b[31mchr\u001b[39m (4): experience, hashedEmail, name, gender\n",
      "\u001b[32mdbl\u001b[39m (2): played_hours, age\n",
      "\u001b[33mlgl\u001b[39m (3): subscribe, individualId, organizationName\n",
      "\n",
      "\u001b[36mℹ\u001b[39m Use `spec()` to retrieve the full column specification for this data.\n",
      "\u001b[36mℹ\u001b[39m Specify the column types or set `show_col_types = FALSE` to quiet this message.\n",
      "\u001b[1mRows: \u001b[22m\u001b[34m1535\u001b[39m \u001b[1mColumns: \u001b[22m\u001b[34m5\u001b[39m\n",
      "\u001b[36m──\u001b[39m \u001b[1mColumn specification\u001b[22m \u001b[36m────────────────────────────────────────────────────────\u001b[39m\n",
      "\u001b[1mDelimiter:\u001b[22m \",\"\n",
      "\u001b[31mchr\u001b[39m (3): hashedEmail, start_time, end_time\n",
      "\u001b[32mdbl\u001b[39m (2): original_start_time, original_end_time\n",
      "\n",
      "\u001b[36mℹ\u001b[39m Use `spec()` to retrieve the full column specification for this data.\n",
      "\u001b[36mℹ\u001b[39m Specify the column types or set `show_col_types = FALSE` to quiet this message.\n"
     ]
    }
   ],
   "source": [
    "library(tidyverse)\n",
    "library(tidymodels)\n",
    "library(repr)\n",
    "\n",
    "players <- read_csv(\"https://drive.google.com/uc?export=download&id=1Mw9vW0hjTJwRWx0bDXiSpYsO3gKogaPz\")\n",
    "sessions <- read_csv(\"https://drive.google.com/uc?export=download&id=14O91N5OlVkvdGxXNJUj5jIsV5RexhzbB\")"
   ]
  },
  {
   "cell_type": "markdown",
   "id": "c120c57f-d63a-45c7-b588-318542c61b61",
   "metadata": {},
   "source": [
    "<h3>Wrangling & Cleaning Data</h3>"
   ]
  },
  {
   "cell_type": "markdown",
   "id": "be765cf0-4155-411f-828d-a4a5acd53d57",
   "metadata": {},
   "source": [
    "Then, we remove the `individualId` and the `organizationName` columns in the `players` data frame, since all values in these columns are N/A."
   ]
  },
  {
   "cell_type": "code",
   "execution_count": 17,
   "id": "18530819-c4ec-4e45-b0ef-4ed886cb528f",
   "metadata": {},
   "outputs": [],
   "source": [
    "players <- players |>\n",
    "select(-individualId, -organizationName)"
   ]
  },
  {
   "cell_type": "markdown",
   "id": "25154a08-1cfb-41e2-bbb1-b7fc7cdbe648",
   "metadata": {},
   "source": [
    "Next, we redefine the `experience` and `gender` columns as **factors** using the `as_factor` function, so that these variables will be treated as categorical."
   ]
  },
  {
   "cell_type": "code",
   "execution_count": 18,
   "id": "a305dae7-5880-40c4-82ac-81528a31f20b",
   "metadata": {},
   "outputs": [],
   "source": [
    "players <- players |>\n",
    "mutate(experience = as_factor(experience)) |>\n",
    "mutate(gender = as_factor(gender))"
   ]
  },
  {
   "cell_type": "markdown",
   "id": "9b3d0a5b-d117-4ac3-8a93-2ac9349e1e21",
   "metadata": {},
   "source": [
    "We also create a new `sessions_sum` data frame using `group_by` and `summarise`.\n",
    "This shows us the number of sessions per hashed email, i.e. the number of sessions per individual."
   ]
  },
  {
   "cell_type": "code",
   "execution_count": 19,
   "id": "411a01cc-5c9b-438c-b7b1-053e3b9f9781",
   "metadata": {},
   "outputs": [
    {
     "data": {
      "text/html": [
       "<table class=\"dataframe\">\n",
       "<caption>A tibble: 6 × 2</caption>\n",
       "<thead>\n",
       "\t<tr><th scope=col>hashedEmail</th><th scope=col>number_of_sessions</th></tr>\n",
       "\t<tr><th scope=col>&lt;chr&gt;</th><th scope=col>&lt;int&gt;</th></tr>\n",
       "</thead>\n",
       "<tbody>\n",
       "\t<tr><td>0088b5e134c3f0498a18c7ea6b8d77b4b0ff1636fc93355ccc95b45423367832</td><td> 2</td></tr>\n",
       "\t<tr><td>060aca80f8cfbf1c91553a72f4d5ec8034764b05ab59fe8e1cf0eee9a7b67967</td><td> 1</td></tr>\n",
       "\t<tr><td>0ce7bfa910d47fc91f21a7b3acd8f33bde6db57912ce0290fa0437ce0b97f387</td><td> 1</td></tr>\n",
       "\t<tr><td>0d4d71be33e2bc7266ee4983002bd930f69d304288a8663529c875f40f1750f3</td><td>13</td></tr>\n",
       "\t<tr><td>0d70dd9cac34d646c810b1846fe6a85b9e288a76f5dcab9c1ff1a0e7ca200b3a</td><td> 2</td></tr>\n",
       "\t<tr><td>11006065e9412650e99eea4a4aaaf0399bc338006f85e80cc82d18b49f0e2aa4</td><td> 1</td></tr>\n",
       "</tbody>\n",
       "</table>\n"
      ],
      "text/latex": [
       "A tibble: 6 × 2\n",
       "\\begin{tabular}{ll}\n",
       " hashedEmail & number\\_of\\_sessions\\\\\n",
       " <chr> & <int>\\\\\n",
       "\\hline\n",
       "\t 0088b5e134c3f0498a18c7ea6b8d77b4b0ff1636fc93355ccc95b45423367832 &  2\\\\\n",
       "\t 060aca80f8cfbf1c91553a72f4d5ec8034764b05ab59fe8e1cf0eee9a7b67967 &  1\\\\\n",
       "\t 0ce7bfa910d47fc91f21a7b3acd8f33bde6db57912ce0290fa0437ce0b97f387 &  1\\\\\n",
       "\t 0d4d71be33e2bc7266ee4983002bd930f69d304288a8663529c875f40f1750f3 & 13\\\\\n",
       "\t 0d70dd9cac34d646c810b1846fe6a85b9e288a76f5dcab9c1ff1a0e7ca200b3a &  2\\\\\n",
       "\t 11006065e9412650e99eea4a4aaaf0399bc338006f85e80cc82d18b49f0e2aa4 &  1\\\\\n",
       "\\end{tabular}\n"
      ],
      "text/markdown": [
       "\n",
       "A tibble: 6 × 2\n",
       "\n",
       "| hashedEmail &lt;chr&gt; | number_of_sessions &lt;int&gt; |\n",
       "|---|---|\n",
       "| 0088b5e134c3f0498a18c7ea6b8d77b4b0ff1636fc93355ccc95b45423367832 |  2 |\n",
       "| 060aca80f8cfbf1c91553a72f4d5ec8034764b05ab59fe8e1cf0eee9a7b67967 |  1 |\n",
       "| 0ce7bfa910d47fc91f21a7b3acd8f33bde6db57912ce0290fa0437ce0b97f387 |  1 |\n",
       "| 0d4d71be33e2bc7266ee4983002bd930f69d304288a8663529c875f40f1750f3 | 13 |\n",
       "| 0d70dd9cac34d646c810b1846fe6a85b9e288a76f5dcab9c1ff1a0e7ca200b3a |  2 |\n",
       "| 11006065e9412650e99eea4a4aaaf0399bc338006f85e80cc82d18b49f0e2aa4 |  1 |\n",
       "\n"
      ],
      "text/plain": [
       "  hashedEmail                                                     \n",
       "1 0088b5e134c3f0498a18c7ea6b8d77b4b0ff1636fc93355ccc95b45423367832\n",
       "2 060aca80f8cfbf1c91553a72f4d5ec8034764b05ab59fe8e1cf0eee9a7b67967\n",
       "3 0ce7bfa910d47fc91f21a7b3acd8f33bde6db57912ce0290fa0437ce0b97f387\n",
       "4 0d4d71be33e2bc7266ee4983002bd930f69d304288a8663529c875f40f1750f3\n",
       "5 0d70dd9cac34d646c810b1846fe6a85b9e288a76f5dcab9c1ff1a0e7ca200b3a\n",
       "6 11006065e9412650e99eea4a4aaaf0399bc338006f85e80cc82d18b49f0e2aa4\n",
       "  number_of_sessions\n",
       "1  2                \n",
       "2  1                \n",
       "3  1                \n",
       "4 13                \n",
       "5  2                \n",
       "6  1                "
      ]
     },
     "metadata": {},
     "output_type": "display_data"
    }
   ],
   "source": [
    "sessions_sum <- sessions |>\n",
    "group_by(hashedEmail) |>\n",
    "summarise(number_of_sessions = n())\n",
    "\n",
    "head(sessions_sum)"
   ]
  },
  {
   "cell_type": "markdown",
   "id": "c0d1722b-1854-46ed-94a0-268e9a16aad4",
   "metadata": {},
   "source": [
    "**Table 1. Hashed Email & Number of Sessions**\\\n",
    "(Only the head is displayed for the sake of readability.)"
   ]
  },
  {
   "cell_type": "markdown",
   "id": "0343b8cc-0603-4805-adc2-524e5a7dfa73",
   "metadata": {},
   "source": [
    "Next, we bind this data frame with the `players` data frame, using `left_join`. This brings together all required variables.  This way, we can use just one data frame for all subsequent analysis steps."
   ]
  },
  {
   "cell_type": "code",
   "execution_count": 20,
   "id": "3cf0fe9f-5980-4953-9659-ddf3a0a9236a",
   "metadata": {},
   "outputs": [
    {
     "data": {
      "text/html": [
       "<table class=\"dataframe\">\n",
       "<caption>A tibble: 6 × 8</caption>\n",
       "<thead>\n",
       "\t<tr><th scope=col>experience</th><th scope=col>subscribe</th><th scope=col>hashedEmail</th><th scope=col>played_hours</th><th scope=col>name</th><th scope=col>gender</th><th scope=col>age</th><th scope=col>number_of_sessions</th></tr>\n",
       "\t<tr><th scope=col>&lt;fct&gt;</th><th scope=col>&lt;lgl&gt;</th><th scope=col>&lt;chr&gt;</th><th scope=col>&lt;dbl&gt;</th><th scope=col>&lt;chr&gt;</th><th scope=col>&lt;fct&gt;</th><th scope=col>&lt;dbl&gt;</th><th scope=col>&lt;int&gt;</th></tr>\n",
       "</thead>\n",
       "<tbody>\n",
       "\t<tr><td>Pro    </td><td> TRUE</td><td>f6daba428a5e19a3d47574858c13550499be23603422e6a0ee9728f8b53e192d</td><td>30.3</td><td>Morgan   </td><td>Male  </td><td> 9</td><td>27</td></tr>\n",
       "\t<tr><td>Veteran</td><td> TRUE</td><td>f3c813577c458ba0dfef80996f8f32c93b6e8af1fa939732842f2312358a88e9</td><td> 3.8</td><td>Christian</td><td>Male  </td><td>17</td><td> 3</td></tr>\n",
       "\t<tr><td>Veteran</td><td>FALSE</td><td>b674dd7ee0d24096d1c019615ce4d12b20fcbff12d79d3c5a9d2118eb7ccbb28</td><td> 0.0</td><td>Blake    </td><td>Male  </td><td>17</td><td> 1</td></tr>\n",
       "\t<tr><td>Amateur</td><td> TRUE</td><td>23fe711e0e3b77f1da7aa221ab1192afe21648d47d2b4fa7a5a659ff443a0eb5</td><td> 0.7</td><td>Flora    </td><td>Female</td><td>21</td><td> 1</td></tr>\n",
       "\t<tr><td>Regular</td><td> TRUE</td><td>7dc01f10bf20671ecfccdac23812b1b415acd42c2147cb0af4d48fcce2420f3e</td><td> 0.1</td><td>Kylie    </td><td>Male  </td><td>21</td><td> 1</td></tr>\n",
       "\t<tr><td>Amateur</td><td> TRUE</td><td>f58aad5996a435f16b0284a3b267f973f9af99e7a89bee0430055a44fa92f977</td><td> 0.0</td><td>Adrian   </td><td>Female</td><td>17</td><td>NA</td></tr>\n",
       "</tbody>\n",
       "</table>\n"
      ],
      "text/latex": [
       "A tibble: 6 × 8\n",
       "\\begin{tabular}{llllllll}\n",
       " experience & subscribe & hashedEmail & played\\_hours & name & gender & age & number\\_of\\_sessions\\\\\n",
       " <fct> & <lgl> & <chr> & <dbl> & <chr> & <fct> & <dbl> & <int>\\\\\n",
       "\\hline\n",
       "\t Pro     &  TRUE & f6daba428a5e19a3d47574858c13550499be23603422e6a0ee9728f8b53e192d & 30.3 & Morgan    & Male   &  9 & 27\\\\\n",
       "\t Veteran &  TRUE & f3c813577c458ba0dfef80996f8f32c93b6e8af1fa939732842f2312358a88e9 &  3.8 & Christian & Male   & 17 &  3\\\\\n",
       "\t Veteran & FALSE & b674dd7ee0d24096d1c019615ce4d12b20fcbff12d79d3c5a9d2118eb7ccbb28 &  0.0 & Blake     & Male   & 17 &  1\\\\\n",
       "\t Amateur &  TRUE & 23fe711e0e3b77f1da7aa221ab1192afe21648d47d2b4fa7a5a659ff443a0eb5 &  0.7 & Flora     & Female & 21 &  1\\\\\n",
       "\t Regular &  TRUE & 7dc01f10bf20671ecfccdac23812b1b415acd42c2147cb0af4d48fcce2420f3e &  0.1 & Kylie     & Male   & 21 &  1\\\\\n",
       "\t Amateur &  TRUE & f58aad5996a435f16b0284a3b267f973f9af99e7a89bee0430055a44fa92f977 &  0.0 & Adrian    & Female & 17 & NA\\\\\n",
       "\\end{tabular}\n"
      ],
      "text/markdown": [
       "\n",
       "A tibble: 6 × 8\n",
       "\n",
       "| experience &lt;fct&gt; | subscribe &lt;lgl&gt; | hashedEmail &lt;chr&gt; | played_hours &lt;dbl&gt; | name &lt;chr&gt; | gender &lt;fct&gt; | age &lt;dbl&gt; | number_of_sessions &lt;int&gt; |\n",
       "|---|---|---|---|---|---|---|---|\n",
       "| Pro     |  TRUE | f6daba428a5e19a3d47574858c13550499be23603422e6a0ee9728f8b53e192d | 30.3 | Morgan    | Male   |  9 | 27 |\n",
       "| Veteran |  TRUE | f3c813577c458ba0dfef80996f8f32c93b6e8af1fa939732842f2312358a88e9 |  3.8 | Christian | Male   | 17 |  3 |\n",
       "| Veteran | FALSE | b674dd7ee0d24096d1c019615ce4d12b20fcbff12d79d3c5a9d2118eb7ccbb28 |  0.0 | Blake     | Male   | 17 |  1 |\n",
       "| Amateur |  TRUE | 23fe711e0e3b77f1da7aa221ab1192afe21648d47d2b4fa7a5a659ff443a0eb5 |  0.7 | Flora     | Female | 21 |  1 |\n",
       "| Regular |  TRUE | 7dc01f10bf20671ecfccdac23812b1b415acd42c2147cb0af4d48fcce2420f3e |  0.1 | Kylie     | Male   | 21 |  1 |\n",
       "| Amateur |  TRUE | f58aad5996a435f16b0284a3b267f973f9af99e7a89bee0430055a44fa92f977 |  0.0 | Adrian    | Female | 17 | NA |\n",
       "\n"
      ],
      "text/plain": [
       "  experience subscribe\n",
       "1 Pro         TRUE    \n",
       "2 Veteran     TRUE    \n",
       "3 Veteran    FALSE    \n",
       "4 Amateur     TRUE    \n",
       "5 Regular     TRUE    \n",
       "6 Amateur     TRUE    \n",
       "  hashedEmail                                                      played_hours\n",
       "1 f6daba428a5e19a3d47574858c13550499be23603422e6a0ee9728f8b53e192d 30.3        \n",
       "2 f3c813577c458ba0dfef80996f8f32c93b6e8af1fa939732842f2312358a88e9  3.8        \n",
       "3 b674dd7ee0d24096d1c019615ce4d12b20fcbff12d79d3c5a9d2118eb7ccbb28  0.0        \n",
       "4 23fe711e0e3b77f1da7aa221ab1192afe21648d47d2b4fa7a5a659ff443a0eb5  0.7        \n",
       "5 7dc01f10bf20671ecfccdac23812b1b415acd42c2147cb0af4d48fcce2420f3e  0.1        \n",
       "6 f58aad5996a435f16b0284a3b267f973f9af99e7a89bee0430055a44fa92f977  0.0        \n",
       "  name      gender age number_of_sessions\n",
       "1 Morgan    Male    9  27                \n",
       "2 Christian Male   17   3                \n",
       "3 Blake     Male   17   1                \n",
       "4 Flora     Female 21   1                \n",
       "5 Kylie     Male   21   1                \n",
       "6 Adrian    Female 17  NA                "
      ]
     },
     "metadata": {},
     "output_type": "display_data"
    }
   ],
   "source": [
    "data <- left_join(players, sessions_sum, by = \"hashedEmail\")\n",
    "\n",
    "head(data)"
   ]
  },
  {
   "cell_type": "markdown",
   "id": "4f124037-7140-4199-af3f-2bdf8e5daa75",
   "metadata": {},
   "source": [
    "**Table 2. Dataframe of all player variables**\\\n",
    "(Only the head is displayed for the sake of readability.)"
   ]
  },
  {
   "cell_type": "markdown",
   "id": "93b543f0-6902-4c43-a481-ae9d7b9c6443",
   "metadata": {},
   "source": [
    "<h3>Data Analysis 1 - Linear Regression</h3>\n",
    "\n",
    "We start our data analysis by setting the seed. Then we split the data into training and testing sets, in a 70:30 ratio."
   ]
  },
  {
   "cell_type": "code",
   "execution_count": 21,
   "id": "d7f367c3-6f8c-4768-9f7f-68d837bd9044",
   "metadata": {},
   "outputs": [],
   "source": [
    "set.seed(2000) \n",
    "\n",
    "data_split <- initial_split(data, prop = 0.7, strata = age)\n",
    "data_training <- training(data_split)\n",
    "data_testing <- testing(data_split)"
   ]
  },
  {
   "cell_type": "markdown",
   "id": "62475f97-1b33-44df-abca-3352b22dc563",
   "metadata": {},
   "source": [
    "Before creating a model, we make a **scatterplot** using `ggplot`, to see if there seems to be a relationship between the `age` and `played_hours` variables."
   ]
  },
  {
   "cell_type": "markdown",
   "id": "6e20b6e2-0348-4611-bfd5-f25c6e083028",
   "metadata": {},
   "source": [
    "**<h4>Figure 1. Total Playtime vs. Age**"
   ]
  },
  {
   "cell_type": "code",
   "execution_count": 22,
   "id": "1ad1a09d-0467-4fa9-972d-9a05bfe9a88e",
   "metadata": {},
   "outputs": [
    {
     "data": {
      "application/pdf": "[encoded data removed]",
      "image/jpeg": "[encoded data removed]",
      "image/png": "[encoded data removed]",
      "image/svg+xml": [
       "<?xml version=\"1.0\" encoding=\"UTF-8\"?>\n",
       "<svg xmlns=\"http://www.w3.org/2000/svg\" xmlns:xlink=\"http://www.w3.org/1999/xlink\" width=\"576\" height=\"576\" viewBox=\"0 0 576 576\">\n",
       "<defs>\n",
       "<g>\n",
       "<g id=\"glyph-0-0\">\n",
       "<path d=\"M 0.640625 0 L 0.640625 -0.796875 C 0.859375 -1.285156 1.117188 -1.710938 1.421875 -2.078125 C 1.722656 -2.453125 2.039062 -2.789062 2.375 -3.09375 C 2.71875 -3.394531 3.054688 -3.675781 3.390625 -3.9375 C 3.722656 -4.195312 4.019531 -4.453125 4.28125 -4.703125 C 4.550781 -4.960938 4.769531 -5.234375 4.9375 -5.515625 C 5.101562 -5.804688 5.1875 -6.128906 5.1875 -6.484375 C 5.1875 -6.734375 5.144531 -6.953125 5.0625 -7.140625 C 4.988281 -7.328125 4.878906 -7.484375 4.734375 -7.609375 C 4.597656 -7.742188 4.429688 -7.84375 4.234375 -7.90625 C 4.035156 -7.976562 3.816406 -8.015625 3.578125 -8.015625 C 3.347656 -8.015625 3.132812 -7.984375 2.9375 -7.921875 C 2.738281 -7.859375 2.5625 -7.765625 2.40625 -7.640625 C 2.257812 -7.515625 2.132812 -7.359375 2.03125 -7.171875 C 1.9375 -6.984375 1.875 -6.765625 1.84375 -6.515625 L 0.6875 -6.625 C 0.726562 -6.945312 0.816406 -7.242188 0.953125 -7.515625 C 1.085938 -7.796875 1.273438 -8.039062 1.515625 -8.25 C 1.765625 -8.46875 2.054688 -8.632812 2.390625 -8.75 C 2.734375 -8.875 3.128906 -8.9375 3.578125 -8.9375 C 4.015625 -8.9375 4.398438 -8.882812 4.734375 -8.78125 C 5.078125 -8.675781 5.367188 -8.519531 5.609375 -8.3125 C 5.847656 -8.113281 6.03125 -7.863281 6.15625 -7.5625 C 6.28125 -7.257812 6.34375 -6.910156 6.34375 -6.515625 C 6.34375 -6.222656 6.285156 -5.941406 6.171875 -5.671875 C 6.066406 -5.410156 5.925781 -5.160156 5.75 -4.921875 C 5.570312 -4.679688 5.363281 -4.445312 5.125 -4.21875 C 4.894531 -3.988281 4.65625 -3.765625 4.40625 -3.546875 C 4.15625 -3.335938 3.898438 -3.128906 3.640625 -2.921875 C 3.378906 -2.710938 3.132812 -2.5 2.90625 -2.28125 C 2.675781 -2.070312 2.472656 -1.859375 2.296875 -1.640625 C 2.117188 -1.421875 1.976562 -1.191406 1.875 -0.953125 L 6.46875 -0.953125 L 6.46875 0 Z M 0.640625 0 \"/>\n",
       "</g>\n",
       "<g id=\"glyph-0-1\">\n",
       "<path d=\"M 6.578125 -2.875 C 6.578125 -2.425781 6.507812 -2.019531 6.375 -1.65625 C 6.25 -1.289062 6.050781 -0.972656 5.78125 -0.703125 C 5.519531 -0.441406 5.191406 -0.238281 4.796875 -0.09375 C 4.410156 0.0507812 3.960938 0.125 3.453125 0.125 C 2.992188 0.125 2.59375 0.0703125 2.25 -0.03125 C 1.90625 -0.144531 1.613281 -0.296875 1.375 -0.484375 C 1.132812 -0.671875 0.941406 -0.890625 0.796875 -1.140625 C 0.660156 -1.398438 0.566406 -1.675781 0.515625 -1.96875 L 1.65625 -2.09375 C 1.695312 -1.925781 1.757812 -1.765625 1.84375 -1.609375 C 1.925781 -1.453125 2.039062 -1.3125 2.1875 -1.1875 C 2.332031 -1.070312 2.507812 -0.976562 2.71875 -0.90625 C 2.925781 -0.832031 3.179688 -0.796875 3.484375 -0.796875 C 3.773438 -0.796875 4.035156 -0.835938 4.265625 -0.921875 C 4.503906 -1.015625 4.707031 -1.148438 4.875 -1.328125 C 5.050781 -1.503906 5.179688 -1.71875 5.265625 -1.96875 C 5.359375 -2.21875 5.40625 -2.507812 5.40625 -2.84375 C 5.40625 -3.113281 5.363281 -3.363281 5.28125 -3.59375 C 5.195312 -3.820312 5.070312 -4.015625 4.90625 -4.171875 C 4.738281 -4.335938 4.535156 -4.46875 4.296875 -4.5625 C 4.066406 -4.65625 3.800781 -4.703125 3.5 -4.703125 C 3.3125 -4.703125 3.140625 -4.679688 2.984375 -4.640625 C 2.828125 -4.609375 2.679688 -4.5625 2.546875 -4.5 C 2.410156 -4.445312 2.285156 -4.378906 2.171875 -4.296875 C 2.066406 -4.222656 1.96875 -4.144531 1.875 -4.0625 L 0.765625 -4.0625 L 1.0625 -8.796875 L 6.0625 -8.796875 L 6.0625 -7.84375 L 2.09375 -7.84375 L 1.921875 -5.0625 C 2.117188 -5.207031 2.367188 -5.335938 2.671875 -5.453125 C 2.972656 -5.566406 3.328125 -5.625 3.734375 -5.625 C 4.171875 -5.625 4.5625 -5.554688 4.90625 -5.421875 C 5.257812 -5.285156 5.5625 -5.09375 5.8125 -4.84375 C 6.0625 -4.601562 6.25 -4.3125 6.375 -3.96875 C 6.507812 -3.632812 6.578125 -3.269531 6.578125 -2.875 Z M 6.578125 -2.875 \"/>\n",
       "</g>\n",
       "<g id=\"glyph-0-2\">\n",
       "<path d=\"M 6.609375 -4.40625 C 6.609375 -3.5625 6.53125 -2.847656 6.375 -2.265625 C 6.21875 -1.691406 6 -1.226562 5.71875 -0.875 C 5.445312 -0.519531 5.125 -0.265625 4.75 -0.109375 C 4.375 0.046875 3.972656 0.125 3.546875 0.125 C 3.117188 0.125 2.71875 0.046875 2.34375 -0.109375 C 1.96875 -0.265625 1.644531 -0.519531 1.375 -0.875 C 1.101562 -1.226562 0.890625 -1.691406 0.734375 -2.265625 C 0.578125 -2.835938 0.5 -3.550781 0.5 -4.40625 C 0.5 -5.289062 0.578125 -6.023438 0.734375 -6.609375 C 0.890625 -7.191406 1.101562 -7.65625 1.375 -8 C 1.65625 -8.34375 1.984375 -8.582031 2.359375 -8.71875 C 2.734375 -8.863281 3.140625 -8.9375 3.578125 -8.9375 C 4.003906 -8.9375 4.398438 -8.863281 4.765625 -8.71875 C 5.128906 -8.582031 5.445312 -8.34375 5.71875 -8 C 6 -7.65625 6.21875 -7.191406 6.375 -6.609375 C 6.53125 -6.023438 6.609375 -5.289062 6.609375 -4.40625 Z M 5.46875 -4.40625 C 5.46875 -5.101562 5.425781 -5.679688 5.34375 -6.140625 C 5.257812 -6.609375 5.132812 -6.976562 4.96875 -7.25 C 4.8125 -7.53125 4.613281 -7.726562 4.375 -7.84375 C 4.144531 -7.957031 3.878906 -8.015625 3.578125 -8.015625 C 3.265625 -8.015625 2.984375 -7.957031 2.734375 -7.84375 C 2.492188 -7.726562 2.289062 -7.53125 2.125 -7.25 C 1.96875 -6.976562 1.847656 -6.609375 1.765625 -6.140625 C 1.679688 -5.679688 1.640625 -5.101562 1.640625 -4.40625 C 1.640625 -3.726562 1.679688 -3.15625 1.765625 -2.6875 C 1.847656 -2.226562 1.972656 -1.859375 2.140625 -1.578125 C 2.304688 -1.296875 2.503906 -1.09375 2.734375 -0.96875 C 2.972656 -0.851562 3.25 -0.796875 3.5625 -0.796875 C 3.851562 -0.796875 4.117188 -0.851562 4.359375 -0.96875 C 4.597656 -1.09375 4.796875 -1.296875 4.953125 -1.578125 C 5.117188 -1.859375 5.242188 -2.226562 5.328125 -2.6875 C 5.421875 -3.15625 5.46875 -3.726562 5.46875 -4.40625 Z M 5.46875 -4.40625 \"/>\n",
       "</g>\n",
       "<g id=\"glyph-0-3\">\n",
       "<path d=\"M 6.46875 -7.890625 C 6.03125 -7.210938 5.625 -6.5625 5.25 -5.9375 C 4.882812 -5.320312 4.566406 -4.695312 4.296875 -4.0625 C 4.035156 -3.4375 3.828125 -2.789062 3.671875 -2.125 C 3.523438 -1.457031 3.453125 -0.75 3.453125 0 L 2.28125 0 C 2.28125 -0.707031 2.363281 -1.398438 2.53125 -2.078125 C 2.695312 -2.753906 2.921875 -3.414062 3.203125 -4.0625 C 3.484375 -4.71875 3.8125 -5.359375 4.1875 -5.984375 C 4.5625 -6.609375 4.960938 -7.226562 5.390625 -7.84375 L 0.65625 -7.84375 L 0.65625 -8.796875 L 6.46875 -8.796875 Z M 6.46875 -7.890625 \"/>\n",
       "</g>\n",
       "<g id=\"glyph-0-4\">\n",
       "<path d=\"M 0.96875 0 L 0.96875 -0.953125 L 3.21875 -0.953125 L 3.21875 -7.734375 L 1.234375 -6.3125 L 1.234375 -7.375 L 3.3125 -8.796875 L 4.34375 -8.796875 L 4.34375 -0.953125 L 6.484375 -0.953125 L 6.484375 0 Z M 0.96875 0 \"/>\n",
       "</g>\n",
       "<g id=\"glyph-1-0\">\n",
       "<path d=\"M 5.625 -9.796875 L 5.625 0 L 4.140625 0 L 4.140625 -9.796875 L 0.359375 -9.796875 L 0.359375 -11.015625 L 9.40625 -11.015625 L 9.40625 -9.796875 Z M 5.625 -9.796875 \"/>\n",
       "</g>\n",
       "<g id=\"glyph-1-1\">\n",
       "<path d=\"M 8.234375 -4.234375 C 8.234375 -2.753906 7.90625 -1.648438 7.25 -0.921875 C 6.601562 -0.203125 5.660156 0.15625 4.421875 0.15625 C 3.828125 0.15625 3.296875 0.0664062 2.828125 -0.109375 C 2.367188 -0.285156 1.976562 -0.554688 1.65625 -0.921875 C 1.34375 -1.285156 1.097656 -1.742188 0.921875 -2.296875 C 0.753906 -2.847656 0.671875 -3.492188 0.671875 -4.234375 C 0.671875 -7.148438 1.9375 -8.609375 4.46875 -8.609375 C 5.125 -8.609375 5.6875 -8.515625 6.15625 -8.328125 C 6.632812 -8.148438 7.023438 -7.878906 7.328125 -7.515625 C 7.640625 -7.148438 7.867188 -6.691406 8.015625 -6.140625 C 8.160156 -5.597656 8.234375 -4.960938 8.234375 -4.234375 Z M 6.75 -4.234375 C 6.75 -4.890625 6.695312 -5.429688 6.59375 -5.859375 C 6.5 -6.285156 6.351562 -6.625 6.15625 -6.875 C 5.957031 -7.132812 5.71875 -7.316406 5.4375 -7.421875 C 5.15625 -7.523438 4.835938 -7.578125 4.484375 -7.578125 C 4.128906 -7.578125 3.804688 -7.519531 3.515625 -7.40625 C 3.222656 -7.300781 2.972656 -7.117188 2.765625 -6.859375 C 2.566406 -6.609375 2.414062 -6.269531 2.3125 -5.84375 C 2.207031 -5.414062 2.15625 -4.878906 2.15625 -4.234375 C 2.15625 -3.578125 2.210938 -3.035156 2.328125 -2.609375 C 2.441406 -2.179688 2.597656 -1.835938 2.796875 -1.578125 C 2.992188 -1.328125 3.226562 -1.148438 3.5 -1.046875 C 3.78125 -0.941406 4.082031 -0.890625 4.40625 -0.890625 C 4.757812 -0.890625 5.082031 -0.9375 5.375 -1.03125 C 5.664062 -1.132812 5.910156 -1.3125 6.109375 -1.5625 C 6.316406 -1.820312 6.472656 -2.164062 6.578125 -2.59375 C 6.691406 -3.03125 6.75 -3.578125 6.75 -4.234375 Z M 6.75 -4.234375 \"/>\n",
       "</g>\n",
       "<g id=\"glyph-1-2\">\n",
       "<path d=\"M 4.328125 -0.0625 C 4.117188 0 3.898438 0.046875 3.671875 0.078125 C 3.453125 0.109375 3.195312 0.125 2.90625 0.125 C 1.78125 0.125 1.21875 -0.515625 1.21875 -1.796875 L 1.21875 -7.4375 L 0.25 -7.4375 L 0.25 -8.453125 L 1.28125 -8.453125 L 1.6875 -10.34375 L 2.625 -10.34375 L 2.625 -8.453125 L 4.1875 -8.453125 L 4.1875 -7.4375 L 2.625 -7.4375 L 2.625 -2.09375 C 2.625 -1.6875 2.691406 -1.398438 2.828125 -1.234375 C 2.960938 -1.078125 3.191406 -1 3.515625 -1 C 3.648438 -1 3.78125 -1.007812 3.90625 -1.03125 C 4.039062 -1.050781 4.179688 -1.078125 4.328125 -1.109375 Z M 4.328125 -0.0625 \"/>\n",
       "</g>\n",
       "<g id=\"glyph-1-3\">\n",
       "<path d=\"M 3.234375 0.15625 C 2.390625 0.15625 1.753906 -0.0664062 1.328125 -0.515625 C 0.898438 -0.960938 0.6875 -1.578125 0.6875 -2.359375 C 0.6875 -2.921875 0.789062 -3.378906 1 -3.734375 C 1.207031 -4.085938 1.484375 -4.363281 1.828125 -4.5625 C 2.171875 -4.769531 2.5625 -4.910156 3 -4.984375 C 3.4375 -5.066406 3.878906 -5.113281 4.328125 -5.125 L 6.234375 -5.15625 L 6.234375 -5.625 C 6.234375 -5.96875 6.195312 -6.257812 6.125 -6.5 C 6.050781 -6.75 5.9375 -6.945312 5.78125 -7.09375 C 5.632812 -7.25 5.445312 -7.363281 5.21875 -7.4375 C 4.988281 -7.507812 4.722656 -7.546875 4.421875 -7.546875 C 4.148438 -7.546875 3.90625 -7.523438 3.6875 -7.484375 C 3.46875 -7.441406 3.273438 -7.367188 3.109375 -7.265625 C 2.953125 -7.171875 2.820312 -7.035156 2.71875 -6.859375 C 2.625 -6.679688 2.5625 -6.460938 2.53125 -6.203125 L 1.0625 -6.328125 C 1.113281 -6.660156 1.210938 -6.96875 1.359375 -7.25 C 1.503906 -7.53125 1.707031 -7.769531 1.96875 -7.96875 C 2.238281 -8.175781 2.578125 -8.332031 2.984375 -8.4375 C 3.390625 -8.550781 3.878906 -8.609375 4.453125 -8.609375 C 5.515625 -8.609375 6.3125 -8.363281 6.84375 -7.875 C 7.382812 -7.394531 7.65625 -6.691406 7.65625 -5.765625 L 7.65625 -2.125 C 7.65625 -1.707031 7.707031 -1.394531 7.8125 -1.1875 C 7.925781 -0.976562 8.132812 -0.875 8.4375 -0.875 C 8.519531 -0.875 8.597656 -0.878906 8.671875 -0.890625 C 8.753906 -0.898438 8.832031 -0.910156 8.90625 -0.921875 L 8.90625 -0.046875 C 8.726562 -0.00390625 8.550781 0.0234375 8.375 0.046875 C 8.195312 0.0664062 8.007812 0.078125 7.8125 0.078125 C 7.550781 0.078125 7.320312 0.0390625 7.125 -0.03125 C 6.9375 -0.101562 6.78125 -0.207031 6.65625 -0.34375 C 6.539062 -0.488281 6.453125 -0.664062 6.390625 -0.875 C 6.328125 -1.09375 6.289062 -1.34375 6.28125 -1.625 L 6.234375 -1.625 C 6.078125 -1.351562 5.910156 -1.109375 5.734375 -0.890625 C 5.554688 -0.671875 5.347656 -0.484375 5.109375 -0.328125 C 4.867188 -0.171875 4.59375 -0.0507812 4.28125 0.03125 C 3.976562 0.113281 3.628906 0.15625 3.234375 0.15625 Z M 3.5625 -0.90625 C 4.007812 -0.90625 4.398438 -0.984375 4.734375 -1.140625 C 5.066406 -1.304688 5.34375 -1.515625 5.5625 -1.765625 C 5.789062 -2.023438 5.957031 -2.304688 6.0625 -2.609375 C 6.175781 -2.910156 6.234375 -3.203125 6.234375 -3.484375 L 6.234375 -4.171875 L 4.6875 -4.140625 C 4.34375 -4.140625 4.015625 -4.113281 3.703125 -4.0625 C 3.398438 -4.019531 3.128906 -3.929688 2.890625 -3.796875 C 2.660156 -3.671875 2.472656 -3.488281 2.328125 -3.25 C 2.191406 -3.019531 2.125 -2.71875 2.125 -2.34375 C 2.125 -1.882812 2.25 -1.53125 2.5 -1.28125 C 2.75 -1.03125 3.101562 -0.90625 3.5625 -0.90625 Z M 3.5625 -0.90625 \"/>\n",
       "</g>\n",
       "<g id=\"glyph-1-4\">\n",
       "<path d=\"M 1.078125 0 L 1.078125 -11.59375 L 2.484375 -11.59375 L 2.484375 0 Z M 1.078125 0 \"/>\n",
       "</g>\n",
       "<g id=\"glyph-1-5\">\n",
       "</g>\n",
       "<g id=\"glyph-1-6\">\n",
       "<path d=\"M 9.828125 -7.703125 C 9.828125 -7.222656 9.75 -6.773438 9.59375 -6.359375 C 9.4375 -5.941406 9.195312 -5.582031 8.875 -5.28125 C 8.5625 -4.976562 8.164062 -4.738281 7.6875 -4.5625 C 7.21875 -4.382812 6.671875 -4.296875 6.046875 -4.296875 L 2.8125 -4.296875 L 2.8125 0 L 1.3125 0 L 1.3125 -11.015625 L 5.953125 -11.015625 C 6.597656 -11.015625 7.160156 -10.929688 7.640625 -10.765625 C 8.128906 -10.609375 8.535156 -10.382812 8.859375 -10.09375 C 9.179688 -9.8125 9.421875 -9.460938 9.578125 -9.046875 C 9.742188 -8.640625 9.828125 -8.191406 9.828125 -7.703125 Z M 8.328125 -7.6875 C 8.328125 -8.382812 8.113281 -8.910156 7.6875 -9.265625 C 7.257812 -9.628906 6.617188 -9.8125 5.765625 -9.8125 L 2.8125 -9.8125 L 2.8125 -5.46875 L 5.828125 -5.46875 C 6.691406 -5.46875 7.320312 -5.65625 7.71875 -6.03125 C 8.125 -6.414062 8.328125 -6.96875 8.328125 -7.6875 Z M 8.328125 -7.6875 \"/>\n",
       "</g>\n",
       "<g id=\"glyph-1-7\">\n",
       "<path d=\"M 4.71875 0 C 4.519531 0.507812 4.316406 0.96875 4.109375 1.375 C 3.910156 1.789062 3.679688 2.140625 3.421875 2.421875 C 3.171875 2.710938 2.890625 2.9375 2.578125 3.09375 C 2.265625 3.25 1.90625 3.328125 1.5 3.328125 C 1.320312 3.328125 1.15625 3.320312 1 3.3125 C 0.851562 3.300781 0.695312 3.273438 0.53125 3.234375 L 0.53125 2.1875 C 0.625 2.195312 0.734375 2.207031 0.859375 2.21875 C 0.984375 2.226562 1.09375 2.234375 1.1875 2.234375 C 1.59375 2.234375 1.972656 2.078125 2.328125 1.765625 C 2.679688 1.460938 2.992188 0.972656 3.265625 0.296875 L 3.390625 -0.046875 L 0.046875 -8.453125 L 1.546875 -8.453125 L 3.328125 -3.78125 C 3.378906 -3.644531 3.441406 -3.457031 3.515625 -3.21875 C 3.597656 -2.988281 3.679688 -2.753906 3.765625 -2.515625 C 3.847656 -2.285156 3.921875 -2.078125 3.984375 -1.890625 C 4.046875 -1.703125 4.082031 -1.582031 4.09375 -1.53125 C 4.101562 -1.59375 4.140625 -1.707031 4.203125 -1.875 C 4.265625 -2.039062 4.332031 -2.226562 4.40625 -2.4375 C 4.476562 -2.644531 4.550781 -2.851562 4.625 -3.0625 C 4.707031 -3.28125 4.773438 -3.46875 4.828125 -3.625 L 6.484375 -8.453125 L 7.96875 -8.453125 Z M 4.71875 0 \"/>\n",
       "</g>\n",
       "<g id=\"glyph-1-8\">\n",
       "<path d=\"M 1.078125 -10.25 L 1.078125 -11.59375 L 2.484375 -11.59375 L 2.484375 -10.25 Z M 1.078125 0 L 1.078125 -8.453125 L 2.484375 -8.453125 L 2.484375 0 Z M 1.078125 0 \"/>\n",
       "</g>\n",
       "<g id=\"glyph-1-9\">\n",
       "<path d=\"M 6 0 L 6 -5.359375 C 6 -5.773438 5.972656 -6.117188 5.921875 -6.390625 C 5.867188 -6.671875 5.78125 -6.894531 5.65625 -7.0625 C 5.539062 -7.226562 5.382812 -7.347656 5.1875 -7.421875 C 4.988281 -7.492188 4.742188 -7.53125 4.453125 -7.53125 C 4.160156 -7.53125 3.894531 -7.46875 3.65625 -7.34375 C 3.414062 -7.226562 3.207031 -7.0625 3.03125 -6.84375 C 2.863281 -6.625 2.734375 -6.347656 2.640625 -6.015625 C 2.554688 -5.691406 2.515625 -5.320312 2.515625 -4.90625 L 2.515625 0 L 1.109375 0 L 1.109375 -6.65625 C 1.109375 -6.832031 1.109375 -7.015625 1.109375 -7.203125 C 1.109375 -7.398438 1.101562 -7.585938 1.09375 -7.765625 C 1.09375 -7.941406 1.085938 -8.09375 1.078125 -8.21875 C 1.078125 -8.34375 1.070312 -8.421875 1.0625 -8.453125 L 2.390625 -8.453125 C 2.398438 -8.429688 2.40625 -8.363281 2.40625 -8.25 C 2.414062 -8.132812 2.421875 -8 2.421875 -7.84375 C 2.429688 -7.695312 2.4375 -7.546875 2.4375 -7.390625 C 2.445312 -7.242188 2.453125 -7.117188 2.453125 -7.015625 L 2.484375 -7.015625 C 2.609375 -7.253906 2.742188 -7.472656 2.890625 -7.671875 C 3.035156 -7.867188 3.203125 -8.035156 3.390625 -8.171875 C 3.585938 -8.316406 3.8125 -8.425781 4.0625 -8.5 C 4.320312 -8.570312 4.617188 -8.609375 4.953125 -8.609375 C 5.585938 -8.609375 6.09375 -8.476562 6.46875 -8.21875 C 6.84375 -7.96875 7.101562 -7.566406 7.25 -7.015625 L 7.265625 -7.015625 C 7.390625 -7.253906 7.53125 -7.472656 7.6875 -7.671875 C 7.84375 -7.867188 8.023438 -8.035156 8.234375 -8.171875 C 8.441406 -8.316406 8.675781 -8.425781 8.9375 -8.5 C 9.195312 -8.570312 9.492188 -8.609375 9.828125 -8.609375 C 10.253906 -8.609375 10.625 -8.550781 10.9375 -8.4375 C 11.25 -8.320312 11.503906 -8.144531 11.703125 -7.90625 C 11.898438 -7.664062 12.046875 -7.359375 12.140625 -6.984375 C 12.234375 -6.609375 12.28125 -6.160156 12.28125 -5.640625 L 12.28125 0 L 10.890625 0 L 10.890625 -5.359375 C 10.890625 -5.773438 10.863281 -6.117188 10.8125 -6.390625 C 10.757812 -6.671875 10.671875 -6.894531 10.546875 -7.0625 C 10.421875 -7.226562 10.257812 -7.347656 10.0625 -7.421875 C 9.863281 -7.492188 9.625 -7.53125 9.34375 -7.53125 C 9.039062 -7.53125 8.769531 -7.472656 8.53125 -7.359375 C 8.289062 -7.242188 8.085938 -7.078125 7.921875 -6.859375 C 7.753906 -6.640625 7.625 -6.363281 7.53125 -6.03125 C 7.4375 -5.707031 7.390625 -5.332031 7.390625 -4.90625 L 7.390625 0 Z M 6 0 \"/>\n",
       "</g>\n",
       "<g id=\"glyph-1-10\">\n",
       "<path d=\"M 2.15625 -3.9375 C 2.15625 -3.488281 2.203125 -3.078125 2.296875 -2.703125 C 2.390625 -2.335938 2.53125 -2.019531 2.71875 -1.75 C 2.90625 -1.476562 3.144531 -1.269531 3.4375 -1.125 C 3.738281 -0.976562 4.097656 -0.90625 4.515625 -0.90625 C 5.128906 -0.90625 5.617188 -1.023438 5.984375 -1.265625 C 6.347656 -1.515625 6.597656 -1.828125 6.734375 -2.203125 L 7.96875 -1.84375 C 7.875 -1.613281 7.75 -1.378906 7.59375 -1.140625 C 7.4375 -0.898438 7.222656 -0.6875 6.953125 -0.5 C 6.691406 -0.3125 6.359375 -0.15625 5.953125 -0.03125 C 5.554688 0.09375 5.078125 0.15625 4.515625 0.15625 C 3.265625 0.15625 2.3125 -0.210938 1.65625 -0.953125 C 1.007812 -1.703125 0.6875 -2.8125 0.6875 -4.28125 C 0.6875 -5.070312 0.785156 -5.742188 0.984375 -6.296875 C 1.179688 -6.847656 1.453125 -7.296875 1.796875 -7.640625 C 2.140625 -7.984375 2.539062 -8.226562 3 -8.375 C 3.457031 -8.53125 3.945312 -8.609375 4.46875 -8.609375 C 5.175781 -8.609375 5.765625 -8.492188 6.234375 -8.265625 C 6.710938 -8.035156 7.097656 -7.71875 7.390625 -7.3125 C 7.679688 -6.914062 7.882812 -6.441406 8 -5.890625 C 8.125 -5.347656 8.1875 -4.757812 8.1875 -4.125 L 8.1875 -3.9375 Z M 6.734375 -5.015625 C 6.660156 -5.898438 6.4375 -6.546875 6.0625 -6.953125 C 5.6875 -7.367188 5.144531 -7.578125 4.4375 -7.578125 C 4.207031 -7.578125 3.960938 -7.535156 3.703125 -7.453125 C 3.441406 -7.378906 3.203125 -7.242188 2.984375 -7.046875 C 2.765625 -6.859375 2.578125 -6.597656 2.421875 -6.265625 C 2.273438 -5.941406 2.191406 -5.523438 2.171875 -5.015625 Z M 6.734375 -5.015625 \"/>\n",
       "</g>\n",
       "<g id=\"glyph-1-11\">\n",
       "<path d=\"M 1 -4.15625 C 1 -4.882812 1.050781 -5.578125 1.15625 -6.234375 C 1.269531 -6.898438 1.441406 -7.535156 1.671875 -8.140625 C 1.910156 -8.753906 2.210938 -9.347656 2.578125 -9.921875 C 2.941406 -10.492188 3.375 -11.050781 3.875 -11.59375 L 5.234375 -11.59375 C 4.742188 -11.050781 4.320312 -10.488281 3.96875 -9.90625 C 3.613281 -9.332031 3.320312 -8.738281 3.09375 -8.125 C 2.863281 -7.519531 2.691406 -6.882812 2.578125 -6.21875 C 2.460938 -5.5625 2.40625 -4.867188 2.40625 -4.140625 C 2.40625 -3.421875 2.460938 -2.726562 2.578125 -2.0625 C 2.691406 -1.40625 2.863281 -0.765625 3.09375 -0.140625 C 3.320312 0.472656 3.613281 1.066406 3.96875 1.640625 C 4.320312 2.210938 4.742188 2.769531 5.234375 3.3125 L 3.875 3.3125 C 3.375 2.769531 2.941406 2.210938 2.578125 1.640625 C 2.210938 1.066406 1.910156 0.472656 1.671875 -0.140625 C 1.441406 -0.753906 1.269531 -1.390625 1.15625 -2.046875 C 1.050781 -2.703125 1 -3.394531 1 -4.125 Z M 1 -4.15625 \"/>\n",
       "</g>\n",
       "<g id=\"glyph-1-12\">\n",
       "<path d=\"M 2.484375 -7.015625 C 2.640625 -7.296875 2.804688 -7.535156 2.984375 -7.734375 C 3.171875 -7.941406 3.375 -8.109375 3.59375 -8.234375 C 3.8125 -8.367188 4.050781 -8.460938 4.3125 -8.515625 C 4.570312 -8.578125 4.863281 -8.609375 5.1875 -8.609375 C 5.726562 -8.609375 6.171875 -8.535156 6.515625 -8.390625 C 6.859375 -8.242188 7.128906 -8.039062 7.328125 -7.78125 C 7.535156 -7.519531 7.675781 -7.207031 7.75 -6.84375 C 7.820312 -6.476562 7.859375 -6.078125 7.859375 -5.640625 L 7.859375 0 L 6.453125 0 L 6.453125 -5.359375 C 6.453125 -5.722656 6.425781 -6.039062 6.375 -6.3125 C 6.332031 -6.582031 6.25 -6.804688 6.125 -6.984375 C 6 -7.160156 5.820312 -7.296875 5.59375 -7.390625 C 5.363281 -7.484375 5.066406 -7.53125 4.703125 -7.53125 C 4.367188 -7.53125 4.066406 -7.46875 3.796875 -7.34375 C 3.535156 -7.226562 3.304688 -7.0625 3.109375 -6.84375 C 2.921875 -6.625 2.773438 -6.359375 2.671875 -6.046875 C 2.566406 -5.734375 2.515625 -5.378906 2.515625 -4.984375 L 2.515625 0 L 1.109375 0 L 1.109375 -11.59375 L 2.515625 -11.59375 L 2.515625 -8.578125 C 2.515625 -8.410156 2.507812 -8.238281 2.5 -8.0625 C 2.5 -7.894531 2.492188 -7.738281 2.484375 -7.59375 C 2.484375 -7.445312 2.476562 -7.320312 2.46875 -7.21875 C 2.46875 -7.113281 2.460938 -7.046875 2.453125 -7.015625 Z M 2.484375 -7.015625 \"/>\n",
       "</g>\n",
       "<g id=\"glyph-1-13\">\n",
       "<path d=\"M 2.453125 -8.453125 L 2.453125 -3.09375 C 2.453125 -2.6875 2.484375 -2.34375 2.546875 -2.0625 C 2.609375 -1.789062 2.707031 -1.566406 2.84375 -1.390625 C 2.976562 -1.222656 3.15625 -1.101562 3.375 -1.03125 C 3.59375 -0.96875 3.867188 -0.9375 4.203125 -0.9375 C 4.535156 -0.9375 4.832031 -0.992188 5.09375 -1.109375 C 5.363281 -1.222656 5.59375 -1.390625 5.78125 -1.609375 C 5.976562 -1.835938 6.128906 -2.113281 6.234375 -2.4375 C 6.335938 -2.757812 6.390625 -3.132812 6.390625 -3.5625 L 6.390625 -8.453125 L 7.796875 -8.453125 L 7.796875 -1.8125 C 7.796875 -1.632812 7.796875 -1.445312 7.796875 -1.25 C 7.796875 -1.050781 7.796875 -0.863281 7.796875 -0.6875 C 7.804688 -0.519531 7.8125 -0.375 7.8125 -0.25 C 7.820312 -0.125 7.832031 -0.0390625 7.84375 0 L 6.515625 0 C 6.503906 -0.03125 6.492188 -0.101562 6.484375 -0.21875 C 6.484375 -0.332031 6.476562 -0.460938 6.46875 -0.609375 C 6.46875 -0.753906 6.460938 -0.90625 6.453125 -1.0625 C 6.453125 -1.21875 6.453125 -1.347656 6.453125 -1.453125 L 6.421875 -1.453125 C 6.285156 -1.203125 6.132812 -0.976562 5.96875 -0.78125 C 5.8125 -0.582031 5.625 -0.414062 5.40625 -0.28125 C 5.195312 -0.144531 4.953125 -0.0390625 4.671875 0.03125 C 4.398438 0.113281 4.082031 0.15625 3.71875 0.15625 C 3.25 0.15625 2.84375 0.0976562 2.5 -0.015625 C 2.164062 -0.128906 1.890625 -0.304688 1.671875 -0.546875 C 1.453125 -0.785156 1.289062 -1.09375 1.1875 -1.46875 C 1.09375 -1.84375 1.046875 -2.296875 1.046875 -2.828125 L 1.046875 -8.453125 Z M 2.453125 -8.453125 \"/>\n",
       "</g>\n",
       "<g id=\"glyph-1-14\">\n",
       "<path d=\"M 1.109375 0 L 1.109375 -6.484375 C 1.109375 -6.660156 1.109375 -6.84375 1.109375 -7.03125 C 1.109375 -7.21875 1.101562 -7.394531 1.09375 -7.5625 C 1.09375 -7.738281 1.085938 -7.898438 1.078125 -8.046875 C 1.078125 -8.203125 1.070312 -8.335938 1.0625 -8.453125 L 2.390625 -8.453125 C 2.398438 -8.335938 2.40625 -8.203125 2.40625 -8.046875 C 2.414062 -7.890625 2.425781 -7.726562 2.4375 -7.5625 C 2.445312 -7.40625 2.453125 -7.253906 2.453125 -7.109375 C 2.453125 -6.960938 2.453125 -6.835938 2.453125 -6.734375 L 2.484375 -6.734375 C 2.585938 -7.054688 2.691406 -7.332031 2.796875 -7.5625 C 2.910156 -7.800781 3.039062 -8 3.1875 -8.15625 C 3.34375 -8.3125 3.523438 -8.425781 3.734375 -8.5 C 3.941406 -8.570312 4.195312 -8.609375 4.5 -8.609375 C 4.613281 -8.609375 4.722656 -8.597656 4.828125 -8.578125 C 4.929688 -8.566406 5.007812 -8.550781 5.0625 -8.53125 L 5.0625 -7.25 C 4.96875 -7.269531 4.859375 -7.285156 4.734375 -7.296875 C 4.609375 -7.316406 4.46875 -7.328125 4.3125 -7.328125 C 3.988281 -7.328125 3.710938 -7.253906 3.484375 -7.109375 C 3.265625 -6.960938 3.082031 -6.757812 2.9375 -6.5 C 2.789062 -6.238281 2.679688 -5.929688 2.609375 -5.578125 C 2.546875 -5.222656 2.515625 -4.832031 2.515625 -4.40625 L 2.515625 0 Z M 1.109375 0 \"/>\n",
       "</g>\n",
       "<g id=\"glyph-1-15\">\n",
       "<path d=\"M 7.421875 -2.34375 C 7.421875 -1.945312 7.34375 -1.59375 7.1875 -1.28125 C 7.039062 -0.96875 6.820312 -0.707031 6.53125 -0.5 C 6.238281 -0.289062 5.878906 -0.128906 5.453125 -0.015625 C 5.023438 0.0976562 4.539062 0.15625 4 0.15625 C 3.507812 0.15625 3.066406 0.113281 2.671875 0.03125 C 2.273438 -0.0390625 1.925781 -0.160156 1.625 -0.328125 C 1.332031 -0.492188 1.085938 -0.710938 0.890625 -0.984375 C 0.691406 -1.253906 0.546875 -1.585938 0.453125 -1.984375 L 1.6875 -2.234375 C 1.8125 -1.773438 2.0625 -1.441406 2.4375 -1.234375 C 2.8125 -1.023438 3.332031 -0.921875 4 -0.921875 C 4.300781 -0.921875 4.578125 -0.941406 4.828125 -0.984375 C 5.078125 -1.023438 5.289062 -1.09375 5.46875 -1.1875 C 5.65625 -1.289062 5.800781 -1.425781 5.90625 -1.59375 C 6.007812 -1.769531 6.0625 -1.984375 6.0625 -2.234375 C 6.0625 -2.484375 6 -2.691406 5.875 -2.859375 C 5.757812 -3.023438 5.59375 -3.160156 5.375 -3.265625 C 5.164062 -3.378906 4.90625 -3.472656 4.59375 -3.546875 C 4.289062 -3.628906 3.957031 -3.722656 3.59375 -3.828125 C 3.257812 -3.910156 2.925781 -4.003906 2.59375 -4.109375 C 2.257812 -4.222656 1.957031 -4.367188 1.6875 -4.546875 C 1.414062 -4.734375 1.195312 -4.957031 1.03125 -5.21875 C 0.863281 -5.488281 0.78125 -5.820312 0.78125 -6.21875 C 0.78125 -6.988281 1.054688 -7.578125 1.609375 -7.984375 C 2.160156 -8.390625 2.960938 -8.59375 4.015625 -8.59375 C 4.941406 -8.59375 5.679688 -8.425781 6.234375 -8.09375 C 6.785156 -7.769531 7.132812 -7.242188 7.28125 -6.515625 L 6.015625 -6.359375 C 5.960938 -6.578125 5.875 -6.757812 5.75 -6.90625 C 5.625 -7.0625 5.472656 -7.179688 5.296875 -7.265625 C 5.117188 -7.359375 4.921875 -7.425781 4.703125 -7.46875 C 4.484375 -7.507812 4.253906 -7.53125 4.015625 -7.53125 C 3.378906 -7.53125 2.910156 -7.429688 2.609375 -7.234375 C 2.304688 -7.046875 2.15625 -6.753906 2.15625 -6.359375 C 2.15625 -6.128906 2.207031 -5.941406 2.3125 -5.796875 C 2.425781 -5.648438 2.582031 -5.523438 2.78125 -5.421875 C 2.988281 -5.316406 3.234375 -5.226562 3.515625 -5.15625 C 3.796875 -5.082031 4.101562 -5.003906 4.4375 -4.921875 C 4.664062 -4.859375 4.894531 -4.796875 5.125 -4.734375 C 5.363281 -4.671875 5.59375 -4.59375 5.8125 -4.5 C 6.03125 -4.40625 6.238281 -4.296875 6.4375 -4.171875 C 6.632812 -4.054688 6.804688 -3.910156 6.953125 -3.734375 C 7.097656 -3.566406 7.210938 -3.367188 7.296875 -3.140625 C 7.378906 -2.910156 7.421875 -2.644531 7.421875 -2.34375 Z M 7.421875 -2.34375 \"/>\n",
       "</g>\n",
       "<g id=\"glyph-1-16\">\n",
       "<path d=\"M 4.34375 -4.125 C 4.34375 -3.394531 4.285156 -2.703125 4.171875 -2.046875 C 4.066406 -1.390625 3.894531 -0.753906 3.65625 -0.140625 C 3.425781 0.472656 3.128906 1.066406 2.765625 1.640625 C 2.398438 2.210938 1.960938 2.769531 1.453125 3.3125 L 0.09375 3.3125 C 0.582031 2.769531 1.003906 2.210938 1.359375 1.640625 C 1.722656 1.066406 2.019531 0.472656 2.25 -0.140625 C 2.476562 -0.765625 2.644531 -1.40625 2.75 -2.0625 C 2.863281 -2.726562 2.921875 -3.421875 2.921875 -4.140625 C 2.921875 -4.867188 2.863281 -5.5625 2.75 -6.21875 C 2.644531 -6.882812 2.476562 -7.519531 2.25 -8.125 C 2.019531 -8.738281 1.722656 -9.332031 1.359375 -9.90625 C 1.003906 -10.488281 0.582031 -11.050781 0.09375 -11.59375 L 1.453125 -11.59375 C 1.960938 -11.050781 2.398438 -10.492188 2.765625 -9.921875 C 3.128906 -9.347656 3.425781 -8.753906 3.65625 -8.140625 C 3.894531 -7.535156 4.066406 -6.898438 4.171875 -6.234375 C 4.285156 -5.578125 4.34375 -4.882812 4.34375 -4.15625 Z M 4.34375 -4.125 \"/>\n",
       "</g>\n",
       "<g id=\"glyph-2-0\">\n",
       "<path d=\"M 0 -9.125 L -3.21875 -7.859375 L -3.21875 -2.84375 L 0 -1.578125 L 0 -0.03125 L -11.015625 -4.53125 L -11.015625 -6.21875 L 0 -10.640625 Z M -8.015625 -6 C -8.222656 -5.914062 -8.429688 -5.835938 -8.640625 -5.765625 C -8.859375 -5.691406 -9.054688 -5.625 -9.234375 -5.5625 C -9.410156 -5.507812 -9.554688 -5.460938 -9.671875 -5.421875 C -9.785156 -5.378906 -9.859375 -5.359375 -9.890625 -5.359375 C -9.859375 -5.347656 -9.78125 -5.320312 -9.65625 -5.28125 C -9.539062 -5.25 -9.394531 -5.203125 -9.21875 -5.140625 C -9.039062 -5.078125 -8.84375 -5.007812 -8.625 -4.9375 C -8.414062 -4.863281 -8.207031 -4.785156 -8 -4.703125 L -4.390625 -3.296875 L -4.390625 -7.421875 Z M -8.015625 -6 \"/>\n",
       "</g>\n",
       "<g id=\"glyph-2-1\">\n",
       "<path d=\"M 3.328125 -4.28125 C 3.328125 -3.800781 3.273438 -3.375 3.171875 -3 C 3.078125 -2.625 2.9375 -2.300781 2.75 -2.03125 C 2.5625 -1.769531 2.335938 -1.554688 2.078125 -1.390625 C 1.828125 -1.222656 1.546875 -1.101562 1.234375 -1.03125 L 1.03125 -2.4375 C 1.425781 -2.53125 1.726562 -2.738281 1.9375 -3.0625 C 2.144531 -3.382812 2.25 -3.804688 2.25 -4.328125 C 2.25 -4.640625 2.203125 -4.925781 2.109375 -5.1875 C 2.023438 -5.445312 1.882812 -5.664062 1.6875 -5.84375 C 1.5 -6.03125 1.25 -6.171875 0.9375 -6.265625 C 0.625 -6.367188 0.238281 -6.421875 -0.21875 -6.421875 L -1.578125 -6.421875 L -1.578125 -6.40625 C -1.359375 -6.300781 -1.148438 -6.171875 -0.953125 -6.015625 C -0.765625 -5.867188 -0.59375 -5.679688 -0.4375 -5.453125 C -0.289062 -5.234375 -0.171875 -4.976562 -0.078125 -4.6875 C 0.015625 -4.394531 0.0625 -4.0625 0.0625 -3.6875 C 0.0625 -3.15625 -0.0234375 -2.695312 -0.203125 -2.3125 C -0.390625 -1.925781 -0.660156 -1.613281 -1.015625 -1.375 C -1.378906 -1.132812 -1.828125 -0.957031 -2.359375 -0.84375 C -2.890625 -0.726562 -3.507812 -0.671875 -4.21875 -0.671875 C -4.894531 -0.671875 -5.503906 -0.726562 -6.046875 -0.84375 C -6.585938 -0.957031 -7.046875 -1.140625 -7.421875 -1.390625 C -7.796875 -1.640625 -8.082031 -1.96875 -8.28125 -2.375 C -8.488281 -2.78125 -8.59375 -3.269531 -8.59375 -3.84375 C -8.59375 -4.445312 -8.453125 -4.96875 -8.171875 -5.40625 C -7.898438 -5.84375 -7.515625 -6.179688 -7.015625 -6.421875 L -7.015625 -6.4375 C -7.140625 -6.4375 -7.28125 -6.441406 -7.4375 -6.453125 C -7.601562 -6.460938 -7.757812 -6.46875 -7.90625 -6.46875 C -8.050781 -6.476562 -8.175781 -6.488281 -8.28125 -6.5 C -8.382812 -6.507812 -8.441406 -6.519531 -8.453125 -6.53125 L -8.453125 -7.875 C -8.410156 -7.863281 -8.332031 -7.851562 -8.21875 -7.84375 C -8.101562 -7.84375 -7.96875 -7.835938 -7.8125 -7.828125 C -7.65625 -7.828125 -7.484375 -7.828125 -7.296875 -7.828125 C -7.109375 -7.828125 -6.910156 -7.828125 -6.703125 -7.828125 L -0.25 -7.828125 C 0.9375 -7.828125 1.828125 -7.535156 2.421875 -6.953125 C 3.023438 -6.367188 3.328125 -5.476562 3.328125 -4.28125 Z M -4.234375 -6.421875 C -4.816406 -6.421875 -5.316406 -6.359375 -5.734375 -6.234375 C -6.160156 -6.109375 -6.503906 -5.941406 -6.765625 -5.734375 C -7.035156 -5.523438 -7.234375 -5.285156 -7.359375 -5.015625 C -7.484375 -4.742188 -7.546875 -4.46875 -7.546875 -4.1875 C -7.546875 -3.832031 -7.484375 -3.523438 -7.359375 -3.265625 C -7.234375 -3.003906 -7.035156 -2.789062 -6.765625 -2.625 C -6.492188 -2.457031 -6.148438 -2.332031 -5.734375 -2.25 C -5.316406 -2.164062 -4.816406 -2.125 -4.234375 -2.125 C -3.617188 -2.125 -3.101562 -2.164062 -2.6875 -2.25 C -2.28125 -2.332031 -1.945312 -2.457031 -1.6875 -2.625 C -1.4375 -2.789062 -1.253906 -3 -1.140625 -3.25 C -1.035156 -3.507812 -0.984375 -3.816406 -0.984375 -4.171875 C -0.984375 -4.453125 -1.039062 -4.722656 -1.15625 -4.984375 C -1.28125 -5.253906 -1.472656 -5.492188 -1.734375 -5.703125 C -1.992188 -5.921875 -2.328125 -6.09375 -2.734375 -6.21875 C -3.148438 -6.351562 -3.648438 -6.421875 -4.234375 -6.421875 Z M -4.234375 -6.421875 \"/>\n",
       "</g>\n",
       "<g id=\"glyph-2-2\">\n",
       "<path d=\"M -3.9375 -2.15625 C -3.488281 -2.15625 -3.078125 -2.203125 -2.703125 -2.296875 C -2.335938 -2.390625 -2.019531 -2.53125 -1.75 -2.71875 C -1.476562 -2.90625 -1.269531 -3.144531 -1.125 -3.4375 C -0.976562 -3.738281 -0.90625 -4.097656 -0.90625 -4.515625 C -0.90625 -5.128906 -1.023438 -5.617188 -1.265625 -5.984375 C -1.515625 -6.347656 -1.828125 -6.597656 -2.203125 -6.734375 L -1.84375 -7.96875 C -1.613281 -7.875 -1.378906 -7.75 -1.140625 -7.59375 C -0.898438 -7.4375 -0.6875 -7.222656 -0.5 -6.953125 C -0.3125 -6.691406 -0.15625 -6.359375 -0.03125 -5.953125 C 0.09375 -5.554688 0.15625 -5.078125 0.15625 -4.515625 C 0.15625 -3.265625 -0.210938 -2.3125 -0.953125 -1.65625 C -1.703125 -1.007812 -2.8125 -0.6875 -4.28125 -0.6875 C -5.070312 -0.6875 -5.742188 -0.785156 -6.296875 -0.984375 C -6.847656 -1.179688 -7.296875 -1.453125 -7.640625 -1.796875 C -7.984375 -2.140625 -8.226562 -2.539062 -8.375 -3 C -8.53125 -3.457031 -8.609375 -3.945312 -8.609375 -4.46875 C -8.609375 -5.175781 -8.492188 -5.765625 -8.265625 -6.234375 C -8.035156 -6.710938 -7.71875 -7.097656 -7.3125 -7.390625 C -6.914062 -7.679688 -6.441406 -7.882812 -5.890625 -8 C -5.347656 -8.125 -4.757812 -8.1875 -4.125 -8.1875 L -3.9375 -8.1875 Z M -5.015625 -6.734375 C -5.898438 -6.660156 -6.546875 -6.4375 -6.953125 -6.0625 C -7.367188 -5.6875 -7.578125 -5.144531 -7.578125 -4.4375 C -7.578125 -4.207031 -7.535156 -3.960938 -7.453125 -3.703125 C -7.378906 -3.441406 -7.242188 -3.203125 -7.046875 -2.984375 C -6.859375 -2.765625 -6.597656 -2.578125 -6.265625 -2.421875 C -5.941406 -2.273438 -5.523438 -2.191406 -5.015625 -2.171875 Z M -5.015625 -6.734375 \"/>\n",
       "</g>\n",
       "<g id=\"glyph-2-3\">\n",
       "</g>\n",
       "<g id=\"glyph-2-4\">\n",
       "<path d=\"M -4.15625 -1 C -4.882812 -1 -5.578125 -1.050781 -6.234375 -1.15625 C -6.898438 -1.269531 -7.535156 -1.441406 -8.140625 -1.671875 C -8.753906 -1.910156 -9.347656 -2.210938 -9.921875 -2.578125 C -10.492188 -2.941406 -11.050781 -3.375 -11.59375 -3.875 L -11.59375 -5.234375 C -11.050781 -4.742188 -10.488281 -4.320312 -9.90625 -3.96875 C -9.332031 -3.613281 -8.738281 -3.320312 -8.125 -3.09375 C -7.519531 -2.863281 -6.882812 -2.691406 -6.21875 -2.578125 C -5.5625 -2.460938 -4.867188 -2.40625 -4.140625 -2.40625 C -3.421875 -2.40625 -2.726562 -2.460938 -2.0625 -2.578125 C -1.40625 -2.691406 -0.765625 -2.863281 -0.140625 -3.09375 C 0.472656 -3.320312 1.066406 -3.613281 1.640625 -3.96875 C 2.210938 -4.320312 2.769531 -4.742188 3.3125 -5.234375 L 3.3125 -3.875 C 2.769531 -3.375 2.210938 -2.941406 1.640625 -2.578125 C 1.066406 -2.210938 0.472656 -1.910156 -0.140625 -1.671875 C -0.753906 -1.441406 -1.390625 -1.269531 -2.046875 -1.15625 C -2.703125 -1.050781 -3.394531 -1 -4.125 -1 Z M -4.15625 -1 \"/>\n",
       "</g>\n",
       "<g id=\"glyph-2-5\">\n",
       "<path d=\"M 0 -4.71875 C 0.507812 -4.519531 0.96875 -4.316406 1.375 -4.109375 C 1.789062 -3.910156 2.140625 -3.679688 2.421875 -3.421875 C 2.710938 -3.171875 2.9375 -2.890625 3.09375 -2.578125 C 3.25 -2.265625 3.328125 -1.90625 3.328125 -1.5 C 3.328125 -1.320312 3.320312 -1.15625 3.3125 -1 C 3.300781 -0.851562 3.273438 -0.695312 3.234375 -0.53125 L 2.1875 -0.53125 C 2.195312 -0.625 2.207031 -0.734375 2.21875 -0.859375 C 2.226562 -0.984375 2.234375 -1.09375 2.234375 -1.1875 C 2.234375 -1.59375 2.078125 -1.972656 1.765625 -2.328125 C 1.460938 -2.679688 0.972656 -2.992188 0.296875 -3.265625 L -0.046875 -3.390625 L -8.453125 -0.046875 L -8.453125 -1.546875 L -3.78125 -3.328125 C -3.644531 -3.378906 -3.457031 -3.441406 -3.21875 -3.515625 C -2.988281 -3.597656 -2.753906 -3.679688 -2.515625 -3.765625 C -2.285156 -3.847656 -2.078125 -3.921875 -1.890625 -3.984375 C -1.703125 -4.046875 -1.582031 -4.082031 -1.53125 -4.09375 C -1.59375 -4.101562 -1.707031 -4.140625 -1.875 -4.203125 C -2.039062 -4.265625 -2.226562 -4.332031 -2.4375 -4.40625 C -2.644531 -4.476562 -2.851562 -4.550781 -3.0625 -4.625 C -3.28125 -4.707031 -3.46875 -4.773438 -3.625 -4.828125 L -8.453125 -6.484375 L -8.453125 -7.96875 Z M 0 -4.71875 \"/>\n",
       "</g>\n",
       "<g id=\"glyph-2-6\">\n",
       "<path d=\"M 0.15625 -3.234375 C 0.15625 -2.390625 -0.0664062 -1.753906 -0.515625 -1.328125 C -0.960938 -0.898438 -1.578125 -0.6875 -2.359375 -0.6875 C -2.921875 -0.6875 -3.378906 -0.789062 -3.734375 -1 C -4.085938 -1.207031 -4.363281 -1.484375 -4.5625 -1.828125 C -4.769531 -2.171875 -4.910156 -2.5625 -4.984375 -3 C -5.066406 -3.4375 -5.113281 -3.878906 -5.125 -4.328125 L -5.15625 -6.234375 L -5.625 -6.234375 C -5.96875 -6.234375 -6.257812 -6.195312 -6.5 -6.125 C -6.75 -6.050781 -6.945312 -5.9375 -7.09375 -5.78125 C -7.25 -5.632812 -7.363281 -5.445312 -7.4375 -5.21875 C -7.507812 -4.988281 -7.546875 -4.722656 -7.546875 -4.421875 C -7.546875 -4.148438 -7.523438 -3.90625 -7.484375 -3.6875 C -7.441406 -3.46875 -7.367188 -3.273438 -7.265625 -3.109375 C -7.171875 -2.953125 -7.035156 -2.820312 -6.859375 -2.71875 C -6.679688 -2.625 -6.460938 -2.5625 -6.203125 -2.53125 L -6.328125 -1.0625 C -6.660156 -1.113281 -6.96875 -1.210938 -7.25 -1.359375 C -7.53125 -1.503906 -7.769531 -1.707031 -7.96875 -1.96875 C -8.175781 -2.238281 -8.332031 -2.578125 -8.4375 -2.984375 C -8.550781 -3.390625 -8.609375 -3.878906 -8.609375 -4.453125 C -8.609375 -5.515625 -8.363281 -6.3125 -7.875 -6.84375 C -7.394531 -7.382812 -6.691406 -7.65625 -5.765625 -7.65625 L -2.125 -7.65625 C -1.707031 -7.65625 -1.394531 -7.707031 -1.1875 -7.8125 C -0.976562 -7.925781 -0.875 -8.132812 -0.875 -8.4375 C -0.875 -8.519531 -0.878906 -8.597656 -0.890625 -8.671875 C -0.898438 -8.753906 -0.910156 -8.832031 -0.921875 -8.90625 L -0.046875 -8.90625 C -0.00390625 -8.726562 0.0234375 -8.550781 0.046875 -8.375 C 0.0664062 -8.195312 0.078125 -8.007812 0.078125 -7.8125 C 0.078125 -7.550781 0.0390625 -7.320312 -0.03125 -7.125 C -0.101562 -6.9375 -0.207031 -6.78125 -0.34375 -6.65625 C -0.488281 -6.539062 -0.664062 -6.453125 -0.875 -6.390625 C -1.09375 -6.328125 -1.34375 -6.289062 -1.625 -6.28125 L -1.625 -6.234375 C -1.351562 -6.078125 -1.109375 -5.910156 -0.890625 -5.734375 C -0.671875 -5.554688 -0.484375 -5.347656 -0.328125 -5.109375 C -0.171875 -4.867188 -0.0507812 -4.59375 0.03125 -4.28125 C 0.113281 -3.976562 0.15625 -3.628906 0.15625 -3.234375 Z M -0.90625 -3.5625 C -0.90625 -4.007812 -0.984375 -4.398438 -1.140625 -4.734375 C -1.304688 -5.066406 -1.515625 -5.34375 -1.765625 -5.5625 C -2.023438 -5.789062 -2.304688 -5.957031 -2.609375 -6.0625 C -2.910156 -6.175781 -3.203125 -6.234375 -3.484375 -6.234375 L -4.171875 -6.234375 L -4.140625 -4.6875 C -4.140625 -4.34375 -4.113281 -4.015625 -4.0625 -3.703125 C -4.019531 -3.398438 -3.929688 -3.128906 -3.796875 -2.890625 C -3.671875 -2.660156 -3.488281 -2.472656 -3.25 -2.328125 C -3.019531 -2.191406 -2.71875 -2.125 -2.34375 -2.125 C -1.882812 -2.125 -1.53125 -2.25 -1.28125 -2.5 C -1.03125 -2.75 -0.90625 -3.101562 -0.90625 -3.5625 Z M -0.90625 -3.5625 \"/>\n",
       "</g>\n",
       "<g id=\"glyph-2-7\">\n",
       "<path d=\"M 0 -1.109375 L -6.484375 -1.109375 C -6.660156 -1.109375 -6.84375 -1.109375 -7.03125 -1.109375 C -7.21875 -1.109375 -7.394531 -1.101562 -7.5625 -1.09375 C -7.738281 -1.09375 -7.898438 -1.085938 -8.046875 -1.078125 C -8.203125 -1.078125 -8.335938 -1.070312 -8.453125 -1.0625 L -8.453125 -2.390625 C -8.335938 -2.398438 -8.203125 -2.40625 -8.046875 -2.40625 C -7.890625 -2.414062 -7.726562 -2.425781 -7.5625 -2.4375 C -7.40625 -2.445312 -7.253906 -2.453125 -7.109375 -2.453125 C -6.960938 -2.453125 -6.835938 -2.453125 -6.734375 -2.453125 L -6.734375 -2.484375 C -7.054688 -2.585938 -7.332031 -2.691406 -7.5625 -2.796875 C -7.800781 -2.910156 -8 -3.039062 -8.15625 -3.1875 C -8.3125 -3.34375 -8.425781 -3.523438 -8.5 -3.734375 C -8.570312 -3.941406 -8.609375 -4.195312 -8.609375 -4.5 C -8.609375 -4.613281 -8.597656 -4.722656 -8.578125 -4.828125 C -8.566406 -4.929688 -8.550781 -5.007812 -8.53125 -5.0625 L -7.25 -5.0625 C -7.269531 -4.96875 -7.285156 -4.859375 -7.296875 -4.734375 C -7.316406 -4.609375 -7.328125 -4.46875 -7.328125 -4.3125 C -7.328125 -3.988281 -7.253906 -3.710938 -7.109375 -3.484375 C -6.960938 -3.265625 -6.757812 -3.082031 -6.5 -2.9375 C -6.238281 -2.789062 -5.929688 -2.679688 -5.578125 -2.609375 C -5.222656 -2.546875 -4.832031 -2.515625 -4.40625 -2.515625 L 0 -2.515625 Z M 0 -1.109375 \"/>\n",
       "</g>\n",
       "<g id=\"glyph-2-8\">\n",
       "<path d=\"M -2.34375 -7.421875 C -1.945312 -7.421875 -1.59375 -7.34375 -1.28125 -7.1875 C -0.96875 -7.039062 -0.707031 -6.820312 -0.5 -6.53125 C -0.289062 -6.238281 -0.128906 -5.878906 -0.015625 -5.453125 C 0.0976562 -5.023438 0.15625 -4.539062 0.15625 -4 C 0.15625 -3.507812 0.113281 -3.066406 0.03125 -2.671875 C -0.0390625 -2.273438 -0.160156 -1.925781 -0.328125 -1.625 C -0.492188 -1.332031 -0.710938 -1.085938 -0.984375 -0.890625 C -1.253906 -0.691406 -1.585938 -0.546875 -1.984375 -0.453125 L -2.234375 -1.6875 C -1.773438 -1.8125 -1.441406 -2.0625 -1.234375 -2.4375 C -1.023438 -2.8125 -0.921875 -3.332031 -0.921875 -4 C -0.921875 -4.300781 -0.941406 -4.578125 -0.984375 -4.828125 C -1.023438 -5.078125 -1.09375 -5.289062 -1.1875 -5.46875 C -1.289062 -5.65625 -1.425781 -5.800781 -1.59375 -5.90625 C -1.769531 -6.007812 -1.984375 -6.0625 -2.234375 -6.0625 C -2.484375 -6.0625 -2.691406 -6 -2.859375 -5.875 C -3.023438 -5.757812 -3.160156 -5.59375 -3.265625 -5.375 C -3.378906 -5.164062 -3.472656 -4.90625 -3.546875 -4.59375 C -3.628906 -4.289062 -3.722656 -3.957031 -3.828125 -3.59375 C -3.910156 -3.257812 -4.003906 -2.925781 -4.109375 -2.59375 C -4.222656 -2.257812 -4.367188 -1.957031 -4.546875 -1.6875 C -4.734375 -1.414062 -4.957031 -1.195312 -5.21875 -1.03125 C -5.488281 -0.863281 -5.820312 -0.78125 -6.21875 -0.78125 C -6.988281 -0.78125 -7.578125 -1.054688 -7.984375 -1.609375 C -8.390625 -2.160156 -8.59375 -2.960938 -8.59375 -4.015625 C -8.59375 -4.941406 -8.425781 -5.679688 -8.09375 -6.234375 C -7.769531 -6.785156 -7.242188 -7.132812 -6.515625 -7.28125 L -6.359375 -6.015625 C -6.578125 -5.960938 -6.757812 -5.875 -6.90625 -5.75 C -7.0625 -5.625 -7.179688 -5.472656 -7.265625 -5.296875 C -7.359375 -5.117188 -7.425781 -4.921875 -7.46875 -4.703125 C -7.507812 -4.484375 -7.53125 -4.253906 -7.53125 -4.015625 C -7.53125 -3.378906 -7.429688 -2.910156 -7.234375 -2.609375 C -7.046875 -2.304688 -6.753906 -2.15625 -6.359375 -2.15625 C -6.128906 -2.15625 -5.941406 -2.207031 -5.796875 -2.3125 C -5.648438 -2.425781 -5.523438 -2.582031 -5.421875 -2.78125 C -5.316406 -2.988281 -5.226562 -3.234375 -5.15625 -3.515625 C -5.082031 -3.796875 -5.003906 -4.101562 -4.921875 -4.4375 C -4.859375 -4.664062 -4.796875 -4.894531 -4.734375 -5.125 C -4.671875 -5.363281 -4.59375 -5.59375 -4.5 -5.8125 C -4.40625 -6.03125 -4.296875 -6.238281 -4.171875 -6.4375 C -4.054688 -6.632812 -3.910156 -6.804688 -3.734375 -6.953125 C -3.566406 -7.097656 -3.367188 -7.210938 -3.140625 -7.296875 C -2.910156 -7.378906 -2.644531 -7.421875 -2.34375 -7.421875 Z M -2.34375 -7.421875 \"/>\n",
       "</g>\n",
       "<g id=\"glyph-2-9\">\n",
       "<path d=\"M -4.125 -4.34375 C -3.394531 -4.34375 -2.703125 -4.285156 -2.046875 -4.171875 C -1.390625 -4.066406 -0.753906 -3.894531 -0.140625 -3.65625 C 0.472656 -3.425781 1.066406 -3.128906 1.640625 -2.765625 C 2.210938 -2.398438 2.769531 -1.960938 3.3125 -1.453125 L 3.3125 -0.09375 C 2.769531 -0.582031 2.210938 -1.003906 1.640625 -1.359375 C 1.066406 -1.722656 0.472656 -2.019531 -0.140625 -2.25 C -0.765625 -2.476562 -1.40625 -2.644531 -2.0625 -2.75 C -2.726562 -2.863281 -3.421875 -2.921875 -4.140625 -2.921875 C -4.867188 -2.921875 -5.5625 -2.863281 -6.21875 -2.75 C -6.882812 -2.644531 -7.519531 -2.476562 -8.125 -2.25 C -8.738281 -2.019531 -9.332031 -1.722656 -9.90625 -1.359375 C -10.488281 -1.003906 -11.050781 -0.582031 -11.59375 -0.09375 L -11.59375 -1.453125 C -11.050781 -1.960938 -10.492188 -2.398438 -9.921875 -2.765625 C -9.347656 -3.128906 -8.753906 -3.425781 -8.140625 -3.65625 C -7.535156 -3.894531 -6.898438 -4.066406 -6.234375 -4.171875 C -5.578125 -4.285156 -4.882812 -4.34375 -4.15625 -4.34375 Z M -4.125 -4.34375 \"/>\n",
       "</g>\n",
       "<g id=\"glyph-3-0\">\n",
       "<path d=\"M 6.75 -11.75 L 6.75 0 L 4.96875 0 L 4.96875 -11.75 L 0.4375 -11.75 L 0.4375 -13.21875 L 11.296875 -13.21875 L 11.296875 -11.75 Z M 6.75 -11.75 \"/>\n",
       "</g>\n",
       "<g id=\"glyph-3-1\">\n",
       "<path d=\"M 9.875 -5.078125 C 9.875 -3.304688 9.484375 -1.984375 8.703125 -1.109375 C 7.921875 -0.242188 6.785156 0.1875 5.296875 0.1875 C 4.585938 0.1875 3.953125 0.0820312 3.390625 -0.125 C 2.835938 -0.34375 2.367188 -0.671875 1.984375 -1.109375 C 1.609375 -1.546875 1.316406 -2.09375 1.109375 -2.75 C 0.910156 -3.40625 0.8125 -4.179688 0.8125 -5.078125 C 0.8125 -8.578125 2.328125 -10.328125 5.359375 -10.328125 C 6.140625 -10.328125 6.816406 -10.21875 7.390625 -10 C 7.960938 -9.78125 8.429688 -9.453125 8.796875 -9.015625 C 9.160156 -8.578125 9.429688 -8.03125 9.609375 -7.375 C 9.785156 -6.71875 9.875 -5.953125 9.875 -5.078125 Z M 8.09375 -5.078125 C 8.09375 -5.867188 8.03125 -6.519531 7.90625 -7.03125 C 7.789062 -7.539062 7.613281 -7.945312 7.375 -8.25 C 7.144531 -8.5625 6.859375 -8.773438 6.515625 -8.890625 C 6.179688 -9.015625 5.800781 -9.078125 5.375 -9.078125 C 4.945312 -9.078125 4.554688 -9.015625 4.203125 -8.890625 C 3.859375 -8.765625 3.566406 -8.546875 3.328125 -8.234375 C 3.085938 -7.921875 2.898438 -7.507812 2.765625 -7 C 2.640625 -6.488281 2.578125 -5.847656 2.578125 -5.078125 C 2.578125 -4.296875 2.644531 -3.644531 2.78125 -3.125 C 2.914062 -2.613281 3.101562 -2.203125 3.34375 -1.890625 C 3.59375 -1.585938 3.878906 -1.375 4.203125 -1.25 C 4.535156 -1.125 4.894531 -1.0625 5.28125 -1.0625 C 5.707031 -1.0625 6.09375 -1.117188 6.4375 -1.234375 C 6.789062 -1.359375 7.085938 -1.570312 7.328125 -1.875 C 7.578125 -2.1875 7.765625 -2.601562 7.890625 -3.125 C 8.023438 -3.644531 8.09375 -4.296875 8.09375 -5.078125 Z M 8.09375 -5.078125 \"/>\n",
       "</g>\n",
       "<g id=\"glyph-3-2\">\n",
       "<path d=\"M 5.1875 -0.078125 C 4.9375 -0.00390625 4.675781 0.0507812 4.40625 0.09375 C 4.144531 0.132812 3.835938 0.15625 3.484375 0.15625 C 2.140625 0.15625 1.46875 -0.609375 1.46875 -2.140625 L 1.46875 -8.921875 L 0.296875 -8.921875 L 0.296875 -10.140625 L 1.53125 -10.140625 L 2.03125 -12.421875 L 3.15625 -12.421875 L 3.15625 -10.140625 L 5.03125 -10.140625 L 5.03125 -8.921875 L 3.15625 -8.921875 L 3.15625 -2.515625 C 3.15625 -2.023438 3.234375 -1.679688 3.390625 -1.484375 C 3.546875 -1.285156 3.820312 -1.1875 4.21875 -1.1875 C 4.382812 -1.1875 4.539062 -1.195312 4.6875 -1.21875 C 4.84375 -1.25 5.007812 -1.285156 5.1875 -1.328125 Z M 5.1875 -0.078125 \"/>\n",
       "</g>\n",
       "<g id=\"glyph-3-3\">\n",
       "<path d=\"M 3.875 0.1875 C 2.863281 0.1875 2.097656 -0.078125 1.578125 -0.609375 C 1.066406 -1.148438 0.8125 -1.890625 0.8125 -2.828125 C 0.8125 -3.492188 0.9375 -4.039062 1.1875 -4.46875 C 1.445312 -4.90625 1.78125 -5.242188 2.1875 -5.484375 C 2.59375 -5.722656 3.054688 -5.890625 3.578125 -5.984375 C 4.109375 -6.078125 4.644531 -6.132812 5.1875 -6.15625 L 7.46875 -6.1875 L 7.46875 -6.734375 C 7.46875 -7.160156 7.421875 -7.519531 7.328125 -7.8125 C 7.242188 -8.101562 7.113281 -8.335938 6.9375 -8.515625 C 6.757812 -8.703125 6.53125 -8.835938 6.25 -8.921875 C 5.976562 -9.003906 5.660156 -9.046875 5.296875 -9.046875 C 4.972656 -9.046875 4.675781 -9.019531 4.40625 -8.96875 C 4.144531 -8.925781 3.914062 -8.84375 3.71875 -8.71875 C 3.53125 -8.601562 3.375 -8.4375 3.25 -8.21875 C 3.132812 -8.007812 3.0625 -7.75 3.03125 -7.4375 L 1.265625 -7.59375 C 1.328125 -7.988281 1.445312 -8.351562 1.625 -8.6875 C 1.800781 -9.03125 2.046875 -9.320312 2.359375 -9.5625 C 2.679688 -9.8125 3.082031 -10 3.5625 -10.125 C 4.050781 -10.257812 4.640625 -10.328125 5.328125 -10.328125 C 6.609375 -10.328125 7.566406 -10.035156 8.203125 -9.453125 C 8.847656 -8.867188 9.171875 -8.023438 9.171875 -6.921875 L 9.171875 -2.546875 C 9.171875 -2.046875 9.238281 -1.671875 9.375 -1.421875 C 9.507812 -1.171875 9.757812 -1.046875 10.125 -1.046875 C 10.21875 -1.046875 10.3125 -1.050781 10.40625 -1.0625 C 10.5 -1.070312 10.59375 -1.085938 10.6875 -1.109375 L 10.6875 -0.0625 C 10.46875 -0.0078125 10.253906 0.0234375 10.046875 0.046875 C 9.835938 0.078125 9.613281 0.09375 9.375 0.09375 C 9.050781 0.09375 8.773438 0.0507812 8.546875 -0.03125 C 8.328125 -0.113281 8.144531 -0.238281 8 -0.40625 C 7.851562 -0.582031 7.742188 -0.796875 7.671875 -1.046875 C 7.597656 -1.304688 7.550781 -1.601562 7.53125 -1.9375 L 7.46875 -1.9375 C 7.289062 -1.613281 7.09375 -1.320312 6.875 -1.0625 C 6.65625 -0.800781 6.398438 -0.578125 6.109375 -0.390625 C 5.828125 -0.203125 5.503906 -0.0625 5.140625 0.03125 C 4.773438 0.132812 4.351562 0.1875 3.875 0.1875 Z M 4.265625 -1.078125 C 4.804688 -1.078125 5.273438 -1.175781 5.671875 -1.375 C 6.078125 -1.570312 6.410156 -1.820312 6.671875 -2.125 C 6.941406 -2.4375 7.140625 -2.769531 7.265625 -3.125 C 7.398438 -3.488281 7.46875 -3.835938 7.46875 -4.171875 L 7.46875 -5 L 5.625 -4.96875 C 5.207031 -4.957031 4.8125 -4.925781 4.4375 -4.875 C 4.070312 -4.820312 3.75 -4.71875 3.46875 -4.5625 C 3.1875 -4.40625 2.960938 -4.1875 2.796875 -3.90625 C 2.628906 -3.625 2.546875 -3.253906 2.546875 -2.796875 C 2.546875 -2.253906 2.691406 -1.832031 2.984375 -1.53125 C 3.285156 -1.226562 3.710938 -1.078125 4.265625 -1.078125 Z M 4.265625 -1.078125 \"/>\n",
       "</g>\n",
       "<g id=\"glyph-3-4\">\n",
       "<path d=\"M 1.296875 0 L 1.296875 -13.921875 L 2.984375 -13.921875 L 2.984375 0 Z M 1.296875 0 \"/>\n",
       "</g>\n",
       "<g id=\"glyph-3-5\">\n",
       "</g>\n",
       "<g id=\"glyph-3-6\">\n",
       "<path d=\"M 11.796875 -9.234375 C 11.796875 -8.660156 11.695312 -8.125 11.5 -7.625 C 11.3125 -7.125 11.03125 -6.691406 10.65625 -6.328125 C 10.28125 -5.960938 9.804688 -5.671875 9.234375 -5.453125 C 8.660156 -5.242188 8 -5.140625 7.25 -5.140625 L 3.359375 -5.140625 L 3.359375 0 L 1.578125 0 L 1.578125 -13.21875 L 7.140625 -13.21875 C 7.921875 -13.21875 8.597656 -13.117188 9.171875 -12.921875 C 9.753906 -12.734375 10.238281 -12.460938 10.625 -12.109375 C 11.019531 -11.765625 11.3125 -11.347656 11.5 -10.859375 C 11.695312 -10.367188 11.796875 -9.828125 11.796875 -9.234375 Z M 10 -9.21875 C 10 -10.050781 9.738281 -10.6875 9.21875 -11.125 C 8.707031 -11.5625 7.941406 -11.78125 6.921875 -11.78125 L 3.359375 -11.78125 L 3.359375 -6.5625 L 7 -6.5625 C 8.03125 -6.5625 8.785156 -6.789062 9.265625 -7.25 C 9.753906 -7.707031 10 -8.363281 10 -9.21875 Z M 10 -9.21875 \"/>\n",
       "</g>\n",
       "<g id=\"glyph-3-7\">\n",
       "<path d=\"M 5.65625 0 C 5.425781 0.613281 5.1875 1.164062 4.9375 1.65625 C 4.6875 2.144531 4.40625 2.5625 4.09375 2.90625 C 3.789062 3.257812 3.453125 3.523438 3.078125 3.703125 C 2.703125 3.890625 2.273438 3.984375 1.796875 3.984375 C 1.578125 3.984375 1.375 3.976562 1.1875 3.96875 C 1.007812 3.957031 0.820312 3.925781 0.625 3.875 L 0.625 2.609375 C 0.75 2.628906 0.882812 2.644531 1.03125 2.65625 C 1.175781 2.664062 1.304688 2.671875 1.421875 2.671875 C 1.910156 2.671875 2.367188 2.484375 2.796875 2.109375 C 3.222656 1.742188 3.59375 1.160156 3.90625 0.359375 L 4.0625 -0.046875 L 0.046875 -10.140625 L 1.84375 -10.140625 L 3.984375 -4.53125 C 4.046875 -4.363281 4.125 -4.140625 4.21875 -3.859375 C 4.320312 -3.578125 4.421875 -3.296875 4.515625 -3.015625 C 4.609375 -2.734375 4.691406 -2.476562 4.765625 -2.25 C 4.847656 -2.03125 4.894531 -1.894531 4.90625 -1.84375 C 4.925781 -1.90625 4.96875 -2.035156 5.03125 -2.234375 C 5.101562 -2.441406 5.1875 -2.671875 5.28125 -2.921875 C 5.375 -3.171875 5.46875 -3.421875 5.5625 -3.671875 C 5.65625 -3.929688 5.734375 -4.15625 5.796875 -4.34375 L 7.78125 -10.140625 L 9.5625 -10.140625 Z M 5.65625 0 \"/>\n",
       "</g>\n",
       "<g id=\"glyph-3-8\">\n",
       "<path d=\"M 1.28125 -12.296875 L 1.28125 -13.921875 L 2.96875 -13.921875 L 2.96875 -12.296875 Z M 1.28125 0 L 1.28125 -10.140625 L 2.96875 -10.140625 L 2.96875 0 Z M 1.28125 0 \"/>\n",
       "</g>\n",
       "<g id=\"glyph-3-9\">\n",
       "<path d=\"M 7.203125 0 L 7.203125 -6.4375 C 7.203125 -6.925781 7.171875 -7.335938 7.109375 -7.671875 C 7.046875 -8.003906 6.941406 -8.269531 6.796875 -8.46875 C 6.648438 -8.675781 6.457031 -8.820312 6.21875 -8.90625 C 5.976562 -8.988281 5.6875 -9.03125 5.34375 -9.03125 C 4.988281 -9.03125 4.664062 -8.957031 4.375 -8.8125 C 4.09375 -8.675781 3.847656 -8.472656 3.640625 -8.203125 C 3.441406 -7.941406 3.285156 -7.613281 3.171875 -7.21875 C 3.066406 -6.832031 3.015625 -6.382812 3.015625 -5.875 L 3.015625 0 L 1.328125 0 L 1.328125 -7.984375 C 1.328125 -8.191406 1.328125 -8.410156 1.328125 -8.640625 C 1.328125 -8.878906 1.320312 -9.101562 1.3125 -9.3125 C 1.300781 -9.519531 1.289062 -9.695312 1.28125 -9.84375 C 1.28125 -10 1.28125 -10.097656 1.28125 -10.140625 L 2.875 -10.140625 C 2.875 -10.109375 2.875 -10.023438 2.875 -9.890625 C 2.882812 -9.753906 2.894531 -9.597656 2.90625 -9.421875 C 2.914062 -9.242188 2.921875 -9.0625 2.921875 -8.875 C 2.929688 -8.6875 2.9375 -8.53125 2.9375 -8.40625 L 2.96875 -8.40625 C 3.125 -8.695312 3.285156 -8.960938 3.453125 -9.203125 C 3.628906 -9.441406 3.832031 -9.644531 4.0625 -9.8125 C 4.300781 -9.976562 4.570312 -10.101562 4.875 -10.1875 C 5.175781 -10.28125 5.53125 -10.328125 5.9375 -10.328125 C 6.707031 -10.328125 7.3125 -10.171875 7.75 -9.859375 C 8.195312 -9.554688 8.507812 -9.070312 8.6875 -8.40625 L 8.71875 -8.40625 C 8.863281 -8.695312 9.03125 -8.960938 9.21875 -9.203125 C 9.40625 -9.441406 9.625 -9.644531 9.875 -9.8125 C 10.132812 -9.976562 10.421875 -10.101562 10.734375 -10.1875 C 11.046875 -10.28125 11.398438 -10.328125 11.796875 -10.328125 C 12.304688 -10.328125 12.75 -10.257812 13.125 -10.125 C 13.5 -9.988281 13.800781 -9.773438 14.03125 -9.484375 C 14.269531 -9.203125 14.445312 -8.832031 14.5625 -8.375 C 14.675781 -7.925781 14.734375 -7.390625 14.734375 -6.765625 L 14.734375 0 L 13.0625 0 L 13.0625 -6.4375 C 13.0625 -6.925781 13.03125 -7.335938 12.96875 -7.671875 C 12.90625 -8.003906 12.800781 -8.269531 12.65625 -8.46875 C 12.507812 -8.675781 12.316406 -8.820312 12.078125 -8.90625 C 11.835938 -8.988281 11.546875 -9.03125 11.203125 -9.03125 C 10.847656 -9.03125 10.523438 -8.960938 10.234375 -8.828125 C 9.953125 -8.691406 9.707031 -8.492188 9.5 -8.234375 C 9.300781 -7.972656 9.144531 -7.644531 9.03125 -7.25 C 8.925781 -6.851562 8.875 -6.394531 8.875 -5.875 L 8.875 0 Z M 7.203125 0 \"/>\n",
       "</g>\n",
       "<g id=\"glyph-3-10\">\n",
       "<path d=\"M 2.59375 -4.71875 C 2.59375 -4.1875 2.644531 -3.695312 2.75 -3.25 C 2.863281 -2.800781 3.03125 -2.414062 3.25 -2.09375 C 3.476562 -1.769531 3.769531 -1.519531 4.125 -1.34375 C 4.488281 -1.164062 4.921875 -1.078125 5.421875 -1.078125 C 6.148438 -1.078125 6.734375 -1.222656 7.171875 -1.515625 C 7.617188 -1.804688 7.921875 -2.179688 8.078125 -2.640625 L 9.546875 -2.21875 C 9.441406 -1.9375 9.296875 -1.648438 9.109375 -1.359375 C 8.921875 -1.078125 8.664062 -0.820312 8.34375 -0.59375 C 8.019531 -0.363281 7.617188 -0.175781 7.140625 -0.03125 C 6.671875 0.113281 6.097656 0.1875 5.421875 0.1875 C 3.921875 0.1875 2.773438 -0.257812 1.984375 -1.15625 C 1.203125 -2.050781 0.8125 -3.378906 0.8125 -5.140625 C 0.8125 -6.085938 0.929688 -6.890625 1.171875 -7.546875 C 1.410156 -8.210938 1.734375 -8.75 2.140625 -9.15625 C 2.554688 -9.570312 3.039062 -9.867188 3.59375 -10.046875 C 4.144531 -10.234375 4.734375 -10.328125 5.359375 -10.328125 C 6.203125 -10.328125 6.910156 -10.1875 7.484375 -9.90625 C 8.054688 -9.632812 8.515625 -9.253906 8.859375 -8.765625 C 9.210938 -8.285156 9.460938 -7.71875 9.609375 -7.0625 C 9.753906 -6.40625 9.828125 -5.695312 9.828125 -4.9375 L 9.828125 -4.71875 Z M 8.078125 -6.015625 C 7.984375 -7.078125 7.710938 -7.851562 7.265625 -8.34375 C 6.816406 -8.832031 6.171875 -9.078125 5.328125 -9.078125 C 5.046875 -9.078125 4.75 -9.03125 4.4375 -8.9375 C 4.125 -8.851562 3.835938 -8.695312 3.578125 -8.46875 C 3.316406 -8.238281 3.09375 -7.921875 2.90625 -7.515625 C 2.726562 -7.117188 2.628906 -6.617188 2.609375 -6.015625 Z M 8.078125 -6.015625 \"/>\n",
       "</g>\n",
       "<g id=\"glyph-3-11\">\n",
       "<path d=\"M 5.75 0 L 3.75 0 L 0.0625 -10.140625 L 1.859375 -10.140625 L 4.09375 -3.546875 C 4.132812 -3.410156 4.1875 -3.242188 4.25 -3.046875 C 4.3125 -2.847656 4.375 -2.640625 4.4375 -2.421875 C 4.5 -2.210938 4.554688 -2.007812 4.609375 -1.8125 C 4.660156 -1.613281 4.707031 -1.453125 4.75 -1.328125 C 4.78125 -1.453125 4.828125 -1.613281 4.890625 -1.8125 C 4.953125 -2.007812 5.015625 -2.210938 5.078125 -2.421875 C 5.140625 -2.628906 5.203125 -2.828125 5.265625 -3.015625 C 5.328125 -3.210938 5.382812 -3.382812 5.4375 -3.53125 L 7.75 -10.140625 L 9.53125 -10.140625 Z M 5.75 0 \"/>\n",
       "</g>\n",
       "<g id=\"glyph-3-12\">\n",
       "<path d=\"M 8.90625 -2.796875 C 8.90625 -2.328125 8.8125 -1.90625 8.625 -1.53125 C 8.445312 -1.15625 8.179688 -0.84375 7.828125 -0.59375 C 7.472656 -0.34375 7.039062 -0.148438 6.53125 -0.015625 C 6.03125 0.117188 5.453125 0.1875 4.796875 0.1875 C 4.203125 0.1875 3.671875 0.140625 3.203125 0.046875 C 2.734375 -0.0351562 2.316406 -0.175781 1.953125 -0.375 C 1.597656 -0.582031 1.300781 -0.847656 1.0625 -1.171875 C 0.820312 -1.503906 0.644531 -1.90625 0.53125 -2.375 L 2.03125 -2.671875 C 2.164062 -2.128906 2.457031 -1.726562 2.90625 -1.46875 C 3.363281 -1.21875 3.992188 -1.09375 4.796875 -1.09375 C 5.148438 -1.09375 5.476562 -1.117188 5.78125 -1.171875 C 6.09375 -1.222656 6.359375 -1.304688 6.578125 -1.421875 C 6.796875 -1.546875 6.960938 -1.707031 7.078125 -1.90625 C 7.203125 -2.113281 7.265625 -2.367188 7.265625 -2.671875 C 7.265625 -2.972656 7.191406 -3.222656 7.046875 -3.421875 C 6.898438 -3.617188 6.695312 -3.78125 6.4375 -3.90625 C 6.1875 -4.039062 5.878906 -4.15625 5.515625 -4.25 C 5.148438 -4.351562 4.75 -4.460938 4.3125 -4.578125 C 3.90625 -4.691406 3.5 -4.8125 3.09375 -4.9375 C 2.695312 -5.070312 2.335938 -5.242188 2.015625 -5.453125 C 1.691406 -5.671875 1.429688 -5.9375 1.234375 -6.25 C 1.035156 -6.570312 0.9375 -6.976562 0.9375 -7.46875 C 0.9375 -8.382812 1.265625 -9.085938 1.921875 -9.578125 C 2.585938 -10.066406 3.550781 -10.3125 4.8125 -10.3125 C 5.925781 -10.3125 6.8125 -10.113281 7.46875 -9.71875 C 8.132812 -9.320312 8.554688 -8.6875 8.734375 -7.8125 L 7.203125 -7.625 C 7.148438 -7.894531 7.046875 -8.117188 6.890625 -8.296875 C 6.742188 -8.472656 6.5625 -8.613281 6.34375 -8.71875 C 6.132812 -8.832031 5.894531 -8.910156 5.625 -8.953125 C 5.363281 -9.003906 5.09375 -9.03125 4.8125 -9.03125 C 4.050781 -9.03125 3.488281 -8.910156 3.125 -8.671875 C 2.757812 -8.441406 2.578125 -8.09375 2.578125 -7.625 C 2.578125 -7.351562 2.644531 -7.128906 2.78125 -6.953125 C 2.914062 -6.773438 3.101562 -6.625 3.34375 -6.5 C 3.582031 -6.375 3.867188 -6.265625 4.203125 -6.171875 C 4.546875 -6.085938 4.921875 -5.992188 5.328125 -5.890625 C 5.597656 -5.828125 5.875 -5.753906 6.15625 -5.671875 C 6.4375 -5.597656 6.707031 -5.503906 6.96875 -5.390625 C 7.238281 -5.285156 7.488281 -5.160156 7.71875 -5.015625 C 7.957031 -4.867188 8.160156 -4.691406 8.328125 -4.484375 C 8.503906 -4.273438 8.644531 -4.03125 8.75 -3.75 C 8.851562 -3.476562 8.90625 -3.160156 8.90625 -2.796875 Z M 8.90625 -2.796875 \"/>\n",
       "</g>\n",
       "<g id=\"glyph-3-13\">\n",
       "<path d=\"M 1.75 0 L 1.75 -2.046875 L 3.578125 -2.046875 L 3.578125 0 Z M 1.75 0 \"/>\n",
       "</g>\n",
       "<g id=\"glyph-3-14\">\n",
       "<path d=\"M 10.9375 0 L 9.4375 -3.859375 L 3.40625 -3.859375 L 1.890625 0 L 0.03125 0 L 5.421875 -13.21875 L 7.46875 -13.21875 L 12.765625 0 Z M 7.203125 -9.625 C 7.097656 -9.875 7 -10.125 6.90625 -10.375 C 6.820312 -10.632812 6.742188 -10.867188 6.671875 -11.078125 C 6.609375 -11.285156 6.550781 -11.457031 6.5 -11.59375 C 6.457031 -11.738281 6.429688 -11.828125 6.421875 -11.859375 C 6.410156 -11.828125 6.378906 -11.738281 6.328125 -11.59375 C 6.285156 -11.457031 6.226562 -11.28125 6.15625 -11.0625 C 6.09375 -10.851562 6.015625 -10.617188 5.921875 -10.359375 C 5.828125 -10.109375 5.734375 -9.859375 5.640625 -9.609375 L 3.953125 -5.265625 L 8.890625 -5.265625 Z M 7.203125 -9.625 \"/>\n",
       "</g>\n",
       "<g id=\"glyph-3-15\">\n",
       "<path d=\"M 5.140625 3.984375 C 4.554688 3.984375 4.039062 3.921875 3.59375 3.796875 C 3.144531 3.679688 2.757812 3.515625 2.4375 3.296875 C 2.113281 3.078125 1.851562 2.8125 1.65625 2.5 C 1.457031 2.195312 1.316406 1.859375 1.234375 1.484375 L 2.921875 1.234375 C 3.035156 1.703125 3.285156 2.0625 3.671875 2.3125 C 4.054688 2.570312 4.5625 2.703125 5.1875 2.703125 C 5.5625 2.703125 5.90625 2.644531 6.21875 2.53125 C 6.53125 2.425781 6.796875 2.253906 7.015625 2.015625 C 7.234375 1.785156 7.398438 1.484375 7.515625 1.109375 C 7.640625 0.734375 7.703125 0.28125 7.703125 -0.25 L 7.703125 -1.890625 L 7.6875 -1.890625 C 7.5625 -1.628906 7.40625 -1.378906 7.21875 -1.140625 C 7.039062 -0.910156 6.816406 -0.703125 6.546875 -0.515625 C 6.285156 -0.335938 5.976562 -0.191406 5.625 -0.078125 C 5.269531 0.0234375 4.867188 0.078125 4.421875 0.078125 C 3.773438 0.078125 3.222656 -0.03125 2.765625 -0.25 C 2.304688 -0.46875 1.929688 -0.789062 1.640625 -1.21875 C 1.347656 -1.644531 1.132812 -2.175781 1 -2.8125 C 0.875 -3.457031 0.8125 -4.203125 0.8125 -5.046875 C 0.8125 -5.859375 0.875 -6.585938 1 -7.234375 C 1.132812 -7.890625 1.351562 -8.441406 1.65625 -8.890625 C 1.96875 -9.347656 2.363281 -9.695312 2.84375 -9.9375 C 3.332031 -10.1875 3.921875 -10.3125 4.609375 -10.3125 C 5.328125 -10.3125 5.953125 -10.144531 6.484375 -9.8125 C 7.015625 -9.476562 7.421875 -9.007812 7.703125 -8.40625 L 7.71875 -8.40625 C 7.71875 -8.5625 7.722656 -8.734375 7.734375 -8.921875 C 7.742188 -9.117188 7.753906 -9.304688 7.765625 -9.484375 C 7.773438 -9.660156 7.785156 -9.8125 7.796875 -9.9375 C 7.804688 -10.0625 7.820312 -10.128906 7.84375 -10.140625 L 9.4375 -10.140625 C 9.4375 -10.085938 9.429688 -9.992188 9.421875 -9.859375 C 9.410156 -9.722656 9.398438 -9.5625 9.390625 -9.375 C 9.390625 -9.1875 9.390625 -8.976562 9.390625 -8.75 C 9.390625 -8.519531 9.390625 -8.285156 9.390625 -8.046875 L 9.390625 -0.296875 C 9.390625 1.128906 9.039062 2.195312 8.34375 2.90625 C 7.644531 3.625 6.578125 3.984375 5.140625 3.984375 Z M 7.703125 -5.078125 C 7.703125 -5.773438 7.625 -6.375 7.46875 -6.875 C 7.320312 -7.382812 7.125 -7.796875 6.875 -8.109375 C 6.625 -8.429688 6.335938 -8.664062 6.015625 -8.8125 C 5.691406 -8.96875 5.363281 -9.046875 5.03125 -9.046875 C 4.59375 -9.046875 4.21875 -8.96875 3.90625 -8.8125 C 3.601562 -8.664062 3.347656 -8.429688 3.140625 -8.109375 C 2.941406 -7.785156 2.789062 -7.375 2.6875 -6.875 C 2.59375 -6.375 2.546875 -5.773438 2.546875 -5.078125 C 2.546875 -4.335938 2.59375 -3.71875 2.6875 -3.21875 C 2.789062 -2.726562 2.941406 -2.328125 3.140625 -2.015625 C 3.335938 -1.710938 3.585938 -1.492188 3.890625 -1.359375 C 4.203125 -1.234375 4.570312 -1.171875 5 -1.171875 C 5.332031 -1.171875 5.660156 -1.242188 5.984375 -1.390625 C 6.304688 -1.535156 6.59375 -1.765625 6.84375 -2.078125 C 7.101562 -2.390625 7.3125 -2.789062 7.46875 -3.28125 C 7.625 -3.769531 7.703125 -4.367188 7.703125 -5.078125 Z M 7.703125 -5.078125 \"/>\n",
       "</g>\n",
       "</g>\n",
       "<clipPath id=\"clip-0\">\n",
       "<path clip-rule=\"nonzero\" d=\"M 49.152344 28.957031 L 570.523438 28.957031 L 570.523438 535.847656 L 49.152344 535.847656 Z M 49.152344 28.957031 \"/>\n",
       "</clipPath>\n",
       "<clipPath id=\"clip-1\">\n",
       "<path clip-rule=\"nonzero\" d=\"M 49.152344 489 L 570.523438 489 L 570.523438 491 L 49.152344 491 Z M 49.152344 489 \"/>\n",
       "</clipPath>\n",
       "<clipPath id=\"clip-2\">\n",
       "<path clip-rule=\"nonzero\" d=\"M 49.152344 363 L 570.523438 363 L 570.523438 364 L 49.152344 364 Z M 49.152344 363 \"/>\n",
       "</clipPath>\n",
       "<clipPath id=\"clip-3\">\n",
       "<path clip-rule=\"nonzero\" d=\"M 49.152344 236 L 570.523438 236 L 570.523438 238 L 49.152344 238 Z M 49.152344 236 \"/>\n",
       "</clipPath>\n",
       "<clipPath id=\"clip-4\">\n",
       "<path clip-rule=\"nonzero\" d=\"M 49.152344 109 L 570.523438 109 L 570.523438 111 L 49.152344 111 Z M 49.152344 109 \"/>\n",
       "</clipPath>\n",
       "<clipPath id=\"clip-5\">\n",
       "<path clip-rule=\"nonzero\" d=\"M 125 28.957031 L 127 28.957031 L 127 535.847656 L 125 535.847656 Z M 125 28.957031 \"/>\n",
       "</clipPath>\n",
       "<clipPath id=\"clip-6\">\n",
       "<path clip-rule=\"nonzero\" d=\"M 231 28.957031 L 233 28.957031 L 233 535.847656 L 231 535.847656 Z M 231 28.957031 \"/>\n",
       "</clipPath>\n",
       "<clipPath id=\"clip-7\">\n",
       "<path clip-rule=\"nonzero\" d=\"M 338 28.957031 L 339 28.957031 L 339 535.847656 L 338 535.847656 Z M 338 28.957031 \"/>\n",
       "</clipPath>\n",
       "<clipPath id=\"clip-8\">\n",
       "<path clip-rule=\"nonzero\" d=\"M 444 28.957031 L 445 28.957031 L 445 535.847656 L 444 535.847656 Z M 444 28.957031 \"/>\n",
       "</clipPath>\n",
       "<clipPath id=\"clip-9\">\n",
       "<path clip-rule=\"nonzero\" d=\"M 550 28.957031 L 552 28.957031 L 552 535.847656 L 550 535.847656 Z M 550 28.957031 \"/>\n",
       "</clipPath>\n",
       "<clipPath id=\"clip-10\">\n",
       "<path clip-rule=\"nonzero\" d=\"M 49.152344 426 L 570.523438 426 L 570.523438 428 L 49.152344 428 Z M 49.152344 426 \"/>\n",
       "</clipPath>\n",
       "<clipPath id=\"clip-11\">\n",
       "<path clip-rule=\"nonzero\" d=\"M 49.152344 299 L 570.523438 299 L 570.523438 301 L 49.152344 301 Z M 49.152344 299 \"/>\n",
       "</clipPath>\n",
       "<clipPath id=\"clip-12\">\n",
       "<path clip-rule=\"nonzero\" d=\"M 49.152344 172 L 570.523438 172 L 570.523438 175 L 49.152344 175 Z M 49.152344 172 \"/>\n",
       "</clipPath>\n",
       "<clipPath id=\"clip-13\">\n",
       "<path clip-rule=\"nonzero\" d=\"M 49.152344 46 L 570.523438 46 L 570.523438 48 L 49.152344 48 Z M 49.152344 46 \"/>\n",
       "</clipPath>\n",
       "<clipPath id=\"clip-14\">\n",
       "<path clip-rule=\"nonzero\" d=\"M 72 28.957031 L 74 28.957031 L 74 535.847656 L 72 535.847656 Z M 72 28.957031 \"/>\n",
       "</clipPath>\n",
       "<clipPath id=\"clip-15\">\n",
       "<path clip-rule=\"nonzero\" d=\"M 178 28.957031 L 180 28.957031 L 180 535.847656 L 178 535.847656 Z M 178 28.957031 \"/>\n",
       "</clipPath>\n",
       "<clipPath id=\"clip-16\">\n",
       "<path clip-rule=\"nonzero\" d=\"M 284 28.957031 L 286 28.957031 L 286 535.847656 L 284 535.847656 Z M 284 28.957031 \"/>\n",
       "</clipPath>\n",
       "<clipPath id=\"clip-17\">\n",
       "<path clip-rule=\"nonzero\" d=\"M 390 28.957031 L 393 28.957031 L 393 535.847656 L 390 535.847656 Z M 390 28.957031 \"/>\n",
       "</clipPath>\n",
       "<clipPath id=\"clip-18\">\n",
       "<path clip-rule=\"nonzero\" d=\"M 497 28.957031 L 499 28.957031 L 499 535.847656 L 497 535.847656 Z M 497 28.957031 \"/>\n",
       "</clipPath>\n",
       "</defs>\n",
       "<rect x=\"-57.6\" y=\"-57.6\" width=\"691.2\" height=\"691.2\" fill=\"rgb(100%, 100%, 100%)\" fill-opacity=\"1\"/>\n",
       "<rect x=\"-57.6\" y=\"-57.6\" width=\"691.2\" height=\"691.2\" fill=\"rgb(100%, 100%, 100%)\" fill-opacity=\"1\"/>\n",
       "<path fill=\"none\" stroke-width=\"1.066978\" stroke-linecap=\"round\" stroke-linejoin=\"round\" stroke=\"rgb(100%, 100%, 100%)\" stroke-opacity=\"1\" stroke-miterlimit=\"10\" d=\"M 0 576 L 576 576 L 576 0 L 0 0 Z M 0 576 \"/>\n",
       "<g clip-path=\"url(#clip-0)\">\n",
       "<path fill-rule=\"nonzero\" fill=\"rgb(92.156863%, 92.156863%, 92.156863%)\" fill-opacity=\"1\" d=\"M 49.152344 535.847656 L 570.523438 535.847656 L 570.523438 28.957031 L 49.152344 28.957031 Z M 49.152344 535.847656 \"/>\n",
       "</g>\n",
       "<g clip-path=\"url(#clip-1)\">\n",
       "<path fill=\"none\" stroke-width=\"0.533489\" stroke-linecap=\"butt\" stroke-linejoin=\"round\" stroke=\"rgb(100%, 100%, 100%)\" stroke-opacity=\"1\" stroke-miterlimit=\"10\" d=\"M 49.152344 490.023438 L 570.519531 490.023438 \"/>\n",
       "</g>\n",
       "<g clip-path=\"url(#clip-2)\">\n",
       "<path fill=\"none\" stroke-width=\"0.533489\" stroke-linecap=\"butt\" stroke-linejoin=\"round\" stroke=\"rgb(100%, 100%, 100%)\" stroke-opacity=\"1\" stroke-miterlimit=\"10\" d=\"M 49.152344 363.425781 L 570.519531 363.425781 \"/>\n",
       "</g>\n",
       "<g clip-path=\"url(#clip-3)\">\n",
       "<path fill=\"none\" stroke-width=\"0.533489\" stroke-linecap=\"butt\" stroke-linejoin=\"round\" stroke=\"rgb(100%, 100%, 100%)\" stroke-opacity=\"1\" stroke-miterlimit=\"10\" d=\"M 49.152344 236.828125 L 570.519531 236.828125 \"/>\n",
       "</g>\n",
       "<g clip-path=\"url(#clip-4)\">\n",
       "<path fill=\"none\" stroke-width=\"0.533489\" stroke-linecap=\"butt\" stroke-linejoin=\"round\" stroke=\"rgb(100%, 100%, 100%)\" stroke-opacity=\"1\" stroke-miterlimit=\"10\" d=\"M 49.152344 110.234375 L 570.519531 110.234375 \"/>\n",
       "</g>\n",
       "<g clip-path=\"url(#clip-5)\">\n",
       "<path fill=\"none\" stroke-width=\"0.533489\" stroke-linecap=\"butt\" stroke-linejoin=\"round\" stroke=\"rgb(100%, 100%, 100%)\" stroke-opacity=\"1\" stroke-miterlimit=\"10\" d=\"M 125.960938 535.847656 L 125.960938 28.957031 \"/>\n",
       "</g>\n",
       "<g clip-path=\"url(#clip-6)\">\n",
       "<path fill=\"none\" stroke-width=\"0.533489\" stroke-linecap=\"butt\" stroke-linejoin=\"round\" stroke=\"rgb(100%, 100%, 100%)\" stroke-opacity=\"1\" stroke-miterlimit=\"10\" d=\"M 232.1875 535.847656 L 232.1875 28.957031 \"/>\n",
       "</g>\n",
       "<g clip-path=\"url(#clip-7)\">\n",
       "<path fill=\"none\" stroke-width=\"0.533489\" stroke-linecap=\"butt\" stroke-linejoin=\"round\" stroke=\"rgb(100%, 100%, 100%)\" stroke-opacity=\"1\" stroke-miterlimit=\"10\" d=\"M 338.410156 535.847656 L 338.410156 28.957031 \"/>\n",
       "</g>\n",
       "<g clip-path=\"url(#clip-8)\">\n",
       "<path fill=\"none\" stroke-width=\"0.533489\" stroke-linecap=\"butt\" stroke-linejoin=\"round\" stroke=\"rgb(100%, 100%, 100%)\" stroke-opacity=\"1\" stroke-miterlimit=\"10\" d=\"M 444.632812 535.847656 L 444.632812 28.957031 \"/>\n",
       "</g>\n",
       "<g clip-path=\"url(#clip-9)\">\n",
       "<path fill=\"none\" stroke-width=\"0.533489\" stroke-linecap=\"butt\" stroke-linejoin=\"round\" stroke=\"rgb(100%, 100%, 100%)\" stroke-opacity=\"1\" stroke-miterlimit=\"10\" d=\"M 550.859375 535.847656 L 550.859375 28.957031 \"/>\n",
       "</g>\n",
       "<g clip-path=\"url(#clip-10)\">\n",
       "<path fill=\"none\" stroke-width=\"1.066978\" stroke-linecap=\"butt\" stroke-linejoin=\"round\" stroke=\"rgb(100%, 100%, 100%)\" stroke-opacity=\"1\" stroke-miterlimit=\"10\" d=\"M 49.152344 426.722656 L 570.519531 426.722656 \"/>\n",
       "</g>\n",
       "<g clip-path=\"url(#clip-11)\">\n",
       "<path fill=\"none\" stroke-width=\"1.066978\" stroke-linecap=\"butt\" stroke-linejoin=\"round\" stroke=\"rgb(100%, 100%, 100%)\" stroke-opacity=\"1\" stroke-miterlimit=\"10\" d=\"M 49.152344 300.128906 L 570.519531 300.128906 \"/>\n",
       "</g>\n",
       "<g clip-path=\"url(#clip-12)\">\n",
       "<path fill=\"none\" stroke-width=\"1.066978\" stroke-linecap=\"butt\" stroke-linejoin=\"round\" stroke=\"rgb(100%, 100%, 100%)\" stroke-opacity=\"1\" stroke-miterlimit=\"10\" d=\"M 49.152344 173.53125 L 570.519531 173.53125 \"/>\n",
       "</g>\n",
       "<g clip-path=\"url(#clip-13)\">\n",
       "<path fill=\"none\" stroke-width=\"1.066978\" stroke-linecap=\"butt\" stroke-linejoin=\"round\" stroke=\"rgb(100%, 100%, 100%)\" stroke-opacity=\"1\" stroke-miterlimit=\"10\" d=\"M 49.152344 46.933594 L 570.519531 46.933594 \"/>\n",
       "</g>\n",
       "<g clip-path=\"url(#clip-14)\">\n",
       "<path fill=\"none\" stroke-width=\"1.066978\" stroke-linecap=\"butt\" stroke-linejoin=\"round\" stroke=\"rgb(100%, 100%, 100%)\" stroke-opacity=\"1\" stroke-miterlimit=\"10\" d=\"M 72.847656 535.847656 L 72.847656 28.957031 \"/>\n",
       "</g>\n",
       "<g clip-path=\"url(#clip-15)\">\n",
       "<path fill=\"none\" stroke-width=\"1.066978\" stroke-linecap=\"butt\" stroke-linejoin=\"round\" stroke=\"rgb(100%, 100%, 100%)\" stroke-opacity=\"1\" stroke-miterlimit=\"10\" d=\"M 179.074219 535.847656 L 179.074219 28.957031 \"/>\n",
       "</g>\n",
       "<g clip-path=\"url(#clip-16)\">\n",
       "<path fill=\"none\" stroke-width=\"1.066978\" stroke-linecap=\"butt\" stroke-linejoin=\"round\" stroke=\"rgb(100%, 100%, 100%)\" stroke-opacity=\"1\" stroke-miterlimit=\"10\" d=\"M 285.296875 535.847656 L 285.296875 28.957031 \"/>\n",
       "</g>\n",
       "<g clip-path=\"url(#clip-17)\">\n",
       "<path fill=\"none\" stroke-width=\"1.066978\" stroke-linecap=\"butt\" stroke-linejoin=\"round\" stroke=\"rgb(100%, 100%, 100%)\" stroke-opacity=\"1\" stroke-miterlimit=\"10\" d=\"M 391.523438 535.847656 L 391.523438 28.957031 \"/>\n",
       "</g>\n",
       "<g clip-path=\"url(#clip-18)\">\n",
       "<path fill=\"none\" stroke-width=\"1.066978\" stroke-linecap=\"butt\" stroke-linejoin=\"round\" stroke=\"rgb(100%, 100%, 100%)\" stroke-opacity=\"1\" stroke-miterlimit=\"10\" d=\"M 497.746094 535.847656 L 497.746094 28.957031 \"/>\n",
       "</g>\n",
       "<path fill-rule=\"nonzero\" fill=\"rgb(0%, 0%, 0%)\" fill-opacity=\"0.2\" stroke-width=\"0.708661\" stroke-linecap=\"round\" stroke-linejoin=\"round\" stroke=\"rgb(0%, 0%, 0%)\" stroke-opacity=\"0.2\" stroke-miterlimit=\"10\" d=\"M 139.175781 507.746094 C 139.175781 510.351562 135.265625 510.351562 135.265625 507.746094 C 135.265625 505.136719 139.175781 505.136719 139.175781 507.746094 \"/>\n",
       "<path fill-rule=\"nonzero\" fill=\"rgb(0%, 0%, 0%)\" fill-opacity=\"0.2\" stroke-width=\"0.708661\" stroke-linecap=\"round\" stroke-linejoin=\"round\" stroke=\"rgb(0%, 0%, 0%)\" stroke-opacity=\"0.2\" stroke-miterlimit=\"10\" d=\"M 82.878906 467.234375 C 82.878906 469.839844 78.96875 469.839844 78.96875 467.234375 C 78.96875 464.628906 82.878906 464.628906 82.878906 467.234375 \"/>\n",
       "<path fill-rule=\"nonzero\" fill=\"rgb(0%, 0%, 0%)\" fill-opacity=\"0.2\" stroke-width=\"0.708661\" stroke-linecap=\"round\" stroke-linejoin=\"round\" stroke=\"rgb(0%, 0%, 0%)\" stroke-opacity=\"0.2\" stroke-miterlimit=\"10\" d=\"M 74.804688 467.234375 C 74.804688 469.839844 70.894531 469.839844 70.894531 467.234375 C 70.894531 464.628906 74.804688 464.628906 74.804688 467.234375 \"/>\n",
       "<path fill-rule=\"nonzero\" fill=\"rgb(0%, 0%, 0%)\" fill-opacity=\"0.2\" stroke-width=\"0.708661\" stroke-linecap=\"round\" stroke-linejoin=\"round\" stroke=\"rgb(0%, 0%, 0%)\" stroke-opacity=\"0.2\" stroke-miterlimit=\"10\" d=\"M 76.292969 446.980469 C 76.292969 449.585938 72.382812 449.585938 72.382812 446.980469 C 72.382812 444.371094 76.292969 444.371094 76.292969 446.980469 \"/>\n",
       "<path fill-rule=\"nonzero\" fill=\"rgb(0%, 0%, 0%)\" fill-opacity=\"0.2\" stroke-width=\"0.708661\" stroke-linecap=\"round\" stroke-linejoin=\"round\" stroke=\"rgb(0%, 0%, 0%)\" stroke-opacity=\"0.2\" stroke-miterlimit=\"10\" d=\"M 75.015625 446.980469 C 75.015625 449.585938 71.105469 449.585938 71.105469 446.980469 C 71.105469 444.371094 75.015625 444.371094 75.015625 446.980469 \"/>\n",
       "<path fill-rule=\"nonzero\" fill=\"rgb(0%, 0%, 0%)\" fill-opacity=\"0.2\" stroke-width=\"0.708661\" stroke-linecap=\"round\" stroke-linejoin=\"round\" stroke=\"rgb(0%, 0%, 0%)\" stroke-opacity=\"0.2\" stroke-miterlimit=\"10\" d=\"M 74.804688 467.234375 C 74.804688 469.839844 70.894531 469.839844 70.894531 467.234375 C 70.894531 464.628906 74.804688 464.628906 74.804688 467.234375 \"/>\n",
       "<path fill-rule=\"nonzero\" fill=\"rgb(0%, 0%, 0%)\" fill-opacity=\"0.2\" stroke-width=\"0.708661\" stroke-linecap=\"round\" stroke-linejoin=\"round\" stroke=\"rgb(0%, 0%, 0%)\" stroke-opacity=\"0.2\" stroke-miterlimit=\"10\" d=\"M 74.804688 457.105469 C 74.804688 459.714844 70.894531 459.714844 70.894531 457.105469 C 70.894531 454.5 74.804688 454.5 74.804688 457.105469 \"/>\n",
       "<path fill-rule=\"nonzero\" fill=\"rgb(0%, 0%, 0%)\" fill-opacity=\"0.2\" stroke-width=\"0.708661\" stroke-linecap=\"round\" stroke-linejoin=\"round\" stroke=\"rgb(0%, 0%, 0%)\" stroke-opacity=\"0.2\" stroke-miterlimit=\"10\" d=\"M 74.804688 446.980469 C 74.804688 449.585938 70.894531 449.585938 70.894531 446.980469 C 70.894531 444.371094 74.804688 444.371094 74.804688 446.980469 \"/>\n",
       "<path fill-rule=\"nonzero\" fill=\"rgb(0%, 0%, 0%)\" fill-opacity=\"0.2\" stroke-width=\"0.708661\" stroke-linecap=\"round\" stroke-linejoin=\"round\" stroke=\"rgb(0%, 0%, 0%)\" stroke-opacity=\"0.2\" stroke-miterlimit=\"10\" d=\"M 75.015625 467.234375 C 75.015625 469.839844 71.105469 469.839844 71.105469 467.234375 C 71.105469 464.628906 75.015625 464.628906 75.015625 467.234375 \"/>\n",
       "<path fill-rule=\"nonzero\" fill=\"rgb(0%, 0%, 0%)\" fill-opacity=\"0.2\" stroke-width=\"0.708661\" stroke-linecap=\"round\" stroke-linejoin=\"round\" stroke=\"rgb(0%, 0%, 0%)\" stroke-opacity=\"0.2\" stroke-miterlimit=\"10\" d=\"M 74.804688 441.914062 C 74.804688 444.519531 70.894531 444.519531 70.894531 441.914062 C 70.894531 439.308594 74.804688 439.308594 74.804688 441.914062 \"/>\n",
       "<path fill-rule=\"nonzero\" fill=\"rgb(0%, 0%, 0%)\" fill-opacity=\"0.2\" stroke-width=\"0.708661\" stroke-linecap=\"round\" stroke-linejoin=\"round\" stroke=\"rgb(0%, 0%, 0%)\" stroke-opacity=\"0.2\" stroke-miterlimit=\"10\" d=\"M 78.203125 436.851562 C 78.203125 439.457031 74.292969 439.457031 74.292969 436.851562 C 74.292969 434.246094 78.203125 434.246094 78.203125 436.851562 \"/>\n",
       "<path fill-rule=\"nonzero\" fill=\"rgb(0%, 0%, 0%)\" fill-opacity=\"0.2\" stroke-width=\"0.708661\" stroke-linecap=\"round\" stroke-linejoin=\"round\" stroke=\"rgb(0%, 0%, 0%)\" stroke-opacity=\"0.2\" stroke-miterlimit=\"10\" d=\"M 74.804688 467.234375 C 74.804688 469.839844 70.894531 469.839844 70.894531 467.234375 C 70.894531 464.628906 74.804688 464.628906 74.804688 467.234375 \"/>\n",
       "<path fill-rule=\"nonzero\" fill=\"rgb(0%, 0%, 0%)\" fill-opacity=\"0.2\" stroke-width=\"0.708661\" stroke-linecap=\"round\" stroke-linejoin=\"round\" stroke=\"rgb(0%, 0%, 0%)\" stroke-opacity=\"0.2\" stroke-miterlimit=\"10\" d=\"M 77.992188 426.722656 C 77.992188 429.328125 74.082031 429.328125 74.082031 426.722656 C 74.082031 424.117188 77.992188 424.117188 77.992188 426.722656 \"/>\n",
       "<path fill-rule=\"nonzero\" fill=\"rgb(0%, 0%, 0%)\" fill-opacity=\"0.2\" stroke-width=\"0.708661\" stroke-linecap=\"round\" stroke-linejoin=\"round\" stroke=\"rgb(0%, 0%, 0%)\" stroke-opacity=\"0.2\" stroke-miterlimit=\"10\" d=\"M 75.230469 441.914062 C 75.230469 444.519531 71.320312 444.519531 71.320312 441.914062 C 71.320312 439.308594 75.230469 439.308594 75.230469 441.914062 \"/>\n",
       "<path fill-rule=\"nonzero\" fill=\"rgb(0%, 0%, 0%)\" fill-opacity=\"0.2\" stroke-width=\"0.708661\" stroke-linecap=\"round\" stroke-linejoin=\"round\" stroke=\"rgb(0%, 0%, 0%)\" stroke-opacity=\"0.2\" stroke-miterlimit=\"10\" d=\"M 74.804688 467.234375 C 74.804688 469.839844 70.894531 469.839844 70.894531 467.234375 C 70.894531 464.628906 74.804688 464.628906 74.804688 467.234375 \"/>\n",
       "<path fill-rule=\"nonzero\" fill=\"rgb(0%, 0%, 0%)\" fill-opacity=\"0.2\" stroke-width=\"0.708661\" stroke-linecap=\"round\" stroke-linejoin=\"round\" stroke=\"rgb(0%, 0%, 0%)\" stroke-opacity=\"0.2\" stroke-miterlimit=\"10\" d=\"M 74.804688 441.914062 C 74.804688 444.519531 70.894531 444.519531 70.894531 441.914062 C 70.894531 439.308594 74.804688 439.308594 74.804688 441.914062 \"/>\n",
       "<path fill-rule=\"nonzero\" fill=\"rgb(0%, 0%, 0%)\" fill-opacity=\"0.2\" stroke-width=\"0.708661\" stroke-linecap=\"round\" stroke-linejoin=\"round\" stroke=\"rgb(0%, 0%, 0%)\" stroke-opacity=\"0.2\" stroke-miterlimit=\"10\" d=\"M 74.804688 467.234375 C 74.804688 469.839844 70.894531 469.839844 70.894531 467.234375 C 70.894531 464.628906 74.804688 464.628906 74.804688 467.234375 \"/>\n",
       "<path fill-rule=\"nonzero\" fill=\"rgb(0%, 0%, 0%)\" fill-opacity=\"0.2\" stroke-width=\"0.708661\" stroke-linecap=\"round\" stroke-linejoin=\"round\" stroke=\"rgb(0%, 0%, 0%)\" stroke-opacity=\"0.2\" stroke-miterlimit=\"10\" d=\"M 177.628906 467.234375 C 177.628906 469.839844 173.71875 469.839844 173.71875 467.234375 C 173.71875 464.628906 177.628906 464.628906 177.628906 467.234375 \"/>\n",
       "<path fill-rule=\"nonzero\" fill=\"rgb(0%, 0%, 0%)\" fill-opacity=\"0.2\" stroke-width=\"0.708661\" stroke-linecap=\"round\" stroke-linejoin=\"round\" stroke=\"rgb(0%, 0%, 0%)\" stroke-opacity=\"0.2\" stroke-miterlimit=\"10\" d=\"M 75.867188 467.234375 C 75.867188 469.839844 71.957031 469.839844 71.957031 467.234375 C 71.957031 464.628906 75.867188 464.628906 75.867188 467.234375 \"/>\n",
       "<path fill-rule=\"nonzero\" fill=\"rgb(0%, 0%, 0%)\" fill-opacity=\"0.2\" stroke-width=\"0.708661\" stroke-linecap=\"round\" stroke-linejoin=\"round\" stroke=\"rgb(0%, 0%, 0%)\" stroke-opacity=\"0.2\" stroke-miterlimit=\"10\" d=\"M 76.078125 457.105469 C 76.078125 459.714844 72.167969 459.714844 72.167969 457.105469 C 72.167969 454.5 76.078125 454.5 76.078125 457.105469 \"/>\n",
       "<path fill-rule=\"nonzero\" fill=\"rgb(0%, 0%, 0%)\" fill-opacity=\"0.2\" stroke-width=\"0.708661\" stroke-linecap=\"round\" stroke-linejoin=\"round\" stroke=\"rgb(0%, 0%, 0%)\" stroke-opacity=\"0.2\" stroke-miterlimit=\"10\" d=\"M 75.441406 512.808594 C 75.441406 515.414062 71.53125 515.414062 71.53125 512.808594 C 71.53125 510.203125 75.441406 510.203125 75.441406 512.808594 \"/>\n",
       "<path fill-rule=\"nonzero\" fill=\"rgb(0%, 0%, 0%)\" fill-opacity=\"0.2\" stroke-width=\"0.708661\" stroke-linecap=\"round\" stroke-linejoin=\"round\" stroke=\"rgb(0%, 0%, 0%)\" stroke-opacity=\"0.2\" stroke-miterlimit=\"10\" d=\"M 75.015625 467.234375 C 75.015625 469.839844 71.105469 469.839844 71.105469 467.234375 C 71.105469 464.628906 75.015625 464.628906 75.015625 467.234375 \"/>\n",
       "<path fill-rule=\"nonzero\" fill=\"rgb(0%, 0%, 0%)\" fill-opacity=\"0.2\" stroke-width=\"0.708661\" stroke-linecap=\"round\" stroke-linejoin=\"round\" stroke=\"rgb(0%, 0%, 0%)\" stroke-opacity=\"0.2\" stroke-miterlimit=\"10\" d=\"M 76.929688 467.234375 C 76.929688 469.839844 73.019531 469.839844 73.019531 467.234375 C 73.019531 464.628906 76.929688 464.628906 76.929688 467.234375 \"/>\n",
       "<path fill-rule=\"nonzero\" fill=\"rgb(0%, 0%, 0%)\" fill-opacity=\"0.2\" stroke-width=\"0.708661\" stroke-linecap=\"round\" stroke-linejoin=\"round\" stroke=\"rgb(0%, 0%, 0%)\" stroke-opacity=\"0.2\" stroke-miterlimit=\"10\" d=\"M 74.804688 467.234375 C 74.804688 469.839844 70.894531 469.839844 70.894531 467.234375 C 70.894531 464.628906 74.804688 464.628906 74.804688 467.234375 \"/>\n",
       "<path fill-rule=\"nonzero\" fill=\"rgb(0%, 0%, 0%)\" fill-opacity=\"0.2\" stroke-width=\"0.708661\" stroke-linecap=\"round\" stroke-linejoin=\"round\" stroke=\"rgb(0%, 0%, 0%)\" stroke-opacity=\"0.2\" stroke-miterlimit=\"10\" d=\"M 76.292969 446.980469 C 76.292969 449.585938 72.382812 449.585938 72.382812 446.980469 C 72.382812 444.371094 76.292969 444.371094 76.292969 446.980469 \"/>\n",
       "<path fill-rule=\"nonzero\" fill=\"rgb(0%, 0%, 0%)\" fill-opacity=\"0.2\" stroke-width=\"0.708661\" stroke-linecap=\"round\" stroke-linejoin=\"round\" stroke=\"rgb(0%, 0%, 0%)\" stroke-opacity=\"0.2\" stroke-miterlimit=\"10\" d=\"M 76.078125 411.53125 C 76.078125 414.136719 72.167969 414.136719 72.167969 411.53125 C 72.167969 408.925781 76.078125 408.925781 76.078125 411.53125 \"/>\n",
       "<path fill-rule=\"nonzero\" fill=\"rgb(0%, 0%, 0%)\" fill-opacity=\"0.2\" stroke-width=\"0.708661\" stroke-linecap=\"round\" stroke-linejoin=\"round\" stroke=\"rgb(0%, 0%, 0%)\" stroke-opacity=\"0.2\" stroke-miterlimit=\"10\" d=\"M 74.804688 467.234375 C 74.804688 469.839844 70.894531 469.839844 70.894531 467.234375 C 70.894531 464.628906 74.804688 464.628906 74.804688 467.234375 \"/>\n",
       "<path fill-rule=\"nonzero\" fill=\"rgb(0%, 0%, 0%)\" fill-opacity=\"0.2\" stroke-width=\"0.708661\" stroke-linecap=\"round\" stroke-linejoin=\"round\" stroke=\"rgb(0%, 0%, 0%)\" stroke-opacity=\"0.2\" stroke-miterlimit=\"10\" d=\"M 74.804688 436.851562 C 74.804688 439.457031 70.894531 439.457031 70.894531 436.851562 C 70.894531 434.246094 74.804688 434.246094 74.804688 436.851562 \"/>\n",
       "<path fill-rule=\"nonzero\" fill=\"rgb(0%, 0%, 0%)\" fill-opacity=\"0.2\" stroke-width=\"0.708661\" stroke-linecap=\"round\" stroke-linejoin=\"round\" stroke=\"rgb(0%, 0%, 0%)\" stroke-opacity=\"0.2\" stroke-miterlimit=\"10\" d=\"M 78.628906 436.851562 C 78.628906 439.457031 74.71875 439.457031 74.71875 436.851562 C 74.71875 434.246094 78.628906 434.246094 78.628906 436.851562 \"/>\n",
       "<path fill-rule=\"nonzero\" fill=\"rgb(0%, 0%, 0%)\" fill-opacity=\"0.2\" stroke-width=\"0.708661\" stroke-linecap=\"round\" stroke-linejoin=\"round\" stroke=\"rgb(0%, 0%, 0%)\" stroke-opacity=\"0.2\" stroke-miterlimit=\"10\" d=\"M 75.015625 462.171875 C 75.015625 464.777344 71.105469 464.777344 71.105469 462.171875 C 71.105469 459.5625 75.015625 459.5625 75.015625 462.171875 \"/>\n",
       "<path fill-rule=\"nonzero\" fill=\"rgb(0%, 0%, 0%)\" fill-opacity=\"0.2\" stroke-width=\"0.708661\" stroke-linecap=\"round\" stroke-linejoin=\"round\" stroke=\"rgb(0%, 0%, 0%)\" stroke-opacity=\"0.2\" stroke-miterlimit=\"10\" d=\"M 75.015625 436.851562 C 75.015625 439.457031 71.105469 439.457031 71.105469 436.851562 C 71.105469 434.246094 75.015625 434.246094 75.015625 436.851562 \"/>\n",
       "<path fill-rule=\"nonzero\" fill=\"rgb(0%, 0%, 0%)\" fill-opacity=\"0.2\" stroke-width=\"0.708661\" stroke-linecap=\"round\" stroke-linejoin=\"round\" stroke=\"rgb(0%, 0%, 0%)\" stroke-opacity=\"0.2\" stroke-miterlimit=\"10\" d=\"M 75.015625 446.980469 C 75.015625 449.585938 71.105469 449.585938 71.105469 446.980469 C 71.105469 444.371094 75.015625 444.371094 75.015625 446.980469 \"/>\n",
       "<path fill-rule=\"nonzero\" fill=\"rgb(0%, 0%, 0%)\" fill-opacity=\"0.2\" stroke-width=\"0.708661\" stroke-linecap=\"round\" stroke-linejoin=\"round\" stroke=\"rgb(0%, 0%, 0%)\" stroke-opacity=\"0.2\" stroke-miterlimit=\"10\" d=\"M 74.804688 467.234375 C 74.804688 469.839844 70.894531 469.839844 70.894531 467.234375 C 70.894531 464.628906 74.804688 464.628906 74.804688 467.234375 \"/>\n",
       "<path fill-rule=\"nonzero\" fill=\"rgb(0%, 0%, 0%)\" fill-opacity=\"0.2\" stroke-width=\"0.708661\" stroke-linecap=\"round\" stroke-linejoin=\"round\" stroke=\"rgb(0%, 0%, 0%)\" stroke-opacity=\"0.2\" stroke-miterlimit=\"10\" d=\"M 74.804688 386.210938 C 74.804688 388.820312 70.894531 388.820312 70.894531 386.210938 C 70.894531 383.605469 74.804688 383.605469 74.804688 386.210938 \"/>\n",
       "<path fill-rule=\"nonzero\" fill=\"rgb(0%, 0%, 0%)\" fill-opacity=\"0.2\" stroke-width=\"0.708661\" stroke-linecap=\"round\" stroke-linejoin=\"round\" stroke=\"rgb(0%, 0%, 0%)\" stroke-opacity=\"0.2\" stroke-miterlimit=\"10\" d=\"M 76.078125 421.660156 C 76.078125 424.265625 72.167969 424.265625 72.167969 421.660156 C 72.167969 419.054688 76.078125 419.054688 76.078125 421.660156 \"/>\n",
       "<path fill-rule=\"nonzero\" fill=\"rgb(0%, 0%, 0%)\" fill-opacity=\"0.2\" stroke-width=\"0.708661\" stroke-linecap=\"round\" stroke-linejoin=\"round\" stroke=\"rgb(0%, 0%, 0%)\" stroke-opacity=\"0.2\" stroke-miterlimit=\"10\" d=\"M 75.652344 452.042969 C 75.652344 454.648438 71.746094 454.648438 71.746094 452.042969 C 71.746094 449.4375 75.652344 449.4375 75.652344 452.042969 \"/>\n",
       "<path fill-rule=\"nonzero\" fill=\"rgb(0%, 0%, 0%)\" fill-opacity=\"0.2\" stroke-width=\"0.708661\" stroke-linecap=\"round\" stroke-linejoin=\"round\" stroke=\"rgb(0%, 0%, 0%)\" stroke-opacity=\"0.2\" stroke-miterlimit=\"10\" d=\"M 77.777344 426.722656 C 77.777344 429.328125 73.867188 429.328125 73.867188 426.722656 C 73.867188 424.117188 77.777344 424.117188 77.777344 426.722656 \"/>\n",
       "<path fill-rule=\"nonzero\" fill=\"rgb(0%, 0%, 0%)\" fill-opacity=\"0.2\" stroke-width=\"0.708661\" stroke-linecap=\"round\" stroke-linejoin=\"round\" stroke=\"rgb(0%, 0%, 0%)\" stroke-opacity=\"0.2\" stroke-miterlimit=\"10\" d=\"M 75.230469 467.234375 C 75.230469 469.839844 71.320312 469.839844 71.320312 467.234375 C 71.320312 464.628906 75.230469 464.628906 75.230469 467.234375 \"/>\n",
       "<path fill-rule=\"nonzero\" fill=\"rgb(0%, 0%, 0%)\" fill-opacity=\"0.2\" stroke-width=\"0.708661\" stroke-linecap=\"round\" stroke-linejoin=\"round\" stroke=\"rgb(0%, 0%, 0%)\" stroke-opacity=\"0.2\" stroke-miterlimit=\"10\" d=\"M 74.804688 467.234375 C 74.804688 469.839844 70.894531 469.839844 70.894531 467.234375 C 70.894531 464.628906 74.804688 464.628906 74.804688 467.234375 \"/>\n",
       "<path fill-rule=\"nonzero\" fill=\"rgb(0%, 0%, 0%)\" fill-opacity=\"0.2\" stroke-width=\"0.708661\" stroke-linecap=\"round\" stroke-linejoin=\"round\" stroke=\"rgb(0%, 0%, 0%)\" stroke-opacity=\"0.2\" stroke-miterlimit=\"10\" d=\"M 74.804688 467.234375 C 74.804688 469.839844 70.894531 469.839844 70.894531 467.234375 C 70.894531 464.628906 74.804688 464.628906 74.804688 467.234375 \"/>\n",
       "<path fill-rule=\"nonzero\" fill=\"rgb(0%, 0%, 0%)\" fill-opacity=\"0.2\" stroke-width=\"0.708661\" stroke-linecap=\"round\" stroke-linejoin=\"round\" stroke=\"rgb(0%, 0%, 0%)\" stroke-opacity=\"0.2\" stroke-miterlimit=\"10\" d=\"M 86.703125 467.234375 C 86.703125 469.839844 82.792969 469.839844 82.792969 467.234375 C 82.792969 464.628906 86.703125 464.628906 86.703125 467.234375 \"/>\n",
       "<path fill-rule=\"nonzero\" fill=\"rgb(0%, 0%, 0%)\" fill-opacity=\"0.2\" stroke-width=\"0.708661\" stroke-linecap=\"round\" stroke-linejoin=\"round\" stroke=\"rgb(0%, 0%, 0%)\" stroke-opacity=\"0.2\" stroke-miterlimit=\"10\" d=\"M 75.015625 467.234375 C 75.015625 469.839844 71.105469 469.839844 71.105469 467.234375 C 71.105469 464.628906 75.015625 464.628906 75.015625 467.234375 \"/>\n",
       "<path fill-rule=\"nonzero\" fill=\"rgb(0%, 0%, 0%)\" fill-opacity=\"0.2\" stroke-width=\"0.708661\" stroke-linecap=\"round\" stroke-linejoin=\"round\" stroke=\"rgb(0%, 0%, 0%)\" stroke-opacity=\"0.2\" stroke-miterlimit=\"10\" d=\"M 75.441406 431.789062 C 75.441406 434.394531 71.53125 434.394531 71.53125 431.789062 C 71.53125 429.179688 75.441406 429.179688 75.441406 431.789062 \"/>\n",
       "<path fill-rule=\"nonzero\" fill=\"rgb(0%, 0%, 0%)\" fill-opacity=\"0.2\" stroke-width=\"0.708661\" stroke-linecap=\"round\" stroke-linejoin=\"round\" stroke=\"rgb(0%, 0%, 0%)\" stroke-opacity=\"0.2\" stroke-miterlimit=\"10\" d=\"M 74.804688 446.980469 C 74.804688 449.585938 70.894531 449.585938 70.894531 446.980469 C 70.894531 444.371094 74.804688 444.371094 74.804688 446.980469 \"/>\n",
       "<path fill-rule=\"nonzero\" fill=\"rgb(0%, 0%, 0%)\" fill-opacity=\"0.2\" stroke-width=\"0.708661\" stroke-linecap=\"round\" stroke-linejoin=\"round\" stroke=\"rgb(0%, 0%, 0%)\" stroke-opacity=\"0.2\" stroke-miterlimit=\"10\" d=\"M 79.476562 431.789062 C 79.476562 434.394531 75.570312 434.394531 75.570312 431.789062 C 75.570312 429.179688 79.476562 429.179688 79.476562 431.789062 \"/>\n",
       "<path fill-rule=\"nonzero\" fill=\"rgb(0%, 0%, 0%)\" fill-opacity=\"0.2\" stroke-width=\"0.708661\" stroke-linecap=\"round\" stroke-linejoin=\"round\" stroke=\"rgb(0%, 0%, 0%)\" stroke-opacity=\"0.2\" stroke-miterlimit=\"10\" d=\"M 74.804688 431.789062 C 74.804688 434.394531 70.894531 434.394531 70.894531 431.789062 C 70.894531 429.179688 74.804688 429.179688 74.804688 431.789062 \"/>\n",
       "<path fill-rule=\"nonzero\" fill=\"rgb(0%, 0%, 0%)\" fill-opacity=\"0.2\" stroke-width=\"0.708661\" stroke-linecap=\"round\" stroke-linejoin=\"round\" stroke=\"rgb(0%, 0%, 0%)\" stroke-opacity=\"0.2\" stroke-miterlimit=\"10\" d=\"M 75.015625 467.234375 C 75.015625 469.839844 71.105469 469.839844 71.105469 467.234375 C 71.105469 464.628906 75.015625 464.628906 75.015625 467.234375 \"/>\n",
       "<path fill-rule=\"nonzero\" fill=\"rgb(0%, 0%, 0%)\" fill-opacity=\"0.2\" stroke-width=\"0.708661\" stroke-linecap=\"round\" stroke-linejoin=\"round\" stroke=\"rgb(0%, 0%, 0%)\" stroke-opacity=\"0.2\" stroke-miterlimit=\"10\" d=\"M 74.804688 436.851562 C 74.804688 439.457031 70.894531 439.457031 70.894531 436.851562 C 70.894531 434.246094 74.804688 434.246094 74.804688 436.851562 \"/>\n",
       "<path fill-rule=\"nonzero\" fill=\"rgb(0%, 0%, 0%)\" fill-opacity=\"0.2\" stroke-width=\"0.708661\" stroke-linecap=\"round\" stroke-linejoin=\"round\" stroke=\"rgb(0%, 0%, 0%)\" stroke-opacity=\"0.2\" stroke-miterlimit=\"10\" d=\"M 101.359375 416.597656 C 101.359375 419.203125 97.449219 419.203125 97.449219 416.597656 C 97.449219 413.988281 101.359375 413.988281 101.359375 416.597656 \"/>\n",
       "<path fill-rule=\"nonzero\" fill=\"rgb(0%, 0%, 0%)\" fill-opacity=\"0.2\" stroke-width=\"0.708661\" stroke-linecap=\"round\" stroke-linejoin=\"round\" stroke=\"rgb(0%, 0%, 0%)\" stroke-opacity=\"0.2\" stroke-miterlimit=\"10\" d=\"M 75.652344 441.914062 C 75.652344 444.519531 71.746094 444.519531 71.746094 441.914062 C 71.746094 439.308594 75.652344 439.308594 75.652344 441.914062 \"/>\n",
       "<path fill-rule=\"nonzero\" fill=\"rgb(0%, 0%, 0%)\" fill-opacity=\"0.2\" stroke-width=\"0.708661\" stroke-linecap=\"round\" stroke-linejoin=\"round\" stroke=\"rgb(0%, 0%, 0%)\" stroke-opacity=\"0.2\" stroke-miterlimit=\"10\" d=\"M 76.078125 446.980469 C 76.078125 449.585938 72.167969 449.585938 72.167969 446.980469 C 72.167969 444.371094 76.078125 444.371094 76.078125 446.980469 \"/>\n",
       "<path fill-rule=\"nonzero\" fill=\"rgb(0%, 0%, 0%)\" fill-opacity=\"0.2\" stroke-width=\"0.708661\" stroke-linecap=\"round\" stroke-linejoin=\"round\" stroke=\"rgb(0%, 0%, 0%)\" stroke-opacity=\"0.2\" stroke-miterlimit=\"10\" d=\"M 538.152344 452.042969 C 538.152344 454.648438 534.246094 454.648438 534.246094 452.042969 C 534.246094 449.4375 538.152344 449.4375 538.152344 452.042969 \"/>\n",
       "<path fill-rule=\"nonzero\" fill=\"rgb(0%, 0%, 0%)\" fill-opacity=\"0.2\" stroke-width=\"0.708661\" stroke-linecap=\"round\" stroke-linejoin=\"round\" stroke=\"rgb(0%, 0%, 0%)\" stroke-opacity=\"0.2\" stroke-miterlimit=\"10\" d=\"M 76.714844 462.171875 C 76.714844 464.777344 72.804688 464.777344 72.804688 462.171875 C 72.804688 459.5625 76.714844 459.5625 76.714844 462.171875 \"/>\n",
       "<path fill-rule=\"nonzero\" fill=\"rgb(0%, 0%, 0%)\" fill-opacity=\"0.2\" stroke-width=\"0.708661\" stroke-linecap=\"round\" stroke-linejoin=\"round\" stroke=\"rgb(0%, 0%, 0%)\" stroke-opacity=\"0.2\" stroke-miterlimit=\"10\" d=\"M 75.230469 416.597656 C 75.230469 419.203125 71.320312 419.203125 71.320312 416.597656 C 71.320312 413.988281 75.230469 413.988281 75.230469 416.597656 \"/>\n",
       "<path fill-rule=\"nonzero\" fill=\"rgb(0%, 0%, 0%)\" fill-opacity=\"0.2\" stroke-width=\"0.708661\" stroke-linecap=\"round\" stroke-linejoin=\"round\" stroke=\"rgb(0%, 0%, 0%)\" stroke-opacity=\"0.2\" stroke-miterlimit=\"10\" d=\"M 74.804688 340.636719 C 74.804688 343.246094 70.894531 343.246094 70.894531 340.636719 C 70.894531 338.03125 74.804688 338.03125 74.804688 340.636719 \"/>\n",
       "<path fill-rule=\"nonzero\" fill=\"rgb(0%, 0%, 0%)\" fill-opacity=\"0.2\" stroke-width=\"0.708661\" stroke-linecap=\"round\" stroke-linejoin=\"round\" stroke=\"rgb(0%, 0%, 0%)\" stroke-opacity=\"0.2\" stroke-miterlimit=\"10\" d=\"M 74.804688 452.042969 C 74.804688 454.648438 70.894531 454.648438 70.894531 452.042969 C 70.894531 449.4375 74.804688 449.4375 74.804688 452.042969 \"/>\n",
       "<path fill-rule=\"nonzero\" fill=\"rgb(0%, 0%, 0%)\" fill-opacity=\"0.2\" stroke-width=\"0.708661\" stroke-linecap=\"round\" stroke-linejoin=\"round\" stroke=\"rgb(0%, 0%, 0%)\" stroke-opacity=\"0.2\" stroke-miterlimit=\"10\" d=\"M 80.964844 497.617188 C 80.964844 500.222656 77.054688 500.222656 77.054688 497.617188 C 77.054688 495.011719 80.964844 495.011719 80.964844 497.617188 \"/>\n",
       "<path fill-rule=\"nonzero\" fill=\"rgb(0%, 0%, 0%)\" fill-opacity=\"0.2\" stroke-width=\"0.708661\" stroke-linecap=\"round\" stroke-linejoin=\"round\" stroke=\"rgb(0%, 0%, 0%)\" stroke-opacity=\"0.2\" stroke-miterlimit=\"10\" d=\"M 74.804688 467.234375 C 74.804688 469.839844 70.894531 469.839844 70.894531 467.234375 C 70.894531 464.628906 74.804688 464.628906 74.804688 467.234375 \"/>\n",
       "<path fill-rule=\"nonzero\" fill=\"rgb(0%, 0%, 0%)\" fill-opacity=\"0.2\" stroke-width=\"0.708661\" stroke-linecap=\"round\" stroke-linejoin=\"round\" stroke=\"rgb(0%, 0%, 0%)\" stroke-opacity=\"0.2\" stroke-miterlimit=\"10\" d=\"M 82.453125 502.679688 C 82.453125 505.289062 78.542969 505.289062 78.542969 502.679688 C 78.542969 500.074219 82.453125 500.074219 82.453125 502.679688 \"/>\n",
       "<path fill-rule=\"nonzero\" fill=\"rgb(0%, 0%, 0%)\" fill-opacity=\"0.2\" stroke-width=\"0.708661\" stroke-linecap=\"round\" stroke-linejoin=\"round\" stroke=\"rgb(0%, 0%, 0%)\" stroke-opacity=\"0.2\" stroke-miterlimit=\"10\" d=\"M 75.230469 360.894531 C 75.230469 363.5 71.320312 363.5 71.320312 360.894531 C 71.320312 358.289062 75.230469 358.289062 75.230469 360.894531 \"/>\n",
       "<path fill-rule=\"nonzero\" fill=\"rgb(0%, 0%, 0%)\" fill-opacity=\"0.2\" stroke-width=\"0.708661\" stroke-linecap=\"round\" stroke-linejoin=\"round\" stroke=\"rgb(0%, 0%, 0%)\" stroke-opacity=\"0.2\" stroke-miterlimit=\"10\" d=\"M 74.804688 467.234375 C 74.804688 469.839844 70.894531 469.839844 70.894531 467.234375 C 70.894531 464.628906 74.804688 464.628906 74.804688 467.234375 \"/>\n",
       "<path fill-rule=\"nonzero\" fill=\"rgb(0%, 0%, 0%)\" fill-opacity=\"0.2\" stroke-width=\"0.708661\" stroke-linecap=\"round\" stroke-linejoin=\"round\" stroke=\"rgb(0%, 0%, 0%)\" stroke-opacity=\"0.2\" stroke-miterlimit=\"10\" d=\"M 77.992188 452.042969 C 77.992188 454.648438 74.082031 454.648438 74.082031 452.042969 C 74.082031 449.4375 77.992188 449.4375 77.992188 452.042969 \"/>\n",
       "<path fill-rule=\"nonzero\" fill=\"rgb(0%, 0%, 0%)\" fill-opacity=\"0.2\" stroke-width=\"0.708661\" stroke-linecap=\"round\" stroke-linejoin=\"round\" stroke=\"rgb(0%, 0%, 0%)\" stroke-opacity=\"0.2\" stroke-miterlimit=\"10\" d=\"M 76.929688 467.234375 C 76.929688 469.839844 73.019531 469.839844 73.019531 467.234375 C 73.019531 464.628906 76.929688 464.628906 76.929688 467.234375 \"/>\n",
       "<path fill-rule=\"nonzero\" fill=\"rgb(0%, 0%, 0%)\" fill-opacity=\"0.2\" stroke-width=\"0.708661\" stroke-linecap=\"round\" stroke-linejoin=\"round\" stroke=\"rgb(0%, 0%, 0%)\" stroke-opacity=\"0.2\" stroke-miterlimit=\"10\" d=\"M 75.230469 467.234375 C 75.230469 469.839844 71.320312 469.839844 71.320312 467.234375 C 71.320312 464.628906 75.230469 464.628906 75.230469 467.234375 \"/>\n",
       "<path fill-rule=\"nonzero\" fill=\"rgb(0%, 0%, 0%)\" fill-opacity=\"0.2\" stroke-width=\"0.708661\" stroke-linecap=\"round\" stroke-linejoin=\"round\" stroke=\"rgb(0%, 0%, 0%)\" stroke-opacity=\"0.2\" stroke-miterlimit=\"10\" d=\"M 75.015625 436.851562 C 75.015625 439.457031 71.105469 439.457031 71.105469 436.851562 C 71.105469 434.246094 75.015625 434.246094 75.015625 436.851562 \"/>\n",
       "<path fill-rule=\"nonzero\" fill=\"rgb(0%, 0%, 0%)\" fill-opacity=\"0.2\" stroke-width=\"0.708661\" stroke-linecap=\"round\" stroke-linejoin=\"round\" stroke=\"rgb(0%, 0%, 0%)\" stroke-opacity=\"0.2\" stroke-miterlimit=\"10\" d=\"M 75.015625 446.980469 C 75.015625 449.585938 71.105469 449.585938 71.105469 446.980469 C 71.105469 444.371094 75.015625 444.371094 75.015625 446.980469 \"/>\n",
       "<path fill-rule=\"nonzero\" fill=\"rgb(0%, 0%, 0%)\" fill-opacity=\"0.2\" stroke-width=\"0.708661\" stroke-linecap=\"round\" stroke-linejoin=\"round\" stroke=\"rgb(0%, 0%, 0%)\" stroke-opacity=\"0.2\" stroke-miterlimit=\"10\" d=\"M 75.015625 441.914062 C 75.015625 444.519531 71.105469 444.519531 71.105469 441.914062 C 71.105469 439.308594 75.015625 439.308594 75.015625 441.914062 \"/>\n",
       "<path fill-rule=\"nonzero\" fill=\"rgb(0%, 0%, 0%)\" fill-opacity=\"0.2\" stroke-width=\"0.708661\" stroke-linecap=\"round\" stroke-linejoin=\"round\" stroke=\"rgb(0%, 0%, 0%)\" stroke-opacity=\"0.2\" stroke-miterlimit=\"10\" d=\"M 111.34375 482.425781 C 111.34375 485.03125 107.4375 485.03125 107.4375 482.425781 C 107.4375 479.820312 111.34375 479.820312 111.34375 482.425781 \"/>\n",
       "<path fill-rule=\"nonzero\" fill=\"rgb(0%, 0%, 0%)\" fill-opacity=\"0.2\" stroke-width=\"0.708661\" stroke-linecap=\"round\" stroke-linejoin=\"round\" stroke=\"rgb(0%, 0%, 0%)\" stroke-opacity=\"0.2\" stroke-miterlimit=\"10\" d=\"M 75.015625 477.363281 C 75.015625 479.96875 71.105469 479.96875 71.105469 477.363281 C 71.105469 474.753906 75.015625 474.753906 75.015625 477.363281 \"/>\n",
       "<path fill-rule=\"nonzero\" fill=\"rgb(0%, 0%, 0%)\" fill-opacity=\"0.2\" stroke-width=\"0.708661\" stroke-linecap=\"round\" stroke-linejoin=\"round\" stroke=\"rgb(0%, 0%, 0%)\" stroke-opacity=\"0.2\" stroke-miterlimit=\"10\" d=\"M 74.804688 446.980469 C 74.804688 449.585938 70.894531 449.585938 70.894531 446.980469 C 70.894531 444.371094 74.804688 444.371094 74.804688 446.980469 \"/>\n",
       "<path fill-rule=\"nonzero\" fill=\"rgb(0%, 0%, 0%)\" fill-opacity=\"0.2\" stroke-width=\"0.708661\" stroke-linecap=\"round\" stroke-linejoin=\"round\" stroke=\"rgb(0%, 0%, 0%)\" stroke-opacity=\"0.2\" stroke-miterlimit=\"10\" d=\"M 75.230469 482.425781 C 75.230469 485.03125 71.320312 485.03125 71.320312 482.425781 C 71.320312 479.820312 75.230469 479.820312 75.230469 482.425781 \"/>\n",
       "<path fill-rule=\"nonzero\" fill=\"rgb(0%, 0%, 0%)\" fill-opacity=\"0.2\" stroke-width=\"0.708661\" stroke-linecap=\"round\" stroke-linejoin=\"round\" stroke=\"rgb(0%, 0%, 0%)\" stroke-opacity=\"0.2\" stroke-miterlimit=\"10\" d=\"M 189.3125 467.234375 C 189.3125 469.839844 185.402344 469.839844 185.402344 467.234375 C 185.402344 464.628906 189.3125 464.628906 189.3125 467.234375 \"/>\n",
       "<path fill-rule=\"nonzero\" fill=\"rgb(0%, 0%, 0%)\" fill-opacity=\"0.2\" stroke-width=\"0.708661\" stroke-linecap=\"round\" stroke-linejoin=\"round\" stroke=\"rgb(0%, 0%, 0%)\" stroke-opacity=\"0.2\" stroke-miterlimit=\"10\" d=\"M 74.804688 467.234375 C 74.804688 469.839844 70.894531 469.839844 70.894531 467.234375 C 70.894531 464.628906 74.804688 464.628906 74.804688 467.234375 \"/>\n",
       "<path fill-rule=\"nonzero\" fill=\"rgb(0%, 0%, 0%)\" fill-opacity=\"0.2\" stroke-width=\"0.708661\" stroke-linecap=\"round\" stroke-linejoin=\"round\" stroke=\"rgb(0%, 0%, 0%)\" stroke-opacity=\"0.2\" stroke-miterlimit=\"10\" d=\"M 74.804688 441.914062 C 74.804688 444.519531 70.894531 444.519531 70.894531 441.914062 C 70.894531 439.308594 74.804688 439.308594 74.804688 441.914062 \"/>\n",
       "<path fill-rule=\"nonzero\" fill=\"rgb(0%, 0%, 0%)\" fill-opacity=\"0.2\" stroke-width=\"0.708661\" stroke-linecap=\"round\" stroke-linejoin=\"round\" stroke=\"rgb(0%, 0%, 0%)\" stroke-opacity=\"0.2\" stroke-miterlimit=\"10\" d=\"M 548.777344 467.234375 C 548.777344 469.839844 544.867188 469.839844 544.867188 467.234375 C 544.867188 464.628906 548.777344 464.628906 548.777344 467.234375 \"/>\n",
       "<path fill-rule=\"nonzero\" fill=\"rgb(0%, 0%, 0%)\" fill-opacity=\"0.2\" stroke-width=\"0.708661\" stroke-linecap=\"round\" stroke-linejoin=\"round\" stroke=\"rgb(0%, 0%, 0%)\" stroke-opacity=\"0.2\" stroke-miterlimit=\"10\" d=\"M 75.867188 446.980469 C 75.867188 449.585938 71.957031 449.585938 71.957031 446.980469 C 71.957031 444.371094 75.867188 444.371094 75.867188 446.980469 \"/>\n",
       "<path fill-rule=\"nonzero\" fill=\"rgb(0%, 0%, 0%)\" fill-opacity=\"0.2\" stroke-width=\"0.708661\" stroke-linecap=\"round\" stroke-linejoin=\"round\" stroke=\"rgb(0%, 0%, 0%)\" stroke-opacity=\"0.2\" stroke-miterlimit=\"10\" d=\"M 82.238281 446.980469 C 82.238281 449.585938 78.332031 449.585938 78.332031 446.980469 C 78.332031 444.371094 82.238281 444.371094 82.238281 446.980469 \"/>\n",
       "<path fill-rule=\"nonzero\" fill=\"rgb(0%, 0%, 0%)\" fill-opacity=\"0.2\" stroke-width=\"0.708661\" stroke-linecap=\"round\" stroke-linejoin=\"round\" stroke=\"rgb(0%, 0%, 0%)\" stroke-opacity=\"0.2\" stroke-miterlimit=\"10\" d=\"M 74.804688 467.234375 C 74.804688 469.839844 70.894531 469.839844 70.894531 467.234375 C 70.894531 464.628906 74.804688 464.628906 74.804688 467.234375 \"/>\n",
       "<path fill-rule=\"nonzero\" fill=\"rgb(0%, 0%, 0%)\" fill-opacity=\"0.2\" stroke-width=\"0.708661\" stroke-linecap=\"round\" stroke-linejoin=\"round\" stroke=\"rgb(0%, 0%, 0%)\" stroke-opacity=\"0.2\" stroke-miterlimit=\"10\" d=\"M 74.804688 441.914062 C 74.804688 444.519531 70.894531 444.519531 70.894531 441.914062 C 70.894531 439.308594 74.804688 439.308594 74.804688 441.914062 \"/>\n",
       "<path fill-rule=\"nonzero\" fill=\"rgb(0%, 0%, 0%)\" fill-opacity=\"0.2\" stroke-width=\"0.708661\" stroke-linecap=\"round\" stroke-linejoin=\"round\" stroke=\"rgb(0%, 0%, 0%)\" stroke-opacity=\"0.2\" stroke-miterlimit=\"10\" d=\"M 74.804688 421.660156 C 74.804688 424.265625 70.894531 424.265625 70.894531 421.660156 C 70.894531 419.054688 74.804688 419.054688 74.804688 421.660156 \"/>\n",
       "<path fill-rule=\"nonzero\" fill=\"rgb(0%, 0%, 0%)\" fill-opacity=\"0.2\" stroke-width=\"0.708661\" stroke-linecap=\"round\" stroke-linejoin=\"round\" stroke=\"rgb(0%, 0%, 0%)\" stroke-opacity=\"0.2\" stroke-miterlimit=\"10\" d=\"M 74.804688 467.234375 C 74.804688 469.839844 70.894531 469.839844 70.894531 467.234375 C 70.894531 464.628906 74.804688 464.628906 74.804688 467.234375 \"/>\n",
       "<path fill-rule=\"nonzero\" fill=\"rgb(0%, 0%, 0%)\" fill-opacity=\"0.2\" stroke-width=\"0.708661\" stroke-linecap=\"round\" stroke-linejoin=\"round\" stroke=\"rgb(0%, 0%, 0%)\" stroke-opacity=\"0.2\" stroke-miterlimit=\"10\" d=\"M 76.929688 467.234375 C 76.929688 469.839844 73.019531 469.839844 73.019531 467.234375 C 73.019531 464.628906 76.929688 464.628906 76.929688 467.234375 \"/>\n",
       "<path fill-rule=\"nonzero\" fill=\"rgb(0%, 0%, 0%)\" fill-opacity=\"0.2\" stroke-width=\"0.708661\" stroke-linecap=\"round\" stroke-linejoin=\"round\" stroke=\"rgb(0%, 0%, 0%)\" stroke-opacity=\"0.2\" stroke-miterlimit=\"10\" d=\"M 75.230469 365.957031 C 75.230469 368.5625 71.320312 368.5625 71.320312 365.957031 C 71.320312 363.351562 75.230469 363.351562 75.230469 365.957031 \"/>\n",
       "<path fill-rule=\"nonzero\" fill=\"rgb(0%, 0%, 0%)\" fill-opacity=\"0.2\" stroke-width=\"0.708661\" stroke-linecap=\"round\" stroke-linejoin=\"round\" stroke=\"rgb(0%, 0%, 0%)\" stroke-opacity=\"0.2\" stroke-miterlimit=\"10\" d=\"M 74.804688 411.53125 C 74.804688 414.136719 70.894531 414.136719 70.894531 411.53125 C 70.894531 408.925781 74.804688 408.925781 74.804688 411.53125 \"/>\n",
       "<path fill-rule=\"nonzero\" fill=\"rgb(0%, 0%, 0%)\" fill-opacity=\"0.2\" stroke-width=\"0.708661\" stroke-linecap=\"round\" stroke-linejoin=\"round\" stroke=\"rgb(0%, 0%, 0%)\" stroke-opacity=\"0.2\" stroke-miterlimit=\"10\" d=\"M 74.804688 467.234375 C 74.804688 469.839844 70.894531 469.839844 70.894531 467.234375 C 70.894531 464.628906 74.804688 464.628906 74.804688 467.234375 \"/>\n",
       "<path fill-rule=\"nonzero\" fill=\"rgb(0%, 0%, 0%)\" fill-opacity=\"0.2\" stroke-width=\"0.708661\" stroke-linecap=\"round\" stroke-linejoin=\"round\" stroke=\"rgb(0%, 0%, 0%)\" stroke-opacity=\"0.2\" stroke-miterlimit=\"10\" d=\"M 74.804688 446.980469 C 74.804688 449.585938 70.894531 449.585938 70.894531 446.980469 C 70.894531 444.371094 74.804688 444.371094 74.804688 446.980469 \"/>\n",
       "<path fill-rule=\"nonzero\" fill=\"rgb(0%, 0%, 0%)\" fill-opacity=\"0.2\" stroke-width=\"0.708661\" stroke-linecap=\"round\" stroke-linejoin=\"round\" stroke=\"rgb(0%, 0%, 0%)\" stroke-opacity=\"0.2\" stroke-miterlimit=\"10\" d=\"M 74.804688 436.851562 C 74.804688 439.457031 70.894531 439.457031 70.894531 436.851562 C 70.894531 434.246094 74.804688 434.246094 74.804688 436.851562 \"/>\n",
       "<path fill-rule=\"nonzero\" fill=\"rgb(0%, 0%, 0%)\" fill-opacity=\"0.2\" stroke-width=\"0.708661\" stroke-linecap=\"round\" stroke-linejoin=\"round\" stroke=\"rgb(0%, 0%, 0%)\" stroke-opacity=\"0.2\" stroke-miterlimit=\"10\" d=\"M 75.015625 467.234375 C 75.015625 469.839844 71.105469 469.839844 71.105469 467.234375 C 71.105469 464.628906 75.015625 464.628906 75.015625 467.234375 \"/>\n",
       "<path fill-rule=\"nonzero\" fill=\"rgb(0%, 0%, 0%)\" fill-opacity=\"0.2\" stroke-width=\"0.708661\" stroke-linecap=\"round\" stroke-linejoin=\"round\" stroke=\"rgb(0%, 0%, 0%)\" stroke-opacity=\"0.2\" stroke-miterlimit=\"10\" d=\"M 74.804688 467.234375 C 74.804688 469.839844 70.894531 469.839844 70.894531 467.234375 C 70.894531 464.628906 74.804688 464.628906 74.804688 467.234375 \"/>\n",
       "<path fill-rule=\"nonzero\" fill=\"rgb(0%, 0%, 0%)\" fill-opacity=\"0.2\" stroke-width=\"0.708661\" stroke-linecap=\"round\" stroke-linejoin=\"round\" stroke=\"rgb(0%, 0%, 0%)\" stroke-opacity=\"0.2\" stroke-miterlimit=\"10\" d=\"M 74.804688 436.851562 C 74.804688 439.457031 70.894531 439.457031 70.894531 436.851562 C 70.894531 434.246094 74.804688 434.246094 74.804688 436.851562 \"/>\n",
       "<path fill-rule=\"nonzero\" fill=\"rgb(0%, 0%, 0%)\" fill-opacity=\"0.2\" stroke-width=\"0.708661\" stroke-linecap=\"round\" stroke-linejoin=\"round\" stroke=\"rgb(0%, 0%, 0%)\" stroke-opacity=\"0.2\" stroke-miterlimit=\"10\" d=\"M 393.476562 472.296875 C 393.476562 474.90625 389.566406 474.90625 389.566406 472.296875 C 389.566406 469.691406 393.476562 469.691406 393.476562 472.296875 \"/>\n",
       "<path fill-rule=\"nonzero\" fill=\"rgb(0%, 0%, 0%)\" fill-opacity=\"0.2\" stroke-width=\"0.708661\" stroke-linecap=\"round\" stroke-linejoin=\"round\" stroke=\"rgb(0%, 0%, 0%)\" stroke-opacity=\"0.2\" stroke-miterlimit=\"10\" d=\"M 74.804688 467.234375 C 74.804688 469.839844 70.894531 469.839844 70.894531 467.234375 C 70.894531 464.628906 74.804688 464.628906 74.804688 467.234375 \"/>\n",
       "<path fill-rule=\"nonzero\" fill=\"rgb(0%, 0%, 0%)\" fill-opacity=\"0.2\" stroke-width=\"0.708661\" stroke-linecap=\"round\" stroke-linejoin=\"round\" stroke=\"rgb(0%, 0%, 0%)\" stroke-opacity=\"0.2\" stroke-miterlimit=\"10\" d=\"M 77.351562 467.234375 C 77.351562 469.839844 73.445312 469.839844 73.445312 467.234375 C 73.445312 464.628906 77.351562 464.628906 77.351562 467.234375 \"/>\n",
       "<path fill-rule=\"nonzero\" fill=\"rgb(0%, 0%, 0%)\" fill-opacity=\"0.2\" stroke-width=\"0.708661\" stroke-linecap=\"round\" stroke-linejoin=\"round\" stroke=\"rgb(0%, 0%, 0%)\" stroke-opacity=\"0.2\" stroke-miterlimit=\"10\" d=\"M 75.015625 467.234375 C 75.015625 469.839844 71.105469 469.839844 71.105469 467.234375 C 71.105469 464.628906 75.015625 464.628906 75.015625 467.234375 \"/>\n",
       "<path fill-rule=\"nonzero\" fill=\"rgb(0%, 0%, 0%)\" fill-opacity=\"0.2\" stroke-width=\"0.708661\" stroke-linecap=\"round\" stroke-linejoin=\"round\" stroke=\"rgb(0%, 0%, 0%)\" stroke-opacity=\"0.2\" stroke-miterlimit=\"10\" d=\"M 76.503906 441.914062 C 76.503906 444.519531 72.59375 444.519531 72.59375 441.914062 C 72.59375 439.308594 76.503906 439.308594 76.503906 441.914062 \"/>\n",
       "<path fill-rule=\"nonzero\" fill=\"rgb(0%, 0%, 0%)\" fill-opacity=\"0.2\" stroke-width=\"0.708661\" stroke-linecap=\"round\" stroke-linejoin=\"round\" stroke=\"rgb(0%, 0%, 0%)\" stroke-opacity=\"0.2\" stroke-miterlimit=\"10\" d=\"M 74.804688 467.234375 C 74.804688 469.839844 70.894531 469.839844 70.894531 467.234375 C 70.894531 464.628906 74.804688 464.628906 74.804688 467.234375 \"/>\n",
       "<path fill-rule=\"nonzero\" fill=\"rgb(0%, 0%, 0%)\" fill-opacity=\"0.2\" stroke-width=\"0.708661\" stroke-linecap=\"round\" stroke-linejoin=\"round\" stroke=\"rgb(0%, 0%, 0%)\" stroke-opacity=\"0.2\" stroke-miterlimit=\"10\" d=\"M 75.015625 457.105469 C 75.015625 459.714844 71.105469 459.714844 71.105469 457.105469 C 71.105469 454.5 75.015625 454.5 75.015625 457.105469 \"/>\n",
       "<path fill-rule=\"nonzero\" fill=\"rgb(0%, 0%, 0%)\" fill-opacity=\"0.2\" stroke-width=\"0.708661\" stroke-linecap=\"round\" stroke-linejoin=\"round\" stroke=\"rgb(0%, 0%, 0%)\" stroke-opacity=\"0.2\" stroke-miterlimit=\"10\" d=\"M 75.015625 462.171875 C 75.015625 464.777344 71.105469 464.777344 71.105469 462.171875 C 71.105469 459.5625 75.015625 459.5625 75.015625 462.171875 \"/>\n",
       "<path fill-rule=\"nonzero\" fill=\"rgb(0%, 0%, 0%)\" fill-opacity=\"0.2\" stroke-width=\"0.708661\" stroke-linecap=\"round\" stroke-linejoin=\"round\" stroke=\"rgb(0%, 0%, 0%)\" stroke-opacity=\"0.2\" stroke-miterlimit=\"10\" d=\"M 74.804688 467.234375 C 74.804688 469.839844 70.894531 469.839844 70.894531 467.234375 C 70.894531 464.628906 74.804688 464.628906 74.804688 467.234375 \"/>\n",
       "<path fill-rule=\"nonzero\" fill=\"rgb(0%, 0%, 0%)\" fill-opacity=\"0.2\" stroke-width=\"0.708661\" stroke-linecap=\"round\" stroke-linejoin=\"round\" stroke=\"rgb(0%, 0%, 0%)\" stroke-opacity=\"0.2\" stroke-miterlimit=\"10\" d=\"M 75.867188 492.554688 C 75.867188 495.160156 71.957031 495.160156 71.957031 492.554688 C 71.957031 489.945312 75.867188 489.945312 75.867188 492.554688 \"/>\n",
       "<path fill-rule=\"nonzero\" fill=\"rgb(0%, 0%, 0%)\" fill-opacity=\"0.2\" stroke-width=\"0.708661\" stroke-linecap=\"round\" stroke-linejoin=\"round\" stroke=\"rgb(0%, 0%, 0%)\" stroke-opacity=\"0.2\" stroke-miterlimit=\"10\" d=\"M 74.804688 452.042969 C 74.804688 454.648438 70.894531 454.648438 70.894531 452.042969 C 70.894531 449.4375 74.804688 449.4375 74.804688 452.042969 \"/>\n",
       "<path fill-rule=\"nonzero\" fill=\"rgb(0%, 0%, 0%)\" fill-opacity=\"0.2\" stroke-width=\"0.708661\" stroke-linecap=\"round\" stroke-linejoin=\"round\" stroke=\"rgb(0%, 0%, 0%)\" stroke-opacity=\"0.2\" stroke-miterlimit=\"10\" d=\"M 74.804688 467.234375 C 74.804688 469.839844 70.894531 469.839844 70.894531 467.234375 C 70.894531 464.628906 74.804688 464.628906 74.804688 467.234375 \"/>\n",
       "<path fill-rule=\"nonzero\" fill=\"rgb(0%, 0%, 0%)\" fill-opacity=\"0.2\" stroke-width=\"0.708661\" stroke-linecap=\"round\" stroke-linejoin=\"round\" stroke=\"rgb(0%, 0%, 0%)\" stroke-opacity=\"0.2\" stroke-miterlimit=\"10\" d=\"M 74.804688 431.789062 C 74.804688 434.394531 70.894531 434.394531 70.894531 431.789062 C 70.894531 429.179688 74.804688 429.179688 74.804688 431.789062 \"/>\n",
       "<path fill-rule=\"nonzero\" fill=\"rgb(0%, 0%, 0%)\" fill-opacity=\"0.2\" stroke-width=\"0.708661\" stroke-linecap=\"round\" stroke-linejoin=\"round\" stroke=\"rgb(0%, 0%, 0%)\" stroke-opacity=\"0.2\" stroke-miterlimit=\"10\" d=\"M 79.054688 416.597656 C 79.054688 419.203125 75.144531 419.203125 75.144531 416.597656 C 75.144531 413.988281 79.054688 413.988281 79.054688 416.597656 \"/>\n",
       "<path fill-rule=\"nonzero\" fill=\"rgb(0%, 0%, 0%)\" fill-opacity=\"0.2\" stroke-width=\"0.708661\" stroke-linecap=\"round\" stroke-linejoin=\"round\" stroke=\"rgb(0%, 0%, 0%)\" stroke-opacity=\"0.2\" stroke-miterlimit=\"10\" d=\"M 74.804688 421.660156 C 74.804688 424.265625 70.894531 424.265625 70.894531 421.660156 C 70.894531 419.054688 74.804688 419.054688 74.804688 421.660156 \"/>\n",
       "<path fill-rule=\"nonzero\" fill=\"rgb(0%, 0%, 0%)\" fill-opacity=\"0.2\" stroke-width=\"0.708661\" stroke-linecap=\"round\" stroke-linejoin=\"round\" stroke=\"rgb(0%, 0%, 0%)\" stroke-opacity=\"0.2\" stroke-miterlimit=\"10\" d=\"M 74.804688 467.234375 C 74.804688 469.839844 70.894531 469.839844 70.894531 467.234375 C 70.894531 464.628906 74.804688 464.628906 74.804688 467.234375 \"/>\n",
       "<path fill-rule=\"nonzero\" fill=\"rgb(0%, 0%, 0%)\" fill-opacity=\"0.2\" stroke-width=\"0.708661\" stroke-linecap=\"round\" stroke-linejoin=\"round\" stroke=\"rgb(0%, 0%, 0%)\" stroke-opacity=\"0.2\" stroke-miterlimit=\"10\" d=\"M 74.804688 436.851562 C 74.804688 439.457031 70.894531 439.457031 70.894531 436.851562 C 70.894531 434.246094 74.804688 434.246094 74.804688 436.851562 \"/>\n",
       "<path fill-rule=\"nonzero\" fill=\"rgb(0%, 0%, 0%)\" fill-opacity=\"0.2\" stroke-width=\"0.708661\" stroke-linecap=\"round\" stroke-linejoin=\"round\" stroke=\"rgb(0%, 0%, 0%)\" stroke-opacity=\"0.2\" stroke-miterlimit=\"10\" d=\"M 80.539062 441.914062 C 80.539062 444.519531 76.628906 444.519531 76.628906 441.914062 C 76.628906 439.308594 80.539062 439.308594 80.539062 441.914062 \"/>\n",
       "<path fill-rule=\"nonzero\" fill=\"rgb(0%, 0%, 0%)\" fill-opacity=\"0.2\" stroke-width=\"0.708661\" stroke-linecap=\"round\" stroke-linejoin=\"round\" stroke=\"rgb(0%, 0%, 0%)\" stroke-opacity=\"0.2\" stroke-miterlimit=\"10\" d=\"M 74.804688 452.042969 C 74.804688 454.648438 70.894531 454.648438 70.894531 452.042969 C 70.894531 449.4375 74.804688 449.4375 74.804688 452.042969 \"/>\n",
       "<path fill-rule=\"nonzero\" fill=\"rgb(0%, 0%, 0%)\" fill-opacity=\"0.2\" stroke-width=\"0.708661\" stroke-linecap=\"round\" stroke-linejoin=\"round\" stroke=\"rgb(0%, 0%, 0%)\" stroke-opacity=\"0.2\" stroke-miterlimit=\"10\" d=\"M 75.015625 467.234375 C 75.015625 469.839844 71.105469 469.839844 71.105469 467.234375 C 71.105469 464.628906 75.015625 464.628906 75.015625 467.234375 \"/>\n",
       "<path fill-rule=\"nonzero\" fill=\"rgb(0%, 0%, 0%)\" fill-opacity=\"0.2\" stroke-width=\"0.708661\" stroke-linecap=\"round\" stroke-linejoin=\"round\" stroke=\"rgb(0%, 0%, 0%)\" stroke-opacity=\"0.2\" stroke-miterlimit=\"10\" d=\"M 74.804688 441.914062 C 74.804688 444.519531 70.894531 444.519531 70.894531 441.914062 C 70.894531 439.308594 74.804688 439.308594 74.804688 441.914062 \"/>\n",
       "<path fill-rule=\"nonzero\" fill=\"rgb(0%, 0%, 0%)\" fill-opacity=\"0.2\" stroke-width=\"0.708661\" stroke-linecap=\"round\" stroke-linejoin=\"round\" stroke=\"rgb(0%, 0%, 0%)\" stroke-opacity=\"0.2\" stroke-miterlimit=\"10\" d=\"M 83.300781 446.980469 C 83.300781 449.585938 79.390625 449.585938 79.390625 446.980469 C 79.390625 444.371094 83.300781 444.371094 83.300781 446.980469 \"/>\n",
       "<path fill-rule=\"nonzero\" fill=\"rgb(0%, 0%, 0%)\" fill-opacity=\"0.2\" stroke-width=\"0.708661\" stroke-linecap=\"round\" stroke-linejoin=\"round\" stroke=\"rgb(0%, 0%, 0%)\" stroke-opacity=\"0.2\" stroke-miterlimit=\"10\" d=\"M 75.652344 462.171875 C 75.652344 464.777344 71.746094 464.777344 71.746094 462.171875 C 71.746094 459.5625 75.652344 459.5625 75.652344 462.171875 \"/>\n",
       "<path fill-rule=\"nonzero\" fill=\"rgb(0%, 0%, 0%)\" fill-opacity=\"0.2\" stroke-width=\"0.708661\" stroke-linecap=\"round\" stroke-linejoin=\"round\" stroke=\"rgb(0%, 0%, 0%)\" stroke-opacity=\"0.2\" stroke-miterlimit=\"10\" d=\"M 74.804688 467.234375 C 74.804688 469.839844 70.894531 469.839844 70.894531 467.234375 C 70.894531 464.628906 74.804688 464.628906 74.804688 467.234375 \"/>\n",
       "<path fill-rule=\"nonzero\" fill=\"rgb(0%, 0%, 0%)\" fill-opacity=\"0.2\" stroke-width=\"0.708661\" stroke-linecap=\"round\" stroke-linejoin=\"round\" stroke=\"rgb(0%, 0%, 0%)\" stroke-opacity=\"0.2\" stroke-miterlimit=\"10\" d=\"M 76.929688 467.234375 C 76.929688 469.839844 73.019531 469.839844 73.019531 467.234375 C 73.019531 464.628906 76.929688 464.628906 76.929688 467.234375 \"/>\n",
       "<path fill-rule=\"nonzero\" fill=\"rgb(0%, 0%, 0%)\" fill-opacity=\"0.2\" stroke-width=\"0.708661\" stroke-linecap=\"round\" stroke-linejoin=\"round\" stroke=\"rgb(0%, 0%, 0%)\" stroke-opacity=\"0.2\" stroke-miterlimit=\"10\" d=\"M 75.015625 431.789062 C 75.015625 434.394531 71.105469 434.394531 71.105469 431.789062 C 71.105469 429.179688 75.015625 429.179688 75.015625 431.789062 \"/>\n",
       "<path fill-rule=\"nonzero\" fill=\"rgb(0%, 0%, 0%)\" fill-opacity=\"0.2\" stroke-width=\"0.708661\" stroke-linecap=\"round\" stroke-linejoin=\"round\" stroke=\"rgb(0%, 0%, 0%)\" stroke-opacity=\"0.2\" stroke-miterlimit=\"10\" d=\"M 74.804688 452.042969 C 74.804688 454.648438 70.894531 454.648438 70.894531 452.042969 C 70.894531 449.4375 74.804688 449.4375 74.804688 452.042969 \"/>\n",
       "<path fill-rule=\"nonzero\" fill=\"rgb(0%, 0%, 0%)\" fill-opacity=\"0.2\" stroke-width=\"0.708661\" stroke-linecap=\"round\" stroke-linejoin=\"round\" stroke=\"rgb(0%, 0%, 0%)\" stroke-opacity=\"0.2\" stroke-miterlimit=\"10\" d=\"M 74.804688 467.234375 C 74.804688 469.839844 70.894531 469.839844 70.894531 467.234375 C 70.894531 464.628906 74.804688 464.628906 74.804688 467.234375 \"/>\n",
       "<path fill-rule=\"nonzero\" fill=\"rgb(0%, 0%, 0%)\" fill-opacity=\"0.2\" stroke-width=\"0.708661\" stroke-linecap=\"round\" stroke-linejoin=\"round\" stroke=\"rgb(0%, 0%, 0%)\" stroke-opacity=\"0.2\" stroke-miterlimit=\"10\" d=\"M 74.804688 320.382812 C 74.804688 322.988281 70.894531 322.988281 70.894531 320.382812 C 70.894531 317.777344 74.804688 317.777344 74.804688 320.382812 \"/>\n",
       "<path fill-rule=\"nonzero\" fill=\"rgb(0%, 0%, 0%)\" fill-opacity=\"0.2\" stroke-width=\"0.708661\" stroke-linecap=\"round\" stroke-linejoin=\"round\" stroke=\"rgb(0%, 0%, 0%)\" stroke-opacity=\"0.2\" stroke-miterlimit=\"10\" d=\"M 74.804688 436.851562 C 74.804688 439.457031 70.894531 439.457031 70.894531 436.851562 C 70.894531 434.246094 74.804688 434.246094 74.804688 436.851562 \"/>\n",
       "<path fill-rule=\"nonzero\" fill=\"rgb(0%, 0%, 0%)\" fill-opacity=\"0.2\" stroke-width=\"0.708661\" stroke-linecap=\"round\" stroke-linejoin=\"round\" stroke=\"rgb(0%, 0%, 0%)\" stroke-opacity=\"0.2\" stroke-miterlimit=\"10\" d=\"M 75.015625 477.363281 C 75.015625 479.96875 71.105469 479.96875 71.105469 477.363281 C 71.105469 474.753906 75.015625 474.753906 75.015625 477.363281 \"/>\n",
       "<path fill-rule=\"nonzero\" fill=\"rgb(0%, 0%, 0%)\" fill-opacity=\"0.2\" stroke-width=\"0.708661\" stroke-linecap=\"round\" stroke-linejoin=\"round\" stroke=\"rgb(0%, 0%, 0%)\" stroke-opacity=\"0.2\" stroke-miterlimit=\"10\" d=\"M 75.015625 431.789062 C 75.015625 434.394531 71.105469 434.394531 71.105469 431.789062 C 71.105469 429.179688 75.015625 429.179688 75.015625 431.789062 \"/>\n",
       "<path fill-rule=\"nonzero\" fill=\"rgb(0%, 0%, 0%)\" fill-opacity=\"0.2\" stroke-width=\"0.708661\" stroke-linecap=\"round\" stroke-linejoin=\"round\" stroke=\"rgb(0%, 0%, 0%)\" stroke-opacity=\"0.2\" stroke-miterlimit=\"10\" d=\"M 75.015625 391.277344 C 75.015625 393.882812 71.105469 393.882812 71.105469 391.277344 C 71.105469 388.671875 75.015625 388.671875 75.015625 391.277344 \"/>\n",
       "<path fill-rule=\"nonzero\" fill=\"rgb(0%, 0%, 0%)\" fill-opacity=\"0.2\" stroke-width=\"0.708661\" stroke-linecap=\"round\" stroke-linejoin=\"round\" stroke=\"rgb(0%, 0%, 0%)\" stroke-opacity=\"0.2\" stroke-miterlimit=\"10\" d=\"M 89.886719 467.234375 C 89.886719 469.839844 85.976562 469.839844 85.976562 467.234375 C 85.976562 464.628906 89.886719 464.628906 89.886719 467.234375 \"/>\n",
       "<path fill-rule=\"nonzero\" fill=\"rgb(0%, 0%, 0%)\" fill-opacity=\"0.2\" stroke-width=\"0.708661\" stroke-linecap=\"round\" stroke-linejoin=\"round\" stroke=\"rgb(0%, 0%, 0%)\" stroke-opacity=\"0.2\" stroke-miterlimit=\"10\" d=\"M 74.804688 467.234375 C 74.804688 469.839844 70.894531 469.839844 70.894531 467.234375 C 70.894531 464.628906 74.804688 464.628906 74.804688 467.234375 \"/>\n",
       "<path fill-rule=\"nonzero\" fill=\"rgb(0%, 0%, 0%)\" fill-opacity=\"0.2\" stroke-width=\"0.708661\" stroke-linecap=\"round\" stroke-linejoin=\"round\" stroke=\"rgb(0%, 0%, 0%)\" stroke-opacity=\"0.2\" stroke-miterlimit=\"10\" d=\"M 114.105469 305.191406 C 114.105469 307.796875 110.199219 307.796875 110.199219 305.191406 C 110.199219 302.585938 114.105469 302.585938 114.105469 305.191406 \"/>\n",
       "<path fill-rule=\"nonzero\" fill=\"rgb(0%, 0%, 0%)\" fill-opacity=\"0.2\" stroke-width=\"0.708661\" stroke-linecap=\"round\" stroke-linejoin=\"round\" stroke=\"rgb(0%, 0%, 0%)\" stroke-opacity=\"0.2\" stroke-miterlimit=\"10\" d=\"M 76.292969 431.789062 C 76.292969 434.394531 72.382812 434.394531 72.382812 431.789062 C 72.382812 429.179688 76.292969 429.179688 76.292969 431.789062 \"/>\n",
       "<path fill-rule=\"nonzero\" fill=\"rgb(0%, 0%, 0%)\" fill-opacity=\"0.2\" stroke-width=\"0.708661\" stroke-linecap=\"round\" stroke-linejoin=\"round\" stroke=\"rgb(0%, 0%, 0%)\" stroke-opacity=\"0.2\" stroke-miterlimit=\"10\" d=\"M 74.804688 446.980469 C 74.804688 449.585938 70.894531 449.585938 70.894531 446.980469 C 70.894531 444.371094 74.804688 444.371094 74.804688 446.980469 \"/>\n",
       "<path fill-rule=\"nonzero\" fill=\"rgb(0%, 0%, 0%)\" fill-opacity=\"0.2\" stroke-width=\"0.708661\" stroke-linecap=\"round\" stroke-linejoin=\"round\" stroke=\"rgb(0%, 0%, 0%)\" stroke-opacity=\"0.2\" stroke-miterlimit=\"10\" d=\"M 74.804688 467.234375 C 74.804688 469.839844 70.894531 469.839844 70.894531 467.234375 C 70.894531 464.628906 74.804688 464.628906 74.804688 467.234375 \"/>\n",
       "<path fill-rule=\"nonzero\" fill=\"rgb(0%, 0%, 0%)\" fill-opacity=\"0.2\" stroke-width=\"0.708661\" stroke-linecap=\"round\" stroke-linejoin=\"round\" stroke=\"rgb(0%, 0%, 0%)\" stroke-opacity=\"0.2\" stroke-miterlimit=\"10\" d=\"M 74.804688 467.234375 C 74.804688 469.839844 70.894531 469.839844 70.894531 467.234375 C 70.894531 464.628906 74.804688 464.628906 74.804688 467.234375 \"/>\n",
       "<path fill-rule=\"nonzero\" fill=\"rgb(0%, 0%, 0%)\" fill-opacity=\"0.2\" stroke-width=\"0.708661\" stroke-linecap=\"round\" stroke-linejoin=\"round\" stroke=\"rgb(0%, 0%, 0%)\" stroke-opacity=\"0.2\" stroke-miterlimit=\"10\" d=\"M 193.988281 436.851562 C 193.988281 439.457031 190.078125 439.457031 190.078125 436.851562 C 190.078125 434.246094 193.988281 434.246094 193.988281 436.851562 \"/>\n",
       "<path fill-rule=\"nonzero\" fill=\"rgb(0%, 0%, 0%)\" fill-opacity=\"0.2\" stroke-width=\"0.708661\" stroke-linecap=\"round\" stroke-linejoin=\"round\" stroke=\"rgb(0%, 0%, 0%)\" stroke-opacity=\"0.2\" stroke-miterlimit=\"10\" d=\"M 74.804688 436.851562 C 74.804688 439.457031 70.894531 439.457031 70.894531 436.851562 C 70.894531 434.246094 74.804688 434.246094 74.804688 436.851562 \"/>\n",
       "<path fill-rule=\"nonzero\" fill=\"rgb(0%, 0%, 0%)\" fill-opacity=\"0.2\" stroke-width=\"0.708661\" stroke-linecap=\"round\" stroke-linejoin=\"round\" stroke=\"rgb(0%, 0%, 0%)\" stroke-opacity=\"0.2\" stroke-miterlimit=\"10\" d=\"M 75.015625 467.234375 C 75.015625 469.839844 71.105469 469.839844 71.105469 467.234375 C 71.105469 464.628906 75.015625 464.628906 75.015625 467.234375 \"/>\n",
       "<path fill-rule=\"nonzero\" fill=\"rgb(0%, 0%, 0%)\" fill-opacity=\"0.2\" stroke-width=\"0.708661\" stroke-linecap=\"round\" stroke-linejoin=\"round\" stroke=\"rgb(0%, 0%, 0%)\" stroke-opacity=\"0.2\" stroke-miterlimit=\"10\" d=\"M 74.804688 467.234375 C 74.804688 469.839844 70.894531 469.839844 70.894531 467.234375 C 70.894531 464.628906 74.804688 464.628906 74.804688 467.234375 \"/>\n",
       "<path fill-rule=\"nonzero\" fill=\"rgb(0%, 0%, 0%)\" fill-opacity=\"0.2\" stroke-width=\"0.708661\" stroke-linecap=\"round\" stroke-linejoin=\"round\" stroke=\"rgb(0%, 0%, 0%)\" stroke-opacity=\"0.2\" stroke-miterlimit=\"10\" d=\"M 77.140625 452.042969 C 77.140625 454.648438 73.230469 454.648438 73.230469 452.042969 C 73.230469 449.4375 77.140625 449.4375 77.140625 452.042969 \"/>\n",
       "<path fill-rule=\"nonzero\" fill=\"rgb(0%, 0%, 0%)\" fill-opacity=\"0.2\" stroke-width=\"0.708661\" stroke-linecap=\"round\" stroke-linejoin=\"round\" stroke=\"rgb(0%, 0%, 0%)\" stroke-opacity=\"0.2\" stroke-miterlimit=\"10\" d=\"M 74.804688 446.980469 C 74.804688 449.585938 70.894531 449.585938 70.894531 446.980469 C 70.894531 444.371094 74.804688 444.371094 74.804688 446.980469 \"/>\n",
       "<path fill-rule=\"nonzero\" fill=\"rgb(0%, 0%, 0%)\" fill-opacity=\"0.2\" stroke-width=\"0.708661\" stroke-linecap=\"round\" stroke-linejoin=\"round\" stroke=\"rgb(0%, 0%, 0%)\" stroke-opacity=\"0.2\" stroke-miterlimit=\"10\" d=\"M 74.804688 452.042969 C 74.804688 454.648438 70.894531 454.648438 70.894531 452.042969 C 70.894531 449.4375 74.804688 449.4375 74.804688 452.042969 \"/>\n",
       "<path fill-rule=\"nonzero\" fill=\"rgb(0%, 0%, 0%)\" fill-opacity=\"0.2\" stroke-width=\"0.708661\" stroke-linecap=\"round\" stroke-linejoin=\"round\" stroke=\"rgb(0%, 0%, 0%)\" stroke-opacity=\"0.2\" stroke-miterlimit=\"10\" d=\"M 74.804688 467.234375 C 74.804688 469.839844 70.894531 469.839844 70.894531 467.234375 C 70.894531 464.628906 74.804688 464.628906 74.804688 467.234375 \"/>\n",
       "<path fill-rule=\"nonzero\" fill=\"rgb(0%, 0%, 0%)\" fill-opacity=\"0.2\" stroke-width=\"0.708661\" stroke-linecap=\"round\" stroke-linejoin=\"round\" stroke=\"rgb(0%, 0%, 0%)\" stroke-opacity=\"0.2\" stroke-miterlimit=\"10\" d=\"M 74.804688 467.234375 C 74.804688 469.839844 70.894531 469.839844 70.894531 467.234375 C 70.894531 464.628906 74.804688 464.628906 74.804688 467.234375 \"/>\n",
       "<path fill-rule=\"nonzero\" fill=\"rgb(0%, 0%, 0%)\" fill-opacity=\"0.2\" stroke-width=\"0.708661\" stroke-linecap=\"round\" stroke-linejoin=\"round\" stroke=\"rgb(0%, 0%, 0%)\" stroke-opacity=\"0.2\" stroke-miterlimit=\"10\" d=\"M 74.804688 452.042969 C 74.804688 454.648438 70.894531 454.648438 70.894531 452.042969 C 70.894531 449.4375 74.804688 449.4375 74.804688 452.042969 \"/>\n",
       "<path fill-rule=\"nonzero\" fill=\"rgb(0%, 0%, 0%)\" fill-opacity=\"0.2\" stroke-width=\"0.708661\" stroke-linecap=\"round\" stroke-linejoin=\"round\" stroke=\"rgb(0%, 0%, 0%)\" stroke-opacity=\"0.2\" stroke-miterlimit=\"10\" d=\"M 74.804688 452.042969 C 74.804688 454.648438 70.894531 454.648438 70.894531 452.042969 C 70.894531 449.4375 74.804688 449.4375 74.804688 452.042969 \"/>\n",
       "<path fill-rule=\"nonzero\" fill=\"rgb(0%, 0%, 0%)\" fill-opacity=\"0.2\" stroke-width=\"0.708661\" stroke-linecap=\"round\" stroke-linejoin=\"round\" stroke=\"rgb(0%, 0%, 0%)\" stroke-opacity=\"0.2\" stroke-miterlimit=\"10\" d=\"M 74.804688 462.171875 C 74.804688 464.777344 70.894531 464.777344 70.894531 462.171875 C 70.894531 459.5625 74.804688 459.5625 74.804688 462.171875 \"/>\n",
       "<path fill-rule=\"nonzero\" fill=\"rgb(0%, 0%, 0%)\" fill-opacity=\"0.2\" stroke-width=\"0.708661\" stroke-linecap=\"round\" stroke-linejoin=\"round\" stroke=\"rgb(0%, 0%, 0%)\" stroke-opacity=\"0.2\" stroke-miterlimit=\"10\" d=\"M 76.929688 467.234375 C 76.929688 469.839844 73.019531 469.839844 73.019531 467.234375 C 73.019531 464.628906 76.929688 464.628906 76.929688 467.234375 \"/>\n",
       "<path fill-rule=\"nonzero\" fill=\"rgb(0%, 0%, 0%)\" fill-opacity=\"0.2\" stroke-width=\"0.708661\" stroke-linecap=\"round\" stroke-linejoin=\"round\" stroke=\"rgb(0%, 0%, 0%)\" stroke-opacity=\"0.2\" stroke-miterlimit=\"10\" d=\"M 75.015625 472.296875 C 75.015625 474.90625 71.105469 474.90625 71.105469 472.296875 C 71.105469 469.691406 75.015625 469.691406 75.015625 472.296875 \"/>\n",
       "<path fill-rule=\"nonzero\" fill=\"rgb(0%, 0%, 0%)\" fill-opacity=\"0.2\" stroke-width=\"0.708661\" stroke-linecap=\"round\" stroke-linejoin=\"round\" stroke=\"rgb(0%, 0%, 0%)\" stroke-opacity=\"0.2\" stroke-miterlimit=\"10\" d=\"M 125.15625 431.789062 C 125.15625 434.394531 121.246094 434.394531 121.246094 431.789062 C 121.246094 429.179688 125.15625 429.179688 125.15625 431.789062 \"/>\n",
       "<path fill-rule=\"nonzero\" fill=\"rgb(0%, 0%, 0%)\" fill-opacity=\"0.2\" stroke-width=\"0.708661\" stroke-linecap=\"round\" stroke-linejoin=\"round\" stroke=\"rgb(0%, 0%, 0%)\" stroke-opacity=\"0.2\" stroke-miterlimit=\"10\" d=\"M 75.015625 457.105469 C 75.015625 459.714844 71.105469 459.714844 71.105469 457.105469 C 71.105469 454.5 75.015625 454.5 75.015625 457.105469 \"/>\n",
       "<path fill-rule=\"nonzero\" fill=\"rgb(0%, 0%, 0%)\" fill-opacity=\"0.2\" stroke-width=\"0.708661\" stroke-linecap=\"round\" stroke-linejoin=\"round\" stroke=\"rgb(0%, 0%, 0%)\" stroke-opacity=\"0.2\" stroke-miterlimit=\"10\" d=\"M 74.804688 426.722656 C 74.804688 429.328125 70.894531 429.328125 70.894531 426.722656 C 70.894531 424.117188 74.804688 424.117188 74.804688 426.722656 \"/>\n",
       "<path fill-rule=\"nonzero\" fill=\"rgb(0%, 0%, 0%)\" fill-opacity=\"0.2\" stroke-width=\"0.708661\" stroke-linecap=\"round\" stroke-linejoin=\"round\" stroke=\"rgb(0%, 0%, 0%)\" stroke-opacity=\"0.2\" stroke-miterlimit=\"10\" d=\"M 75.015625 325.445312 C 75.015625 328.054688 71.105469 328.054688 71.105469 325.445312 C 71.105469 322.839844 75.015625 322.839844 75.015625 325.445312 \"/>\n",
       "<path fill-rule=\"nonzero\" fill=\"rgb(0%, 0%, 0%)\" fill-opacity=\"0.2\" stroke-width=\"0.708661\" stroke-linecap=\"round\" stroke-linejoin=\"round\" stroke=\"rgb(0%, 0%, 0%)\" stroke-opacity=\"0.2\" stroke-miterlimit=\"10\" d=\"M 74.804688 462.171875 C 74.804688 464.777344 70.894531 464.777344 70.894531 462.171875 C 70.894531 459.5625 74.804688 459.5625 74.804688 462.171875 \"/>\n",
       "<path fill-rule=\"nonzero\" fill=\"rgb(0%, 0%, 0%)\" fill-opacity=\"0.2\" stroke-width=\"0.708661\" stroke-linecap=\"round\" stroke-linejoin=\"round\" stroke=\"rgb(0%, 0%, 0%)\" stroke-opacity=\"0.2\" stroke-miterlimit=\"10\" d=\"M 74.804688 472.296875 C 74.804688 474.90625 70.894531 474.90625 70.894531 472.296875 C 70.894531 469.691406 74.804688 469.691406 74.804688 472.296875 \"/>\n",
       "<path fill-rule=\"nonzero\" fill=\"rgb(0%, 0%, 0%)\" fill-opacity=\"0.2\" stroke-width=\"0.708661\" stroke-linecap=\"round\" stroke-linejoin=\"round\" stroke=\"rgb(0%, 0%, 0%)\" stroke-opacity=\"0.2\" stroke-miterlimit=\"10\" d=\"M 74.804688 467.234375 C 74.804688 469.839844 70.894531 469.839844 70.894531 467.234375 C 70.894531 464.628906 74.804688 464.628906 74.804688 467.234375 \"/>\n",
       "<path fill-rule=\"nonzero\" fill=\"rgb(0%, 0%, 0%)\" fill-opacity=\"0.2\" stroke-width=\"0.708661\" stroke-linecap=\"round\" stroke-linejoin=\"round\" stroke=\"rgb(0%, 0%, 0%)\" stroke-opacity=\"0.2\" stroke-miterlimit=\"10\" d=\"M 74.804688 467.234375 C 74.804688 469.839844 70.894531 469.839844 70.894531 467.234375 C 70.894531 464.628906 74.804688 464.628906 74.804688 467.234375 \"/>\n",
       "<path fill-rule=\"nonzero\" fill=\"rgb(0%, 0%, 0%)\" fill-opacity=\"0.2\" stroke-width=\"0.708661\" stroke-linecap=\"round\" stroke-linejoin=\"round\" stroke=\"rgb(0%, 0%, 0%)\" stroke-opacity=\"0.2\" stroke-miterlimit=\"10\" d=\"M 75.230469 467.234375 C 75.230469 469.839844 71.320312 469.839844 71.320312 467.234375 C 71.320312 464.628906 75.230469 464.628906 75.230469 467.234375 \"/>\n",
       "<path fill-rule=\"nonzero\" fill=\"rgb(0%, 0%, 0%)\" fill-opacity=\"0.2\" stroke-width=\"0.708661\" stroke-linecap=\"round\" stroke-linejoin=\"round\" stroke=\"rgb(0%, 0%, 0%)\" stroke-opacity=\"0.2\" stroke-miterlimit=\"10\" d=\"M 75.015625 467.234375 C 75.015625 469.839844 71.105469 469.839844 71.105469 467.234375 C 71.105469 464.628906 75.015625 464.628906 75.015625 467.234375 \"/>\n",
       "<path fill-rule=\"nonzero\" fill=\"rgb(0%, 0%, 0%)\" fill-opacity=\"0.2\" stroke-width=\"0.708661\" stroke-linecap=\"round\" stroke-linejoin=\"round\" stroke=\"rgb(0%, 0%, 0%)\" stroke-opacity=\"0.2\" stroke-miterlimit=\"10\" d=\"M 74.804688 457.105469 C 74.804688 459.714844 70.894531 459.714844 70.894531 457.105469 C 70.894531 454.5 74.804688 454.5 74.804688 457.105469 \"/>\n",
       "<path fill-rule=\"nonzero\" fill=\"rgb(0%, 0%, 0%)\" fill-opacity=\"0.2\" stroke-width=\"0.708661\" stroke-linecap=\"round\" stroke-linejoin=\"round\" stroke=\"rgb(0%, 0%, 0%)\" stroke-opacity=\"0.2\" stroke-miterlimit=\"10\" d=\"M 77.351562 467.234375 C 77.351562 469.839844 73.445312 469.839844 73.445312 467.234375 C 73.445312 464.628906 77.351562 464.628906 77.351562 467.234375 \"/>\n",
       "<path fill-rule=\"nonzero\" fill=\"rgb(0%, 0%, 0%)\" fill-opacity=\"0.2\" stroke-width=\"0.708661\" stroke-linecap=\"round\" stroke-linejoin=\"round\" stroke=\"rgb(0%, 0%, 0%)\" stroke-opacity=\"0.2\" stroke-miterlimit=\"10\" d=\"M 75.015625 436.851562 C 75.015625 439.457031 71.105469 439.457031 71.105469 436.851562 C 71.105469 434.246094 75.015625 434.246094 75.015625 436.851562 \"/>\n",
       "<path fill-rule=\"nonzero\" fill=\"rgb(0%, 0%, 0%)\" fill-opacity=\"0.2\" stroke-width=\"0.708661\" stroke-linecap=\"round\" stroke-linejoin=\"round\" stroke=\"rgb(0%, 0%, 0%)\" stroke-opacity=\"0.2\" stroke-miterlimit=\"10\" d=\"M 75.015625 52 C 75.015625 54.605469 71.105469 54.605469 71.105469 52 C 71.105469 49.394531 75.015625 49.394531 75.015625 52 \"/>\n",
       "<path fill-rule=\"nonzero\" fill=\"rgb(0%, 0%, 0%)\" fill-opacity=\"0.2\" stroke-width=\"0.708661\" stroke-linecap=\"round\" stroke-linejoin=\"round\" stroke=\"rgb(0%, 0%, 0%)\" stroke-opacity=\"0.2\" stroke-miterlimit=\"10\" d=\"M 453.386719 457.105469 C 453.386719 459.714844 449.476562 459.714844 449.476562 457.105469 C 449.476562 454.5 453.386719 454.5 453.386719 457.105469 \"/>\n",
       "<path fill-rule=\"nonzero\" fill=\"rgb(0%, 0%, 0%)\" fill-opacity=\"0.2\" stroke-width=\"0.708661\" stroke-linecap=\"round\" stroke-linejoin=\"round\" stroke=\"rgb(0%, 0%, 0%)\" stroke-opacity=\"0.2\" stroke-miterlimit=\"10\" d=\"M 74.804688 441.914062 C 74.804688 444.519531 70.894531 444.519531 70.894531 441.914062 C 70.894531 439.308594 74.804688 439.308594 74.804688 441.914062 \"/>\n",
       "<path fill-rule=\"nonzero\" fill=\"rgb(0%, 0%, 0%)\" fill-opacity=\"0.2\" stroke-width=\"0.708661\" stroke-linecap=\"round\" stroke-linejoin=\"round\" stroke=\"rgb(0%, 0%, 0%)\" stroke-opacity=\"0.2\" stroke-miterlimit=\"10\" d=\"M 74.804688 431.789062 C 74.804688 434.394531 70.894531 434.394531 70.894531 431.789062 C 70.894531 429.179688 74.804688 429.179688 74.804688 431.789062 \"/>\n",
       "<path fill-rule=\"nonzero\" fill=\"rgb(0%, 0%, 0%)\" fill-opacity=\"0.2\" stroke-width=\"0.708661\" stroke-linecap=\"round\" stroke-linejoin=\"round\" stroke=\"rgb(0%, 0%, 0%)\" stroke-opacity=\"0.2\" stroke-miterlimit=\"10\" d=\"M 74.804688 467.234375 C 74.804688 469.839844 70.894531 469.839844 70.894531 467.234375 C 70.894531 464.628906 74.804688 464.628906 74.804688 467.234375 \"/>\n",
       "<path fill-rule=\"nonzero\" fill=\"rgb(0%, 0%, 0%)\" fill-opacity=\"0.2\" stroke-width=\"0.708661\" stroke-linecap=\"round\" stroke-linejoin=\"round\" stroke=\"rgb(0%, 0%, 0%)\" stroke-opacity=\"0.2\" stroke-miterlimit=\"10\" d=\"M 76.078125 457.105469 C 76.078125 459.714844 72.167969 459.714844 72.167969 457.105469 C 72.167969 454.5 76.078125 454.5 76.078125 457.105469 \"/>\n",
       "<path fill-rule=\"nonzero\" fill=\"rgb(0%, 0%, 0%)\" fill-opacity=\"0.2\" stroke-width=\"0.708661\" stroke-linecap=\"round\" stroke-linejoin=\"round\" stroke=\"rgb(0%, 0%, 0%)\" stroke-opacity=\"0.2\" stroke-miterlimit=\"10\" d=\"M 75.867188 452.042969 C 75.867188 454.648438 71.957031 454.648438 71.957031 452.042969 C 71.957031 449.4375 75.867188 449.4375 75.867188 452.042969 \"/>\n",
       "<path fill-rule=\"nonzero\" fill=\"rgb(0%, 0%, 0%)\" fill-opacity=\"0.2\" stroke-width=\"0.708661\" stroke-linecap=\"round\" stroke-linejoin=\"round\" stroke=\"rgb(0%, 0%, 0%)\" stroke-opacity=\"0.2\" stroke-miterlimit=\"10\" d=\"M 74.804688 441.914062 C 74.804688 444.519531 70.894531 444.519531 70.894531 441.914062 C 70.894531 439.308594 74.804688 439.308594 74.804688 441.914062 \"/>\n",
       "<path fill-rule=\"nonzero\" fill=\"rgb(0%, 0%, 0%)\" fill-opacity=\"0.2\" stroke-width=\"0.708661\" stroke-linecap=\"round\" stroke-linejoin=\"round\" stroke=\"rgb(0%, 0%, 0%)\" stroke-opacity=\"0.2\" stroke-miterlimit=\"10\" d=\"M 75.015625 446.980469 C 75.015625 449.585938 71.105469 449.585938 71.105469 446.980469 C 71.105469 444.371094 75.015625 444.371094 75.015625 446.980469 \"/>\n",
       "<path fill-rule=\"nonzero\" fill=\"rgb(0%, 0%, 0%)\" fill-opacity=\"0.2\" stroke-width=\"0.708661\" stroke-linecap=\"round\" stroke-linejoin=\"round\" stroke=\"rgb(0%, 0%, 0%)\" stroke-opacity=\"0.2\" stroke-miterlimit=\"10\" d=\"M 76.929688 421.660156 C 76.929688 424.265625 73.019531 424.265625 73.019531 421.660156 C 73.019531 419.054688 76.929688 419.054688 76.929688 421.660156 \"/>\n",
       "<path fill-rule=\"nonzero\" fill=\"rgb(0%, 0%, 0%)\" fill-opacity=\"0.2\" stroke-width=\"0.708661\" stroke-linecap=\"round\" stroke-linejoin=\"round\" stroke=\"rgb(0%, 0%, 0%)\" stroke-opacity=\"0.2\" stroke-miterlimit=\"10\" d=\"M 75.441406 467.234375 C 75.441406 469.839844 71.53125 469.839844 71.53125 467.234375 C 71.53125 464.628906 75.441406 464.628906 75.441406 467.234375 \"/>\n",
       "<path fill-rule=\"nonzero\" fill=\"rgb(0%, 0%, 0%)\" fill-opacity=\"0.2\" stroke-width=\"0.708661\" stroke-linecap=\"round\" stroke-linejoin=\"round\" stroke=\"rgb(0%, 0%, 0%)\" stroke-opacity=\"0.2\" stroke-miterlimit=\"10\" d=\"M 75.015625 467.234375 C 75.015625 469.839844 71.105469 469.839844 71.105469 467.234375 C 71.105469 464.628906 75.015625 464.628906 75.015625 467.234375 \"/>\n",
       "<path fill-rule=\"nonzero\" fill=\"rgb(0%, 0%, 0%)\" fill-opacity=\"0.2\" stroke-width=\"0.708661\" stroke-linecap=\"round\" stroke-linejoin=\"round\" stroke=\"rgb(0%, 0%, 0%)\" stroke-opacity=\"0.2\" stroke-miterlimit=\"10\" d=\"M 75.015625 467.234375 C 75.015625 469.839844 71.105469 469.839844 71.105469 467.234375 C 71.105469 464.628906 75.015625 464.628906 75.015625 467.234375 \"/>\n",
       "<path fill-rule=\"nonzero\" fill=\"rgb(0%, 0%, 0%)\" fill-opacity=\"0.2\" stroke-width=\"0.708661\" stroke-linecap=\"round\" stroke-linejoin=\"round\" stroke=\"rgb(0%, 0%, 0%)\" stroke-opacity=\"0.2\" stroke-miterlimit=\"10\" d=\"M 75.652344 446.980469 C 75.652344 449.585938 71.746094 449.585938 71.746094 446.980469 C 71.746094 444.371094 75.652344 444.371094 75.652344 446.980469 \"/>\n",
       "<path fill-rule=\"nonzero\" fill=\"rgb(0%, 0%, 0%)\" fill-opacity=\"0.2\" stroke-width=\"0.708661\" stroke-linecap=\"round\" stroke-linejoin=\"round\" stroke=\"rgb(0%, 0%, 0%)\" stroke-opacity=\"0.2\" stroke-miterlimit=\"10\" d=\"M 78.628906 391.277344 C 78.628906 393.882812 74.71875 393.882812 74.71875 391.277344 C 74.71875 388.671875 78.628906 388.671875 78.628906 391.277344 \"/>\n",
       "<path fill-rule=\"nonzero\" fill=\"rgb(0%, 0%, 0%)\" fill-opacity=\"0.2\" stroke-width=\"0.708661\" stroke-linecap=\"round\" stroke-linejoin=\"round\" stroke=\"rgb(0%, 0%, 0%)\" stroke-opacity=\"0.2\" stroke-miterlimit=\"10\" d=\"M 74.804688 452.042969 C 74.804688 454.648438 70.894531 454.648438 70.894531 452.042969 C 70.894531 449.4375 74.804688 449.4375 74.804688 452.042969 \"/>\n",
       "<path fill-rule=\"nonzero\" fill=\"rgb(0%, 0%, 0%)\" fill-opacity=\"0.2\" stroke-width=\"0.708661\" stroke-linecap=\"round\" stroke-linejoin=\"round\" stroke=\"rgb(0%, 0%, 0%)\" stroke-opacity=\"0.2\" stroke-miterlimit=\"10\" d=\"M 74.804688 300.128906 C 74.804688 302.734375 70.894531 302.734375 70.894531 300.128906 C 70.894531 297.519531 74.804688 297.519531 74.804688 300.128906 \"/>\n",
       "<path fill-rule=\"nonzero\" fill=\"rgb(0%, 0%, 0%)\" fill-opacity=\"0.2\" stroke-width=\"0.708661\" stroke-linecap=\"round\" stroke-linejoin=\"round\" stroke=\"rgb(0%, 0%, 0%)\" stroke-opacity=\"0.2\" stroke-miterlimit=\"10\" d=\"M 74.804688 467.234375 C 74.804688 469.839844 70.894531 469.839844 70.894531 467.234375 C 70.894531 464.628906 74.804688 464.628906 74.804688 467.234375 \"/>\n",
       "<path fill-rule=\"nonzero\" fill=\"rgb(0%, 0%, 0%)\" fill-opacity=\"0.2\" stroke-width=\"0.708661\" stroke-linecap=\"round\" stroke-linejoin=\"round\" stroke=\"rgb(0%, 0%, 0%)\" stroke-opacity=\"0.2\" stroke-miterlimit=\"10\" d=\"M 75.441406 467.234375 C 75.441406 469.839844 71.53125 469.839844 71.53125 467.234375 C 71.53125 464.628906 75.441406 464.628906 75.441406 467.234375 \"/>\n",
       "<path fill-rule=\"nonzero\" fill=\"rgb(0%, 0%, 0%)\" fill-opacity=\"0.2\" stroke-width=\"0.708661\" stroke-linecap=\"round\" stroke-linejoin=\"round\" stroke=\"rgb(0%, 0%, 0%)\" stroke-opacity=\"0.2\" stroke-miterlimit=\"10\" d=\"M 74.804688 467.234375 C 74.804688 469.839844 70.894531 469.839844 70.894531 467.234375 C 70.894531 464.628906 74.804688 464.628906 74.804688 467.234375 \"/>\n",
       "<path fill-rule=\"nonzero\" fill=\"rgb(0%, 0%, 0%)\" fill-opacity=\"0.2\" stroke-width=\"0.708661\" stroke-linecap=\"round\" stroke-linejoin=\"round\" stroke=\"rgb(0%, 0%, 0%)\" stroke-opacity=\"0.2\" stroke-miterlimit=\"10\" d=\"M 80.539062 446.980469 C 80.539062 449.585938 76.628906 449.585938 76.628906 446.980469 C 76.628906 444.371094 80.539062 444.371094 80.539062 446.980469 \"/>\n",
       "<path fill-rule=\"nonzero\" fill=\"rgb(0%, 0%, 0%)\" fill-opacity=\"0.2\" stroke-width=\"0.708661\" stroke-linecap=\"round\" stroke-linejoin=\"round\" stroke=\"rgb(0%, 0%, 0%)\" stroke-opacity=\"0.2\" stroke-miterlimit=\"10\" d=\"M 75.652344 467.234375 C 75.652344 469.839844 71.746094 469.839844 71.746094 467.234375 C 71.746094 464.628906 75.652344 464.628906 75.652344 467.234375 \"/>\n",
       "<path fill-rule=\"nonzero\" fill=\"rgb(0%, 0%, 0%)\" fill-opacity=\"0.2\" stroke-width=\"0.708661\" stroke-linecap=\"round\" stroke-linejoin=\"round\" stroke=\"rgb(0%, 0%, 0%)\" stroke-opacity=\"0.2\" stroke-miterlimit=\"10\" d=\"M 75.015625 467.234375 C 75.015625 469.839844 71.105469 469.839844 71.105469 467.234375 C 71.105469 464.628906 75.015625 464.628906 75.015625 467.234375 \"/>\n",
       "<path fill-rule=\"nonzero\" fill=\"rgb(0%, 0%, 0%)\" fill-opacity=\"0.2\" stroke-width=\"0.708661\" stroke-linecap=\"round\" stroke-linejoin=\"round\" stroke=\"rgb(0%, 0%, 0%)\" stroke-opacity=\"0.2\" stroke-miterlimit=\"10\" d=\"M 79.265625 431.789062 C 79.265625 434.394531 75.355469 434.394531 75.355469 431.789062 C 75.355469 429.179688 79.265625 429.179688 79.265625 431.789062 \"/>\n",
       "<path fill-rule=\"nonzero\" fill=\"rgb(0%, 0%, 0%)\" fill-opacity=\"0.2\" stroke-width=\"0.708661\" stroke-linecap=\"round\" stroke-linejoin=\"round\" stroke=\"rgb(0%, 0%, 0%)\" stroke-opacity=\"0.2\" stroke-miterlimit=\"10\" d=\"M 76.503906 441.914062 C 76.503906 444.519531 72.59375 444.519531 72.59375 441.914062 C 72.59375 439.308594 76.503906 439.308594 76.503906 441.914062 \"/>\n",
       "<path fill-rule=\"nonzero\" fill=\"rgb(0%, 0%, 0%)\" fill-opacity=\"0.2\" stroke-width=\"0.708661\" stroke-linecap=\"round\" stroke-linejoin=\"round\" stroke=\"rgb(0%, 0%, 0%)\" stroke-opacity=\"0.2\" stroke-miterlimit=\"10\" d=\"M 75.230469 467.234375 C 75.230469 469.839844 71.320312 469.839844 71.320312 467.234375 C 71.320312 464.628906 75.230469 464.628906 75.230469 467.234375 \"/>\n",
       "<path fill-rule=\"nonzero\" fill=\"rgb(0%, 0%, 0%)\" fill-opacity=\"0.2\" stroke-width=\"0.708661\" stroke-linecap=\"round\" stroke-linejoin=\"round\" stroke=\"rgb(0%, 0%, 0%)\" stroke-opacity=\"0.2\" stroke-miterlimit=\"10\" d=\"M 142.789062 441.914062 C 142.789062 444.519531 138.878906 444.519531 138.878906 441.914062 C 138.878906 439.308594 142.789062 439.308594 142.789062 441.914062 \"/>\n",
       "<path fill-rule=\"nonzero\" fill=\"rgb(0%, 0%, 0%)\" fill-opacity=\"0.2\" stroke-width=\"0.708661\" stroke-linecap=\"round\" stroke-linejoin=\"round\" stroke=\"rgb(0%, 0%, 0%)\" stroke-opacity=\"0.2\" stroke-miterlimit=\"10\" d=\"M 78.414062 467.234375 C 78.414062 469.839844 74.507812 469.839844 74.507812 467.234375 C 74.507812 464.628906 78.414062 464.628906 78.414062 467.234375 \"/>\n",
       "<path fill-rule=\"nonzero\" fill=\"rgb(0%, 0%, 0%)\" fill-opacity=\"0.2\" stroke-width=\"0.708661\" stroke-linecap=\"round\" stroke-linejoin=\"round\" stroke=\"rgb(0%, 0%, 0%)\" stroke-opacity=\"0.2\" stroke-miterlimit=\"10\" d=\"M 75.015625 462.171875 C 75.015625 464.777344 71.105469 464.777344 71.105469 462.171875 C 71.105469 459.5625 75.015625 459.5625 75.015625 462.171875 \"/>\n",
       "<path fill-rule=\"nonzero\" fill=\"rgb(0%, 0%, 0%)\" fill-opacity=\"0.2\" stroke-width=\"0.708661\" stroke-linecap=\"round\" stroke-linejoin=\"round\" stroke=\"rgb(0%, 0%, 0%)\" stroke-opacity=\"0.2\" stroke-miterlimit=\"10\" d=\"M 75.015625 330.511719 C 75.015625 333.117188 71.105469 333.117188 71.105469 330.511719 C 71.105469 327.902344 75.015625 327.902344 75.015625 330.511719 \"/>\n",
       "<path fill-rule=\"nonzero\" fill=\"rgb(0%, 0%, 0%)\" fill-opacity=\"0.2\" stroke-width=\"0.708661\" stroke-linecap=\"round\" stroke-linejoin=\"round\" stroke=\"rgb(0%, 0%, 0%)\" stroke-opacity=\"0.2\" stroke-miterlimit=\"10\" d=\"M 74.804688 467.234375 C 74.804688 469.839844 70.894531 469.839844 70.894531 467.234375 C 70.894531 464.628906 74.804688 464.628906 74.804688 467.234375 \"/>\n",
       "<path fill-rule=\"nonzero\" fill=\"rgb(0%, 0%, 0%)\" fill-opacity=\"0.2\" stroke-width=\"0.708661\" stroke-linecap=\"round\" stroke-linejoin=\"round\" stroke=\"rgb(0%, 0%, 0%)\" stroke-opacity=\"0.2\" stroke-miterlimit=\"10\" d=\"M 74.804688 467.234375 C 74.804688 469.839844 70.894531 469.839844 70.894531 467.234375 C 70.894531 464.628906 74.804688 464.628906 74.804688 467.234375 \"/>\n",
       "<path fill-rule=\"nonzero\" fill=\"rgb(0%, 0%, 0%)\" fill-opacity=\"0.2\" stroke-width=\"0.708661\" stroke-linecap=\"round\" stroke-linejoin=\"round\" stroke=\"rgb(0%, 0%, 0%)\" stroke-opacity=\"0.2\" stroke-miterlimit=\"10\" d=\"M 74.804688 467.234375 C 74.804688 469.839844 70.894531 469.839844 70.894531 467.234375 C 70.894531 464.628906 74.804688 464.628906 74.804688 467.234375 \"/>\n",
       "<path fill-rule=\"nonzero\" fill=\"rgb(0%, 0%, 0%)\" fill-opacity=\"0.2\" stroke-width=\"0.708661\" stroke-linecap=\"round\" stroke-linejoin=\"round\" stroke=\"rgb(0%, 0%, 0%)\" stroke-opacity=\"0.2\" stroke-miterlimit=\"10\" d=\"M 74.804688 452.042969 C 74.804688 454.648438 70.894531 454.648438 70.894531 452.042969 C 70.894531 449.4375 74.804688 449.4375 74.804688 452.042969 \"/>\n",
       "<path fill-rule=\"nonzero\" fill=\"rgb(0%, 0%, 0%)\" fill-opacity=\"0.2\" stroke-width=\"0.708661\" stroke-linecap=\"round\" stroke-linejoin=\"round\" stroke=\"rgb(0%, 0%, 0%)\" stroke-opacity=\"0.2\" stroke-miterlimit=\"10\" d=\"M 74.804688 467.234375 C 74.804688 469.839844 70.894531 469.839844 70.894531 467.234375 C 70.894531 464.628906 74.804688 464.628906 74.804688 467.234375 \"/>\n",
       "<path fill-rule=\"nonzero\" fill=\"rgb(0%, 0%, 0%)\" fill-opacity=\"0.2\" stroke-width=\"0.708661\" stroke-linecap=\"round\" stroke-linejoin=\"round\" stroke=\"rgb(0%, 0%, 0%)\" stroke-opacity=\"0.2\" stroke-miterlimit=\"10\" d=\"M 75.441406 441.914062 C 75.441406 444.519531 71.53125 444.519531 71.53125 441.914062 C 71.53125 439.308594 75.441406 439.308594 75.441406 441.914062 \"/>\n",
       "<path fill-rule=\"nonzero\" fill=\"rgb(0%, 0%, 0%)\" fill-opacity=\"0.2\" stroke-width=\"0.708661\" stroke-linecap=\"round\" stroke-linejoin=\"round\" stroke=\"rgb(0%, 0%, 0%)\" stroke-opacity=\"0.2\" stroke-miterlimit=\"10\" d=\"M 74.804688 467.234375 C 74.804688 469.839844 70.894531 469.839844 70.894531 467.234375 C 70.894531 464.628906 74.804688 464.628906 74.804688 467.234375 \"/>\n",
       "<path fill-rule=\"nonzero\" fill=\"rgb(0%, 0%, 0%)\" fill-opacity=\"0.2\" stroke-width=\"0.708661\" stroke-linecap=\"round\" stroke-linejoin=\"round\" stroke=\"rgb(0%, 0%, 0%)\" stroke-opacity=\"0.2\" stroke-miterlimit=\"10\" d=\"M 79.691406 467.234375 C 79.691406 469.839844 75.78125 469.839844 75.78125 467.234375 C 75.78125 464.628906 79.691406 464.628906 79.691406 467.234375 \"/>\n",
       "<path fill-rule=\"nonzero\" fill=\"rgb(0%, 0%, 0%)\" fill-opacity=\"0.2\" stroke-width=\"0.708661\" stroke-linecap=\"round\" stroke-linejoin=\"round\" stroke=\"rgb(0%, 0%, 0%)\" stroke-opacity=\"0.2\" stroke-miterlimit=\"10\" d=\"M 75.230469 92.511719 C 75.230469 95.117188 71.320312 95.117188 71.320312 92.511719 C 71.320312 89.902344 75.230469 89.902344 75.230469 92.511719 \"/>\n",
       "<g fill=\"rgb(30.196078%, 30.196078%, 30.196078%)\" fill-opacity=\"1\">\n",
       "<use xlink:href=\"#glyph-0-0\" x=\"30.21875\" y=\"430.80957\"/>\n",
       "<use xlink:href=\"#glyph-0-1\" x=\"37.21875\" y=\"430.80957\"/>\n",
       "</g>\n",
       "<g fill=\"rgb(30.196078%, 30.196078%, 30.196078%)\" fill-opacity=\"1\">\n",
       "<use xlink:href=\"#glyph-0-1\" x=\"30.21875\" y=\"304.21582\"/>\n",
       "<use xlink:href=\"#glyph-0-2\" x=\"37.21875\" y=\"304.21582\"/>\n",
       "</g>\n",
       "<g fill=\"rgb(30.196078%, 30.196078%, 30.196078%)\" fill-opacity=\"1\">\n",
       "<use xlink:href=\"#glyph-0-3\" x=\"30.21875\" y=\"177.618164\"/>\n",
       "<use xlink:href=\"#glyph-0-1\" x=\"37.21875\" y=\"177.618164\"/>\n",
       "</g>\n",
       "<g fill=\"rgb(30.196078%, 30.196078%, 30.196078%)\" fill-opacity=\"1\">\n",
       "<use xlink:href=\"#glyph-0-4\" x=\"23.21875\" y=\"51.020508\"/>\n",
       "<use xlink:href=\"#glyph-0-2\" x=\"30.21875\" y=\"51.020508\"/>\n",
       "<use xlink:href=\"#glyph-0-2\" x=\"37.21875\" y=\"51.020508\"/>\n",
       "</g>\n",
       "<path fill=\"none\" stroke-width=\"1.066978\" stroke-linecap=\"butt\" stroke-linejoin=\"round\" stroke=\"rgb(20%, 20%, 20%)\" stroke-opacity=\"1\" stroke-miterlimit=\"10\" d=\"M 46.410156 426.722656 L 49.152344 426.722656 \"/>\n",
       "<path fill=\"none\" stroke-width=\"1.066978\" stroke-linecap=\"butt\" stroke-linejoin=\"round\" stroke=\"rgb(20%, 20%, 20%)\" stroke-opacity=\"1\" stroke-miterlimit=\"10\" d=\"M 46.410156 300.128906 L 49.152344 300.128906 \"/>\n",
       "<path fill=\"none\" stroke-width=\"1.066978\" stroke-linecap=\"butt\" stroke-linejoin=\"round\" stroke=\"rgb(20%, 20%, 20%)\" stroke-opacity=\"1\" stroke-miterlimit=\"10\" d=\"M 46.410156 173.53125 L 49.152344 173.53125 \"/>\n",
       "<path fill=\"none\" stroke-width=\"1.066978\" stroke-linecap=\"butt\" stroke-linejoin=\"round\" stroke=\"rgb(20%, 20%, 20%)\" stroke-opacity=\"1\" stroke-miterlimit=\"10\" d=\"M 46.410156 46.933594 L 49.152344 46.933594 \"/>\n",
       "<path fill=\"none\" stroke-width=\"1.066978\" stroke-linecap=\"butt\" stroke-linejoin=\"round\" stroke=\"rgb(20%, 20%, 20%)\" stroke-opacity=\"1\" stroke-miterlimit=\"10\" d=\"M 72.847656 538.589844 L 72.847656 535.847656 \"/>\n",
       "<path fill=\"none\" stroke-width=\"1.066978\" stroke-linecap=\"butt\" stroke-linejoin=\"round\" stroke=\"rgb(20%, 20%, 20%)\" stroke-opacity=\"1\" stroke-miterlimit=\"10\" d=\"M 179.074219 538.589844 L 179.074219 535.847656 \"/>\n",
       "<path fill=\"none\" stroke-width=\"1.066978\" stroke-linecap=\"butt\" stroke-linejoin=\"round\" stroke=\"rgb(20%, 20%, 20%)\" stroke-opacity=\"1\" stroke-miterlimit=\"10\" d=\"M 285.296875 538.589844 L 285.296875 535.847656 \"/>\n",
       "<path fill=\"none\" stroke-width=\"1.066978\" stroke-linecap=\"butt\" stroke-linejoin=\"round\" stroke=\"rgb(20%, 20%, 20%)\" stroke-opacity=\"1\" stroke-miterlimit=\"10\" d=\"M 391.523438 538.589844 L 391.523438 535.847656 \"/>\n",
       "<path fill=\"none\" stroke-width=\"1.066978\" stroke-linecap=\"butt\" stroke-linejoin=\"round\" stroke=\"rgb(20%, 20%, 20%)\" stroke-opacity=\"1\" stroke-miterlimit=\"10\" d=\"M 497.746094 538.589844 L 497.746094 535.847656 \"/>\n",
       "<g fill=\"rgb(30.196078%, 30.196078%, 30.196078%)\" fill-opacity=\"1\">\n",
       "<use xlink:href=\"#glyph-0-2\" x=\"69.347656\" y=\"549.368164\"/>\n",
       "</g>\n",
       "<g fill=\"rgb(30.196078%, 30.196078%, 30.196078%)\" fill-opacity=\"1\">\n",
       "<use xlink:href=\"#glyph-0-1\" x=\"172.074219\" y=\"549.368164\"/>\n",
       "<use xlink:href=\"#glyph-0-2\" x=\"179.074219\" y=\"549.368164\"/>\n",
       "</g>\n",
       "<g fill=\"rgb(30.196078%, 30.196078%, 30.196078%)\" fill-opacity=\"1\">\n",
       "<use xlink:href=\"#glyph-0-4\" x=\"274.796875\" y=\"549.368164\"/>\n",
       "<use xlink:href=\"#glyph-0-2\" x=\"281.796875\" y=\"549.368164\"/>\n",
       "<use xlink:href=\"#glyph-0-2\" x=\"288.796875\" y=\"549.368164\"/>\n",
       "</g>\n",
       "<g fill=\"rgb(30.196078%, 30.196078%, 30.196078%)\" fill-opacity=\"1\">\n",
       "<use xlink:href=\"#glyph-0-4\" x=\"381.023438\" y=\"549.368164\"/>\n",
       "<use xlink:href=\"#glyph-0-1\" x=\"388.023438\" y=\"549.368164\"/>\n",
       "<use xlink:href=\"#glyph-0-2\" x=\"395.023438\" y=\"549.368164\"/>\n",
       "</g>\n",
       "<g fill=\"rgb(30.196078%, 30.196078%, 30.196078%)\" fill-opacity=\"1\">\n",
       "<use xlink:href=\"#glyph-0-0\" x=\"487.246094\" y=\"549.368164\"/>\n",
       "<use xlink:href=\"#glyph-0-2\" x=\"494.246094\" y=\"549.368164\"/>\n",
       "<use xlink:href=\"#glyph-0-2\" x=\"501.246094\" y=\"549.368164\"/>\n",
       "</g>\n",
       "<g fill=\"rgb(0%, 0%, 0%)\" fill-opacity=\"1\">\n",
       "<use xlink:href=\"#glyph-1-0\" x=\"232.835938\" y=\"567.003906\"/>\n",
       "<use xlink:href=\"#glyph-1-1\" x=\"240.835938\" y=\"567.003906\"/>\n",
       "<use xlink:href=\"#glyph-1-2\" x=\"249.835938\" y=\"567.003906\"/>\n",
       "<use xlink:href=\"#glyph-1-3\" x=\"253.835938\" y=\"567.003906\"/>\n",
       "<use xlink:href=\"#glyph-1-4\" x=\"262.835938\" y=\"567.003906\"/>\n",
       "<use xlink:href=\"#glyph-1-5\" x=\"266.835938\" y=\"567.003906\"/>\n",
       "<use xlink:href=\"#glyph-1-6\" x=\"270.835938\" y=\"567.003906\"/>\n",
       "<use xlink:href=\"#glyph-1-4\" x=\"281.835938\" y=\"567.003906\"/>\n",
       "<use xlink:href=\"#glyph-1-3\" x=\"285.835938\" y=\"567.003906\"/>\n",
       "<use xlink:href=\"#glyph-1-7\" x=\"294.835938\" y=\"567.003906\"/>\n",
       "<use xlink:href=\"#glyph-1-2\" x=\"302.835938\" y=\"567.003906\"/>\n",
       "<use xlink:href=\"#glyph-1-8\" x=\"306.835938\" y=\"567.003906\"/>\n",
       "<use xlink:href=\"#glyph-1-9\" x=\"310.835938\" y=\"567.003906\"/>\n",
       "<use xlink:href=\"#glyph-1-10\" x=\"323.835938\" y=\"567.003906\"/>\n",
       "<use xlink:href=\"#glyph-1-5\" x=\"332.835938\" y=\"567.003906\"/>\n",
       "<use xlink:href=\"#glyph-1-11\" x=\"336.835938\" y=\"567.003906\"/>\n",
       "<use xlink:href=\"#glyph-1-12\" x=\"341.835938\" y=\"567.003906\"/>\n",
       "<use xlink:href=\"#glyph-1-1\" x=\"350.835938\" y=\"567.003906\"/>\n",
       "<use xlink:href=\"#glyph-1-13\" x=\"359.835938\" y=\"567.003906\"/>\n",
       "<use xlink:href=\"#glyph-1-14\" x=\"368.835938\" y=\"567.003906\"/>\n",
       "<use xlink:href=\"#glyph-1-15\" x=\"373.835938\" y=\"567.003906\"/>\n",
       "<use xlink:href=\"#glyph-1-16\" x=\"381.835938\" y=\"567.003906\"/>\n",
       "</g>\n",
       "<g fill=\"rgb(0%, 0%, 0%)\" fill-opacity=\"1\">\n",
       "<use xlink:href=\"#glyph-2-0\" x=\"16.964844\" y=\"323.402344\"/>\n",
       "<use xlink:href=\"#glyph-2-1\" x=\"16.964844\" y=\"312.402344\"/>\n",
       "<use xlink:href=\"#glyph-2-2\" x=\"16.964844\" y=\"303.402344\"/>\n",
       "<use xlink:href=\"#glyph-2-3\" x=\"16.964844\" y=\"294.402344\"/>\n",
       "<use xlink:href=\"#glyph-2-4\" x=\"16.964844\" y=\"290.402344\"/>\n",
       "<use xlink:href=\"#glyph-2-5\" x=\"16.964844\" y=\"285.402344\"/>\n",
       "<use xlink:href=\"#glyph-2-2\" x=\"16.964844\" y=\"277.402344\"/>\n",
       "<use xlink:href=\"#glyph-2-6\" x=\"16.964844\" y=\"268.402344\"/>\n",
       "<use xlink:href=\"#glyph-2-7\" x=\"16.964844\" y=\"259.402344\"/>\n",
       "<use xlink:href=\"#glyph-2-8\" x=\"16.964844\" y=\"254.402344\"/>\n",
       "<use xlink:href=\"#glyph-2-9\" x=\"16.964844\" y=\"246.402344\"/>\n",
       "</g>\n",
       "<g fill=\"rgb(0%, 0%, 0%)\" fill-opacity=\"1\">\n",
       "<use xlink:href=\"#glyph-3-0\" x=\"49.152344\" y=\"18.861328\"/>\n",
       "<use xlink:href=\"#glyph-3-1\" x=\"59.152344\" y=\"18.861328\"/>\n",
       "<use xlink:href=\"#glyph-3-2\" x=\"70.152344\" y=\"18.861328\"/>\n",
       "<use xlink:href=\"#glyph-3-3\" x=\"75.152344\" y=\"18.861328\"/>\n",
       "<use xlink:href=\"#glyph-3-4\" x=\"86.152344\" y=\"18.861328\"/>\n",
       "<use xlink:href=\"#glyph-3-5\" x=\"90.152344\" y=\"18.861328\"/>\n",
       "<use xlink:href=\"#glyph-3-6\" x=\"95.152344\" y=\"18.861328\"/>\n",
       "<use xlink:href=\"#glyph-3-4\" x=\"108.152344\" y=\"18.861328\"/>\n",
       "<use xlink:href=\"#glyph-3-3\" x=\"112.152344\" y=\"18.861328\"/>\n",
       "<use xlink:href=\"#glyph-3-7\" x=\"123.152344\" y=\"18.861328\"/>\n",
       "<use xlink:href=\"#glyph-3-2\" x=\"133.152344\" y=\"18.861328\"/>\n",
       "<use xlink:href=\"#glyph-3-8\" x=\"138.152344\" y=\"18.861328\"/>\n",
       "<use xlink:href=\"#glyph-3-9\" x=\"142.152344\" y=\"18.861328\"/>\n",
       "<use xlink:href=\"#glyph-3-10\" x=\"158.152344\" y=\"18.861328\"/>\n",
       "<use xlink:href=\"#glyph-3-5\" x=\"169.152344\" y=\"18.861328\"/>\n",
       "<use xlink:href=\"#glyph-3-11\" x=\"174.152344\" y=\"18.861328\"/>\n",
       "<use xlink:href=\"#glyph-3-12\" x=\"184.152344\" y=\"18.861328\"/>\n",
       "<use xlink:href=\"#glyph-3-13\" x=\"194.152344\" y=\"18.861328\"/>\n",
       "<use xlink:href=\"#glyph-3-5\" x=\"199.152344\" y=\"18.861328\"/>\n",
       "<use xlink:href=\"#glyph-3-14\" x=\"203.152344\" y=\"18.861328\"/>\n",
       "<use xlink:href=\"#glyph-3-15\" x=\"216.152344\" y=\"18.861328\"/>\n",
       "<use xlink:href=\"#glyph-3-10\" x=\"227.152344\" y=\"18.861328\"/>\n",
       "</g>\n",
       "</svg>\n"
      ],
      "text/plain": [
       "plot without title"
      ]
     },
     "metadata": {
      "application/pdf": {
       "height": 480,
       "width": 480
      },
      "image/jpeg": {
       "height": 480,
       "width": 480
      },
      "image/png": {
       "height": 480,
       "width": 480
      },
      "image/svg+xml": {
       "height": 480,
       "isolated": true,
       "width": 480
      }
     },
     "output_type": "display_data"
    }
   ],
   "source": [
    "options(repr.plot.width = 8, repr.plot.height = 8)\n",
    "\n",
    "age_playtime <- data |>\n",
    "ggplot(aes(x = played_hours, y = age)) +\n",
    "geom_point(alpha = 0.2) +\n",
    "labs(x = \"Total Playtime (hours)\", y = \"Age (years)\") +\n",
    "ggtitle(\"Total Playtime vs. Age\") +\n",
    "theme(text = element_text(size = 16))\n",
    "\n",
    "age_playtime"
   ]
  },
  {
   "cell_type": "markdown",
   "id": "7854deb7-f479-4cf9-9609-aea885a16ef6",
   "metadata": {},
   "source": [
    "From this figure, we can conclude that the dataset includes mostly players who are young (< 25 years) and play very few hours. Among the players that *do* play many hours (e.g. more than 25 hours), most of them are young (< 25 years).\n",
    "\n",
    "From Figure 1, the relationship between `age` and `played_hours` is not especially clear, but perhaps it could be weakly negative and linear. There seem to be a few outliers (e.g. an individual who has played nearly 250 hours) and a lot of zero-hour plays.\n",
    "\n",
    "We would like to further explore the relationship between `age` and `played_hours`. Since both variables are numeric, and we see a slight indication of a linear relationship, we'll try a **linear regression**. Since we would like to know the characteristics of players that contribute a large amount of data, we will create a model that predicts `age` using `played_hours`. If our model is accurate-- in other words, if the $RMSE$ and $RMSPE$ are low enough-- we will conclude that player's *age* can help us to predict their *played hours*."
   ]
  },
  {
   "cell_type": "markdown",
   "id": "99d0ffa9-5d8d-4e12-bf7c-5226564c91ea",
   "metadata": {},
   "source": [
    "In this step, we will:\n",
    "\n",
    "- create a linear regression model specification, named `lm_spec`\n",
    "- create a recipe for `lm_spec`, named `data_recipe`\n",
    "- fit the model specification and recipe in a workflow, named `data_fit`"
   ]
  },
  {
   "cell_type": "code",
   "execution_count": 23,
   "id": "da011157-6236-4c0b-875a-24d1a8e0d7d2",
   "metadata": {},
   "outputs": [
    {
     "data": {
      "text/plain": [
       "══ Workflow [trained] ══════════════════════════════════════════════════════════\n",
       "\u001b[3mPreprocessor:\u001b[23m Recipe\n",
       "\u001b[3mModel:\u001b[23m linear_reg()\n",
       "\n",
       "── Preprocessor ────────────────────────────────────────────────────────────────\n",
       "0 Recipe Steps\n",
       "\n",
       "── Model ───────────────────────────────────────────────────────────────────────\n",
       "\n",
       "Call:\n",
       "stats::lm(formula = ..y ~ ., data = data)\n",
       "\n",
       "Coefficients:\n",
       " (Intercept)  played_hours  \n",
       "    21.69401      -0.02578  \n"
      ]
     },
     "metadata": {},
     "output_type": "display_data"
    }
   ],
   "source": [
    "lm_spec <- linear_reg() |> \n",
    "       set_engine(\"lm\") |>\n",
    "       set_mode(\"regression\")\n",
    "\n",
    "data_recipe <- recipe(age ~ played_hours, data = data_training)\n",
    "\n",
    "data_fit <- workflow() |>\n",
    "       add_recipe(data_recipe) |>\n",
    "       add_model(lm_spec) |>\n",
    "       fit(data = data_training)\n",
    "\n",
    "data_fit"
   ]
  },
  {
   "cell_type": "markdown",
   "id": "3450e080-71af-48c2-8375-1abbaa5a93a6",
   "metadata": {},
   "source": [
    "<br>\n",
    "The equation of the line indicates that when played_hours is 0, the predicated age is 22. From the y-intercept (age) of 22, the average player's age decreases, at the rate of 0.02578 years per hour of playtime.\n",
    "\n",
    "<br>\n",
    "<br>\n",
    "Next, we will calculate the $RMSE$ to assess the goodness of fit on `data_fit`.\n",
    "\n",
    "Note that this is going to tell us how well the model predicts the **training data** used to fit the model."
   ]
  },
  {
   "cell_type": "code",
   "execution_count": 24,
   "id": "f87e3fd3-b3d6-4770-82a1-d83d25dd71b8",
   "metadata": {},
   "outputs": [
    {
     "data": {
      "text/html": [
       "11.0208473104685"
      ],
      "text/latex": [
       "11.0208473104685"
      ],
      "text/markdown": [
       "11.0208473104685"
      ],
      "text/plain": [
       "[1] 11.02085"
      ]
     },
     "metadata": {},
     "output_type": "display_data"
    }
   ],
   "source": [
    "lm_rmse <- data_fit |>\n",
    "         predict(data_training) |>\n",
    "         bind_cols(data_training) |>\n",
    "         metrics(truth = age, estimate = .pred) |>\n",
    "         filter(.metric == \"rmse\") |>\n",
    "         select(.estimate) |>\n",
    "         pull()\n",
    "\n",
    "lm_rmse"
   ]
  },
  {
   "cell_type": "markdown",
   "id": "e1fb300a-8aab-4a63-805a-da5d15f260ca",
   "metadata": {},
   "source": [
    "The $RMSE$ of 11.02 tells us that the training data points on the scatterplot were off by an average distance of 11.02 years from the line of best fit.\n",
    "\n",
    "We calculate the $RMSPE$ by completing the same process on the **testing data**."
   ]
  },
  {
   "cell_type": "code",
   "execution_count": 25,
   "id": "a6269dda-112f-4621-adb0-247be55dc9b7",
   "metadata": {},
   "outputs": [
    {
     "data": {
      "text/html": [
       "5.78311112161356"
      ],
      "text/latex": [
       "5.78311112161356"
      ],
      "text/markdown": [
       "5.78311112161356"
      ],
      "text/plain": [
       "[1] 5.783111"
      ]
     },
     "metadata": {},
     "output_type": "display_data"
    }
   ],
   "source": [
    "lm_rmspe <- data_fit |>\n",
    "         predict(data_testing) |>\n",
    "         bind_cols(data_testing) |>\n",
    "         metrics(truth = age, estimate = .pred) |>\n",
    "         filter(.metric == \"rmse\") |>\n",
    "         select(.estimate) |>\n",
    "         pull()\n",
    "\n",
    "lm_rmspe"
   ]
  },
  {
   "cell_type": "markdown",
   "id": "44af603a-36b8-4bfe-887d-224296c61e5f",
   "metadata": {},
   "source": [
    "The $RMSPE$ of 5.78 tells us that the training data points on the scatterplot were off by an average distance of 5.78 years from the line of best fit.\n",
    "\n",
    "Especially considering the dataset mostly consists of players < 30 years, a 5.78 difference in predicted age is substantial. Using `played_hours` as a predictor does not result in a particularily accurate prediction.\n",
    "\n",
    "The outliers mentioned earlier (i.e. points of astonishingly high play times and points of surprisingly advanced age) may contribue to this. We identify them, by ordering the data frame in **descending order** for each variable, using the `arrange` function."
   ]
  },
  {
   "cell_type": "markdown",
   "id": "e1470e69-4621-4d30-8c3f-790f76cbdba2",
   "metadata": {},
   "source": [
    "**<h4>Table 2. All Players, in descending order of `age`**"
   ]
  },
  {
   "cell_type": "code",
   "execution_count": 26,
   "id": "8e7ec9c1-55aa-4218-939e-eb6b0ea8d807",
   "metadata": {},
   "outputs": [
    {
     "data": {
      "text/html": [
       "<table class=\"dataframe\">\n",
       "<caption>A tibble: 6 × 8</caption>\n",
       "<thead>\n",
       "\t<tr><th scope=col>experience</th><th scope=col>subscribe</th><th scope=col>hashedEmail</th><th scope=col>played_hours</th><th scope=col>name</th><th scope=col>gender</th><th scope=col>age</th><th scope=col>number_of_sessions</th></tr>\n",
       "\t<tr><th scope=col>&lt;fct&gt;</th><th scope=col>&lt;lgl&gt;</th><th scope=col>&lt;chr&gt;</th><th scope=col>&lt;dbl&gt;</th><th scope=col>&lt;chr&gt;</th><th scope=col>&lt;fct&gt;</th><th scope=col>&lt;dbl&gt;</th><th scope=col>&lt;int&gt;</th></tr>\n",
       "</thead>\n",
       "<tbody>\n",
       "\t<tr><td>Regular</td><td> TRUE</td><td>7d71c49cbbce8dcf0276b2bfecfa2d16f22cb31a4024556d6085884298f2ee8d</td><td> 0.1</td><td>Devin    </td><td>Two-Spirited</td><td>99</td><td> 1</td></tr>\n",
       "\t<tr><td>Pro    </td><td> TRUE</td><td>d9473710057f7d42f36570f0be83817a4eea614029ff90cf50d8889cdd729d11</td><td> 0.2</td><td>Ahmed    </td><td>Other       </td><td>91</td><td> 1</td></tr>\n",
       "\t<tr><td>Regular</td><td>FALSE</td><td>7b17513f11968feaf6b02977885c436dc2a4549489ca25ef03022f9fbae19d81</td><td> 0.0</td><td>Balthazar</td><td>Male        </td><td>50</td><td> 1</td></tr>\n",
       "\t<tr><td>Regular</td><td> TRUE</td><td>c57fa94e436cf49a929d0168e47d26fec3d900b321775e280ef136979c01d5a4</td><td>18.5</td><td>Dante    </td><td>Male        </td><td>49</td><td>16</td></tr>\n",
       "\t<tr><td>Veteran</td><td>FALSE</td><td>4c0662a559f9d83b4d84ce3d86e6577c9f7a426c80465c6174321afd96664da5</td><td> 0.0</td><td>Selena   </td><td>Male        </td><td>46</td><td>NA</td></tr>\n",
       "\t<tr><td>Amateur</td><td>FALSE</td><td>6fa105fac7f4f37350f21830db78cde153d8edda41d6f4f2d48c9785d605c5e5</td><td> 0.1</td><td>Yosef    </td><td>Male        </td><td>45</td><td> 1</td></tr>\n",
       "</tbody>\n",
       "</table>\n"
      ],
      "text/latex": [
       "A tibble: 6 × 8\n",
       "\\begin{tabular}{llllllll}\n",
       " experience & subscribe & hashedEmail & played\\_hours & name & gender & age & number\\_of\\_sessions\\\\\n",
       " <fct> & <lgl> & <chr> & <dbl> & <chr> & <fct> & <dbl> & <int>\\\\\n",
       "\\hline\n",
       "\t Regular &  TRUE & 7d71c49cbbce8dcf0276b2bfecfa2d16f22cb31a4024556d6085884298f2ee8d &  0.1 & Devin     & Two-Spirited & 99 &  1\\\\\n",
       "\t Pro     &  TRUE & d9473710057f7d42f36570f0be83817a4eea614029ff90cf50d8889cdd729d11 &  0.2 & Ahmed     & Other        & 91 &  1\\\\\n",
       "\t Regular & FALSE & 7b17513f11968feaf6b02977885c436dc2a4549489ca25ef03022f9fbae19d81 &  0.0 & Balthazar & Male         & 50 &  1\\\\\n",
       "\t Regular &  TRUE & c57fa94e436cf49a929d0168e47d26fec3d900b321775e280ef136979c01d5a4 & 18.5 & Dante     & Male         & 49 & 16\\\\\n",
       "\t Veteran & FALSE & 4c0662a559f9d83b4d84ce3d86e6577c9f7a426c80465c6174321afd96664da5 &  0.0 & Selena    & Male         & 46 & NA\\\\\n",
       "\t Amateur & FALSE & 6fa105fac7f4f37350f21830db78cde153d8edda41d6f4f2d48c9785d605c5e5 &  0.1 & Yosef     & Male         & 45 &  1\\\\\n",
       "\\end{tabular}\n"
      ],
      "text/markdown": [
       "\n",
       "A tibble: 6 × 8\n",
       "\n",
       "| experience &lt;fct&gt; | subscribe &lt;lgl&gt; | hashedEmail &lt;chr&gt; | played_hours &lt;dbl&gt; | name &lt;chr&gt; | gender &lt;fct&gt; | age &lt;dbl&gt; | number_of_sessions &lt;int&gt; |\n",
       "|---|---|---|---|---|---|---|---|\n",
       "| Regular |  TRUE | 7d71c49cbbce8dcf0276b2bfecfa2d16f22cb31a4024556d6085884298f2ee8d |  0.1 | Devin     | Two-Spirited | 99 |  1 |\n",
       "| Pro     |  TRUE | d9473710057f7d42f36570f0be83817a4eea614029ff90cf50d8889cdd729d11 |  0.2 | Ahmed     | Other        | 91 |  1 |\n",
       "| Regular | FALSE | 7b17513f11968feaf6b02977885c436dc2a4549489ca25ef03022f9fbae19d81 |  0.0 | Balthazar | Male         | 50 |  1 |\n",
       "| Regular |  TRUE | c57fa94e436cf49a929d0168e47d26fec3d900b321775e280ef136979c01d5a4 | 18.5 | Dante     | Male         | 49 | 16 |\n",
       "| Veteran | FALSE | 4c0662a559f9d83b4d84ce3d86e6577c9f7a426c80465c6174321afd96664da5 |  0.0 | Selena    | Male         | 46 | NA |\n",
       "| Amateur | FALSE | 6fa105fac7f4f37350f21830db78cde153d8edda41d6f4f2d48c9785d605c5e5 |  0.1 | Yosef     | Male         | 45 |  1 |\n",
       "\n"
      ],
      "text/plain": [
       "  experience subscribe\n",
       "1 Regular     TRUE    \n",
       "2 Pro         TRUE    \n",
       "3 Regular    FALSE    \n",
       "4 Regular     TRUE    \n",
       "5 Veteran    FALSE    \n",
       "6 Amateur    FALSE    \n",
       "  hashedEmail                                                      played_hours\n",
       "1 7d71c49cbbce8dcf0276b2bfecfa2d16f22cb31a4024556d6085884298f2ee8d  0.1        \n",
       "2 d9473710057f7d42f36570f0be83817a4eea614029ff90cf50d8889cdd729d11  0.2        \n",
       "3 7b17513f11968feaf6b02977885c436dc2a4549489ca25ef03022f9fbae19d81  0.0        \n",
       "4 c57fa94e436cf49a929d0168e47d26fec3d900b321775e280ef136979c01d5a4 18.5        \n",
       "5 4c0662a559f9d83b4d84ce3d86e6577c9f7a426c80465c6174321afd96664da5  0.0        \n",
       "6 6fa105fac7f4f37350f21830db78cde153d8edda41d6f4f2d48c9785d605c5e5  0.1        \n",
       "  name      gender       age number_of_sessions\n",
       "1 Devin     Two-Spirited 99   1                \n",
       "2 Ahmed     Other        91   1                \n",
       "3 Balthazar Male         50   1                \n",
       "4 Dante     Male         49  16                \n",
       "5 Selena    Male         46  NA                \n",
       "6 Yosef     Male         45   1                "
      ]
     },
     "metadata": {},
     "output_type": "display_data"
    }
   ],
   "source": [
    "data_age_desc <- arrange(data, desc(age))\n",
    "head(data_age_desc)"
   ]
  },
  {
   "cell_type": "markdown",
   "id": "41affc54-0487-4c33-a16a-4de7ca36b715",
   "metadata": {},
   "source": [
    "(Only the head is displayed for the sake of readability.)"
   ]
  },
  {
   "cell_type": "markdown",
   "id": "160bd941-6e93-4590-ae76-f159eeff4a2f",
   "metadata": {},
   "source": [
    "**<h4>Table 3. All Players, in descending order of `played_hours`</h4>**"
   ]
  },
  {
   "cell_type": "code",
   "execution_count": 27,
   "id": "75b20f70-c354-4041-b8c0-052678556e66",
   "metadata": {},
   "outputs": [
    {
     "data": {
      "text/html": [
       "<table class=\"dataframe\">\n",
       "<caption>A tibble: 6 × 8</caption>\n",
       "<thead>\n",
       "\t<tr><th scope=col>experience</th><th scope=col>subscribe</th><th scope=col>hashedEmail</th><th scope=col>played_hours</th><th scope=col>name</th><th scope=col>gender</th><th scope=col>age</th><th scope=col>number_of_sessions</th></tr>\n",
       "\t<tr><th scope=col>&lt;fct&gt;</th><th scope=col>&lt;lgl&gt;</th><th scope=col>&lt;chr&gt;</th><th scope=col>&lt;dbl&gt;</th><th scope=col>&lt;chr&gt;</th><th scope=col>&lt;fct&gt;</th><th scope=col>&lt;dbl&gt;</th><th scope=col>&lt;int&gt;</th></tr>\n",
       "</thead>\n",
       "<tbody>\n",
       "\t<tr><td>Regular</td><td>TRUE</td><td>bfce39c89d6549f2bb94d8064d3ce69dc3d7e72b38f431d8aa0c4bf95ccee6bf</td><td>223.1</td><td>Hiroshi</td><td>Male      </td><td>17</td><td>219</td></tr>\n",
       "\t<tr><td>Regular</td><td>TRUE</td><td>b622593d2ef8b337dc554acb307d04a88114f2bf453b18fb5d2c80052aeb2319</td><td>218.1</td><td>Akio   </td><td>Non-binary</td><td>20</td><td> 95</td></tr>\n",
       "\t<tr><td>Regular</td><td>TRUE</td><td>ad6390295640af1ed0e45ffc58a53b2d9074b0eea694b16210addd44d7c81f83</td><td>178.2</td><td>Piper  </td><td>Female    </td><td>19</td><td>147</td></tr>\n",
       "\t<tr><td>Amateur</td><td>TRUE</td><td>f8f5477f5a2e53616ae37421b1c660b971192bd8ff77e3398304c7ae42581fdc</td><td>150.0</td><td>Delara </td><td>Female    </td><td>16</td><td>159</td></tr>\n",
       "\t<tr><td>Amateur</td><td>TRUE</td><td>fd6563a4e0f6f4273580e5fedbd8dda64990447aea5a33cbb5e894a3867ca44d</td><td> 56.1</td><td>Dana   </td><td>Male      </td><td>23</td><td>310</td></tr>\n",
       "\t<tr><td>Amateur</td><td>TRUE</td><td>36d9cbb4c6bc0c1a6911436d2da0d09ec625e43e6552f575d4acc9cf487c4686</td><td> 53.9</td><td>Alex   </td><td>Male      </td><td>17</td><td>130</td></tr>\n",
       "</tbody>\n",
       "</table>\n"
      ],
      "text/latex": [
       "A tibble: 6 × 8\n",
       "\\begin{tabular}{llllllll}\n",
       " experience & subscribe & hashedEmail & played\\_hours & name & gender & age & number\\_of\\_sessions\\\\\n",
       " <fct> & <lgl> & <chr> & <dbl> & <chr> & <fct> & <dbl> & <int>\\\\\n",
       "\\hline\n",
       "\t Regular & TRUE & bfce39c89d6549f2bb94d8064d3ce69dc3d7e72b38f431d8aa0c4bf95ccee6bf & 223.1 & Hiroshi & Male       & 17 & 219\\\\\n",
       "\t Regular & TRUE & b622593d2ef8b337dc554acb307d04a88114f2bf453b18fb5d2c80052aeb2319 & 218.1 & Akio    & Non-binary & 20 &  95\\\\\n",
       "\t Regular & TRUE & ad6390295640af1ed0e45ffc58a53b2d9074b0eea694b16210addd44d7c81f83 & 178.2 & Piper   & Female     & 19 & 147\\\\\n",
       "\t Amateur & TRUE & f8f5477f5a2e53616ae37421b1c660b971192bd8ff77e3398304c7ae42581fdc & 150.0 & Delara  & Female     & 16 & 159\\\\\n",
       "\t Amateur & TRUE & fd6563a4e0f6f4273580e5fedbd8dda64990447aea5a33cbb5e894a3867ca44d &  56.1 & Dana    & Male       & 23 & 310\\\\\n",
       "\t Amateur & TRUE & 36d9cbb4c6bc0c1a6911436d2da0d09ec625e43e6552f575d4acc9cf487c4686 &  53.9 & Alex    & Male       & 17 & 130\\\\\n",
       "\\end{tabular}\n"
      ],
      "text/markdown": [
       "\n",
       "A tibble: 6 × 8\n",
       "\n",
       "| experience &lt;fct&gt; | subscribe &lt;lgl&gt; | hashedEmail &lt;chr&gt; | played_hours &lt;dbl&gt; | name &lt;chr&gt; | gender &lt;fct&gt; | age &lt;dbl&gt; | number_of_sessions &lt;int&gt; |\n",
       "|---|---|---|---|---|---|---|---|\n",
       "| Regular | TRUE | bfce39c89d6549f2bb94d8064d3ce69dc3d7e72b38f431d8aa0c4bf95ccee6bf | 223.1 | Hiroshi | Male       | 17 | 219 |\n",
       "| Regular | TRUE | b622593d2ef8b337dc554acb307d04a88114f2bf453b18fb5d2c80052aeb2319 | 218.1 | Akio    | Non-binary | 20 |  95 |\n",
       "| Regular | TRUE | ad6390295640af1ed0e45ffc58a53b2d9074b0eea694b16210addd44d7c81f83 | 178.2 | Piper   | Female     | 19 | 147 |\n",
       "| Amateur | TRUE | f8f5477f5a2e53616ae37421b1c660b971192bd8ff77e3398304c7ae42581fdc | 150.0 | Delara  | Female     | 16 | 159 |\n",
       "| Amateur | TRUE | fd6563a4e0f6f4273580e5fedbd8dda64990447aea5a33cbb5e894a3867ca44d |  56.1 | Dana    | Male       | 23 | 310 |\n",
       "| Amateur | TRUE | 36d9cbb4c6bc0c1a6911436d2da0d09ec625e43e6552f575d4acc9cf487c4686 |  53.9 | Alex    | Male       | 17 | 130 |\n",
       "\n"
      ],
      "text/plain": [
       "  experience subscribe\n",
       "1 Regular    TRUE     \n",
       "2 Regular    TRUE     \n",
       "3 Regular    TRUE     \n",
       "4 Amateur    TRUE     \n",
       "5 Amateur    TRUE     \n",
       "6 Amateur    TRUE     \n",
       "  hashedEmail                                                      played_hours\n",
       "1 bfce39c89d6549f2bb94d8064d3ce69dc3d7e72b38f431d8aa0c4bf95ccee6bf 223.1       \n",
       "2 b622593d2ef8b337dc554acb307d04a88114f2bf453b18fb5d2c80052aeb2319 218.1       \n",
       "3 ad6390295640af1ed0e45ffc58a53b2d9074b0eea694b16210addd44d7c81f83 178.2       \n",
       "4 f8f5477f5a2e53616ae37421b1c660b971192bd8ff77e3398304c7ae42581fdc 150.0       \n",
       "5 fd6563a4e0f6f4273580e5fedbd8dda64990447aea5a33cbb5e894a3867ca44d  56.1       \n",
       "6 36d9cbb4c6bc0c1a6911436d2da0d09ec625e43e6552f575d4acc9cf487c4686  53.9       \n",
       "  name    gender     age number_of_sessions\n",
       "1 Hiroshi Male       17  219               \n",
       "2 Akio    Non-binary 20   95               \n",
       "3 Piper   Female     19  147               \n",
       "4 Delara  Female     16  159               \n",
       "5 Dana    Male       23  310               \n",
       "6 Alex    Male       17  130               "
      ]
     },
     "metadata": {},
     "output_type": "display_data"
    }
   ],
   "source": [
    "data_playtime_desc <- arrange(data, desc(played_hours))\n",
    "head(data_playtime_desc)"
   ]
  },
  {
   "cell_type": "markdown",
   "id": "5b75a3c6-8c91-468e-8bb0-85a472f702d6",
   "metadata": {},
   "source": [
    "(Only the head is displayed for the sake of readability.)"
   ]
  },
  {
   "cell_type": "markdown",
   "id": "88cbb66f-63f0-42d8-aaeb-2ae6571d438c",
   "metadata": {},
   "source": [
    "We can see that players **Devin, Ahmed, Hiroshi, Akio, Piper and Delara** have either:\n",
    "(1) playtimes that are orders of magnitude higher than most of the players, or \n",
    "(2) a very advanced age, compared to most other players. \n",
    "\n",
    "We suspect outliers of type (1) could represent e.g. research team members themselves, testing the environment. We only want to include participant player data. We suspect outliers of type (2) may be caused by players entering an inaccurate age. These outliers may be affecting our model's accuracy.\n",
    "\n",
    "We delete them from the data frame using the `filter` function."
   ]
  },
  {
   "cell_type": "code",
   "execution_count": 28,
   "id": "8896de71-2bf8-4d45-a874-30181e9cb7f0",
   "metadata": {},
   "outputs": [
    {
     "data": {
      "text/html": [
       "<table class=\"dataframe\">\n",
       "<caption>A tibble: 6 × 8</caption>\n",
       "<thead>\n",
       "\t<tr><th scope=col>experience</th><th scope=col>subscribe</th><th scope=col>hashedEmail</th><th scope=col>played_hours</th><th scope=col>name</th><th scope=col>gender</th><th scope=col>age</th><th scope=col>number_of_sessions</th></tr>\n",
       "\t<tr><th scope=col>&lt;fct&gt;</th><th scope=col>&lt;lgl&gt;</th><th scope=col>&lt;chr&gt;</th><th scope=col>&lt;dbl&gt;</th><th scope=col>&lt;chr&gt;</th><th scope=col>&lt;fct&gt;</th><th scope=col>&lt;dbl&gt;</th><th scope=col>&lt;int&gt;</th></tr>\n",
       "</thead>\n",
       "<tbody>\n",
       "\t<tr><td>Pro    </td><td> TRUE</td><td>f6daba428a5e19a3d47574858c13550499be23603422e6a0ee9728f8b53e192d</td><td>30.3</td><td>Morgan   </td><td>Male  </td><td> 9</td><td>27</td></tr>\n",
       "\t<tr><td>Veteran</td><td> TRUE</td><td>f3c813577c458ba0dfef80996f8f32c93b6e8af1fa939732842f2312358a88e9</td><td> 3.8</td><td>Christian</td><td>Male  </td><td>17</td><td> 3</td></tr>\n",
       "\t<tr><td>Veteran</td><td>FALSE</td><td>b674dd7ee0d24096d1c019615ce4d12b20fcbff12d79d3c5a9d2118eb7ccbb28</td><td> 0.0</td><td>Blake    </td><td>Male  </td><td>17</td><td> 1</td></tr>\n",
       "\t<tr><td>Amateur</td><td> TRUE</td><td>23fe711e0e3b77f1da7aa221ab1192afe21648d47d2b4fa7a5a659ff443a0eb5</td><td> 0.7</td><td>Flora    </td><td>Female</td><td>21</td><td> 1</td></tr>\n",
       "\t<tr><td>Regular</td><td> TRUE</td><td>7dc01f10bf20671ecfccdac23812b1b415acd42c2147cb0af4d48fcce2420f3e</td><td> 0.1</td><td>Kylie    </td><td>Male  </td><td>21</td><td> 1</td></tr>\n",
       "\t<tr><td>Amateur</td><td> TRUE</td><td>f58aad5996a435f16b0284a3b267f973f9af99e7a89bee0430055a44fa92f977</td><td> 0.0</td><td>Adrian   </td><td>Female</td><td>17</td><td>NA</td></tr>\n",
       "</tbody>\n",
       "</table>\n"
      ],
      "text/latex": [
       "A tibble: 6 × 8\n",
       "\\begin{tabular}{llllllll}\n",
       " experience & subscribe & hashedEmail & played\\_hours & name & gender & age & number\\_of\\_sessions\\\\\n",
       " <fct> & <lgl> & <chr> & <dbl> & <chr> & <fct> & <dbl> & <int>\\\\\n",
       "\\hline\n",
       "\t Pro     &  TRUE & f6daba428a5e19a3d47574858c13550499be23603422e6a0ee9728f8b53e192d & 30.3 & Morgan    & Male   &  9 & 27\\\\\n",
       "\t Veteran &  TRUE & f3c813577c458ba0dfef80996f8f32c93b6e8af1fa939732842f2312358a88e9 &  3.8 & Christian & Male   & 17 &  3\\\\\n",
       "\t Veteran & FALSE & b674dd7ee0d24096d1c019615ce4d12b20fcbff12d79d3c5a9d2118eb7ccbb28 &  0.0 & Blake     & Male   & 17 &  1\\\\\n",
       "\t Amateur &  TRUE & 23fe711e0e3b77f1da7aa221ab1192afe21648d47d2b4fa7a5a659ff443a0eb5 &  0.7 & Flora     & Female & 21 &  1\\\\\n",
       "\t Regular &  TRUE & 7dc01f10bf20671ecfccdac23812b1b415acd42c2147cb0af4d48fcce2420f3e &  0.1 & Kylie     & Male   & 21 &  1\\\\\n",
       "\t Amateur &  TRUE & f58aad5996a435f16b0284a3b267f973f9af99e7a89bee0430055a44fa92f977 &  0.0 & Adrian    & Female & 17 & NA\\\\\n",
       "\\end{tabular}\n"
      ],
      "text/markdown": [
       "\n",
       "A tibble: 6 × 8\n",
       "\n",
       "| experience &lt;fct&gt; | subscribe &lt;lgl&gt; | hashedEmail &lt;chr&gt; | played_hours &lt;dbl&gt; | name &lt;chr&gt; | gender &lt;fct&gt; | age &lt;dbl&gt; | number_of_sessions &lt;int&gt; |\n",
       "|---|---|---|---|---|---|---|---|\n",
       "| Pro     |  TRUE | f6daba428a5e19a3d47574858c13550499be23603422e6a0ee9728f8b53e192d | 30.3 | Morgan    | Male   |  9 | 27 |\n",
       "| Veteran |  TRUE | f3c813577c458ba0dfef80996f8f32c93b6e8af1fa939732842f2312358a88e9 |  3.8 | Christian | Male   | 17 |  3 |\n",
       "| Veteran | FALSE | b674dd7ee0d24096d1c019615ce4d12b20fcbff12d79d3c5a9d2118eb7ccbb28 |  0.0 | Blake     | Male   | 17 |  1 |\n",
       "| Amateur |  TRUE | 23fe711e0e3b77f1da7aa221ab1192afe21648d47d2b4fa7a5a659ff443a0eb5 |  0.7 | Flora     | Female | 21 |  1 |\n",
       "| Regular |  TRUE | 7dc01f10bf20671ecfccdac23812b1b415acd42c2147cb0af4d48fcce2420f3e |  0.1 | Kylie     | Male   | 21 |  1 |\n",
       "| Amateur |  TRUE | f58aad5996a435f16b0284a3b267f973f9af99e7a89bee0430055a44fa92f977 |  0.0 | Adrian    | Female | 17 | NA |\n",
       "\n"
      ],
      "text/plain": [
       "  experience subscribe\n",
       "1 Pro         TRUE    \n",
       "2 Veteran     TRUE    \n",
       "3 Veteran    FALSE    \n",
       "4 Amateur     TRUE    \n",
       "5 Regular     TRUE    \n",
       "6 Amateur     TRUE    \n",
       "  hashedEmail                                                      played_hours\n",
       "1 f6daba428a5e19a3d47574858c13550499be23603422e6a0ee9728f8b53e192d 30.3        \n",
       "2 f3c813577c458ba0dfef80996f8f32c93b6e8af1fa939732842f2312358a88e9  3.8        \n",
       "3 b674dd7ee0d24096d1c019615ce4d12b20fcbff12d79d3c5a9d2118eb7ccbb28  0.0        \n",
       "4 23fe711e0e3b77f1da7aa221ab1192afe21648d47d2b4fa7a5a659ff443a0eb5  0.7        \n",
       "5 7dc01f10bf20671ecfccdac23812b1b415acd42c2147cb0af4d48fcce2420f3e  0.1        \n",
       "6 f58aad5996a435f16b0284a3b267f973f9af99e7a89bee0430055a44fa92f977  0.0        \n",
       "  name      gender age number_of_sessions\n",
       "1 Morgan    Male    9  27                \n",
       "2 Christian Male   17   3                \n",
       "3 Blake     Male   17   1                \n",
       "4 Flora     Female 21   1                \n",
       "5 Kylie     Male   21   1                \n",
       "6 Adrian    Female 17  NA                "
      ]
     },
     "metadata": {},
     "output_type": "display_data"
    }
   ],
   "source": [
    "outliers <- c(\"Devin\", \"Ahmed\", \"Hiroshi\", \"Akio\", \"Piper\", \"Delara\")\n",
    "\n",
    "ref_data <- filter(data, !name %in% outliers)\n",
    "head(ref_data)"
   ]
  },
  {
   "cell_type": "markdown",
   "id": "802bc9f4-61e0-4641-ab58-52e5754b6c11",
   "metadata": {},
   "source": [
    "**Table 4. Dataframe of all player data, with outliers removed**"
   ]
  },
  {
   "cell_type": "markdown",
   "id": "d3619e56-e173-45a6-954a-6d66cfd05593",
   "metadata": {},
   "source": [
    "Using this refined data frame, we will now repeat the entire process (except creating the recipe, since that is identical) and calculate its $RMSE$ and $RMSPE$."
   ]
  },
  {
   "cell_type": "code",
   "execution_count": 29,
   "id": "783b562a-8185-45d8-ac65-d9bc60be4f61",
   "metadata": {},
   "outputs": [
    {
     "data": {
      "text/plain": [
       "══ Workflow [trained] ══════════════════════════════════════════════════════════\n",
       "\u001b[3mPreprocessor:\u001b[23m Recipe\n",
       "\u001b[3mModel:\u001b[23m linear_reg()\n",
       "\n",
       "── Preprocessor ────────────────────────────────────────────────────────────────\n",
       "0 Recipe Steps\n",
       "\n",
       "── Model ───────────────────────────────────────────────────────────────────────\n",
       "\n",
       "Call:\n",
       "stats::lm(formula = ..y ~ ., data = data)\n",
       "\n",
       "Coefficients:\n",
       " (Intercept)  played_hours  \n",
       "     20.9246        0.0237  \n"
      ]
     },
     "metadata": {},
     "output_type": "display_data"
    }
   ],
   "source": [
    "set.seed(1999)\n",
    "\n",
    "ref_data_split <- initial_split(ref_data, prop = 0.7, strata = age)\n",
    "ref_data_training <- training(ref_data_split)\n",
    "ref_data_testing <- testing(ref_data_split)\n",
    "\n",
    "ref_data_recipe <- recipe(age ~ played_hours, data = ref_data_training)\n",
    "\n",
    "ref_data_fit <- workflow() |>\n",
    "       add_recipe(ref_data_recipe) |>\n",
    "       add_model(lm_spec) |>\n",
    "       fit(data = ref_data_training)\n",
    "\n",
    "ref_data_fit"
   ]
  },
  {
   "cell_type": "code",
   "execution_count": 30,
   "id": "3387da95-1a89-4365-a1bb-38c8b1841f3a",
   "metadata": {},
   "outputs": [
    {
     "data": {
      "text/html": [
       "6.49931329118165"
      ],
      "text/latex": [
       "6.49931329118165"
      ],
      "text/markdown": [
       "6.49931329118165"
      ],
      "text/plain": [
       "[1] 6.499313"
      ]
     },
     "metadata": {},
     "output_type": "display_data"
    }
   ],
   "source": [
    "ref_lm_rmse <- ref_data_fit |>\n",
    "         predict(ref_data_training) |>\n",
    "         bind_cols(ref_data_training) |>\n",
    "         metrics(truth = age, estimate = .pred) |>\n",
    "         filter(.metric == \"rmse\") |>\n",
    "         select(.estimate) |>\n",
    "         pull()\n",
    "\n",
    "ref_lm_rmse"
   ]
  },
  {
   "cell_type": "code",
   "execution_count": 31,
   "id": "4e9bbcba-cd83-4c94-b0d1-9f633c02cf29",
   "metadata": {},
   "outputs": [
    {
     "data": {
      "text/html": [
       "5.54763859142635"
      ],
      "text/latex": [
       "5.54763859142635"
      ],
      "text/markdown": [
       "5.54763859142635"
      ],
      "text/plain": [
       "[1] 5.547639"
      ]
     },
     "metadata": {},
     "output_type": "display_data"
    }
   ],
   "source": [
    "ref_lm_rmspe <- ref_data_fit |>\n",
    "         predict(ref_data_testing) |>\n",
    "         bind_cols(ref_data_testing) |>\n",
    "         metrics(truth = age, estimate = .pred) |>\n",
    "         filter(.metric == \"rmse\") |>\n",
    "         select(.estimate) |>\n",
    "         pull()\n",
    "\n",
    "ref_lm_rmspe"
   ]
  },
  {
   "cell_type": "markdown",
   "id": "6de4e8d6-515d-48ff-816f-b9dec77c4df1",
   "metadata": {},
   "source": [
    "The calculated $RMSE$ and $RMSPE$ values are both lower than their values calculated when including the outliers. The $RMSPE$ value of 5.55 is slightly more accurate than the earlier $RMPSE$ of 5.78. \n",
    "\n",
    "Using either model (outliers in, or outliers out), `playtime` appears to be an okay predictor of `age`, but not especially great. There may be other variables that are better predictors.\n",
    "\n",
    "It could also be the case that the relationship between `age` and `played_hours` is non-linear! In our next analysis, we will explore this possibility.\n",
    "<br>"
   ]
  },
  {
   "cell_type": "markdown",
   "id": "63a075bd-2ea5-4bfb-9c34-f850687faa3f",
   "metadata": {},
   "source": [
    "<h3>Data Analysis 2 - KNN Regression</h3>\n",
    "\n",
    "Instead of a linear regression, another approach we can take is building a knn-regression model. Re-examining figure 1, the relationship doesn't look especially linear-- the characterics of our data may make a non-linear model a better fit. \n",
    "\n",
    "We can perform knn regression to predict `age` based on total `played_hours`. \n",
    "\n",
    "First, we’ll need to perform 5-fold cross validation on the training dataset to test for the optimal k. "
   ]
  },
  {
   "cell_type": "code",
   "execution_count": 32,
   "id": "a4e6c117-aa02-4385-a0af-aaf54cbe88f7",
   "metadata": {},
   "outputs": [
    {
     "data": {
      "text/html": [
       "<table class=\"dataframe\">\n",
       "<caption>A tibble: 6 × 7</caption>\n",
       "<thead>\n",
       "\t<tr><th scope=col>neighbors</th><th scope=col>.metric</th><th scope=col>.estimator</th><th scope=col>mean</th><th scope=col>n</th><th scope=col>std_err</th><th scope=col>.config</th></tr>\n",
       "\t<tr><th scope=col>&lt;dbl&gt;</th><th scope=col>&lt;chr&gt;</th><th scope=col>&lt;chr&gt;</th><th scope=col>&lt;dbl&gt;</th><th scope=col>&lt;int&gt;</th><th scope=col>&lt;dbl&gt;</th><th scope=col>&lt;chr&gt;</th></tr>\n",
       "</thead>\n",
       "<tbody>\n",
       "\t<tr><td>1</td><td>rmse</td><td>standard</td><td>10.724146948</td><td>5</td><td>1.265286978</td><td>Preprocessor1_Model01</td></tr>\n",
       "\t<tr><td>1</td><td>rsq </td><td>standard</td><td> 0.006508304</td><td>5</td><td>0.003482294</td><td>Preprocessor1_Model01</td></tr>\n",
       "\t<tr><td>2</td><td>rmse</td><td>standard</td><td>10.096164773</td><td>5</td><td>1.380320689</td><td>Preprocessor1_Model02</td></tr>\n",
       "\t<tr><td>2</td><td>rsq </td><td>standard</td><td> 0.007579657</td><td>5</td><td>0.003091119</td><td>Preprocessor1_Model02</td></tr>\n",
       "\t<tr><td>3</td><td>rmse</td><td>standard</td><td>10.093215769</td><td>5</td><td>1.209158905</td><td>Preprocessor1_Model03</td></tr>\n",
       "\t<tr><td>3</td><td>rsq </td><td>standard</td><td> 0.014674434</td><td>5</td><td>0.007500308</td><td>Preprocessor1_Model03</td></tr>\n",
       "</tbody>\n",
       "</table>\n"
      ],
      "text/latex": [
       "A tibble: 6 × 7\n",
       "\\begin{tabular}{lllllll}\n",
       " neighbors & .metric & .estimator & mean & n & std\\_err & .config\\\\\n",
       " <dbl> & <chr> & <chr> & <dbl> & <int> & <dbl> & <chr>\\\\\n",
       "\\hline\n",
       "\t 1 & rmse & standard & 10.724146948 & 5 & 1.265286978 & Preprocessor1\\_Model01\\\\\n",
       "\t 1 & rsq  & standard &  0.006508304 & 5 & 0.003482294 & Preprocessor1\\_Model01\\\\\n",
       "\t 2 & rmse & standard & 10.096164773 & 5 & 1.380320689 & Preprocessor1\\_Model02\\\\\n",
       "\t 2 & rsq  & standard &  0.007579657 & 5 & 0.003091119 & Preprocessor1\\_Model02\\\\\n",
       "\t 3 & rmse & standard & 10.093215769 & 5 & 1.209158905 & Preprocessor1\\_Model03\\\\\n",
       "\t 3 & rsq  & standard &  0.014674434 & 5 & 0.007500308 & Preprocessor1\\_Model03\\\\\n",
       "\\end{tabular}\n"
      ],
      "text/markdown": [
       "\n",
       "A tibble: 6 × 7\n",
       "\n",
       "| neighbors &lt;dbl&gt; | .metric &lt;chr&gt; | .estimator &lt;chr&gt; | mean &lt;dbl&gt; | n &lt;int&gt; | std_err &lt;dbl&gt; | .config &lt;chr&gt; |\n",
       "|---|---|---|---|---|---|---|\n",
       "| 1 | rmse | standard | 10.724146948 | 5 | 1.265286978 | Preprocessor1_Model01 |\n",
       "| 1 | rsq  | standard |  0.006508304 | 5 | 0.003482294 | Preprocessor1_Model01 |\n",
       "| 2 | rmse | standard | 10.096164773 | 5 | 1.380320689 | Preprocessor1_Model02 |\n",
       "| 2 | rsq  | standard |  0.007579657 | 5 | 0.003091119 | Preprocessor1_Model02 |\n",
       "| 3 | rmse | standard | 10.093215769 | 5 | 1.209158905 | Preprocessor1_Model03 |\n",
       "| 3 | rsq  | standard |  0.014674434 | 5 | 0.007500308 | Preprocessor1_Model03 |\n",
       "\n"
      ],
      "text/plain": [
       "  neighbors .metric .estimator mean         n std_err     .config              \n",
       "1 1         rmse    standard   10.724146948 5 1.265286978 Preprocessor1_Model01\n",
       "2 1         rsq     standard    0.006508304 5 0.003482294 Preprocessor1_Model01\n",
       "3 2         rmse    standard   10.096164773 5 1.380320689 Preprocessor1_Model02\n",
       "4 2         rsq     standard    0.007579657 5 0.003091119 Preprocessor1_Model02\n",
       "5 3         rmse    standard   10.093215769 5 1.209158905 Preprocessor1_Model03\n",
       "6 3         rsq     standard    0.014674434 5 0.007500308 Preprocessor1_Model03"
      ]
     },
     "metadata": {},
     "output_type": "display_data"
    }
   ],
   "source": [
    "data_spec <- nearest_neighbor(weight_func = \"rectangular\", neighbors = tune()) |>\n",
    "                 set_engine(\"kknn\") |>\n",
    "                 set_mode(\"regression\")\n",
    "\n",
    "data_recipe <- recipe(age ~ played_hours, data = data_training) |>\n",
    "                   step_scale(all_predictors()) |>\n",
    "                   step_center(all_predictors())\n",
    "\n",
    "data_vfold <- vfold_cv(data, v = 5, strata = age)\n",
    "\n",
    "data_workflow <- workflow() |>\n",
    "                     add_recipe(data_recipe) |>\n",
    "                     add_model(data_spec)\n",
    "\n",
    "gridvals <- tibble(neighbors = seq(from = 1, to = 10, by = 1))\n",
    "\n",
    "data_results <- data_workflow |>\n",
    "                        tune_grid(resamples = data_vfold, grid = gridvals) |>\n",
    "                        collect_metrics()\n",
    "head(data_results)"
   ]
  },
  {
   "cell_type": "markdown",
   "id": "16dd7ff5-f9e4-4498-b763-2a19979cf726",
   "metadata": {},
   "source": [
    "The optimal k will have the lowest $RMSE$ value. Thus, we look for the k value that results in the **minimum rmse**. "
   ]
  },
  {
   "cell_type": "code",
   "execution_count": 33,
   "id": "c44487cf-05f8-4a57-8c3c-76c315526ff6",
   "metadata": {},
   "outputs": [],
   "source": [
    "data_min <- data_results |>\n",
    "    filter(.metric == \"rmse\") |>\n",
    "    slice_min(mean, n=1)\n",
    "\n",
    "k_min <- data_min |>\n",
    "            pull(neighbors)"
   ]
  },
  {
   "cell_type": "markdown",
   "id": "6e1b83dc-16fe-4ddb-ab75-cd4dacbc33d9",
   "metadata": {},
   "source": [
    "Now, we can use this k value to train our final model. "
   ]
  },
  {
   "cell_type": "code",
   "execution_count": 34,
   "id": "a8c1ab88-3f89-435c-a262-676b1931019b",
   "metadata": {},
   "outputs": [],
   "source": [
    "data_best_spec <- nearest_neighbor(weight_func = \"rectangular\", neighbors = k_min) |>\n",
    "                            set_engine(\"kknn\") |>\n",
    "                            set_mode(\"regression\")\n",
    "\n",
    "data_best_fit <- workflow() |>\n",
    "                        add_recipe(data_recipe) |>\n",
    "                        add_model(data_best_spec) |>\n",
    "                        fit(data = data_training)"
   ]
  },
  {
   "cell_type": "markdown",
   "id": "ee581fa1-1b1f-4799-be9f-9d12933cd6cd",
   "metadata": {},
   "source": [
    "Next, we use metrics function to evaluate the effectiveness of the model"
   ]
  },
  {
   "cell_type": "code",
   "execution_count": 27,
   "id": "61eb459f-27ae-4799-a084-6514aee1d031",
   "metadata": {},
   "outputs": [
    {
     "data": {
      "text/html": [
       "<table class=\"dataframe\">\n",
       "<caption>A tibble: 3 × 3</caption>\n",
       "<thead>\n",
       "\t<tr><th scope=col>.metric</th><th scope=col>.estimator</th><th scope=col>.estimate</th></tr>\n",
       "\t<tr><th scope=col>&lt;chr&gt;</th><th scope=col>&lt;chr&gt;</th><th scope=col>&lt;dbl&gt;</th></tr>\n",
       "</thead>\n",
       "<tbody>\n",
       "\t<tr><td>rmse</td><td>standard</td><td>6.39929432</td></tr>\n",
       "\t<tr><td>rsq </td><td>standard</td><td>0.03948757</td></tr>\n",
       "\t<tr><td>mae </td><td>standard</td><td>3.68387097</td></tr>\n",
       "</tbody>\n",
       "</table>\n"
      ],
      "text/latex": [
       "A tibble: 3 × 3\n",
       "\\begin{tabular}{lll}\n",
       " .metric & .estimator & .estimate\\\\\n",
       " <chr> & <chr> & <dbl>\\\\\n",
       "\\hline\n",
       "\t rmse & standard & 6.39929432\\\\\n",
       "\t rsq  & standard & 0.03948757\\\\\n",
       "\t mae  & standard & 3.68387097\\\\\n",
       "\\end{tabular}\n"
      ],
      "text/markdown": [
       "\n",
       "A tibble: 3 × 3\n",
       "\n",
       "| .metric &lt;chr&gt; | .estimator &lt;chr&gt; | .estimate &lt;dbl&gt; |\n",
       "|---|---|---|\n",
       "| rmse | standard | 6.39929432 |\n",
       "| rsq  | standard | 0.03948757 |\n",
       "| mae  | standard | 3.68387097 |\n",
       "\n"
      ],
      "text/plain": [
       "  .metric .estimator .estimate \n",
       "1 rmse    standard   6.39929432\n",
       "2 rsq     standard   0.03948757\n",
       "3 mae     standard   3.68387097"
      ]
     },
     "metadata": {},
     "output_type": "display_data"
    }
   ],
   "source": [
    "data_summary <- data_best_fit |> \n",
    "                       predict(data_testing) |>\n",
    "                       bind_cols(data_testing) |>\n",
    "                       metrics(truth = age, estimate = .pred)\n",
    "data_summary"
   ]
  },
  {
   "cell_type": "markdown",
   "id": "4d2cf615-2ab0-43b1-8e11-57f72af7c7e2",
   "metadata": {},
   "source": [
    "The $RMSE$ is approximately 6.40. This means the average difference between a data point and our line of best fit is 6.40 years. \n",
    "\n",
    "Similar to the linear model, this model's predications of `age` based on `played_hours` are not as accurate as we might hope."
   ]
  },
  {
   "cell_type": "markdown",
   "id": "49355bad-c430-412e-9c95-065cd6a1289c",
   "metadata": {},
   "source": [
    "<h2>Discussion</h2> \n",
    "\n",
    "#### Summary of analysis and findings ####\n",
    "\n",
    "Based on our exploratory data analysis, we predicted a relationship between the age of the player and the total number of hours played. Based on that intuition, we created a linear regression model, where the predictor variable was the total number of hours played (`played_hours`) and the predictor variable was the age of the player (`age`). \n",
    "\n",
    "To test the performance of the model, we used the training model to predict age from the test data, and calculated the $RMSPE$. The model had an $RMSPE$ of 5.36. \n",
    "\n",
    "This $RMSPE$ indicates that **there is a negative relationship between age and total played hours**. Looking back Figure 1, we can see that **players younger than ~25 years are likely to contribute the most playtime**. \n",
    "\n",
    "#### Expectations ####\n",
    "\n",
    "The results aligned with our expectations. Given that the linear relationship appeared weak in our exploratory analysis, we did not have expectations of a particularly low RMSPE. The linear regression indicated that there exists a relationship between age and total play time, which we expected. \n",
    "\n",
    "Our results also connect to our expectations based on our day-to-day experiences. We’d expect young adults might be most likely to engage in video games (such as PLAICraft) compared to other age groups. \n",
    "\n",
    "#### Impact of the findings #### \n",
    "\n",
    "The research team might use this information in their recruitment, in order to develop tailored marketing strategies. They can target people less than 25 years old (range around the intercept calculated from REFINED workflow), since they are likely to play for the greatest total number of hours. Knowing young adult participants are most likely to contribute large amounts of data, the researchers could e.g. advertise their study in locations that young adults frequent. \n",
    "\n",
    "#### Future questions #### \n",
    "\n",
    "Our findings lead to several more questions:\n",
    "\n",
    "* How can the game be developed to cater specifically to the target audience? "
   ]
  },
  {
   "cell_type": "code",
   "execution_count": null,
   "id": "2377d90b-cf69-4873-b7c3-ae68570afcb3",
   "metadata": {},
   "outputs": [],
   "source": []
  }
 ],
 "metadata": {
  "kernelspec": {
   "display_name": "R",
   "language": "R",
   "name": "ir"
  },
  "language_info": {
   "codemirror_mode": "r",
   "file_extension": ".r",
   "mimetype": "text/x-r-source",
   "name": "R",
   "pygments_lexer": "r",
   "version": "4.3.3"
  }
 },
 "nbformat": 4,
 "nbformat_minor": 5
}
