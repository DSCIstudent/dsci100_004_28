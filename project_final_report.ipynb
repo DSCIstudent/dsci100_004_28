{
 "cells": [
  {
   "cell_type": "markdown",
   "id": "abacff2d-78c5-48c8-a912-6a1a3d924738",
   "metadata": {},
   "source": [
    "<h1> Project Final Report</h1>\n",
    "<h3>Group 004_28 </h3>"
   ]
  },
  {
   "cell_type": "markdown",
   "id": "8baf3769-7a1c-4ab0-bde4-5fd054b8c3db",
   "metadata": {},
   "source": [
    "<h2>Introduction</h2>"
   ]
  },
  {
   "cell_type": "markdown",
   "id": "274bfc36-e25d-43fd-8bd9-8e262158d9d2",
   "metadata": {},
   "source": [
    "<h3>Background</h3>\n",
    "\n",
    "The Pacific Laboratory for Artificial Intelligence (PLAI) is a research group in computer science at UBC. They have a Minecraft server, PLAIcraft, where they record players' actions as they navigate the virtual world. The research group would like to target their PLAIcraft recruitment efforts and ensure they have enough resources to handle the number of players they attract. \n",
    "\n",
    "This report explores the question \"*What *kinds* of players are most likely to contribute a large amount of data?*\"</br> \n",
    "Specifically, our group is interested in learning how a **player's age** might be related to **how much data they contribute** (i.e. total played hours). "
   ]
  },
  {
   "cell_type": "markdown",
   "id": "2626a210-5d40-48a0-b842-c80a9d8ed13b",
   "metadata": {},
   "source": [
    "<h3>Summary of Datasets</h3>\n",
    "The provided data consists of two csv files, 'Players' (9 variables, 196 observations), and 'Sessions' (5 variables, 1535 observations). Both are summarized below.\n",
    "\n",
    "<h4>Players</h4> \n",
    "\n",
    "<div style=\"display: inline-block\">  \n",
    "    \n",
    "| Variable         | Type of Data*         | Interpretation | Options / Other Notes|\n",
    "| ------------------- | --------------------- | -------------------- | ------- |\n",
    "| *experience*          | categorial - ordinal  | experience level of player, selected by player | *Beginner, Amateur, Regular, Pro, Veteran* |\n",
    "| *hashedEmail*         | character             | email address of player in hashed form | e.g. *f6daba428a5e19a3d47574858c135*... |\n",
    "| *name* | character | pseudonym chosen by player | Many options were provided to players. Given this, it makes sense to treat this as character, not factor. |\n",
    "| *gender* | categorial | gender of player, selected by the player | *Male, Female, Non-binary, Agender, Two-Spirited, Other, Prefer not to say* |\n",
    "| *played_hours* | double | number of hours player has played on server, to one decimal place | e.g. *22.5* |\n",
    "| *age* | double | age of player, selected by the player | e.g. *30* |\n",
    "| *subscribe* | logical | a boolean indicating whether player subscribed to PlaiCraft  updates | *TRUE, FALSE* | \n",
    "| *individualId* | double | unique number identifying player | Note that this column contains only *N/A*. |\n",
    "| *organizationName* | character | organization as indicated by player | Note that this column contains only *N/A*. |\n",
    "</div>\n",
    "\n",
    "\\* Represents most appropriate type, not the type initially assigned by R.\n",
    "<br />\n",
    "\n",
    "<h4>Sessions</h4> \n",
    "\n",
    "<div style=\"display: inline-block\"> \n",
    "    \n",
    "| Variable                 | Type of Data* | Interpretation                           | Other Notes |\n",
    "| ------------------------ | ------------- | ---------------------------------------- | ----------- |\n",
    "| *hashed_Email*           | character | email address of player in hashed form | e.g. *50499be23603422e6a0ee97...* |\n",
    "| *start_time*             | character | date, time Plaicraft session began | e.g. *30/06/2024 18:12* |\n",
    "| *end_time*               | character | date, time  Plaicraft session finished | e.g. *30/06/2024 18:24* |\n",
    "| *original_start_time*    | double        | UNIX timestamp of session start | e.g. *1.71977E+12* |\n",
    "| *original_end_time*      | double        | UNIX timestamp of session end | e.g. *1.71977E+12* |\n",
    "\n",
    "</div>"
   ]
  },
  {
   "cell_type": "markdown",
   "id": "0a756d0f-af2c-4e9f-b95b-aad7f3a4dbf0",
   "metadata": {},
   "source": [
    "<h2>Method & Results</h2>"
   ]
  },
  {
   "cell_type": "markdown",
   "id": "89ece880-d635-4df5-bd43-634d59e72e2e",
   "metadata": {},
   "source": [
    "<h3>Loading Data</h3>"
   ]
  },
  {
   "cell_type": "markdown",
   "id": "7d96c147-2496-40e2-a2d8-db8871c1388e",
   "metadata": {},
   "source": [
    "First, we load the necessary libraries, then read the datasets from their URLs."
   ]
  },
  {
   "cell_type": "code",
   "execution_count": 2,
   "id": "93e7aeac-0840-4c8a-bd0a-0b7881b0ea6d",
   "metadata": {},
   "outputs": [
    {
     "name": "stderr",
     "output_type": "stream",
     "text": [
      "── \u001b[1mAttaching core tidyverse packages\u001b[22m ──────────────────────── tidyverse 2.0.0 ──\n",
      "\u001b[32m✔\u001b[39m \u001b[34mdplyr    \u001b[39m 1.1.4     \u001b[32m✔\u001b[39m \u001b[34mreadr    \u001b[39m 2.1.5\n",
      "\u001b[32m✔\u001b[39m \u001b[34mforcats  \u001b[39m 1.0.0     \u001b[32m✔\u001b[39m \u001b[34mstringr  \u001b[39m 1.5.1\n",
      "\u001b[32m✔\u001b[39m \u001b[34mggplot2  \u001b[39m 3.5.1     \u001b[32m✔\u001b[39m \u001b[34mtibble   \u001b[39m 3.2.1\n",
      "\u001b[32m✔\u001b[39m \u001b[34mlubridate\u001b[39m 1.9.3     \u001b[32m✔\u001b[39m \u001b[34mtidyr    \u001b[39m 1.3.1\n",
      "\u001b[32m✔\u001b[39m \u001b[34mpurrr    \u001b[39m 1.0.2     \n",
      "── \u001b[1mConflicts\u001b[22m ────────────────────────────────────────── tidyverse_conflicts() ──\n",
      "\u001b[31m✖\u001b[39m \u001b[34mdplyr\u001b[39m::\u001b[32mfilter()\u001b[39m masks \u001b[34mstats\u001b[39m::filter()\n",
      "\u001b[31m✖\u001b[39m \u001b[34mdplyr\u001b[39m::\u001b[32mlag()\u001b[39m    masks \u001b[34mstats\u001b[39m::lag()\n",
      "\u001b[36mℹ\u001b[39m Use the conflicted package (\u001b[3m\u001b[34m<http://conflicted.r-lib.org/>\u001b[39m\u001b[23m) to force all conflicts to become errors\n",
      "── \u001b[1mAttaching packages\u001b[22m ────────────────────────────────────── tidymodels 1.1.1 ──\n",
      "\n",
      "\u001b[32m✔\u001b[39m \u001b[34mbroom       \u001b[39m 1.0.6     \u001b[32m✔\u001b[39m \u001b[34mrsample     \u001b[39m 1.2.1\n",
      "\u001b[32m✔\u001b[39m \u001b[34mdials       \u001b[39m 1.3.0     \u001b[32m✔\u001b[39m \u001b[34mtune        \u001b[39m 1.1.2\n",
      "\u001b[32m✔\u001b[39m \u001b[34minfer       \u001b[39m 1.0.7     \u001b[32m✔\u001b[39m \u001b[34mworkflows   \u001b[39m 1.1.4\n",
      "\u001b[32m✔\u001b[39m \u001b[34mmodeldata   \u001b[39m 1.4.0     \u001b[32m✔\u001b[39m \u001b[34mworkflowsets\u001b[39m 1.0.1\n",
      "\u001b[32m✔\u001b[39m \u001b[34mparsnip     \u001b[39m 1.2.1     \u001b[32m✔\u001b[39m \u001b[34myardstick   \u001b[39m 1.3.1\n",
      "\u001b[32m✔\u001b[39m \u001b[34mrecipes     \u001b[39m 1.1.0     \n",
      "\n",
      "── \u001b[1mConflicts\u001b[22m ───────────────────────────────────────── tidymodels_conflicts() ──\n",
      "\u001b[31m✖\u001b[39m \u001b[34mscales\u001b[39m::\u001b[32mdiscard()\u001b[39m masks \u001b[34mpurrr\u001b[39m::discard()\n",
      "\u001b[31m✖\u001b[39m \u001b[34mdplyr\u001b[39m::\u001b[32mfilter()\u001b[39m   masks \u001b[34mstats\u001b[39m::filter()\n",
      "\u001b[31m✖\u001b[39m \u001b[34mrecipes\u001b[39m::\u001b[32mfixed()\u001b[39m  masks \u001b[34mstringr\u001b[39m::fixed()\n",
      "\u001b[31m✖\u001b[39m \u001b[34mdplyr\u001b[39m::\u001b[32mlag()\u001b[39m      masks \u001b[34mstats\u001b[39m::lag()\n",
      "\u001b[31m✖\u001b[39m \u001b[34myardstick\u001b[39m::\u001b[32mspec()\u001b[39m masks \u001b[34mreadr\u001b[39m::spec()\n",
      "\u001b[31m✖\u001b[39m \u001b[34mrecipes\u001b[39m::\u001b[32mstep()\u001b[39m   masks \u001b[34mstats\u001b[39m::step()\n",
      "\u001b[34m•\u001b[39m Dig deeper into tidy modeling with R at \u001b[32mhttps://www.tmwr.org\u001b[39m\n",
      "\n",
      "\u001b[1mRows: \u001b[22m\u001b[34m196\u001b[39m \u001b[1mColumns: \u001b[22m\u001b[34m9\u001b[39m\n",
      "\u001b[36m──\u001b[39m \u001b[1mColumn specification\u001b[22m \u001b[36m────────────────────────────────────────────────────────\u001b[39m\n",
      "\u001b[1mDelimiter:\u001b[22m \",\"\n",
      "\u001b[31mchr\u001b[39m (4): experience, hashedEmail, name, gender\n",
      "\u001b[32mdbl\u001b[39m (2): played_hours, age\n",
      "\u001b[33mlgl\u001b[39m (3): subscribe, individualId, organizationName\n",
      "\n",
      "\u001b[36mℹ\u001b[39m Use `spec()` to retrieve the full column specification for this data.\n",
      "\u001b[36mℹ\u001b[39m Specify the column types or set `show_col_types = FALSE` to quiet this message.\n",
      "\u001b[1mRows: \u001b[22m\u001b[34m1535\u001b[39m \u001b[1mColumns: \u001b[22m\u001b[34m5\u001b[39m\n",
      "\u001b[36m──\u001b[39m \u001b[1mColumn specification\u001b[22m \u001b[36m────────────────────────────────────────────────────────\u001b[39m\n",
      "\u001b[1mDelimiter:\u001b[22m \",\"\n",
      "\u001b[31mchr\u001b[39m (3): hashedEmail, start_time, end_time\n",
      "\u001b[32mdbl\u001b[39m (2): original_start_time, original_end_time\n",
      "\n",
      "\u001b[36mℹ\u001b[39m Use `spec()` to retrieve the full column specification for this data.\n",
      "\u001b[36mℹ\u001b[39m Specify the column types or set `show_col_types = FALSE` to quiet this message.\n"
     ]
    }
   ],
   "source": [
    "library(tidyverse)\n",
    "library(tidymodels)\n",
    "library(repr)\n",
    "\n",
    "players <- read_csv(\"https://drive.google.com/uc?export=download&id=1Mw9vW0hjTJwRWx0bDXiSpYsO3gKogaPz\")\n",
    "sessions <- read_csv(\"https://drive.google.com/uc?export=download&id=14O91N5OlVkvdGxXNJUj5jIsV5RexhzbB\")"
   ]
  },
  {
   "cell_type": "markdown",
   "id": "c120c57f-d63a-45c7-b588-318542c61b61",
   "metadata": {},
   "source": [
    "<h3>Wrangling & Cleaning Data</h3>"
   ]
  },
  {
   "cell_type": "markdown",
   "id": "be765cf0-4155-411f-828d-a4a5acd53d57",
   "metadata": {},
   "source": [
    "Then, we remove the `individualId` and the `organizationName` columns in the `players` data frame, since all values in these columns are N/A."
   ]
  },
  {
   "cell_type": "code",
   "execution_count": 3,
   "id": "18530819-c4ec-4e45-b0ef-4ed886cb528f",
   "metadata": {},
   "outputs": [],
   "source": [
    "players <- players |>\n",
    "select(-individualId, -organizationName)"
   ]
  },
  {
   "cell_type": "markdown",
   "id": "25154a08-1cfb-41e2-bbb1-b7fc7cdbe648",
   "metadata": {},
   "source": [
    "Next, we redefine the `experience` and `gender` columns as **factors** using the `as_factor` function, so that these variables will be treated as categorical."
   ]
  },
  {
   "cell_type": "code",
   "execution_count": 4,
   "id": "a305dae7-5880-40c4-82ac-81528a31f20b",
   "metadata": {},
   "outputs": [],
   "source": [
    "players <- players |>\n",
    "mutate(experience = as_factor(experience)) |>\n",
    "mutate(gender = as_factor(gender))"
   ]
  },
  {
   "cell_type": "markdown",
   "id": "9b3d0a5b-d117-4ac3-8a93-2ac9349e1e21",
   "metadata": {},
   "source": [
    "We also create a new `sessions_sum` data frame using `group_by` and `summarise`.\n",
    "This shows us the number of sessions per hashed email, i.e. the number of sessions per individual."
   ]
  },
  {
   "cell_type": "code",
   "execution_count": 5,
   "id": "411a01cc-5c9b-438c-b7b1-053e3b9f9781",
   "metadata": {},
   "outputs": [
    {
     "data": {
      "text/html": [
       "<table class=\"dataframe\">\n",
       "<caption>A tibble: 6 × 2</caption>\n",
       "<thead>\n",
       "\t<tr><th scope=col>hashedEmail</th><th scope=col>number_of_sessions</th></tr>\n",
       "\t<tr><th scope=col>&lt;chr&gt;</th><th scope=col>&lt;int&gt;</th></tr>\n",
       "</thead>\n",
       "<tbody>\n",
       "\t<tr><td>0088b5e134c3f0498a18c7ea6b8d77b4b0ff1636fc93355ccc95b45423367832</td><td> 2</td></tr>\n",
       "\t<tr><td>060aca80f8cfbf1c91553a72f4d5ec8034764b05ab59fe8e1cf0eee9a7b67967</td><td> 1</td></tr>\n",
       "\t<tr><td>0ce7bfa910d47fc91f21a7b3acd8f33bde6db57912ce0290fa0437ce0b97f387</td><td> 1</td></tr>\n",
       "\t<tr><td>0d4d71be33e2bc7266ee4983002bd930f69d304288a8663529c875f40f1750f3</td><td>13</td></tr>\n",
       "\t<tr><td>0d70dd9cac34d646c810b1846fe6a85b9e288a76f5dcab9c1ff1a0e7ca200b3a</td><td> 2</td></tr>\n",
       "\t<tr><td>11006065e9412650e99eea4a4aaaf0399bc338006f85e80cc82d18b49f0e2aa4</td><td> 1</td></tr>\n",
       "</tbody>\n",
       "</table>\n"
      ],
      "text/latex": [
       "A tibble: 6 × 2\n",
       "\\begin{tabular}{ll}\n",
       " hashedEmail & number\\_of\\_sessions\\\\\n",
       " <chr> & <int>\\\\\n",
       "\\hline\n",
       "\t 0088b5e134c3f0498a18c7ea6b8d77b4b0ff1636fc93355ccc95b45423367832 &  2\\\\\n",
       "\t 060aca80f8cfbf1c91553a72f4d5ec8034764b05ab59fe8e1cf0eee9a7b67967 &  1\\\\\n",
       "\t 0ce7bfa910d47fc91f21a7b3acd8f33bde6db57912ce0290fa0437ce0b97f387 &  1\\\\\n",
       "\t 0d4d71be33e2bc7266ee4983002bd930f69d304288a8663529c875f40f1750f3 & 13\\\\\n",
       "\t 0d70dd9cac34d646c810b1846fe6a85b9e288a76f5dcab9c1ff1a0e7ca200b3a &  2\\\\\n",
       "\t 11006065e9412650e99eea4a4aaaf0399bc338006f85e80cc82d18b49f0e2aa4 &  1\\\\\n",
       "\\end{tabular}\n"
      ],
      "text/markdown": [
       "\n",
       "A tibble: 6 × 2\n",
       "\n",
       "| hashedEmail &lt;chr&gt; | number_of_sessions &lt;int&gt; |\n",
       "|---|---|\n",
       "| 0088b5e134c3f0498a18c7ea6b8d77b4b0ff1636fc93355ccc95b45423367832 |  2 |\n",
       "| 060aca80f8cfbf1c91553a72f4d5ec8034764b05ab59fe8e1cf0eee9a7b67967 |  1 |\n",
       "| 0ce7bfa910d47fc91f21a7b3acd8f33bde6db57912ce0290fa0437ce0b97f387 |  1 |\n",
       "| 0d4d71be33e2bc7266ee4983002bd930f69d304288a8663529c875f40f1750f3 | 13 |\n",
       "| 0d70dd9cac34d646c810b1846fe6a85b9e288a76f5dcab9c1ff1a0e7ca200b3a |  2 |\n",
       "| 11006065e9412650e99eea4a4aaaf0399bc338006f85e80cc82d18b49f0e2aa4 |  1 |\n",
       "\n"
      ],
      "text/plain": [
       "  hashedEmail                                                     \n",
       "1 0088b5e134c3f0498a18c7ea6b8d77b4b0ff1636fc93355ccc95b45423367832\n",
       "2 060aca80f8cfbf1c91553a72f4d5ec8034764b05ab59fe8e1cf0eee9a7b67967\n",
       "3 0ce7bfa910d47fc91f21a7b3acd8f33bde6db57912ce0290fa0437ce0b97f387\n",
       "4 0d4d71be33e2bc7266ee4983002bd930f69d304288a8663529c875f40f1750f3\n",
       "5 0d70dd9cac34d646c810b1846fe6a85b9e288a76f5dcab9c1ff1a0e7ca200b3a\n",
       "6 11006065e9412650e99eea4a4aaaf0399bc338006f85e80cc82d18b49f0e2aa4\n",
       "  number_of_sessions\n",
       "1  2                \n",
       "2  1                \n",
       "3  1                \n",
       "4 13                \n",
       "5  2                \n",
       "6  1                "
      ]
     },
     "metadata": {},
     "output_type": "display_data"
    }
   ],
   "source": [
    "sessions_sum <- sessions |>\n",
    "group_by(hashedEmail) |>\n",
    "summarise(number_of_sessions = n())\n",
    "\n",
    "head(sessions_sum)"
   ]
  },
  {
   "cell_type": "markdown",
   "id": "c0d1722b-1854-46ed-94a0-268e9a16aad4",
   "metadata": {},
   "source": [
    "**Table 1. Hashed Email & Number of Sessions**\n",
    "(Only the head is displayed for the sake of readability.)"
   ]
  },
  {
   "cell_type": "markdown",
   "id": "0343b8cc-0603-4805-adc2-524e5a7dfa73",
   "metadata": {},
   "source": [
    "Next, we bind this data frame with the `players` data frame, using `left_join`. This brings together all required variables.  This way, we can use just one data frame for all subsequent analysis steps."
   ]
  },
  {
   "cell_type": "code",
   "execution_count": 7,
   "id": "3cf0fe9f-5980-4953-9659-ddf3a0a9236a",
   "metadata": {},
   "outputs": [
    {
     "data": {
      "text/html": [
       "<table class=\"dataframe\">\n",
       "<caption>A tibble: 6 × 8</caption>\n",
       "<thead>\n",
       "\t<tr><th scope=col>experience</th><th scope=col>subscribe</th><th scope=col>hashedEmail</th><th scope=col>played_hours</th><th scope=col>name</th><th scope=col>gender</th><th scope=col>age</th><th scope=col>number_of_sessions</th></tr>\n",
       "\t<tr><th scope=col>&lt;fct&gt;</th><th scope=col>&lt;lgl&gt;</th><th scope=col>&lt;chr&gt;</th><th scope=col>&lt;dbl&gt;</th><th scope=col>&lt;chr&gt;</th><th scope=col>&lt;fct&gt;</th><th scope=col>&lt;dbl&gt;</th><th scope=col>&lt;int&gt;</th></tr>\n",
       "</thead>\n",
       "<tbody>\n",
       "\t<tr><td>Pro    </td><td> TRUE</td><td>f6daba428a5e19a3d47574858c13550499be23603422e6a0ee9728f8b53e192d</td><td>30.3</td><td>Morgan   </td><td>Male  </td><td> 9</td><td>27</td></tr>\n",
       "\t<tr><td>Veteran</td><td> TRUE</td><td>f3c813577c458ba0dfef80996f8f32c93b6e8af1fa939732842f2312358a88e9</td><td> 3.8</td><td>Christian</td><td>Male  </td><td>17</td><td> 3</td></tr>\n",
       "\t<tr><td>Veteran</td><td>FALSE</td><td>b674dd7ee0d24096d1c019615ce4d12b20fcbff12d79d3c5a9d2118eb7ccbb28</td><td> 0.0</td><td>Blake    </td><td>Male  </td><td>17</td><td> 1</td></tr>\n",
       "\t<tr><td>Amateur</td><td> TRUE</td><td>23fe711e0e3b77f1da7aa221ab1192afe21648d47d2b4fa7a5a659ff443a0eb5</td><td> 0.7</td><td>Flora    </td><td>Female</td><td>21</td><td> 1</td></tr>\n",
       "\t<tr><td>Regular</td><td> TRUE</td><td>7dc01f10bf20671ecfccdac23812b1b415acd42c2147cb0af4d48fcce2420f3e</td><td> 0.1</td><td>Kylie    </td><td>Male  </td><td>21</td><td> 1</td></tr>\n",
       "\t<tr><td>Amateur</td><td> TRUE</td><td>f58aad5996a435f16b0284a3b267f973f9af99e7a89bee0430055a44fa92f977</td><td> 0.0</td><td>Adrian   </td><td>Female</td><td>17</td><td>NA</td></tr>\n",
       "</tbody>\n",
       "</table>\n"
      ],
      "text/latex": [
       "A tibble: 6 × 8\n",
       "\\begin{tabular}{llllllll}\n",
       " experience & subscribe & hashedEmail & played\\_hours & name & gender & age & number\\_of\\_sessions\\\\\n",
       " <fct> & <lgl> & <chr> & <dbl> & <chr> & <fct> & <dbl> & <int>\\\\\n",
       "\\hline\n",
       "\t Pro     &  TRUE & f6daba428a5e19a3d47574858c13550499be23603422e6a0ee9728f8b53e192d & 30.3 & Morgan    & Male   &  9 & 27\\\\\n",
       "\t Veteran &  TRUE & f3c813577c458ba0dfef80996f8f32c93b6e8af1fa939732842f2312358a88e9 &  3.8 & Christian & Male   & 17 &  3\\\\\n",
       "\t Veteran & FALSE & b674dd7ee0d24096d1c019615ce4d12b20fcbff12d79d3c5a9d2118eb7ccbb28 &  0.0 & Blake     & Male   & 17 &  1\\\\\n",
       "\t Amateur &  TRUE & 23fe711e0e3b77f1da7aa221ab1192afe21648d47d2b4fa7a5a659ff443a0eb5 &  0.7 & Flora     & Female & 21 &  1\\\\\n",
       "\t Regular &  TRUE & 7dc01f10bf20671ecfccdac23812b1b415acd42c2147cb0af4d48fcce2420f3e &  0.1 & Kylie     & Male   & 21 &  1\\\\\n",
       "\t Amateur &  TRUE & f58aad5996a435f16b0284a3b267f973f9af99e7a89bee0430055a44fa92f977 &  0.0 & Adrian    & Female & 17 & NA\\\\\n",
       "\\end{tabular}\n"
      ],
      "text/markdown": [
       "\n",
       "A tibble: 6 × 8\n",
       "\n",
       "| experience &lt;fct&gt; | subscribe &lt;lgl&gt; | hashedEmail &lt;chr&gt; | played_hours &lt;dbl&gt; | name &lt;chr&gt; | gender &lt;fct&gt; | age &lt;dbl&gt; | number_of_sessions &lt;int&gt; |\n",
       "|---|---|---|---|---|---|---|---|\n",
       "| Pro     |  TRUE | f6daba428a5e19a3d47574858c13550499be23603422e6a0ee9728f8b53e192d | 30.3 | Morgan    | Male   |  9 | 27 |\n",
       "| Veteran |  TRUE | f3c813577c458ba0dfef80996f8f32c93b6e8af1fa939732842f2312358a88e9 |  3.8 | Christian | Male   | 17 |  3 |\n",
       "| Veteran | FALSE | b674dd7ee0d24096d1c019615ce4d12b20fcbff12d79d3c5a9d2118eb7ccbb28 |  0.0 | Blake     | Male   | 17 |  1 |\n",
       "| Amateur |  TRUE | 23fe711e0e3b77f1da7aa221ab1192afe21648d47d2b4fa7a5a659ff443a0eb5 |  0.7 | Flora     | Female | 21 |  1 |\n",
       "| Regular |  TRUE | 7dc01f10bf20671ecfccdac23812b1b415acd42c2147cb0af4d48fcce2420f3e |  0.1 | Kylie     | Male   | 21 |  1 |\n",
       "| Amateur |  TRUE | f58aad5996a435f16b0284a3b267f973f9af99e7a89bee0430055a44fa92f977 |  0.0 | Adrian    | Female | 17 | NA |\n",
       "\n"
      ],
      "text/plain": [
       "  experience subscribe\n",
       "1 Pro         TRUE    \n",
       "2 Veteran     TRUE    \n",
       "3 Veteran    FALSE    \n",
       "4 Amateur     TRUE    \n",
       "5 Regular     TRUE    \n",
       "6 Amateur     TRUE    \n",
       "  hashedEmail                                                      played_hours\n",
       "1 f6daba428a5e19a3d47574858c13550499be23603422e6a0ee9728f8b53e192d 30.3        \n",
       "2 f3c813577c458ba0dfef80996f8f32c93b6e8af1fa939732842f2312358a88e9  3.8        \n",
       "3 b674dd7ee0d24096d1c019615ce4d12b20fcbff12d79d3c5a9d2118eb7ccbb28  0.0        \n",
       "4 23fe711e0e3b77f1da7aa221ab1192afe21648d47d2b4fa7a5a659ff443a0eb5  0.7        \n",
       "5 7dc01f10bf20671ecfccdac23812b1b415acd42c2147cb0af4d48fcce2420f3e  0.1        \n",
       "6 f58aad5996a435f16b0284a3b267f973f9af99e7a89bee0430055a44fa92f977  0.0        \n",
       "  name      gender age number_of_sessions\n",
       "1 Morgan    Male    9  27                \n",
       "2 Christian Male   17   3                \n",
       "3 Blake     Male   17   1                \n",
       "4 Flora     Female 21   1                \n",
       "5 Kylie     Male   21   1                \n",
       "6 Adrian    Female 17  NA                "
      ]
     },
     "metadata": {},
     "output_type": "display_data"
    }
   ],
   "source": [
    "data <- left_join(players, sessions_sum, by = \"hashedEmail\")\n",
    "\n",
    "head(data)"
   ]
  },
  {
   "cell_type": "markdown",
   "id": "4f124037-7140-4199-af3f-2bdf8e5daa75",
   "metadata": {},
   "source": [
    "**Table 2. Dataframe of all players variables**\n",
    "(Only the head is displayed for the sake of readability.)"
   ]
  },
  {
   "cell_type": "markdown",
   "id": "93b543f0-6902-4c43-a481-ae9d7b9c6443",
   "metadata": {},
   "source": [
    "<h3>Data Analysis</h3>\n",
    "\n",
    "We start our data analysis by setting the seed. Then we split the data into training and testing sets, in a 70:30 ratio."
   ]
  },
  {
   "cell_type": "code",
   "execution_count": 8,
   "id": "d7f367c3-6f8c-4768-9f7f-68d837bd9044",
   "metadata": {},
   "outputs": [],
   "source": [
    "set.seed(2000) \n",
    "\n",
    "data_split <- initial_split(data, prop = 0.7, strata = age)\n",
    "data_training <- training(data_split)\n",
    "data_testing <- testing(data_split)"
   ]
  },
  {
   "cell_type": "markdown",
   "id": "62475f97-1b33-44df-abca-3352b22dc563",
   "metadata": {},
   "source": [
    "Before creating a model, we make a **scatterplot** using `ggplot`, to see if there seems to be a relationship between the `age` and `played_hours` variables."
   ]
  },
  {
   "cell_type": "code",
   "execution_count": 9,
   "id": "1ad1a09d-0467-4fa9-972d-9a05bfe9a88e",
   "metadata": {},
   "outputs": [
    {
     "data": {
      "application/pdf": "[encoded data removed]",
      "image/jpeg": "[encoded data removed]",
      "image/png": "[encoded data removed]",
      "image/svg+xml": [
       "<?xml version=\"1.0\" encoding=\"UTF-8\"?>\n",
       "<svg xmlns=\"http://www.w3.org/2000/svg\" xmlns:xlink=\"http://www.w3.org/1999/xlink\" width=\"576\" height=\"576\" viewBox=\"0 0 576 576\">\n",
       "<defs>\n",
       "<g>\n",
       "<g id=\"glyph-0-0\">\n",
       "<path d=\"M 0.609375 0 L 0.609375 -0.75 C 0.804688 -1.207031 1.046875 -1.609375 1.328125 -1.953125 C 1.617188 -2.304688 1.921875 -2.625 2.234375 -2.90625 C 2.554688 -3.1875 2.867188 -3.445312 3.171875 -3.6875 C 3.484375 -3.9375 3.765625 -4.179688 4.015625 -4.421875 C 4.265625 -4.660156 4.46875 -4.910156 4.625 -5.171875 C 4.78125 -5.441406 4.859375 -5.742188 4.859375 -6.078125 C 4.859375 -6.316406 4.820312 -6.523438 4.75 -6.703125 C 4.675781 -6.878906 4.570312 -7.023438 4.4375 -7.140625 C 4.3125 -7.265625 4.15625 -7.359375 3.96875 -7.421875 C 3.78125 -7.484375 3.578125 -7.515625 3.359375 -7.515625 C 3.140625 -7.515625 2.9375 -7.484375 2.75 -7.421875 C 2.570312 -7.367188 2.410156 -7.28125 2.265625 -7.15625 C 2.117188 -7.039062 2 -6.894531 1.90625 -6.71875 C 1.8125 -6.550781 1.753906 -6.351562 1.734375 -6.125 L 0.65625 -6.21875 C 0.6875 -6.507812 0.765625 -6.785156 0.890625 -7.046875 C 1.023438 -7.316406 1.203125 -7.550781 1.421875 -7.75 C 1.648438 -7.945312 1.921875 -8.097656 2.234375 -8.203125 C 2.554688 -8.316406 2.929688 -8.375 3.359375 -8.375 C 3.765625 -8.375 4.125 -8.328125 4.4375 -8.234375 C 4.757812 -8.140625 5.03125 -7.992188 5.25 -7.796875 C 5.476562 -7.609375 5.648438 -7.375 5.765625 -7.09375 C 5.878906 -6.8125 5.9375 -6.488281 5.9375 -6.125 C 5.9375 -5.84375 5.882812 -5.578125 5.78125 -5.328125 C 5.6875 -5.078125 5.554688 -4.835938 5.390625 -4.609375 C 5.222656 -4.378906 5.03125 -4.160156 4.8125 -3.953125 C 4.59375 -3.742188 4.363281 -3.535156 4.125 -3.328125 C 3.894531 -3.128906 3.65625 -2.929688 3.40625 -2.734375 C 3.164062 -2.535156 2.9375 -2.335938 2.71875 -2.140625 C 2.507812 -1.941406 2.320312 -1.738281 2.15625 -1.53125 C 1.988281 -1.332031 1.859375 -1.117188 1.765625 -0.890625 L 6.078125 -0.890625 L 6.078125 0 Z M 0.609375 0 \"/>\n",
       "</g>\n",
       "<g id=\"glyph-0-1\">\n",
       "<path d=\"M 6.171875 -2.6875 C 6.171875 -2.269531 6.109375 -1.890625 5.984375 -1.546875 C 5.859375 -1.203125 5.671875 -0.90625 5.421875 -0.65625 C 5.179688 -0.414062 4.878906 -0.222656 4.515625 -0.078125 C 4.148438 0.0546875 3.722656 0.125 3.234375 0.125 C 2.804688 0.125 2.429688 0.0703125 2.109375 -0.03125 C 1.785156 -0.132812 1.507812 -0.273438 1.28125 -0.453125 C 1.0625 -0.628906 0.882812 -0.835938 0.75 -1.078125 C 0.625 -1.316406 0.535156 -1.570312 0.484375 -1.84375 L 1.546875 -1.96875 C 1.585938 -1.8125 1.644531 -1.660156 1.71875 -1.515625 C 1.800781 -1.367188 1.910156 -1.238281 2.046875 -1.125 C 2.179688 -1.007812 2.347656 -0.914062 2.546875 -0.84375 C 2.742188 -0.78125 2.984375 -0.75 3.265625 -0.75 C 3.535156 -0.75 3.78125 -0.789062 4 -0.875 C 4.226562 -0.957031 4.421875 -1.078125 4.578125 -1.234375 C 4.734375 -1.398438 4.851562 -1.601562 4.9375 -1.84375 C 5.03125 -2.082031 5.078125 -2.359375 5.078125 -2.671875 C 5.078125 -2.921875 5.035156 -3.148438 4.953125 -3.359375 C 4.867188 -3.578125 4.75 -3.765625 4.59375 -3.921875 C 4.445312 -4.078125 4.257812 -4.195312 4.03125 -4.28125 C 3.8125 -4.363281 3.5625 -4.40625 3.28125 -4.40625 C 3.113281 -4.40625 2.953125 -4.390625 2.796875 -4.359375 C 2.648438 -4.328125 2.515625 -4.285156 2.390625 -4.234375 C 2.265625 -4.179688 2.148438 -4.117188 2.046875 -4.046875 C 1.941406 -3.972656 1.84375 -3.894531 1.75 -3.8125 L 0.71875 -3.8125 L 1 -8.25 L 5.6875 -8.25 L 5.6875 -7.359375 L 1.953125 -7.359375 L 1.796875 -4.734375 C 1.984375 -4.878906 2.21875 -5.003906 2.5 -5.109375 C 2.78125 -5.210938 3.113281 -5.265625 3.5 -5.265625 C 3.914062 -5.265625 4.285156 -5.203125 4.609375 -5.078125 C 4.941406 -4.953125 5.222656 -4.773438 5.453125 -4.546875 C 5.679688 -4.316406 5.859375 -4.046875 5.984375 -3.734375 C 6.109375 -3.421875 6.171875 -3.070312 6.171875 -2.6875 Z M 6.171875 -2.6875 \"/>\n",
       "</g>\n",
       "<g id=\"glyph-0-2\">\n",
       "<path d=\"M 6.203125 -4.125 C 6.203125 -3.332031 6.125 -2.664062 5.96875 -2.125 C 5.820312 -1.582031 5.617188 -1.144531 5.359375 -0.8125 C 5.097656 -0.476562 4.789062 -0.238281 4.4375 -0.09375 C 4.09375 0.0507812 3.722656 0.125 3.328125 0.125 C 2.921875 0.125 2.539062 0.0507812 2.1875 -0.09375 C 1.84375 -0.238281 1.539062 -0.476562 1.28125 -0.8125 C 1.03125 -1.144531 0.832031 -1.582031 0.6875 -2.125 C 0.539062 -2.664062 0.46875 -3.332031 0.46875 -4.125 C 0.46875 -4.957031 0.539062 -5.644531 0.6875 -6.1875 C 0.832031 -6.738281 1.035156 -7.175781 1.296875 -7.5 C 1.554688 -7.820312 1.859375 -8.046875 2.203125 -8.171875 C 2.554688 -8.304688 2.941406 -8.375 3.359375 -8.375 C 3.753906 -8.375 4.125 -8.304688 4.46875 -8.171875 C 4.8125 -8.046875 5.113281 -7.820312 5.375 -7.5 C 5.632812 -7.175781 5.835938 -6.738281 5.984375 -6.1875 C 6.128906 -5.644531 6.203125 -4.957031 6.203125 -4.125 Z M 5.140625 -4.125 C 5.140625 -4.78125 5.097656 -5.328125 5.015625 -5.765625 C 4.941406 -6.203125 4.828125 -6.550781 4.671875 -6.8125 C 4.515625 -7.070312 4.328125 -7.253906 4.109375 -7.359375 C 3.890625 -7.472656 3.640625 -7.53125 3.359375 -7.53125 C 3.054688 -7.53125 2.789062 -7.472656 2.5625 -7.359375 C 2.34375 -7.253906 2.15625 -7.070312 2 -6.8125 C 1.84375 -6.550781 1.722656 -6.203125 1.640625 -5.765625 C 1.566406 -5.328125 1.53125 -4.78125 1.53125 -4.125 C 1.53125 -3.5 1.570312 -2.96875 1.65625 -2.53125 C 1.738281 -2.09375 1.851562 -1.742188 2 -1.484375 C 2.15625 -1.222656 2.34375 -1.035156 2.5625 -0.921875 C 2.789062 -0.804688 3.046875 -0.75 3.328125 -0.75 C 3.609375 -0.75 3.859375 -0.804688 4.078125 -0.921875 C 4.304688 -1.035156 4.492188 -1.222656 4.640625 -1.484375 C 4.796875 -1.742188 4.914062 -2.09375 5 -2.53125 C 5.09375 -2.96875 5.140625 -3.5 5.140625 -4.125 Z M 5.140625 -4.125 \"/>\n",
       "</g>\n",
       "<g id=\"glyph-0-3\">\n",
       "<path d=\"M 6.078125 -7.40625 C 5.660156 -6.769531 5.273438 -6.160156 4.921875 -5.578125 C 4.578125 -4.992188 4.28125 -4.40625 4.03125 -3.8125 C 3.78125 -3.21875 3.582031 -2.609375 3.4375 -1.984375 C 3.300781 -1.367188 3.234375 -0.707031 3.234375 0 L 2.140625 0 C 2.140625 -0.65625 2.21875 -1.300781 2.375 -1.9375 C 2.53125 -2.570312 2.738281 -3.195312 3 -3.8125 C 3.269531 -4.425781 3.578125 -5.023438 3.921875 -5.609375 C 4.273438 -6.203125 4.648438 -6.785156 5.046875 -7.359375 L 0.609375 -7.359375 L 0.609375 -8.25 L 6.078125 -8.25 Z M 6.078125 -7.40625 \"/>\n",
       "</g>\n",
       "<g id=\"glyph-0-4\">\n",
       "<path d=\"M 0.921875 0 L 0.921875 -0.890625 L 3.015625 -0.890625 L 3.015625 -7.25 L 1.15625 -5.921875 L 1.15625 -6.921875 L 3.109375 -8.25 L 4.078125 -8.25 L 4.078125 -0.890625 L 6.09375 -0.890625 L 6.09375 0 Z M 0.921875 0 \"/>\n",
       "</g>\n",
       "<g id=\"glyph-1-0\">\n",
       "<path d=\"M 5.28125 -9.171875 L 5.28125 0 L 3.875 0 L 3.875 -9.171875 L 0.34375 -9.171875 L 0.34375 -10.3125 L 8.8125 -10.3125 L 8.8125 -9.171875 Z M 5.28125 -9.171875 \"/>\n",
       "</g>\n",
       "<g id=\"glyph-1-1\">\n",
       "<path d=\"M 7.71875 -3.96875 C 7.71875 -2.582031 7.410156 -1.550781 6.796875 -0.875 C 6.179688 -0.195312 5.296875 0.140625 4.140625 0.140625 C 3.585938 0.140625 3.09375 0.0546875 2.65625 -0.109375 C 2.21875 -0.273438 1.847656 -0.523438 1.546875 -0.859375 C 1.253906 -1.203125 1.023438 -1.628906 0.859375 -2.140625 C 0.703125 -2.660156 0.625 -3.269531 0.625 -3.96875 C 0.625 -6.707031 1.8125 -8.078125 4.1875 -8.078125 C 4.800781 -8.078125 5.332031 -7.988281 5.78125 -7.8125 C 6.226562 -7.644531 6.59375 -7.390625 6.875 -7.046875 C 7.15625 -6.703125 7.363281 -6.273438 7.5 -5.765625 C 7.644531 -5.253906 7.71875 -4.65625 7.71875 -3.96875 Z M 6.328125 -3.96875 C 6.328125 -4.582031 6.28125 -5.085938 6.1875 -5.484375 C 6.09375 -5.890625 5.953125 -6.210938 5.765625 -6.453125 C 5.585938 -6.691406 5.363281 -6.859375 5.09375 -6.953125 C 4.832031 -7.046875 4.535156 -7.09375 4.203125 -7.09375 C 3.867188 -7.09375 3.566406 -7.039062 3.296875 -6.9375 C 3.023438 -6.84375 2.789062 -6.675781 2.59375 -6.4375 C 2.40625 -6.195312 2.257812 -5.875 2.15625 -5.46875 C 2.0625 -5.070312 2.015625 -4.570312 2.015625 -3.96875 C 2.015625 -3.351562 2.066406 -2.84375 2.171875 -2.4375 C 2.285156 -2.039062 2.4375 -1.722656 2.625 -1.484375 C 2.8125 -1.242188 3.03125 -1.070312 3.28125 -0.96875 C 3.539062 -0.875 3.820312 -0.828125 4.125 -0.828125 C 4.457031 -0.828125 4.757812 -0.875 5.03125 -0.96875 C 5.3125 -1.0625 5.546875 -1.226562 5.734375 -1.46875 C 5.921875 -1.707031 6.066406 -2.03125 6.171875 -2.4375 C 6.273438 -2.84375 6.328125 -3.351562 6.328125 -3.96875 Z M 6.328125 -3.96875 \"/>\n",
       "</g>\n",
       "<g id=\"glyph-1-2\">\n",
       "<path d=\"M 4.0625 -0.0625 C 3.851562 -0.0078125 3.644531 0.03125 3.4375 0.0625 C 3.238281 0.101562 3 0.125 2.71875 0.125 C 1.664062 0.125 1.140625 -0.472656 1.140625 -1.671875 L 1.140625 -6.96875 L 0.234375 -6.96875 L 0.234375 -7.921875 L 1.1875 -7.921875 L 1.578125 -9.703125 L 2.46875 -9.703125 L 2.46875 -7.921875 L 3.921875 -7.921875 L 3.921875 -6.96875 L 2.46875 -6.96875 L 2.46875 -1.96875 C 2.46875 -1.582031 2.523438 -1.3125 2.640625 -1.15625 C 2.765625 -1.007812 2.984375 -0.9375 3.296875 -0.9375 C 3.421875 -0.9375 3.539062 -0.941406 3.65625 -0.953125 C 3.78125 -0.972656 3.914062 -1 4.0625 -1.03125 Z M 4.0625 -0.0625 \"/>\n",
       "</g>\n",
       "<g id=\"glyph-1-3\">\n",
       "<path d=\"M 3.03125 0.140625 C 2.238281 0.140625 1.640625 -0.0664062 1.234375 -0.484375 C 0.835938 -0.898438 0.640625 -1.476562 0.640625 -2.21875 C 0.640625 -2.738281 0.738281 -3.164062 0.9375 -3.5 C 1.132812 -3.832031 1.390625 -4.09375 1.703125 -4.28125 C 2.023438 -4.476562 2.390625 -4.613281 2.796875 -4.6875 C 3.210938 -4.757812 3.632812 -4.800781 4.0625 -4.8125 L 5.84375 -4.828125 L 5.84375 -5.265625 C 5.84375 -5.585938 5.804688 -5.863281 5.734375 -6.09375 C 5.660156 -6.332031 5.550781 -6.519531 5.40625 -6.65625 C 5.269531 -6.800781 5.097656 -6.90625 4.890625 -6.96875 C 4.679688 -7.03125 4.429688 -7.0625 4.140625 -7.0625 C 3.878906 -7.0625 3.644531 -7.039062 3.4375 -7 C 3.238281 -6.96875 3.0625 -6.90625 2.90625 -6.8125 C 2.757812 -6.71875 2.640625 -6.585938 2.546875 -6.421875 C 2.453125 -6.265625 2.390625 -6.0625 2.359375 -5.8125 L 0.984375 -5.9375 C 1.035156 -6.25 1.128906 -6.535156 1.265625 -6.796875 C 1.398438 -7.054688 1.59375 -7.28125 1.84375 -7.46875 C 2.101562 -7.65625 2.421875 -7.800781 2.796875 -7.90625 C 3.171875 -8.019531 3.628906 -8.078125 4.171875 -8.078125 C 5.160156 -8.078125 5.90625 -7.847656 6.40625 -7.390625 C 6.914062 -6.929688 7.171875 -6.269531 7.171875 -5.40625 L 7.171875 -2 C 7.171875 -1.601562 7.222656 -1.304688 7.328125 -1.109375 C 7.429688 -0.910156 7.625 -0.8125 7.90625 -0.8125 C 7.976562 -0.8125 8.050781 -0.816406 8.125 -0.828125 C 8.195312 -0.835938 8.269531 -0.847656 8.34375 -0.859375 L 8.34375 -0.046875 C 8.175781 -0.00390625 8.007812 0.0234375 7.84375 0.046875 C 7.6875 0.0664062 7.515625 0.078125 7.328125 0.078125 C 7.078125 0.078125 6.863281 0.046875 6.6875 -0.015625 C 6.507812 -0.0859375 6.363281 -0.191406 6.25 -0.328125 C 6.132812 -0.460938 6.046875 -0.628906 5.984375 -0.828125 C 5.929688 -1.023438 5.894531 -1.253906 5.875 -1.515625 L 5.84375 -1.515625 C 5.695312 -1.265625 5.539062 -1.035156 5.375 -0.828125 C 5.207031 -0.617188 5.007812 -0.441406 4.78125 -0.296875 C 4.5625 -0.160156 4.304688 -0.0546875 4.015625 0.015625 C 3.734375 0.0976562 3.40625 0.140625 3.03125 0.140625 Z M 3.328125 -0.84375 C 3.753906 -0.84375 4.125 -0.914062 4.4375 -1.0625 C 4.75 -1.21875 5.007812 -1.414062 5.21875 -1.65625 C 5.425781 -1.894531 5.582031 -2.15625 5.6875 -2.4375 C 5.789062 -2.726562 5.84375 -3.003906 5.84375 -3.265625 L 5.84375 -3.90625 L 4.390625 -3.875 C 4.066406 -3.875 3.757812 -3.851562 3.46875 -3.8125 C 3.1875 -3.769531 2.929688 -3.6875 2.703125 -3.5625 C 2.484375 -3.445312 2.3125 -3.273438 2.1875 -3.046875 C 2.0625 -2.828125 2 -2.539062 2 -2.1875 C 2 -1.757812 2.113281 -1.425781 2.34375 -1.1875 C 2.570312 -0.957031 2.898438 -0.84375 3.328125 -0.84375 Z M 3.328125 -0.84375 \"/>\n",
       "</g>\n",
       "<g id=\"glyph-1-4\">\n",
       "<path d=\"M 1.015625 0 L 1.015625 -10.875 L 2.328125 -10.875 L 2.328125 0 Z M 1.015625 0 \"/>\n",
       "</g>\n",
       "<g id=\"glyph-1-5\">\n",
       "</g>\n",
       "<g id=\"glyph-1-6\">\n",
       "<path d=\"M 9.21875 -7.21875 C 9.21875 -6.769531 9.140625 -6.347656 8.984375 -5.953125 C 8.835938 -5.566406 8.613281 -5.226562 8.3125 -4.9375 C 8.019531 -4.65625 7.648438 -4.429688 7.203125 -4.265625 C 6.765625 -4.097656 6.25 -4.015625 5.65625 -4.015625 L 2.625 -4.015625 L 2.625 0 L 1.234375 0 L 1.234375 -10.3125 L 5.578125 -10.3125 C 6.179688 -10.3125 6.710938 -10.238281 7.171875 -10.09375 C 7.628906 -9.945312 8.007812 -9.738281 8.3125 -9.46875 C 8.613281 -9.195312 8.835938 -8.867188 8.984375 -8.484375 C 9.140625 -8.097656 9.21875 -7.675781 9.21875 -7.21875 Z M 7.8125 -7.203125 C 7.8125 -7.859375 7.609375 -8.351562 7.203125 -8.6875 C 6.804688 -9.03125 6.207031 -9.203125 5.40625 -9.203125 L 2.625 -9.203125 L 2.625 -5.125 L 5.46875 -5.125 C 6.269531 -5.125 6.859375 -5.300781 7.234375 -5.65625 C 7.617188 -6.019531 7.8125 -6.535156 7.8125 -7.203125 Z M 7.8125 -7.203125 \"/>\n",
       "</g>\n",
       "<g id=\"glyph-1-7\">\n",
       "<path d=\"M 4.421875 0 C 4.234375 0.476562 4.039062 0.910156 3.84375 1.296875 C 3.65625 1.679688 3.441406 2.007812 3.203125 2.28125 C 2.960938 2.550781 2.695312 2.753906 2.40625 2.890625 C 2.113281 3.035156 1.78125 3.109375 1.40625 3.109375 C 1.238281 3.109375 1.082031 3.101562 0.9375 3.09375 C 0.789062 3.082031 0.640625 3.0625 0.484375 3.03125 L 0.484375 2.046875 C 0.578125 2.054688 0.679688 2.066406 0.796875 2.078125 C 0.921875 2.085938 1.023438 2.09375 1.109375 2.09375 C 1.492188 2.09375 1.851562 1.945312 2.1875 1.65625 C 2.519531 1.363281 2.804688 0.90625 3.046875 0.28125 L 3.171875 -0.03125 L 0.03125 -7.921875 L 1.4375 -7.921875 L 3.109375 -3.546875 C 3.160156 -3.410156 3.222656 -3.234375 3.296875 -3.015625 C 3.367188 -2.796875 3.441406 -2.578125 3.515625 -2.359375 C 3.597656 -2.140625 3.664062 -1.941406 3.71875 -1.765625 C 3.78125 -1.585938 3.816406 -1.476562 3.828125 -1.4375 C 3.847656 -1.488281 3.882812 -1.59375 3.9375 -1.75 C 3.988281 -1.914062 4.050781 -2.09375 4.125 -2.28125 C 4.195312 -2.476562 4.269531 -2.675781 4.34375 -2.875 C 4.414062 -3.070312 4.476562 -3.25 4.53125 -3.40625 L 6.078125 -7.921875 L 7.46875 -7.921875 Z M 4.421875 0 \"/>\n",
       "</g>\n",
       "<g id=\"glyph-1-8\">\n",
       "<path d=\"M 1 -9.609375 L 1 -10.875 L 2.328125 -10.875 L 2.328125 -9.609375 Z M 1 0 L 1 -7.921875 L 2.328125 -7.921875 L 2.328125 0 Z M 1 0 \"/>\n",
       "</g>\n",
       "<g id=\"glyph-1-9\">\n",
       "<path d=\"M 5.625 0 L 5.625 -5.03125 C 5.625 -5.414062 5.597656 -5.734375 5.546875 -5.984375 C 5.503906 -6.242188 5.425781 -6.453125 5.3125 -6.609375 C 5.195312 -6.773438 5.046875 -6.890625 4.859375 -6.953125 C 4.671875 -7.015625 4.441406 -7.046875 4.171875 -7.046875 C 3.890625 -7.046875 3.632812 -6.988281 3.40625 -6.875 C 3.1875 -6.769531 3 -6.613281 2.84375 -6.40625 C 2.6875 -6.195312 2.5625 -5.941406 2.46875 -5.640625 C 2.382812 -5.335938 2.34375 -4.988281 2.34375 -4.59375 L 2.34375 0 L 1.046875 0 L 1.046875 -6.234375 C 1.046875 -6.398438 1.039062 -6.570312 1.03125 -6.75 C 1.03125 -6.9375 1.023438 -7.109375 1.015625 -7.265625 C 1.015625 -7.429688 1.007812 -7.570312 1 -7.6875 C 1 -7.8125 1 -7.890625 1 -7.921875 L 2.234375 -7.921875 C 2.242188 -7.898438 2.25 -7.832031 2.25 -7.71875 C 2.257812 -7.613281 2.265625 -7.492188 2.265625 -7.359375 C 2.273438 -7.222656 2.28125 -7.082031 2.28125 -6.9375 C 2.289062 -6.789062 2.296875 -6.664062 2.296875 -6.5625 L 2.328125 -6.5625 C 2.441406 -6.800781 2.566406 -7.007812 2.703125 -7.1875 C 2.835938 -7.375 2.992188 -7.53125 3.171875 -7.65625 C 3.359375 -7.789062 3.570312 -7.894531 3.8125 -7.96875 C 4.050781 -8.039062 4.328125 -8.078125 4.640625 -8.078125 C 5.234375 -8.078125 5.703125 -7.957031 6.046875 -7.71875 C 6.398438 -7.476562 6.648438 -7.09375 6.796875 -6.5625 L 6.8125 -6.5625 C 6.925781 -6.800781 7.054688 -7.007812 7.203125 -7.1875 C 7.347656 -7.375 7.519531 -7.53125 7.71875 -7.65625 C 7.914062 -7.789062 8.132812 -7.894531 8.375 -7.96875 C 8.625 -8.039062 8.90625 -8.078125 9.21875 -8.078125 C 9.613281 -8.078125 9.957031 -8.019531 10.25 -7.90625 C 10.539062 -7.800781 10.78125 -7.632812 10.96875 -7.40625 C 11.15625 -7.1875 11.289062 -6.898438 11.375 -6.546875 C 11.457031 -6.191406 11.5 -5.769531 11.5 -5.28125 L 11.5 0 L 10.203125 0 L 10.203125 -5.03125 C 10.203125 -5.414062 10.175781 -5.734375 10.125 -5.984375 C 10.082031 -6.242188 10.003906 -6.453125 9.890625 -6.609375 C 9.773438 -6.773438 9.625 -6.890625 9.4375 -6.953125 C 9.25 -7.015625 9.019531 -7.046875 8.75 -7.046875 C 8.46875 -7.046875 8.210938 -6.992188 7.984375 -6.890625 C 7.765625 -6.785156 7.578125 -6.628906 7.421875 -6.421875 C 7.265625 -6.222656 7.140625 -5.96875 7.046875 -5.65625 C 6.960938 -5.351562 6.921875 -5 6.921875 -4.59375 L 6.921875 0 Z M 5.625 0 \"/>\n",
       "</g>\n",
       "<g id=\"glyph-1-10\">\n",
       "<path d=\"M 2.015625 -3.6875 C 2.015625 -3.269531 2.054688 -2.882812 2.140625 -2.53125 C 2.234375 -2.1875 2.367188 -1.890625 2.546875 -1.640625 C 2.722656 -1.390625 2.945312 -1.191406 3.21875 -1.046875 C 3.5 -0.910156 3.835938 -0.84375 4.234375 -0.84375 C 4.804688 -0.84375 5.265625 -0.957031 5.609375 -1.1875 C 5.953125 -1.414062 6.1875 -1.707031 6.3125 -2.0625 L 7.46875 -1.734375 C 7.382812 -1.515625 7.265625 -1.289062 7.109375 -1.0625 C 6.960938 -0.84375 6.765625 -0.644531 6.515625 -0.46875 C 6.265625 -0.289062 5.953125 -0.144531 5.578125 -0.03125 C 5.210938 0.0820312 4.765625 0.140625 4.234375 0.140625 C 3.054688 0.140625 2.160156 -0.207031 1.546875 -0.90625 C 0.941406 -1.601562 0.640625 -2.640625 0.640625 -4.015625 C 0.640625 -4.753906 0.726562 -5.378906 0.90625 -5.890625 C 1.09375 -6.410156 1.347656 -6.832031 1.671875 -7.15625 C 1.992188 -7.476562 2.367188 -7.710938 2.796875 -7.859375 C 3.234375 -8.003906 3.695312 -8.078125 4.1875 -8.078125 C 4.84375 -8.078125 5.394531 -7.96875 5.84375 -7.75 C 6.289062 -7.53125 6.648438 -7.234375 6.921875 -6.859375 C 7.191406 -6.484375 7.382812 -6.035156 7.5 -5.515625 C 7.613281 -5.003906 7.671875 -4.453125 7.671875 -3.859375 L 7.671875 -3.6875 Z M 6.3125 -4.6875 C 6.238281 -5.53125 6.023438 -6.140625 5.671875 -6.515625 C 5.328125 -6.898438 4.820312 -7.09375 4.15625 -7.09375 C 3.9375 -7.09375 3.707031 -7.054688 3.46875 -6.984375 C 3.226562 -6.921875 3.003906 -6.796875 2.796875 -6.609375 C 2.585938 -6.429688 2.410156 -6.1875 2.265625 -5.875 C 2.128906 -5.5625 2.050781 -5.164062 2.03125 -4.6875 Z M 6.3125 -4.6875 \"/>\n",
       "</g>\n",
       "<g id=\"glyph-1-11\">\n",
       "<path d=\"M 0.9375 -3.890625 C 0.9375 -4.578125 0.984375 -5.226562 1.078125 -5.84375 C 1.179688 -6.46875 1.34375 -7.0625 1.5625 -7.625 C 1.78125 -8.195312 2.0625 -8.75 2.40625 -9.28125 C 2.75 -9.820312 3.160156 -10.351562 3.640625 -10.875 L 4.90625 -10.875 C 4.445312 -10.351562 4.050781 -9.820312 3.71875 -9.28125 C 3.382812 -8.75 3.109375 -8.195312 2.890625 -7.625 C 2.679688 -7.050781 2.519531 -6.453125 2.40625 -5.828125 C 2.300781 -5.210938 2.25 -4.5625 2.25 -3.875 C 2.25 -3.195312 2.300781 -2.546875 2.40625 -1.921875 C 2.519531 -1.304688 2.679688 -0.710938 2.890625 -0.140625 C 3.109375 0.429688 3.382812 0.988281 3.71875 1.53125 C 4.050781 2.070312 4.445312 2.597656 4.90625 3.109375 L 3.640625 3.109375 C 3.160156 2.597656 2.75 2.070312 2.40625 1.53125 C 2.0625 0.988281 1.78125 0.4375 1.5625 -0.125 C 1.34375 -0.695312 1.179688 -1.289062 1.078125 -1.90625 C 0.984375 -2.53125 0.9375 -3.1875 0.9375 -3.875 Z M 0.9375 -3.890625 \"/>\n",
       "</g>\n",
       "<g id=\"glyph-1-12\">\n",
       "<path d=\"M 2.328125 -6.5625 C 2.472656 -6.832031 2.628906 -7.0625 2.796875 -7.25 C 2.960938 -7.4375 3.148438 -7.59375 3.359375 -7.71875 C 3.566406 -7.84375 3.789062 -7.929688 4.03125 -7.984375 C 4.28125 -8.046875 4.554688 -8.078125 4.859375 -8.078125 C 5.367188 -8.078125 5.785156 -8.003906 6.109375 -7.859375 C 6.429688 -7.722656 6.6875 -7.53125 6.875 -7.28125 C 7.0625 -7.039062 7.191406 -6.75 7.265625 -6.40625 C 7.335938 -6.0625 7.375 -5.6875 7.375 -5.28125 L 7.375 0 L 6.046875 0 L 6.046875 -5.03125 C 6.046875 -5.363281 6.023438 -5.65625 5.984375 -5.90625 C 5.941406 -6.164062 5.859375 -6.378906 5.734375 -6.546875 C 5.617188 -6.710938 5.453125 -6.835938 5.234375 -6.921875 C 5.023438 -7.003906 4.75 -7.046875 4.40625 -7.046875 C 4.09375 -7.046875 3.8125 -6.988281 3.5625 -6.875 C 3.3125 -6.769531 3.097656 -6.613281 2.921875 -6.40625 C 2.742188 -6.195312 2.601562 -5.945312 2.5 -5.65625 C 2.40625 -5.363281 2.359375 -5.035156 2.359375 -4.671875 L 2.359375 0 L 1.046875 0 L 1.046875 -10.875 L 2.359375 -10.875 L 2.359375 -8.046875 C 2.359375 -7.878906 2.351562 -7.710938 2.34375 -7.546875 C 2.34375 -7.390625 2.335938 -7.242188 2.328125 -7.109375 C 2.328125 -6.972656 2.320312 -6.859375 2.3125 -6.765625 C 2.3125 -6.671875 2.304688 -6.601562 2.296875 -6.5625 Z M 2.328125 -6.5625 \"/>\n",
       "</g>\n",
       "<g id=\"glyph-1-13\">\n",
       "<path d=\"M 2.296875 -7.921875 L 2.296875 -2.90625 C 2.296875 -2.519531 2.320312 -2.195312 2.375 -1.9375 C 2.4375 -1.675781 2.53125 -1.460938 2.65625 -1.296875 C 2.78125 -1.140625 2.945312 -1.03125 3.15625 -0.96875 C 3.363281 -0.90625 3.625 -0.875 3.9375 -0.875 C 4.25 -0.875 4.53125 -0.925781 4.78125 -1.03125 C 5.03125 -1.144531 5.242188 -1.304688 5.421875 -1.515625 C 5.597656 -1.722656 5.734375 -1.976562 5.828125 -2.28125 C 5.929688 -2.582031 5.984375 -2.929688 5.984375 -3.328125 L 5.984375 -7.921875 L 7.296875 -7.921875 L 7.296875 -1.6875 C 7.296875 -1.519531 7.296875 -1.34375 7.296875 -1.15625 C 7.304688 -0.976562 7.3125 -0.804688 7.3125 -0.640625 C 7.320312 -0.484375 7.328125 -0.34375 7.328125 -0.21875 C 7.335938 -0.101562 7.34375 -0.03125 7.34375 0 L 6.09375 0 C 6.09375 -0.0195312 6.085938 -0.0820312 6.078125 -0.1875 C 6.078125 -0.300781 6.070312 -0.425781 6.0625 -0.5625 C 6.0625 -0.707031 6.054688 -0.847656 6.046875 -0.984375 C 6.046875 -1.128906 6.046875 -1.253906 6.046875 -1.359375 L 6.015625 -1.359375 C 5.890625 -1.128906 5.75 -0.921875 5.59375 -0.734375 C 5.445312 -0.546875 5.273438 -0.382812 5.078125 -0.25 C 4.878906 -0.125 4.648438 -0.03125 4.390625 0.03125 C 4.128906 0.101562 3.828125 0.140625 3.484375 0.140625 C 3.046875 0.140625 2.664062 0.0859375 2.34375 -0.015625 C 2.03125 -0.117188 1.769531 -0.28125 1.5625 -0.5 C 1.363281 -0.726562 1.210938 -1.019531 1.109375 -1.375 C 1.015625 -1.726562 0.96875 -2.148438 0.96875 -2.640625 L 0.96875 -7.921875 Z M 2.296875 -7.921875 \"/>\n",
       "</g>\n",
       "<g id=\"glyph-1-14\">\n",
       "<path d=\"M 1.046875 0 L 1.046875 -6.078125 C 1.046875 -6.242188 1.039062 -6.410156 1.03125 -6.578125 C 1.03125 -6.753906 1.023438 -6.921875 1.015625 -7.078125 C 1.015625 -7.242188 1.007812 -7.394531 1 -7.53125 C 1 -7.675781 1 -7.804688 1 -7.921875 L 2.234375 -7.921875 C 2.242188 -7.804688 2.25 -7.675781 2.25 -7.53125 C 2.257812 -7.394531 2.269531 -7.25 2.28125 -7.09375 C 2.289062 -6.945312 2.296875 -6.800781 2.296875 -6.65625 C 2.296875 -6.519531 2.296875 -6.40625 2.296875 -6.3125 L 2.328125 -6.3125 C 2.421875 -6.613281 2.519531 -6.875 2.625 -7.09375 C 2.726562 -7.3125 2.847656 -7.492188 2.984375 -7.640625 C 3.128906 -7.785156 3.300781 -7.894531 3.5 -7.96875 C 3.695312 -8.039062 3.9375 -8.078125 4.21875 -8.078125 C 4.320312 -8.078125 4.421875 -8.066406 4.515625 -8.046875 C 4.617188 -8.023438 4.695312 -8.007812 4.75 -8 L 4.75 -6.796875 C 4.65625 -6.816406 4.550781 -6.832031 4.4375 -6.84375 C 4.320312 -6.851562 4.191406 -6.859375 4.046875 -6.859375 C 3.742188 -6.859375 3.484375 -6.789062 3.265625 -6.65625 C 3.054688 -6.519531 2.882812 -6.332031 2.75 -6.09375 C 2.613281 -5.851562 2.515625 -5.5625 2.453125 -5.21875 C 2.390625 -4.882812 2.359375 -4.519531 2.359375 -4.125 L 2.359375 0 Z M 1.046875 0 \"/>\n",
       "</g>\n",
       "<g id=\"glyph-1-15\">\n",
       "<path d=\"M 6.953125 -2.1875 C 6.953125 -1.820312 6.878906 -1.492188 6.734375 -1.203125 C 6.597656 -0.910156 6.390625 -0.664062 6.109375 -0.46875 C 5.835938 -0.269531 5.503906 -0.117188 5.109375 -0.015625 C 4.710938 0.0859375 4.257812 0.140625 3.75 0.140625 C 3.28125 0.140625 2.863281 0.101562 2.5 0.03125 C 2.132812 -0.03125 1.8125 -0.140625 1.53125 -0.296875 C 1.25 -0.453125 1.015625 -0.65625 0.828125 -0.90625 C 0.640625 -1.164062 0.503906 -1.484375 0.421875 -1.859375 L 1.578125 -2.09375 C 1.691406 -1.664062 1.925781 -1.351562 2.28125 -1.15625 C 2.632812 -0.957031 3.125 -0.859375 3.75 -0.859375 C 4.03125 -0.859375 4.285156 -0.875 4.515625 -0.90625 C 4.753906 -0.945312 4.957031 -1.015625 5.125 -1.109375 C 5.300781 -1.210938 5.4375 -1.34375 5.53125 -1.5 C 5.625 -1.65625 5.671875 -1.851562 5.671875 -2.09375 C 5.671875 -2.332031 5.613281 -2.523438 5.5 -2.671875 C 5.394531 -2.828125 5.238281 -2.957031 5.03125 -3.0625 C 4.832031 -3.164062 4.585938 -3.253906 4.296875 -3.328125 C 4.015625 -3.398438 3.707031 -3.484375 3.375 -3.578125 C 3.050781 -3.660156 2.734375 -3.753906 2.421875 -3.859375 C 2.109375 -3.960938 1.828125 -4.097656 1.578125 -4.265625 C 1.328125 -4.429688 1.125 -4.640625 0.96875 -4.890625 C 0.8125 -5.140625 0.734375 -5.453125 0.734375 -5.828125 C 0.734375 -6.554688 0.988281 -7.109375 1.5 -7.484375 C 2.019531 -7.859375 2.769531 -8.046875 3.75 -8.046875 C 4.625 -8.046875 5.316406 -7.890625 5.828125 -7.578125 C 6.347656 -7.273438 6.675781 -6.785156 6.8125 -6.109375 L 5.625 -5.96875 C 5.582031 -6.164062 5.503906 -6.332031 5.390625 -6.46875 C 5.273438 -6.613281 5.132812 -6.726562 4.96875 -6.8125 C 4.800781 -6.894531 4.613281 -6.953125 4.40625 -6.984375 C 4.195312 -7.023438 3.976562 -7.046875 3.75 -7.046875 C 3.15625 -7.046875 2.71875 -6.957031 2.4375 -6.78125 C 2.15625 -6.601562 2.015625 -6.332031 2.015625 -5.96875 C 2.015625 -5.75 2.066406 -5.566406 2.171875 -5.421875 C 2.273438 -5.285156 2.421875 -5.171875 2.609375 -5.078125 C 2.796875 -4.984375 3.019531 -4.898438 3.28125 -4.828125 C 3.550781 -4.753906 3.84375 -4.679688 4.15625 -4.609375 C 4.363281 -4.554688 4.578125 -4.5 4.796875 -4.4375 C 5.023438 -4.375 5.238281 -4.300781 5.4375 -4.21875 C 5.644531 -4.132812 5.84375 -4.035156 6.03125 -3.921875 C 6.21875 -3.804688 6.378906 -3.664062 6.515625 -3.5 C 6.648438 -3.34375 6.753906 -3.15625 6.828125 -2.9375 C 6.910156 -2.71875 6.953125 -2.46875 6.953125 -2.1875 Z M 6.953125 -2.1875 \"/>\n",
       "</g>\n",
       "<g id=\"glyph-1-16\">\n",
       "<path d=\"M 4.0625 -3.875 C 4.0625 -3.1875 4.007812 -2.53125 3.90625 -1.90625 C 3.800781 -1.289062 3.640625 -0.695312 3.421875 -0.125 C 3.203125 0.4375 2.921875 0.988281 2.578125 1.53125 C 2.242188 2.070312 1.835938 2.597656 1.359375 3.109375 L 0.09375 3.109375 C 0.550781 2.597656 0.945312 2.070312 1.28125 1.53125 C 1.613281 0.988281 1.882812 0.429688 2.09375 -0.140625 C 2.3125 -0.710938 2.472656 -1.304688 2.578125 -1.921875 C 2.679688 -2.546875 2.734375 -3.195312 2.734375 -3.875 C 2.734375 -4.5625 2.679688 -5.210938 2.578125 -5.828125 C 2.472656 -6.453125 2.3125 -7.050781 2.09375 -7.625 C 1.882812 -8.195312 1.613281 -8.75 1.28125 -9.28125 C 0.945312 -9.820312 0.550781 -10.351562 0.09375 -10.875 L 1.359375 -10.875 C 1.835938 -10.351562 2.242188 -9.820312 2.578125 -9.28125 C 2.921875 -8.75 3.203125 -8.195312 3.421875 -7.625 C 3.640625 -7.0625 3.800781 -6.46875 3.90625 -5.84375 C 4.007812 -5.226562 4.0625 -4.578125 4.0625 -3.890625 Z M 4.0625 -3.875 \"/>\n",
       "</g>\n",
       "<g id=\"glyph-2-0\">\n",
       "<path d=\"M 0 -8.546875 L -3.015625 -7.375 L -3.015625 -2.671875 L 0 -1.484375 L 0 -0.03125 L -10.3125 -4.234375 L -10.3125 -5.828125 L 0 -9.96875 Z M -7.515625 -5.625 C -7.710938 -5.550781 -7.910156 -5.476562 -8.109375 -5.40625 C -8.304688 -5.332031 -8.488281 -5.269531 -8.65625 -5.21875 C -8.820312 -5.164062 -8.957031 -5.117188 -9.0625 -5.078125 C -9.175781 -5.046875 -9.242188 -5.023438 -9.265625 -5.015625 C -9.242188 -5.003906 -9.175781 -4.984375 -9.0625 -4.953125 C -8.945312 -4.921875 -8.804688 -4.875 -8.640625 -4.8125 C -8.472656 -4.757812 -8.289062 -4.695312 -8.09375 -4.625 C -7.894531 -4.550781 -7.695312 -4.476562 -7.5 -4.40625 L -4.109375 -3.09375 L -4.109375 -6.953125 Z M -7.515625 -5.625 \"/>\n",
       "</g>\n",
       "<g id=\"glyph-2-1\">\n",
       "<path d=\"M 3.109375 -4.015625 C 3.109375 -3.554688 3.0625 -3.148438 2.96875 -2.796875 C 2.875 -2.453125 2.738281 -2.15625 2.5625 -1.90625 C 2.394531 -1.65625 2.191406 -1.453125 1.953125 -1.296875 C 1.710938 -1.140625 1.445312 -1.023438 1.15625 -0.953125 L 0.96875 -2.28125 C 1.332031 -2.375 1.613281 -2.566406 1.8125 -2.859375 C 2.007812 -3.160156 2.109375 -3.554688 2.109375 -4.046875 C 2.109375 -4.347656 2.066406 -4.617188 1.984375 -4.859375 C 1.898438 -5.109375 1.765625 -5.316406 1.578125 -5.484375 C 1.398438 -5.660156 1.164062 -5.789062 0.875 -5.875 C 0.582031 -5.96875 0.222656 -6.015625 -0.203125 -6.015625 L -1.46875 -6.015625 L -1.46875 -6 C -1.269531 -5.90625 -1.078125 -5.785156 -0.890625 -5.640625 C -0.710938 -5.492188 -0.550781 -5.316406 -0.40625 -5.109375 C -0.269531 -4.910156 -0.15625 -4.671875 -0.0625 -4.390625 C 0.0195312 -4.117188 0.0625 -3.804688 0.0625 -3.453125 C 0.0625 -2.953125 -0.0195312 -2.519531 -0.1875 -2.15625 C -0.363281 -1.800781 -0.617188 -1.507812 -0.953125 -1.28125 C -1.285156 -1.050781 -1.703125 -0.882812 -2.203125 -0.78125 C -2.703125 -0.675781 -3.285156 -0.625 -3.953125 -0.625 C -4.585938 -0.625 -5.15625 -0.675781 -5.65625 -0.78125 C -6.164062 -0.882812 -6.597656 -1.054688 -6.953125 -1.296875 C -7.304688 -1.535156 -7.578125 -1.84375 -7.765625 -2.21875 C -7.953125 -2.601562 -8.046875 -3.066406 -8.046875 -3.609375 C -8.046875 -4.171875 -7.914062 -4.65625 -7.65625 -5.0625 C -7.40625 -5.476562 -7.039062 -5.796875 -6.5625 -6.015625 L -6.5625 -6.03125 C -6.6875 -6.03125 -6.820312 -6.035156 -6.96875 -6.046875 C -7.125 -6.054688 -7.269531 -6.0625 -7.40625 -6.0625 C -7.539062 -6.070312 -7.65625 -6.082031 -7.75 -6.09375 C -7.851562 -6.101562 -7.910156 -6.113281 -7.921875 -6.125 L -7.921875 -7.375 C -7.878906 -7.375 -7.804688 -7.367188 -7.703125 -7.359375 C -7.597656 -7.359375 -7.472656 -7.351562 -7.328125 -7.34375 C -7.179688 -7.34375 -7.015625 -7.335938 -6.828125 -7.328125 C -6.648438 -7.328125 -6.46875 -7.328125 -6.28125 -7.328125 L -0.234375 -7.328125 C 0.878906 -7.328125 1.710938 -7.054688 2.265625 -6.515625 C 2.828125 -5.972656 3.109375 -5.140625 3.109375 -4.015625 Z M -3.96875 -6.015625 C -4.519531 -6.015625 -4.988281 -5.953125 -5.375 -5.828125 C -5.769531 -5.710938 -6.09375 -5.554688 -6.34375 -5.359375 C -6.59375 -5.171875 -6.773438 -4.953125 -6.890625 -4.703125 C -7.003906 -4.453125 -7.0625 -4.191406 -7.0625 -3.921875 C -7.0625 -3.585938 -7.003906 -3.300781 -6.890625 -3.0625 C -6.773438 -2.820312 -6.59375 -2.617188 -6.34375 -2.453125 C -6.09375 -2.296875 -5.769531 -2.179688 -5.375 -2.109375 C -4.976562 -2.035156 -4.507812 -2 -3.96875 -2 C -3.394531 -2 -2.910156 -2.035156 -2.515625 -2.109375 C -2.128906 -2.179688 -1.816406 -2.296875 -1.578125 -2.453125 C -1.335938 -2.609375 -1.164062 -2.804688 -1.0625 -3.046875 C -0.96875 -3.285156 -0.921875 -3.570312 -0.921875 -3.90625 C -0.921875 -4.164062 -0.972656 -4.421875 -1.078125 -4.671875 C -1.191406 -4.921875 -1.367188 -5.144531 -1.609375 -5.34375 C -1.859375 -5.550781 -2.175781 -5.710938 -2.5625 -5.828125 C -2.945312 -5.953125 -3.414062 -6.015625 -3.96875 -6.015625 Z M -3.96875 -6.015625 \"/>\n",
       "</g>\n",
       "<g id=\"glyph-2-2\">\n",
       "<path d=\"M -3.6875 -2.015625 C -3.269531 -2.015625 -2.882812 -2.054688 -2.53125 -2.140625 C -2.1875 -2.234375 -1.890625 -2.367188 -1.640625 -2.546875 C -1.390625 -2.722656 -1.191406 -2.945312 -1.046875 -3.21875 C -0.910156 -3.5 -0.84375 -3.835938 -0.84375 -4.234375 C -0.84375 -4.804688 -0.957031 -5.265625 -1.1875 -5.609375 C -1.414062 -5.953125 -1.707031 -6.1875 -2.0625 -6.3125 L -1.734375 -7.46875 C -1.515625 -7.382812 -1.289062 -7.265625 -1.0625 -7.109375 C -0.84375 -6.960938 -0.644531 -6.765625 -0.46875 -6.515625 C -0.289062 -6.265625 -0.144531 -5.953125 -0.03125 -5.578125 C 0.0820312 -5.210938 0.140625 -4.765625 0.140625 -4.234375 C 0.140625 -3.054688 -0.207031 -2.160156 -0.90625 -1.546875 C -1.601562 -0.941406 -2.640625 -0.640625 -4.015625 -0.640625 C -4.753906 -0.640625 -5.378906 -0.726562 -5.890625 -0.90625 C -6.410156 -1.09375 -6.832031 -1.347656 -7.15625 -1.671875 C -7.476562 -1.992188 -7.710938 -2.367188 -7.859375 -2.796875 C -8.003906 -3.234375 -8.078125 -3.695312 -8.078125 -4.1875 C -8.078125 -4.84375 -7.96875 -5.394531 -7.75 -5.84375 C -7.53125 -6.289062 -7.234375 -6.648438 -6.859375 -6.921875 C -6.484375 -7.191406 -6.035156 -7.382812 -5.515625 -7.5 C -5.003906 -7.613281 -4.453125 -7.671875 -3.859375 -7.671875 L -3.6875 -7.671875 Z M -4.6875 -6.3125 C -5.53125 -6.238281 -6.140625 -6.023438 -6.515625 -5.671875 C -6.898438 -5.328125 -7.09375 -4.820312 -7.09375 -4.15625 C -7.09375 -3.9375 -7.054688 -3.707031 -6.984375 -3.46875 C -6.921875 -3.226562 -6.796875 -3.003906 -6.609375 -2.796875 C -6.429688 -2.585938 -6.1875 -2.410156 -5.875 -2.265625 C -5.5625 -2.128906 -5.164062 -2.050781 -4.6875 -2.03125 Z M -4.6875 -6.3125 \"/>\n",
       "</g>\n",
       "<g id=\"glyph-2-3\">\n",
       "</g>\n",
       "<g id=\"glyph-2-4\">\n",
       "<path d=\"M -3.890625 -0.9375 C -4.578125 -0.9375 -5.226562 -0.984375 -5.84375 -1.078125 C -6.46875 -1.179688 -7.0625 -1.34375 -7.625 -1.5625 C -8.195312 -1.78125 -8.75 -2.0625 -9.28125 -2.40625 C -9.820312 -2.75 -10.351562 -3.160156 -10.875 -3.640625 L -10.875 -4.90625 C -10.351562 -4.445312 -9.820312 -4.050781 -9.28125 -3.71875 C -8.75 -3.382812 -8.195312 -3.109375 -7.625 -2.890625 C -7.050781 -2.679688 -6.453125 -2.519531 -5.828125 -2.40625 C -5.210938 -2.300781 -4.5625 -2.25 -3.875 -2.25 C -3.195312 -2.25 -2.546875 -2.300781 -1.921875 -2.40625 C -1.304688 -2.519531 -0.710938 -2.679688 -0.140625 -2.890625 C 0.429688 -3.109375 0.988281 -3.382812 1.53125 -3.71875 C 2.070312 -4.050781 2.597656 -4.445312 3.109375 -4.90625 L 3.109375 -3.640625 C 2.597656 -3.160156 2.070312 -2.75 1.53125 -2.40625 C 0.988281 -2.0625 0.4375 -1.78125 -0.125 -1.5625 C -0.695312 -1.34375 -1.289062 -1.179688 -1.90625 -1.078125 C -2.53125 -0.984375 -3.1875 -0.9375 -3.875 -0.9375 Z M -3.890625 -0.9375 \"/>\n",
       "</g>\n",
       "<g id=\"glyph-2-5\">\n",
       "<path d=\"M 0 -4.421875 C 0.476562 -4.234375 0.910156 -4.039062 1.296875 -3.84375 C 1.679688 -3.65625 2.007812 -3.441406 2.28125 -3.203125 C 2.550781 -2.960938 2.753906 -2.695312 2.890625 -2.40625 C 3.035156 -2.113281 3.109375 -1.78125 3.109375 -1.40625 C 3.109375 -1.238281 3.101562 -1.082031 3.09375 -0.9375 C 3.082031 -0.789062 3.0625 -0.640625 3.03125 -0.484375 L 2.046875 -0.484375 C 2.054688 -0.578125 2.066406 -0.679688 2.078125 -0.796875 C 2.085938 -0.921875 2.09375 -1.023438 2.09375 -1.109375 C 2.09375 -1.492188 1.945312 -1.851562 1.65625 -2.1875 C 1.363281 -2.519531 0.90625 -2.804688 0.28125 -3.046875 L -0.03125 -3.171875 L -7.921875 -0.03125 L -7.921875 -1.4375 L -3.546875 -3.109375 C -3.410156 -3.160156 -3.234375 -3.222656 -3.015625 -3.296875 C -2.796875 -3.367188 -2.578125 -3.441406 -2.359375 -3.515625 C -2.140625 -3.597656 -1.941406 -3.664062 -1.765625 -3.71875 C -1.585938 -3.78125 -1.476562 -3.816406 -1.4375 -3.828125 C -1.488281 -3.847656 -1.59375 -3.882812 -1.75 -3.9375 C -1.914062 -3.988281 -2.09375 -4.050781 -2.28125 -4.125 C -2.476562 -4.195312 -2.675781 -4.269531 -2.875 -4.34375 C -3.070312 -4.414062 -3.25 -4.476562 -3.40625 -4.53125 L -7.921875 -6.078125 L -7.921875 -7.46875 Z M 0 -4.421875 \"/>\n",
       "</g>\n",
       "<g id=\"glyph-2-6\">\n",
       "<path d=\"M 0.140625 -3.03125 C 0.140625 -2.238281 -0.0664062 -1.640625 -0.484375 -1.234375 C -0.898438 -0.835938 -1.476562 -0.640625 -2.21875 -0.640625 C -2.738281 -0.640625 -3.164062 -0.738281 -3.5 -0.9375 C -3.832031 -1.132812 -4.09375 -1.390625 -4.28125 -1.703125 C -4.476562 -2.023438 -4.613281 -2.390625 -4.6875 -2.796875 C -4.757812 -3.210938 -4.800781 -3.632812 -4.8125 -4.0625 L -4.828125 -5.84375 L -5.265625 -5.84375 C -5.585938 -5.84375 -5.863281 -5.804688 -6.09375 -5.734375 C -6.332031 -5.660156 -6.519531 -5.550781 -6.65625 -5.40625 C -6.800781 -5.269531 -6.90625 -5.097656 -6.96875 -4.890625 C -7.03125 -4.679688 -7.0625 -4.429688 -7.0625 -4.140625 C -7.0625 -3.878906 -7.039062 -3.644531 -7 -3.4375 C -6.96875 -3.238281 -6.90625 -3.0625 -6.8125 -2.90625 C -6.71875 -2.757812 -6.585938 -2.640625 -6.421875 -2.546875 C -6.265625 -2.453125 -6.0625 -2.390625 -5.8125 -2.359375 L -5.9375 -0.984375 C -6.25 -1.035156 -6.535156 -1.128906 -6.796875 -1.265625 C -7.054688 -1.398438 -7.28125 -1.59375 -7.46875 -1.84375 C -7.65625 -2.101562 -7.800781 -2.421875 -7.90625 -2.796875 C -8.019531 -3.171875 -8.078125 -3.628906 -8.078125 -4.171875 C -8.078125 -5.160156 -7.847656 -5.90625 -7.390625 -6.40625 C -6.929688 -6.914062 -6.269531 -7.171875 -5.40625 -7.171875 L -2 -7.171875 C -1.601562 -7.171875 -1.304688 -7.222656 -1.109375 -7.328125 C -0.910156 -7.429688 -0.8125 -7.625 -0.8125 -7.90625 C -0.8125 -7.976562 -0.816406 -8.050781 -0.828125 -8.125 C -0.835938 -8.195312 -0.847656 -8.269531 -0.859375 -8.34375 L -0.046875 -8.34375 C -0.00390625 -8.175781 0.0234375 -8.007812 0.046875 -7.84375 C 0.0664062 -7.6875 0.078125 -7.515625 0.078125 -7.328125 C 0.078125 -7.078125 0.046875 -6.863281 -0.015625 -6.6875 C -0.0859375 -6.507812 -0.191406 -6.363281 -0.328125 -6.25 C -0.460938 -6.132812 -0.628906 -6.046875 -0.828125 -5.984375 C -1.023438 -5.929688 -1.253906 -5.894531 -1.515625 -5.875 L -1.515625 -5.84375 C -1.265625 -5.695312 -1.035156 -5.539062 -0.828125 -5.375 C -0.617188 -5.207031 -0.441406 -5.007812 -0.296875 -4.78125 C -0.160156 -4.5625 -0.0546875 -4.304688 0.015625 -4.015625 C 0.0976562 -3.734375 0.140625 -3.40625 0.140625 -3.03125 Z M -0.84375 -3.328125 C -0.84375 -3.753906 -0.914062 -4.125 -1.0625 -4.4375 C -1.21875 -4.75 -1.414062 -5.007812 -1.65625 -5.21875 C -1.894531 -5.425781 -2.15625 -5.582031 -2.4375 -5.6875 C -2.726562 -5.789062 -3.003906 -5.84375 -3.265625 -5.84375 L -3.90625 -5.84375 L -3.875 -4.390625 C -3.875 -4.066406 -3.851562 -3.757812 -3.8125 -3.46875 C -3.769531 -3.1875 -3.6875 -2.929688 -3.5625 -2.703125 C -3.445312 -2.484375 -3.273438 -2.3125 -3.046875 -2.1875 C -2.828125 -2.0625 -2.539062 -2 -2.1875 -2 C -1.757812 -2 -1.425781 -2.113281 -1.1875 -2.34375 C -0.957031 -2.570312 -0.84375 -2.898438 -0.84375 -3.328125 Z M -0.84375 -3.328125 \"/>\n",
       "</g>\n",
       "<g id=\"glyph-2-7\">\n",
       "<path d=\"M 0 -1.046875 L -6.078125 -1.046875 C -6.242188 -1.046875 -6.410156 -1.039062 -6.578125 -1.03125 C -6.753906 -1.03125 -6.921875 -1.023438 -7.078125 -1.015625 C -7.242188 -1.015625 -7.394531 -1.007812 -7.53125 -1 C -7.675781 -1 -7.804688 -1 -7.921875 -1 L -7.921875 -2.234375 C -7.804688 -2.242188 -7.675781 -2.25 -7.53125 -2.25 C -7.394531 -2.257812 -7.25 -2.269531 -7.09375 -2.28125 C -6.945312 -2.289062 -6.800781 -2.296875 -6.65625 -2.296875 C -6.519531 -2.296875 -6.40625 -2.296875 -6.3125 -2.296875 L -6.3125 -2.328125 C -6.613281 -2.421875 -6.875 -2.519531 -7.09375 -2.625 C -7.3125 -2.726562 -7.492188 -2.847656 -7.640625 -2.984375 C -7.785156 -3.128906 -7.894531 -3.300781 -7.96875 -3.5 C -8.039062 -3.695312 -8.078125 -3.9375 -8.078125 -4.21875 C -8.078125 -4.320312 -8.066406 -4.421875 -8.046875 -4.515625 C -8.023438 -4.617188 -8.007812 -4.695312 -8 -4.75 L -6.796875 -4.75 C -6.816406 -4.65625 -6.832031 -4.550781 -6.84375 -4.4375 C -6.851562 -4.320312 -6.859375 -4.191406 -6.859375 -4.046875 C -6.859375 -3.742188 -6.789062 -3.484375 -6.65625 -3.265625 C -6.519531 -3.054688 -6.332031 -2.882812 -6.09375 -2.75 C -5.851562 -2.613281 -5.5625 -2.515625 -5.21875 -2.453125 C -4.882812 -2.390625 -4.519531 -2.359375 -4.125 -2.359375 L 0 -2.359375 Z M 0 -1.046875 \"/>\n",
       "</g>\n",
       "<g id=\"glyph-2-8\">\n",
       "<path d=\"M -2.1875 -6.953125 C -1.820312 -6.953125 -1.492188 -6.878906 -1.203125 -6.734375 C -0.910156 -6.597656 -0.664062 -6.390625 -0.46875 -6.109375 C -0.269531 -5.835938 -0.117188 -5.503906 -0.015625 -5.109375 C 0.0859375 -4.710938 0.140625 -4.257812 0.140625 -3.75 C 0.140625 -3.28125 0.101562 -2.863281 0.03125 -2.5 C -0.03125 -2.132812 -0.140625 -1.8125 -0.296875 -1.53125 C -0.453125 -1.25 -0.65625 -1.015625 -0.90625 -0.828125 C -1.164062 -0.640625 -1.484375 -0.503906 -1.859375 -0.421875 L -2.09375 -1.578125 C -1.664062 -1.691406 -1.351562 -1.925781 -1.15625 -2.28125 C -0.957031 -2.632812 -0.859375 -3.125 -0.859375 -3.75 C -0.859375 -4.03125 -0.875 -4.285156 -0.90625 -4.515625 C -0.945312 -4.753906 -1.015625 -4.957031 -1.109375 -5.125 C -1.210938 -5.300781 -1.34375 -5.4375 -1.5 -5.53125 C -1.65625 -5.625 -1.851562 -5.671875 -2.09375 -5.671875 C -2.332031 -5.671875 -2.523438 -5.613281 -2.671875 -5.5 C -2.828125 -5.394531 -2.957031 -5.238281 -3.0625 -5.03125 C -3.164062 -4.832031 -3.253906 -4.585938 -3.328125 -4.296875 C -3.398438 -4.015625 -3.484375 -3.707031 -3.578125 -3.375 C -3.660156 -3.050781 -3.753906 -2.734375 -3.859375 -2.421875 C -3.960938 -2.109375 -4.097656 -1.828125 -4.265625 -1.578125 C -4.429688 -1.328125 -4.640625 -1.125 -4.890625 -0.96875 C -5.140625 -0.8125 -5.453125 -0.734375 -5.828125 -0.734375 C -6.554688 -0.734375 -7.109375 -0.988281 -7.484375 -1.5 C -7.859375 -2.019531 -8.046875 -2.769531 -8.046875 -3.75 C -8.046875 -4.625 -7.890625 -5.316406 -7.578125 -5.828125 C -7.273438 -6.347656 -6.785156 -6.675781 -6.109375 -6.8125 L -5.96875 -5.625 C -6.164062 -5.582031 -6.332031 -5.503906 -6.46875 -5.390625 C -6.613281 -5.273438 -6.726562 -5.132812 -6.8125 -4.96875 C -6.894531 -4.800781 -6.953125 -4.613281 -6.984375 -4.40625 C -7.023438 -4.195312 -7.046875 -3.976562 -7.046875 -3.75 C -7.046875 -3.15625 -6.957031 -2.71875 -6.78125 -2.4375 C -6.601562 -2.15625 -6.332031 -2.015625 -5.96875 -2.015625 C -5.75 -2.015625 -5.566406 -2.066406 -5.421875 -2.171875 C -5.285156 -2.273438 -5.171875 -2.421875 -5.078125 -2.609375 C -4.984375 -2.796875 -4.898438 -3.019531 -4.828125 -3.28125 C -4.753906 -3.550781 -4.679688 -3.84375 -4.609375 -4.15625 C -4.554688 -4.363281 -4.5 -4.578125 -4.4375 -4.796875 C -4.375 -5.023438 -4.300781 -5.238281 -4.21875 -5.4375 C -4.132812 -5.644531 -4.035156 -5.84375 -3.921875 -6.03125 C -3.804688 -6.21875 -3.664062 -6.378906 -3.5 -6.515625 C -3.34375 -6.648438 -3.15625 -6.753906 -2.9375 -6.828125 C -2.71875 -6.910156 -2.46875 -6.953125 -2.1875 -6.953125 Z M -2.1875 -6.953125 \"/>\n",
       "</g>\n",
       "<g id=\"glyph-2-9\">\n",
       "<path d=\"M -3.875 -4.0625 C -3.1875 -4.0625 -2.53125 -4.007812 -1.90625 -3.90625 C -1.289062 -3.800781 -0.695312 -3.640625 -0.125 -3.421875 C 0.4375 -3.203125 0.988281 -2.921875 1.53125 -2.578125 C 2.070312 -2.242188 2.597656 -1.835938 3.109375 -1.359375 L 3.109375 -0.09375 C 2.597656 -0.550781 2.070312 -0.945312 1.53125 -1.28125 C 0.988281 -1.613281 0.429688 -1.882812 -0.140625 -2.09375 C -0.710938 -2.3125 -1.304688 -2.472656 -1.921875 -2.578125 C -2.546875 -2.679688 -3.195312 -2.734375 -3.875 -2.734375 C -4.5625 -2.734375 -5.210938 -2.679688 -5.828125 -2.578125 C -6.453125 -2.472656 -7.050781 -2.3125 -7.625 -2.09375 C -8.195312 -1.882812 -8.75 -1.613281 -9.28125 -1.28125 C -9.820312 -0.945312 -10.351562 -0.550781 -10.875 -0.09375 L -10.875 -1.359375 C -10.351562 -1.835938 -9.820312 -2.242188 -9.28125 -2.578125 C -8.75 -2.921875 -8.195312 -3.203125 -7.625 -3.421875 C -7.0625 -3.640625 -6.46875 -3.800781 -5.84375 -3.90625 C -5.226562 -4.007812 -4.578125 -4.0625 -3.890625 -4.0625 Z M -3.875 -4.0625 \"/>\n",
       "</g>\n",
       "<g id=\"glyph-3-0\">\n",
       "<path d=\"M 3.15625 -11.015625 L 3.15625 -6.40625 L 10.0625 -6.40625 L 10.0625 -5.015625 L 3.15625 -5.015625 L 3.15625 0 L 1.484375 0 L 1.484375 -12.390625 L 10.28125 -12.390625 L 10.28125 -11.015625 Z M 3.15625 -11.015625 \"/>\n",
       "</g>\n",
       "<g id=\"glyph-3-1\">\n",
       "<path d=\"M 1.203125 -11.53125 L 1.203125 -13.046875 L 2.78125 -13.046875 L 2.78125 -11.53125 Z M 1.203125 0 L 1.203125 -9.515625 L 2.78125 -9.515625 L 2.78125 0 Z M 1.203125 0 \"/>\n",
       "</g>\n",
       "<g id=\"glyph-3-2\">\n",
       "<path d=\"M 4.8125 3.734375 C 4.269531 3.734375 3.785156 3.675781 3.359375 3.5625 C 2.941406 3.457031 2.582031 3.300781 2.28125 3.09375 C 1.988281 2.882812 1.75 2.632812 1.5625 2.34375 C 1.375 2.0625 1.238281 1.742188 1.15625 1.390625 L 2.75 1.15625 C 2.851562 1.59375 3.082031 1.929688 3.4375 2.171875 C 3.800781 2.410156 4.273438 2.53125 4.859375 2.53125 C 5.210938 2.53125 5.535156 2.476562 5.828125 2.375 C 6.128906 2.28125 6.378906 2.125 6.578125 1.90625 C 6.785156 1.6875 6.941406 1.398438 7.046875 1.046875 C 7.160156 0.691406 7.21875 0.265625 7.21875 -0.234375 L 7.21875 -1.765625 L 7.203125 -1.765625 C 7.085938 -1.523438 6.941406 -1.296875 6.765625 -1.078125 C 6.597656 -0.859375 6.390625 -0.660156 6.140625 -0.484375 C 5.890625 -0.316406 5.597656 -0.179688 5.265625 -0.078125 C 4.941406 0.0234375 4.570312 0.078125 4.15625 0.078125 C 3.550781 0.078125 3.03125 -0.0195312 2.59375 -0.21875 C 2.164062 -0.425781 1.816406 -0.734375 1.546875 -1.140625 C 1.273438 -1.546875 1.070312 -2.046875 0.9375 -2.640625 C 0.8125 -3.242188 0.75 -3.941406 0.75 -4.734375 C 0.75 -5.492188 0.8125 -6.175781 0.9375 -6.78125 C 1.070312 -7.394531 1.28125 -7.914062 1.5625 -8.34375 C 1.84375 -8.769531 2.207031 -9.09375 2.65625 -9.3125 C 3.113281 -9.539062 3.671875 -9.65625 4.328125 -9.65625 C 4.992188 -9.65625 5.578125 -9.5 6.078125 -9.1875 C 6.578125 -8.882812 6.957031 -8.453125 7.21875 -7.890625 L 7.25 -7.890625 C 7.25 -8.035156 7.25 -8.195312 7.25 -8.375 C 7.257812 -8.5625 7.269531 -8.734375 7.28125 -8.890625 C 7.289062 -9.046875 7.300781 -9.179688 7.3125 -9.296875 C 7.320312 -9.421875 7.332031 -9.492188 7.34375 -9.515625 L 8.84375 -9.515625 C 8.84375 -9.460938 8.835938 -9.367188 8.828125 -9.234375 C 8.828125 -9.109375 8.820312 -8.957031 8.8125 -8.78125 C 8.8125 -8.613281 8.804688 -8.421875 8.796875 -8.203125 C 8.796875 -7.992188 8.796875 -7.773438 8.796875 -7.546875 L 8.796875 -0.265625 C 8.796875 1.054688 8.46875 2.050781 7.8125 2.71875 C 7.164062 3.394531 6.164062 3.734375 4.8125 3.734375 Z M 7.21875 -4.75 C 7.21875 -5.414062 7.144531 -5.984375 7 -6.453125 C 6.863281 -6.921875 6.675781 -7.304688 6.4375 -7.609375 C 6.207031 -7.910156 5.941406 -8.128906 5.640625 -8.265625 C 5.335938 -8.410156 5.03125 -8.484375 4.71875 -8.484375 C 4.3125 -8.484375 3.960938 -8.410156 3.671875 -8.265625 C 3.378906 -8.128906 3.132812 -7.910156 2.9375 -7.609375 C 2.75 -7.304688 2.609375 -6.914062 2.515625 -6.4375 C 2.429688 -5.96875 2.390625 -5.40625 2.390625 -4.75 C 2.390625 -4.070312 2.429688 -3.5 2.515625 -3.03125 C 2.609375 -2.5625 2.75 -2.179688 2.9375 -1.890625 C 3.125 -1.609375 3.363281 -1.40625 3.65625 -1.28125 C 3.945312 -1.15625 4.289062 -1.09375 4.6875 -1.09375 C 5 -1.09375 5.304688 -1.160156 5.609375 -1.296875 C 5.910156 -1.429688 6.179688 -1.644531 6.421875 -1.9375 C 6.660156 -2.226562 6.851562 -2.601562 7 -3.0625 C 7.144531 -3.53125 7.21875 -4.09375 7.21875 -4.75 Z M 7.21875 -4.75 \"/>\n",
       "</g>\n",
       "<g id=\"glyph-3-3\">\n",
       "<path d=\"M 2.765625 -9.515625 L 2.765625 -3.484375 C 2.765625 -3.015625 2.796875 -2.625 2.859375 -2.3125 C 2.929688 -2.007812 3.039062 -1.757812 3.1875 -1.5625 C 3.34375 -1.375 3.546875 -1.238281 3.796875 -1.15625 C 4.046875 -1.082031 4.351562 -1.046875 4.71875 -1.046875 C 5.09375 -1.046875 5.429688 -1.109375 5.734375 -1.234375 C 6.035156 -1.367188 6.289062 -1.5625 6.5 -1.8125 C 6.71875 -2.0625 6.882812 -2.367188 7 -2.734375 C 7.125 -3.097656 7.1875 -3.519531 7.1875 -4 L 7.1875 -9.515625 L 8.765625 -9.515625 L 8.765625 -2.03125 C 8.765625 -1.832031 8.765625 -1.625 8.765625 -1.40625 C 8.765625 -1.1875 8.769531 -0.976562 8.78125 -0.78125 C 8.789062 -0.582031 8.796875 -0.410156 8.796875 -0.265625 C 8.804688 -0.128906 8.8125 -0.0390625 8.8125 0 L 7.328125 0 C 7.316406 -0.03125 7.304688 -0.109375 7.296875 -0.234375 C 7.296875 -0.367188 7.289062 -0.519531 7.28125 -0.6875 C 7.269531 -0.851562 7.257812 -1.019531 7.25 -1.1875 C 7.25 -1.363281 7.25 -1.507812 7.25 -1.625 L 7.21875 -1.625 C 7.070312 -1.351562 6.90625 -1.101562 6.71875 -0.875 C 6.539062 -0.65625 6.332031 -0.46875 6.09375 -0.3125 C 5.851562 -0.15625 5.578125 -0.0351562 5.265625 0.046875 C 4.953125 0.128906 4.59375 0.171875 4.1875 0.171875 C 3.65625 0.171875 3.195312 0.109375 2.8125 -0.015625 C 2.4375 -0.148438 2.125 -0.347656 1.875 -0.609375 C 1.632812 -0.878906 1.457031 -1.222656 1.34375 -1.640625 C 1.226562 -2.066406 1.171875 -2.578125 1.171875 -3.171875 L 1.171875 -9.515625 Z M 2.765625 -9.515625 \"/>\n",
       "</g>\n",
       "<g id=\"glyph-3-4\">\n",
       "<path d=\"M 1.25 0 L 1.25 -7.296875 C 1.25 -7.492188 1.242188 -7.695312 1.234375 -7.90625 C 1.234375 -8.113281 1.226562 -8.3125 1.21875 -8.5 C 1.21875 -8.695312 1.210938 -8.878906 1.203125 -9.046875 C 1.203125 -9.222656 1.203125 -9.378906 1.203125 -9.515625 L 2.6875 -9.515625 C 2.695312 -9.378906 2.703125 -9.222656 2.703125 -9.046875 C 2.710938 -8.878906 2.722656 -8.703125 2.734375 -8.515625 C 2.742188 -8.335938 2.75 -8.164062 2.75 -8 C 2.757812 -7.832031 2.765625 -7.6875 2.765625 -7.5625 L 2.796875 -7.5625 C 2.910156 -7.925781 3.03125 -8.238281 3.15625 -8.5 C 3.28125 -8.769531 3.425781 -8.992188 3.59375 -9.171875 C 3.757812 -9.347656 3.957031 -9.476562 4.1875 -9.5625 C 4.425781 -9.644531 4.710938 -9.6875 5.046875 -9.6875 C 5.179688 -9.6875 5.304688 -9.675781 5.421875 -9.65625 C 5.535156 -9.632812 5.628906 -9.613281 5.703125 -9.59375 L 5.703125 -8.140625 C 5.585938 -8.171875 5.457031 -8.191406 5.3125 -8.203125 C 5.175781 -8.222656 5.023438 -8.234375 4.859375 -8.234375 C 4.492188 -8.234375 4.179688 -8.148438 3.921875 -7.984375 C 3.671875 -7.828125 3.460938 -7.601562 3.296875 -7.3125 C 3.140625 -7.019531 3.019531 -6.671875 2.9375 -6.265625 C 2.863281 -5.867188 2.828125 -5.429688 2.828125 -4.953125 L 2.828125 0 Z M 1.25 0 \"/>\n",
       "</g>\n",
       "<g id=\"glyph-3-5\">\n",
       "<path d=\"M 2.421875 -4.421875 C 2.421875 -3.921875 2.472656 -3.460938 2.578125 -3.046875 C 2.679688 -2.628906 2.835938 -2.269531 3.046875 -1.96875 C 3.265625 -1.664062 3.539062 -1.429688 3.875 -1.265625 C 4.207031 -1.097656 4.609375 -1.015625 5.078125 -1.015625 C 5.765625 -1.015625 6.3125 -1.148438 6.71875 -1.421875 C 7.132812 -1.703125 7.414062 -2.050781 7.5625 -2.46875 L 8.953125 -2.078125 C 8.859375 -1.804688 8.71875 -1.535156 8.53125 -1.265625 C 8.351562 -1.003906 8.113281 -0.765625 7.8125 -0.546875 C 7.519531 -0.335938 7.148438 -0.164062 6.703125 -0.03125 C 6.253906 0.101562 5.710938 0.171875 5.078125 0.171875 C 3.671875 0.171875 2.597656 -0.242188 1.859375 -1.078125 C 1.128906 -1.921875 0.765625 -3.164062 0.765625 -4.8125 C 0.765625 -5.707031 0.875 -6.460938 1.09375 -7.078125 C 1.320312 -7.691406 1.628906 -8.191406 2.015625 -8.578125 C 2.398438 -8.972656 2.847656 -9.253906 3.359375 -9.421875 C 3.878906 -9.597656 4.429688 -9.6875 5.015625 -9.6875 C 5.816406 -9.6875 6.484375 -9.554688 7.015625 -9.296875 C 7.554688 -9.035156 7.988281 -8.675781 8.3125 -8.21875 C 8.632812 -7.769531 8.863281 -7.238281 9 -6.625 C 9.144531 -6.007812 9.21875 -5.34375 9.21875 -4.625 L 9.21875 -4.421875 Z M 7.578125 -5.640625 C 7.484375 -6.640625 7.222656 -7.367188 6.796875 -7.828125 C 6.378906 -8.285156 5.78125 -8.515625 5 -8.515625 C 4.726562 -8.515625 4.445312 -8.472656 4.15625 -8.390625 C 3.875 -8.304688 3.609375 -8.15625 3.359375 -7.9375 C 3.109375 -7.71875 2.898438 -7.421875 2.734375 -7.046875 C 2.566406 -6.679688 2.46875 -6.210938 2.4375 -5.640625 Z M 7.578125 -5.640625 \"/>\n",
       "</g>\n",
       "<g id=\"glyph-3-6\">\n",
       "</g>\n",
       "<g id=\"glyph-3-7\">\n",
       "<path d=\"M 1.375 0 L 1.375 -1.34375 L 4.53125 -1.34375 L 4.53125 -10.875 L 1.734375 -8.875 L 1.734375 -10.375 L 4.65625 -12.390625 L 6.125 -12.390625 L 6.125 -1.34375 L 9.125 -1.34375 L 9.125 0 Z M 1.375 0 \"/>\n",
       "</g>\n",
       "<g id=\"glyph-3-8\">\n",
       "<path d=\"M 1.640625 0 L 1.640625 -1.921875 L 3.359375 -1.921875 L 3.359375 0 Z M 1.640625 0 \"/>\n",
       "</g>\n",
       "<g id=\"glyph-3-9\">\n",
       "<path d=\"M 6.328125 -11.015625 L 6.328125 0 L 4.65625 0 L 4.65625 -11.015625 L 0.40625 -11.015625 L 0.40625 -12.390625 L 10.578125 -12.390625 L 10.578125 -11.015625 Z M 6.328125 -11.015625 \"/>\n",
       "</g>\n",
       "<g id=\"glyph-3-10\">\n",
       "<path d=\"M 9.25 -4.765625 C 9.25 -3.097656 8.882812 -1.859375 8.15625 -1.046875 C 7.425781 -0.234375 6.363281 0.171875 4.96875 0.171875 C 4.300781 0.171875 3.707031 0.0703125 3.1875 -0.125 C 2.664062 -0.320312 2.222656 -0.625 1.859375 -1.03125 C 1.503906 -1.445312 1.226562 -1.960938 1.03125 -2.578125 C 0.84375 -3.191406 0.75 -3.921875 0.75 -4.765625 C 0.75 -8.046875 2.171875 -9.6875 5.015625 -9.6875 C 5.753906 -9.6875 6.390625 -9.582031 6.921875 -9.375 C 7.460938 -9.175781 7.90625 -8.867188 8.25 -8.453125 C 8.59375 -8.046875 8.84375 -7.535156 9 -6.921875 C 9.164062 -6.304688 9.25 -5.585938 9.25 -4.765625 Z M 7.59375 -4.765625 C 7.59375 -5.503906 7.535156 -6.113281 7.421875 -6.59375 C 7.304688 -7.070312 7.140625 -7.453125 6.921875 -7.734375 C 6.703125 -8.023438 6.429688 -8.226562 6.109375 -8.34375 C 5.796875 -8.457031 5.441406 -8.515625 5.046875 -8.515625 C 4.640625 -8.515625 4.273438 -8.453125 3.953125 -8.328125 C 3.628906 -8.210938 3.351562 -8.007812 3.125 -7.71875 C 2.894531 -7.425781 2.71875 -7.039062 2.59375 -6.5625 C 2.476562 -6.082031 2.421875 -5.484375 2.421875 -4.765625 C 2.421875 -4.023438 2.484375 -3.410156 2.609375 -2.921875 C 2.734375 -2.441406 2.910156 -2.054688 3.140625 -1.765625 C 3.367188 -1.484375 3.632812 -1.285156 3.9375 -1.171875 C 4.25 -1.054688 4.585938 -1 4.953125 -1 C 5.359375 -1 5.722656 -1.054688 6.046875 -1.171875 C 6.378906 -1.285156 6.65625 -1.484375 6.875 -1.765625 C 7.101562 -2.054688 7.28125 -2.441406 7.40625 -2.921875 C 7.53125 -3.410156 7.59375 -4.023438 7.59375 -4.765625 Z M 7.59375 -4.765625 \"/>\n",
       "</g>\n",
       "<g id=\"glyph-3-11\">\n",
       "<path d=\"M 4.875 -0.078125 C 4.632812 -0.00390625 4.390625 0.046875 4.140625 0.078125 C 3.890625 0.117188 3.597656 0.140625 3.265625 0.140625 C 2.003906 0.140625 1.375 -0.578125 1.375 -2.015625 L 1.375 -8.359375 L 0.265625 -8.359375 L 0.265625 -9.515625 L 1.4375 -9.515625 L 1.90625 -11.640625 L 2.953125 -11.640625 L 2.953125 -9.515625 L 4.71875 -9.515625 L 4.71875 -8.359375 L 2.953125 -8.359375 L 2.953125 -2.359375 C 2.953125 -1.898438 3.023438 -1.578125 3.171875 -1.390625 C 3.328125 -1.203125 3.585938 -1.109375 3.953125 -1.109375 C 4.109375 -1.109375 4.253906 -1.117188 4.390625 -1.140625 C 4.535156 -1.171875 4.695312 -1.203125 4.875 -1.234375 Z M 4.875 -0.078125 \"/>\n",
       "</g>\n",
       "<g id=\"glyph-3-12\">\n",
       "<path d=\"M 3.640625 0.171875 C 2.679688 0.171875 1.960938 -0.078125 1.484375 -0.578125 C 1.003906 -1.085938 0.765625 -1.78125 0.765625 -2.65625 C 0.765625 -3.28125 0.882812 -3.789062 1.125 -4.1875 C 1.363281 -4.59375 1.671875 -4.910156 2.046875 -5.140625 C 2.429688 -5.367188 2.867188 -5.523438 3.359375 -5.609375 C 3.859375 -5.703125 4.363281 -5.753906 4.875 -5.765625 L 7 -5.796875 L 7 -6.3125 C 7 -6.707031 6.957031 -7.039062 6.875 -7.3125 C 6.800781 -7.59375 6.675781 -7.816406 6.5 -7.984375 C 6.332031 -8.160156 6.117188 -8.285156 5.859375 -8.359375 C 5.609375 -8.441406 5.3125 -8.484375 4.96875 -8.484375 C 4.664062 -8.484375 4.390625 -8.457031 4.140625 -8.40625 C 3.890625 -8.363281 3.671875 -8.285156 3.484375 -8.171875 C 3.304688 -8.054688 3.160156 -7.898438 3.046875 -7.703125 C 2.941406 -7.515625 2.875 -7.269531 2.84375 -6.96875 L 1.1875 -7.125 C 1.25 -7.5 1.359375 -7.84375 1.515625 -8.15625 C 1.679688 -8.46875 1.914062 -8.738281 2.21875 -8.96875 C 2.519531 -9.195312 2.894531 -9.375 3.34375 -9.5 C 3.800781 -9.625 4.351562 -9.6875 5 -9.6875 C 6.195312 -9.6875 7.097656 -9.410156 7.703125 -8.859375 C 8.304688 -8.316406 8.609375 -7.523438 8.609375 -6.484375 L 8.609375 -2.390625 C 8.609375 -1.921875 8.664062 -1.566406 8.78125 -1.328125 C 8.90625 -1.085938 9.144531 -0.96875 9.5 -0.96875 C 9.582031 -0.96875 9.664062 -0.972656 9.75 -0.984375 C 9.84375 -1.003906 9.929688 -1.019531 10.015625 -1.03125 L 10.015625 -0.046875 C 9.816406 -0.00390625 9.617188 0.0234375 9.421875 0.046875 C 9.222656 0.078125 9.015625 0.09375 8.796875 0.09375 C 8.492188 0.09375 8.234375 0.0507812 8.015625 -0.03125 C 7.804688 -0.113281 7.632812 -0.234375 7.5 -0.390625 C 7.363281 -0.554688 7.257812 -0.753906 7.1875 -0.984375 C 7.113281 -1.222656 7.070312 -1.5 7.0625 -1.8125 L 7 -1.8125 C 6.832031 -1.507812 6.644531 -1.234375 6.4375 -0.984375 C 6.238281 -0.742188 6.003906 -0.535156 5.734375 -0.359375 C 5.460938 -0.191406 5.15625 -0.0625 4.8125 0.03125 C 4.476562 0.125 4.085938 0.171875 3.640625 0.171875 Z M 4 -1.015625 C 4.5 -1.015625 4.9375 -1.101562 5.3125 -1.28125 C 5.695312 -1.46875 6.015625 -1.703125 6.265625 -1.984375 C 6.515625 -2.273438 6.695312 -2.59375 6.8125 -2.9375 C 6.9375 -3.28125 7 -3.601562 7 -3.90625 L 7 -4.6875 L 5.28125 -4.65625 C 4.882812 -4.65625 4.507812 -4.628906 4.15625 -4.578125 C 3.8125 -4.523438 3.507812 -4.425781 3.25 -4.28125 C 2.988281 -4.132812 2.78125 -3.925781 2.625 -3.65625 C 2.46875 -3.394531 2.390625 -3.050781 2.390625 -2.625 C 2.390625 -2.113281 2.523438 -1.71875 2.796875 -1.4375 C 3.078125 -1.15625 3.476562 -1.015625 4 -1.015625 Z M 4 -1.015625 \"/>\n",
       "</g>\n",
       "<g id=\"glyph-3-13\">\n",
       "<path d=\"M 1.21875 0 L 1.21875 -13.046875 L 2.796875 -13.046875 L 2.796875 0 Z M 1.21875 0 \"/>\n",
       "</g>\n",
       "<g id=\"glyph-3-14\">\n",
       "<path d=\"M 11.0625 -8.65625 C 11.0625 -8.113281 10.96875 -7.609375 10.78125 -7.140625 C 10.601562 -6.679688 10.335938 -6.28125 9.984375 -5.9375 C 9.628906 -5.59375 9.1875 -5.320312 8.65625 -5.125 C 8.125 -4.925781 7.503906 -4.828125 6.796875 -4.828125 L 3.15625 -4.828125 L 3.15625 0 L 1.484375 0 L 1.484375 -12.390625 L 6.6875 -12.390625 C 7.414062 -12.390625 8.050781 -12.296875 8.59375 -12.109375 C 9.144531 -11.929688 9.601562 -11.679688 9.96875 -11.359375 C 10.332031 -11.035156 10.601562 -10.644531 10.78125 -10.1875 C 10.96875 -9.726562 11.0625 -9.21875 11.0625 -8.65625 Z M 9.375 -8.640625 C 9.375 -9.421875 9.128906 -10.015625 8.640625 -10.421875 C 8.160156 -10.835938 7.441406 -11.046875 6.484375 -11.046875 L 3.15625 -11.046875 L 3.15625 -6.15625 L 6.5625 -6.15625 C 7.519531 -6.15625 8.226562 -6.367188 8.6875 -6.796875 C 9.144531 -7.222656 9.375 -7.835938 9.375 -8.640625 Z M 9.375 -8.640625 \"/>\n",
       "</g>\n",
       "<g id=\"glyph-3-15\">\n",
       "<path d=\"M 5.3125 0 C 5.082031 0.570312 4.851562 1.085938 4.625 1.546875 C 4.394531 2.003906 4.132812 2.394531 3.84375 2.71875 C 3.5625 3.050781 3.242188 3.300781 2.890625 3.46875 C 2.535156 3.644531 2.128906 3.734375 1.671875 3.734375 C 1.472656 3.734375 1.289062 3.726562 1.125 3.71875 C 0.957031 3.707031 0.78125 3.679688 0.59375 3.640625 L 0.59375 2.453125 C 0.695312 2.472656 0.816406 2.484375 0.953125 2.484375 C 1.097656 2.492188 1.222656 2.5 1.328125 2.5 C 1.785156 2.5 2.210938 2.328125 2.609375 1.984375 C 3.015625 1.640625 3.367188 1.085938 3.671875 0.328125 L 3.8125 -0.046875 L 0.046875 -9.515625 L 1.734375 -9.515625 L 3.734375 -4.25 C 3.796875 -4.09375 3.867188 -3.878906 3.953125 -3.609375 C 4.046875 -3.347656 4.140625 -3.085938 4.234375 -2.828125 C 4.328125 -2.566406 4.40625 -2.328125 4.46875 -2.109375 C 4.539062 -1.898438 4.582031 -1.769531 4.59375 -1.71875 C 4.613281 -1.78125 4.65625 -1.90625 4.71875 -2.09375 C 4.789062 -2.289062 4.867188 -2.503906 4.953125 -2.734375 C 5.035156 -2.972656 5.117188 -3.210938 5.203125 -3.453125 C 5.296875 -3.691406 5.375 -3.898438 5.4375 -4.078125 L 7.296875 -9.515625 L 8.96875 -9.515625 Z M 5.3125 0 \"/>\n",
       "</g>\n",
       "<g id=\"glyph-3-16\">\n",
       "<path d=\"M 6.75 0 L 6.75 -6.03125 C 6.75 -6.488281 6.71875 -6.875 6.65625 -7.1875 C 6.601562 -7.5 6.503906 -7.75 6.359375 -7.9375 C 6.222656 -8.132812 6.046875 -8.269531 5.828125 -8.34375 C 5.609375 -8.425781 5.335938 -8.46875 5.015625 -8.46875 C 4.679688 -8.46875 4.378906 -8.398438 4.109375 -8.265625 C 3.835938 -8.128906 3.601562 -7.9375 3.40625 -7.6875 C 3.21875 -7.445312 3.070312 -7.140625 2.96875 -6.765625 C 2.875 -6.398438 2.828125 -5.984375 2.828125 -5.515625 L 2.828125 0 L 1.25 0 L 1.25 -7.484375 C 1.25 -7.679688 1.242188 -7.890625 1.234375 -8.109375 C 1.234375 -8.328125 1.226562 -8.535156 1.21875 -8.734375 C 1.21875 -8.929688 1.210938 -9.097656 1.203125 -9.234375 C 1.203125 -9.378906 1.203125 -9.472656 1.203125 -9.515625 L 2.6875 -9.515625 C 2.695312 -9.484375 2.703125 -9.398438 2.703125 -9.265625 C 2.710938 -9.140625 2.722656 -8.992188 2.734375 -8.828125 C 2.742188 -8.660156 2.75 -8.488281 2.75 -8.3125 C 2.757812 -8.144531 2.765625 -8.003906 2.765625 -7.890625 L 2.78125 -7.890625 C 2.925781 -8.160156 3.078125 -8.40625 3.234375 -8.625 C 3.398438 -8.851562 3.59375 -9.046875 3.8125 -9.203125 C 4.039062 -9.359375 4.296875 -9.476562 4.578125 -9.5625 C 4.859375 -9.644531 5.1875 -9.6875 5.5625 -9.6875 C 6.28125 -9.6875 6.847656 -9.539062 7.265625 -9.25 C 7.691406 -8.96875 7.984375 -8.515625 8.140625 -7.890625 L 8.171875 -7.890625 C 8.316406 -8.160156 8.472656 -8.40625 8.640625 -8.625 C 8.816406 -8.851562 9.019531 -9.046875 9.25 -9.203125 C 9.488281 -9.359375 9.753906 -9.476562 10.046875 -9.5625 C 10.347656 -9.644531 10.6875 -9.6875 11.0625 -9.6875 C 11.539062 -9.6875 11.953125 -9.617188 12.296875 -9.484375 C 12.648438 -9.359375 12.9375 -9.160156 13.15625 -8.890625 C 13.375 -8.617188 13.535156 -8.269531 13.640625 -7.84375 C 13.753906 -7.425781 13.8125 -6.925781 13.8125 -6.34375 L 13.8125 0 L 12.25 0 L 12.25 -6.03125 C 12.25 -6.488281 12.21875 -6.875 12.15625 -7.1875 C 12.09375 -7.5 11.992188 -7.75 11.859375 -7.9375 C 11.722656 -8.132812 11.539062 -8.269531 11.3125 -8.34375 C 11.09375 -8.425781 10.820312 -8.46875 10.5 -8.46875 C 10.164062 -8.46875 9.863281 -8.40625 9.59375 -8.28125 C 9.320312 -8.15625 9.09375 -7.96875 8.90625 -7.71875 C 8.71875 -7.46875 8.570312 -7.15625 8.46875 -6.78125 C 8.363281 -6.414062 8.3125 -5.992188 8.3125 -5.515625 L 8.3125 0 Z M 6.75 0 \"/>\n",
       "</g>\n",
       "<g id=\"glyph-3-17\">\n",
       "<path d=\"M 5.390625 0 L 3.515625 0 L 0.0625 -9.515625 L 1.75 -9.515625 L 3.84375 -3.328125 C 3.882812 -3.191406 3.929688 -3.03125 3.984375 -2.84375 C 4.035156 -2.664062 4.09375 -2.476562 4.15625 -2.28125 C 4.21875 -2.082031 4.269531 -1.890625 4.3125 -1.703125 C 4.363281 -1.515625 4.410156 -1.359375 4.453125 -1.234375 C 4.484375 -1.359375 4.523438 -1.515625 4.578125 -1.703125 C 4.640625 -1.890625 4.695312 -2.078125 4.75 -2.265625 C 4.8125 -2.460938 4.875 -2.648438 4.9375 -2.828125 C 5 -3.015625 5.050781 -3.175781 5.09375 -3.3125 L 7.265625 -9.515625 L 8.9375 -9.515625 Z M 5.390625 0 \"/>\n",
       "</g>\n",
       "<g id=\"glyph-3-18\">\n",
       "<path d=\"M 8.34375 -2.625 C 8.34375 -2.175781 8.253906 -1.78125 8.078125 -1.4375 C 7.910156 -1.09375 7.660156 -0.800781 7.328125 -0.5625 C 7.003906 -0.320312 6.601562 -0.140625 6.125 -0.015625 C 5.65625 0.109375 5.109375 0.171875 4.484375 0.171875 C 3.941406 0.171875 3.445312 0.128906 3 0.046875 C 2.5625 -0.0351562 2.175781 -0.171875 1.84375 -0.359375 C 1.507812 -0.546875 1.226562 -0.789062 1 -1.09375 C 0.769531 -1.40625 0.601562 -1.785156 0.5 -2.234375 L 1.90625 -2.5 C 2.03125 -1.988281 2.300781 -1.613281 2.71875 -1.375 C 3.144531 -1.144531 3.734375 -1.03125 4.484375 -1.03125 C 4.828125 -1.03125 5.140625 -1.050781 5.421875 -1.09375 C 5.710938 -1.144531 5.957031 -1.226562 6.15625 -1.34375 C 6.363281 -1.457031 6.523438 -1.609375 6.640625 -1.796875 C 6.753906 -1.984375 6.8125 -2.21875 6.8125 -2.5 C 6.8125 -2.789062 6.742188 -3.023438 6.609375 -3.203125 C 6.472656 -3.390625 6.285156 -3.546875 6.046875 -3.671875 C 5.804688 -3.796875 5.515625 -3.898438 5.171875 -3.984375 C 4.828125 -4.078125 4.453125 -4.179688 4.046875 -4.296875 C 3.660156 -4.398438 3.28125 -4.507812 2.90625 -4.625 C 2.53125 -4.75 2.191406 -4.910156 1.890625 -5.109375 C 1.585938 -5.316406 1.34375 -5.566406 1.15625 -5.859375 C 0.96875 -6.160156 0.875 -6.539062 0.875 -7 C 0.875 -7.863281 1.179688 -8.519531 1.796875 -8.96875 C 2.421875 -9.425781 3.328125 -9.65625 4.515625 -9.65625 C 5.554688 -9.65625 6.382812 -9.46875 7 -9.09375 C 7.625 -8.726562 8.019531 -8.140625 8.1875 -7.328125 L 6.765625 -7.15625 C 6.710938 -7.40625 6.613281 -7.613281 6.46875 -7.78125 C 6.332031 -7.945312 6.160156 -8.078125 5.953125 -8.171875 C 5.753906 -8.273438 5.53125 -8.347656 5.28125 -8.390625 C 5.03125 -8.441406 4.773438 -8.46875 4.515625 -8.46875 C 3.796875 -8.46875 3.265625 -8.359375 2.921875 -8.140625 C 2.585938 -7.921875 2.421875 -7.59375 2.421875 -7.15625 C 2.421875 -6.894531 2.484375 -6.679688 2.609375 -6.515625 C 2.734375 -6.347656 2.90625 -6.207031 3.125 -6.09375 C 3.351562 -5.976562 3.625 -5.878906 3.9375 -5.796875 C 4.257812 -5.710938 4.613281 -5.625 5 -5.53125 C 5.25 -5.46875 5.503906 -5.398438 5.765625 -5.328125 C 6.023438 -5.253906 6.28125 -5.164062 6.53125 -5.0625 C 6.78125 -4.957031 7.015625 -4.832031 7.234375 -4.6875 C 7.453125 -4.550781 7.644531 -4.382812 7.8125 -4.1875 C 7.976562 -4 8.109375 -3.773438 8.203125 -3.515625 C 8.296875 -3.265625 8.34375 -2.96875 8.34375 -2.625 Z M 8.34375 -2.625 \"/>\n",
       "</g>\n",
       "<g id=\"glyph-3-19\">\n",
       "<path d=\"M 10.25 0 L 8.84375 -3.625 L 3.203125 -3.625 L 1.78125 0 L 0.03125 0 L 5.09375 -12.390625 L 7 -12.390625 L 11.96875 0 Z M 6.75 -9.015625 C 6.65625 -9.253906 6.566406 -9.492188 6.484375 -9.734375 C 6.398438 -9.972656 6.320312 -10.1875 6.25 -10.375 C 6.1875 -10.570312 6.132812 -10.738281 6.09375 -10.875 C 6.050781 -11.007812 6.023438 -11.09375 6.015625 -11.125 C 6.003906 -11.09375 5.976562 -11.007812 5.9375 -10.875 C 5.894531 -10.738281 5.835938 -10.570312 5.765625 -10.375 C 5.703125 -10.175781 5.628906 -9.957031 5.546875 -9.71875 C 5.460938 -9.476562 5.378906 -9.238281 5.296875 -9 L 3.703125 -4.9375 L 8.34375 -4.9375 Z M 6.75 -9.015625 \"/>\n",
       "</g>\n",
       "</g>\n",
       "<clipPath id=\"clip-0\">\n",
       "<path clip-rule=\"nonzero\" d=\"M 48.152344 27.957031 L 570.523438 27.957031 L 570.523438 536.847656 L 48.152344 536.847656 Z M 48.152344 27.957031 \"/>\n",
       "</clipPath>\n",
       "<clipPath id=\"clip-1\">\n",
       "<path clip-rule=\"nonzero\" d=\"M 48.152344 490 L 570.523438 490 L 570.523438 492 L 48.152344 492 Z M 48.152344 490 \"/>\n",
       "</clipPath>\n",
       "<clipPath id=\"clip-2\">\n",
       "<path clip-rule=\"nonzero\" d=\"M 48.152344 363 L 570.523438 363 L 570.523438 365 L 48.152344 365 Z M 48.152344 363 \"/>\n",
       "</clipPath>\n",
       "<clipPath id=\"clip-3\">\n",
       "<path clip-rule=\"nonzero\" d=\"M 48.152344 236 L 570.523438 236 L 570.523438 237 L 48.152344 237 Z M 48.152344 236 \"/>\n",
       "</clipPath>\n",
       "<clipPath id=\"clip-4\">\n",
       "<path clip-rule=\"nonzero\" d=\"M 48.152344 109 L 570.523438 109 L 570.523438 110 L 48.152344 110 Z M 48.152344 109 \"/>\n",
       "</clipPath>\n",
       "<clipPath id=\"clip-5\">\n",
       "<path clip-rule=\"nonzero\" d=\"M 124 27.957031 L 126 27.957031 L 126 536.847656 L 124 536.847656 Z M 124 27.957031 \"/>\n",
       "</clipPath>\n",
       "<clipPath id=\"clip-6\">\n",
       "<path clip-rule=\"nonzero\" d=\"M 231 27.957031 L 232 27.957031 L 232 536.847656 L 231 536.847656 Z M 231 27.957031 \"/>\n",
       "</clipPath>\n",
       "<clipPath id=\"clip-7\">\n",
       "<path clip-rule=\"nonzero\" d=\"M 337 27.957031 L 339 27.957031 L 339 536.847656 L 337 536.847656 Z M 337 27.957031 \"/>\n",
       "</clipPath>\n",
       "<clipPath id=\"clip-8\">\n",
       "<path clip-rule=\"nonzero\" d=\"M 444 27.957031 L 445 27.957031 L 445 536.847656 L 444 536.847656 Z M 444 27.957031 \"/>\n",
       "</clipPath>\n",
       "<clipPath id=\"clip-9\">\n",
       "<path clip-rule=\"nonzero\" d=\"M 550 27.957031 L 552 27.957031 L 552 536.847656 L 550 536.847656 Z M 550 27.957031 \"/>\n",
       "</clipPath>\n",
       "<clipPath id=\"clip-10\">\n",
       "<path clip-rule=\"nonzero\" d=\"M 48.152344 426 L 570.523438 426 L 570.523438 428 L 48.152344 428 Z M 48.152344 426 \"/>\n",
       "</clipPath>\n",
       "<clipPath id=\"clip-11\">\n",
       "<path clip-rule=\"nonzero\" d=\"M 48.152344 299 L 570.523438 299 L 570.523438 301 L 48.152344 301 Z M 48.152344 299 \"/>\n",
       "</clipPath>\n",
       "<clipPath id=\"clip-12\">\n",
       "<path clip-rule=\"nonzero\" d=\"M 48.152344 172 L 570.523438 172 L 570.523438 174 L 48.152344 174 Z M 48.152344 172 \"/>\n",
       "</clipPath>\n",
       "<clipPath id=\"clip-13\">\n",
       "<path clip-rule=\"nonzero\" d=\"M 48.152344 45 L 570.523438 45 L 570.523438 47 L 48.152344 47 Z M 48.152344 45 \"/>\n",
       "</clipPath>\n",
       "<clipPath id=\"clip-14\">\n",
       "<path clip-rule=\"nonzero\" d=\"M 71 27.957031 L 73 27.957031 L 73 536.847656 L 71 536.847656 Z M 71 27.957031 \"/>\n",
       "</clipPath>\n",
       "<clipPath id=\"clip-15\">\n",
       "<path clip-rule=\"nonzero\" d=\"M 177 27.957031 L 179 27.957031 L 179 536.847656 L 177 536.847656 Z M 177 27.957031 \"/>\n",
       "</clipPath>\n",
       "<clipPath id=\"clip-16\">\n",
       "<path clip-rule=\"nonzero\" d=\"M 284 27.957031 L 286 27.957031 L 286 536.847656 L 284 536.847656 Z M 284 27.957031 \"/>\n",
       "</clipPath>\n",
       "<clipPath id=\"clip-17\">\n",
       "<path clip-rule=\"nonzero\" d=\"M 390 27.957031 L 392 27.957031 L 392 536.847656 L 390 536.847656 Z M 390 27.957031 \"/>\n",
       "</clipPath>\n",
       "<clipPath id=\"clip-18\">\n",
       "<path clip-rule=\"nonzero\" d=\"M 497 27.957031 L 499 27.957031 L 499 536.847656 L 497 536.847656 Z M 497 27.957031 \"/>\n",
       "</clipPath>\n",
       "</defs>\n",
       "<rect x=\"-57.6\" y=\"-57.6\" width=\"691.2\" height=\"691.2\" fill=\"rgb(100%, 100%, 100%)\" fill-opacity=\"1\"/>\n",
       "<rect x=\"-57.6\" y=\"-57.6\" width=\"691.2\" height=\"691.2\" fill=\"rgb(100%, 100%, 100%)\" fill-opacity=\"1\"/>\n",
       "<path fill=\"none\" stroke-width=\"1.066978\" stroke-linecap=\"round\" stroke-linejoin=\"round\" stroke=\"rgb(100%, 100%, 100%)\" stroke-opacity=\"1\" stroke-miterlimit=\"10\" d=\"M 0 576 L 576 576 L 576 0 L 0 0 Z M 0 576 \"/>\n",
       "<g clip-path=\"url(#clip-0)\">\n",
       "<path fill-rule=\"nonzero\" fill=\"rgb(92.156863%, 92.156863%, 92.156863%)\" fill-opacity=\"1\" d=\"M 48.152344 536.847656 L 570.523438 536.847656 L 570.523438 27.957031 L 48.152344 27.957031 Z M 48.152344 536.847656 \"/>\n",
       "</g>\n",
       "<g clip-path=\"url(#clip-1)\">\n",
       "<path fill=\"none\" stroke-width=\"0.533489\" stroke-linecap=\"butt\" stroke-linejoin=\"round\" stroke=\"rgb(100%, 100%, 100%)\" stroke-opacity=\"1\" stroke-miterlimit=\"10\" d=\"M 48.152344 490.839844 L 570.519531 490.839844 \"/>\n",
       "</g>\n",
       "<g clip-path=\"url(#clip-2)\">\n",
       "<path fill=\"none\" stroke-width=\"0.533489\" stroke-linecap=\"butt\" stroke-linejoin=\"round\" stroke=\"rgb(100%, 100%, 100%)\" stroke-opacity=\"1\" stroke-miterlimit=\"10\" d=\"M 48.152344 363.746094 L 570.519531 363.746094 \"/>\n",
       "</g>\n",
       "<g clip-path=\"url(#clip-3)\">\n",
       "<path fill=\"none\" stroke-width=\"0.533489\" stroke-linecap=\"butt\" stroke-linejoin=\"round\" stroke=\"rgb(100%, 100%, 100%)\" stroke-opacity=\"1\" stroke-miterlimit=\"10\" d=\"M 48.152344 236.648438 L 570.519531 236.648438 \"/>\n",
       "</g>\n",
       "<g clip-path=\"url(#clip-4)\">\n",
       "<path fill=\"none\" stroke-width=\"0.533489\" stroke-linecap=\"butt\" stroke-linejoin=\"round\" stroke=\"rgb(100%, 100%, 100%)\" stroke-opacity=\"1\" stroke-miterlimit=\"10\" d=\"M 48.152344 109.554688 L 570.519531 109.554688 \"/>\n",
       "</g>\n",
       "<g clip-path=\"url(#clip-5)\">\n",
       "<path fill=\"none\" stroke-width=\"0.533489\" stroke-linecap=\"butt\" stroke-linejoin=\"round\" stroke=\"rgb(100%, 100%, 100%)\" stroke-opacity=\"1\" stroke-miterlimit=\"10\" d=\"M 125.109375 536.847656 L 125.109375 27.957031 \"/>\n",
       "</g>\n",
       "<g clip-path=\"url(#clip-6)\">\n",
       "<path fill=\"none\" stroke-width=\"0.533489\" stroke-linecap=\"butt\" stroke-linejoin=\"round\" stroke=\"rgb(100%, 100%, 100%)\" stroke-opacity=\"1\" stroke-miterlimit=\"10\" d=\"M 231.535156 536.847656 L 231.535156 27.957031 \"/>\n",
       "</g>\n",
       "<g clip-path=\"url(#clip-7)\">\n",
       "<path fill=\"none\" stroke-width=\"0.533489\" stroke-linecap=\"butt\" stroke-linejoin=\"round\" stroke=\"rgb(100%, 100%, 100%)\" stroke-opacity=\"1\" stroke-miterlimit=\"10\" d=\"M 337.964844 536.847656 L 337.964844 27.957031 \"/>\n",
       "</g>\n",
       "<g clip-path=\"url(#clip-8)\">\n",
       "<path fill=\"none\" stroke-width=\"0.533489\" stroke-linecap=\"butt\" stroke-linejoin=\"round\" stroke=\"rgb(100%, 100%, 100%)\" stroke-opacity=\"1\" stroke-miterlimit=\"10\" d=\"M 444.394531 536.847656 L 444.394531 27.957031 \"/>\n",
       "</g>\n",
       "<g clip-path=\"url(#clip-9)\">\n",
       "<path fill=\"none\" stroke-width=\"0.533489\" stroke-linecap=\"butt\" stroke-linejoin=\"round\" stroke=\"rgb(100%, 100%, 100%)\" stroke-opacity=\"1\" stroke-miterlimit=\"10\" d=\"M 550.820312 536.847656 L 550.820312 27.957031 \"/>\n",
       "</g>\n",
       "<g clip-path=\"url(#clip-10)\">\n",
       "<path fill=\"none\" stroke-width=\"1.066978\" stroke-linecap=\"butt\" stroke-linejoin=\"round\" stroke=\"rgb(100%, 100%, 100%)\" stroke-opacity=\"1\" stroke-miterlimit=\"10\" d=\"M 48.152344 427.292969 L 570.519531 427.292969 \"/>\n",
       "</g>\n",
       "<g clip-path=\"url(#clip-11)\">\n",
       "<path fill=\"none\" stroke-width=\"1.066978\" stroke-linecap=\"butt\" stroke-linejoin=\"round\" stroke=\"rgb(100%, 100%, 100%)\" stroke-opacity=\"1\" stroke-miterlimit=\"10\" d=\"M 48.152344 300.199219 L 570.519531 300.199219 \"/>\n",
       "</g>\n",
       "<g clip-path=\"url(#clip-12)\">\n",
       "<path fill=\"none\" stroke-width=\"1.066978\" stroke-linecap=\"butt\" stroke-linejoin=\"round\" stroke=\"rgb(100%, 100%, 100%)\" stroke-opacity=\"1\" stroke-miterlimit=\"10\" d=\"M 48.152344 173.101562 L 570.519531 173.101562 \"/>\n",
       "</g>\n",
       "<g clip-path=\"url(#clip-13)\">\n",
       "<path fill=\"none\" stroke-width=\"1.066978\" stroke-linecap=\"butt\" stroke-linejoin=\"round\" stroke=\"rgb(100%, 100%, 100%)\" stroke-opacity=\"1\" stroke-miterlimit=\"10\" d=\"M 48.152344 46.007812 L 570.519531 46.007812 \"/>\n",
       "</g>\n",
       "<g clip-path=\"url(#clip-14)\">\n",
       "<path fill=\"none\" stroke-width=\"1.066978\" stroke-linecap=\"butt\" stroke-linejoin=\"round\" stroke=\"rgb(100%, 100%, 100%)\" stroke-opacity=\"1\" stroke-miterlimit=\"10\" d=\"M 71.894531 536.847656 L 71.894531 27.957031 \"/>\n",
       "</g>\n",
       "<g clip-path=\"url(#clip-15)\">\n",
       "<path fill=\"none\" stroke-width=\"1.066978\" stroke-linecap=\"butt\" stroke-linejoin=\"round\" stroke=\"rgb(100%, 100%, 100%)\" stroke-opacity=\"1\" stroke-miterlimit=\"10\" d=\"M 178.324219 536.847656 L 178.324219 27.957031 \"/>\n",
       "</g>\n",
       "<g clip-path=\"url(#clip-16)\">\n",
       "<path fill=\"none\" stroke-width=\"1.066978\" stroke-linecap=\"butt\" stroke-linejoin=\"round\" stroke=\"rgb(100%, 100%, 100%)\" stroke-opacity=\"1\" stroke-miterlimit=\"10\" d=\"M 284.75 536.847656 L 284.75 27.957031 \"/>\n",
       "</g>\n",
       "<g clip-path=\"url(#clip-17)\">\n",
       "<path fill=\"none\" stroke-width=\"1.066978\" stroke-linecap=\"butt\" stroke-linejoin=\"round\" stroke=\"rgb(100%, 100%, 100%)\" stroke-opacity=\"1\" stroke-miterlimit=\"10\" d=\"M 391.179688 536.847656 L 391.179688 27.957031 \"/>\n",
       "</g>\n",
       "<g clip-path=\"url(#clip-18)\">\n",
       "<path fill=\"none\" stroke-width=\"1.066978\" stroke-linecap=\"butt\" stroke-linejoin=\"round\" stroke=\"rgb(100%, 100%, 100%)\" stroke-opacity=\"1\" stroke-miterlimit=\"10\" d=\"M 497.605469 536.847656 L 497.605469 27.957031 \"/>\n",
       "</g>\n",
       "<path fill-rule=\"nonzero\" fill=\"rgb(0%, 0%, 0%)\" fill-opacity=\"0.2\" stroke-width=\"0.708661\" stroke-linecap=\"round\" stroke-linejoin=\"round\" stroke=\"rgb(0%, 0%, 0%)\" stroke-opacity=\"0.2\" stroke-miterlimit=\"10\" d=\"M 138.34375 508.632812 C 138.34375 511.242188 134.433594 511.242188 134.433594 508.632812 C 134.433594 506.027344 138.34375 506.027344 138.34375 508.632812 \"/>\n",
       "<path fill-rule=\"nonzero\" fill=\"rgb(0%, 0%, 0%)\" fill-opacity=\"0.2\" stroke-width=\"0.708661\" stroke-linecap=\"round\" stroke-linejoin=\"round\" stroke=\"rgb(0%, 0%, 0%)\" stroke-opacity=\"0.2\" stroke-miterlimit=\"10\" d=\"M 81.9375 467.964844 C 81.9375 470.570312 78.027344 470.570312 78.027344 467.964844 C 78.027344 465.355469 81.9375 465.355469 81.9375 467.964844 \"/>\n",
       "<path fill-rule=\"nonzero\" fill=\"rgb(0%, 0%, 0%)\" fill-opacity=\"0.2\" stroke-width=\"0.708661\" stroke-linecap=\"round\" stroke-linejoin=\"round\" stroke=\"rgb(0%, 0%, 0%)\" stroke-opacity=\"0.2\" stroke-miterlimit=\"10\" d=\"M 73.847656 467.964844 C 73.847656 470.570312 69.941406 470.570312 69.941406 467.964844 C 69.941406 465.355469 73.847656 465.355469 73.847656 467.964844 \"/>\n",
       "<path fill-rule=\"nonzero\" fill=\"rgb(0%, 0%, 0%)\" fill-opacity=\"0.2\" stroke-width=\"0.708661\" stroke-linecap=\"round\" stroke-linejoin=\"round\" stroke=\"rgb(0%, 0%, 0%)\" stroke-opacity=\"0.2\" stroke-miterlimit=\"10\" d=\"M 75.339844 447.628906 C 75.339844 450.234375 71.429688 450.234375 71.429688 447.628906 C 71.429688 445.023438 75.339844 445.023438 75.339844 447.628906 \"/>\n",
       "<path fill-rule=\"nonzero\" fill=\"rgb(0%, 0%, 0%)\" fill-opacity=\"0.2\" stroke-width=\"0.708661\" stroke-linecap=\"round\" stroke-linejoin=\"round\" stroke=\"rgb(0%, 0%, 0%)\" stroke-opacity=\"0.2\" stroke-miterlimit=\"10\" d=\"M 74.0625 447.628906 C 74.0625 450.234375 70.152344 450.234375 70.152344 447.628906 C 70.152344 445.023438 74.0625 445.023438 74.0625 447.628906 \"/>\n",
       "<path fill-rule=\"nonzero\" fill=\"rgb(0%, 0%, 0%)\" fill-opacity=\"0.2\" stroke-width=\"0.708661\" stroke-linecap=\"round\" stroke-linejoin=\"round\" stroke=\"rgb(0%, 0%, 0%)\" stroke-opacity=\"0.2\" stroke-miterlimit=\"10\" d=\"M 73.847656 467.964844 C 73.847656 470.570312 69.941406 470.570312 69.941406 467.964844 C 69.941406 465.355469 73.847656 465.355469 73.847656 467.964844 \"/>\n",
       "<path fill-rule=\"nonzero\" fill=\"rgb(0%, 0%, 0%)\" fill-opacity=\"0.2\" stroke-width=\"0.708661\" stroke-linecap=\"round\" stroke-linejoin=\"round\" stroke=\"rgb(0%, 0%, 0%)\" stroke-opacity=\"0.2\" stroke-miterlimit=\"10\" d=\"M 73.847656 457.796875 C 73.847656 460.402344 69.941406 460.402344 69.941406 457.796875 C 69.941406 455.191406 73.847656 455.191406 73.847656 457.796875 \"/>\n",
       "<path fill-rule=\"nonzero\" fill=\"rgb(0%, 0%, 0%)\" fill-opacity=\"0.2\" stroke-width=\"0.708661\" stroke-linecap=\"round\" stroke-linejoin=\"round\" stroke=\"rgb(0%, 0%, 0%)\" stroke-opacity=\"0.2\" stroke-miterlimit=\"10\" d=\"M 73.847656 447.628906 C 73.847656 450.234375 69.941406 450.234375 69.941406 447.628906 C 69.941406 445.023438 73.847656 445.023438 73.847656 447.628906 \"/>\n",
       "<path fill-rule=\"nonzero\" fill=\"rgb(0%, 0%, 0%)\" fill-opacity=\"0.2\" stroke-width=\"0.708661\" stroke-linecap=\"round\" stroke-linejoin=\"round\" stroke=\"rgb(0%, 0%, 0%)\" stroke-opacity=\"0.2\" stroke-miterlimit=\"10\" d=\"M 74.0625 467.964844 C 74.0625 470.570312 70.152344 470.570312 70.152344 467.964844 C 70.152344 465.355469 74.0625 465.355469 74.0625 467.964844 \"/>\n",
       "<path fill-rule=\"nonzero\" fill=\"rgb(0%, 0%, 0%)\" fill-opacity=\"0.2\" stroke-width=\"0.708661\" stroke-linecap=\"round\" stroke-linejoin=\"round\" stroke=\"rgb(0%, 0%, 0%)\" stroke-opacity=\"0.2\" stroke-miterlimit=\"10\" d=\"M 73.847656 442.542969 C 73.847656 445.152344 69.941406 445.152344 69.941406 442.542969 C 69.941406 439.9375 73.847656 439.9375 73.847656 442.542969 \"/>\n",
       "<path fill-rule=\"nonzero\" fill=\"rgb(0%, 0%, 0%)\" fill-opacity=\"0.2\" stroke-width=\"0.708661\" stroke-linecap=\"round\" stroke-linejoin=\"round\" stroke=\"rgb(0%, 0%, 0%)\" stroke-opacity=\"0.2\" stroke-miterlimit=\"10\" d=\"M 77.253906 437.460938 C 77.253906 440.066406 73.34375 440.066406 73.34375 437.460938 C 73.34375 434.855469 77.253906 434.855469 77.253906 437.460938 \"/>\n",
       "<path fill-rule=\"nonzero\" fill=\"rgb(0%, 0%, 0%)\" fill-opacity=\"0.2\" stroke-width=\"0.708661\" stroke-linecap=\"round\" stroke-linejoin=\"round\" stroke=\"rgb(0%, 0%, 0%)\" stroke-opacity=\"0.2\" stroke-miterlimit=\"10\" d=\"M 73.847656 467.964844 C 73.847656 470.570312 69.941406 470.570312 69.941406 467.964844 C 69.941406 465.355469 73.847656 465.355469 73.847656 467.964844 \"/>\n",
       "<path fill-rule=\"nonzero\" fill=\"rgb(0%, 0%, 0%)\" fill-opacity=\"0.2\" stroke-width=\"0.708661\" stroke-linecap=\"round\" stroke-linejoin=\"round\" stroke=\"rgb(0%, 0%, 0%)\" stroke-opacity=\"0.2\" stroke-miterlimit=\"10\" d=\"M 77.042969 427.292969 C 77.042969 429.898438 73.132812 429.898438 73.132812 427.292969 C 73.132812 424.6875 77.042969 424.6875 77.042969 427.292969 \"/>\n",
       "<path fill-rule=\"nonzero\" fill=\"rgb(0%, 0%, 0%)\" fill-opacity=\"0.2\" stroke-width=\"0.708661\" stroke-linecap=\"round\" stroke-linejoin=\"round\" stroke=\"rgb(0%, 0%, 0%)\" stroke-opacity=\"0.2\" stroke-miterlimit=\"10\" d=\"M 74.273438 442.542969 C 74.273438 445.152344 70.367188 445.152344 70.367188 442.542969 C 70.367188 439.9375 74.273438 439.9375 74.273438 442.542969 \"/>\n",
       "<path fill-rule=\"nonzero\" fill=\"rgb(0%, 0%, 0%)\" fill-opacity=\"0.2\" stroke-width=\"0.708661\" stroke-linecap=\"round\" stroke-linejoin=\"round\" stroke=\"rgb(0%, 0%, 0%)\" stroke-opacity=\"0.2\" stroke-miterlimit=\"10\" d=\"M 73.847656 467.964844 C 73.847656 470.570312 69.941406 470.570312 69.941406 467.964844 C 69.941406 465.355469 73.847656 465.355469 73.847656 467.964844 \"/>\n",
       "<path fill-rule=\"nonzero\" fill=\"rgb(0%, 0%, 0%)\" fill-opacity=\"0.2\" stroke-width=\"0.708661\" stroke-linecap=\"round\" stroke-linejoin=\"round\" stroke=\"rgb(0%, 0%, 0%)\" stroke-opacity=\"0.2\" stroke-miterlimit=\"10\" d=\"M 73.847656 442.542969 C 73.847656 445.152344 69.941406 445.152344 69.941406 442.542969 C 69.941406 439.9375 73.847656 439.9375 73.847656 442.542969 \"/>\n",
       "<path fill-rule=\"nonzero\" fill=\"rgb(0%, 0%, 0%)\" fill-opacity=\"0.2\" stroke-width=\"0.708661\" stroke-linecap=\"round\" stroke-linejoin=\"round\" stroke=\"rgb(0%, 0%, 0%)\" stroke-opacity=\"0.2\" stroke-miterlimit=\"10\" d=\"M 73.847656 467.964844 C 73.847656 470.570312 69.941406 470.570312 69.941406 467.964844 C 69.941406 465.355469 73.847656 465.355469 73.847656 467.964844 \"/>\n",
       "<path fill-rule=\"nonzero\" fill=\"rgb(0%, 0%, 0%)\" fill-opacity=\"0.2\" stroke-width=\"0.708661\" stroke-linecap=\"round\" stroke-linejoin=\"round\" stroke=\"rgb(0%, 0%, 0%)\" stroke-opacity=\"0.2\" stroke-miterlimit=\"10\" d=\"M 176.871094 467.964844 C 176.871094 470.570312 172.960938 470.570312 172.960938 467.964844 C 172.960938 465.355469 176.871094 465.355469 176.871094 467.964844 \"/>\n",
       "<path fill-rule=\"nonzero\" fill=\"rgb(0%, 0%, 0%)\" fill-opacity=\"0.2\" stroke-width=\"0.708661\" stroke-linecap=\"round\" stroke-linejoin=\"round\" stroke=\"rgb(0%, 0%, 0%)\" stroke-opacity=\"0.2\" stroke-miterlimit=\"10\" d=\"M 74.914062 467.964844 C 74.914062 470.570312 71.003906 470.570312 71.003906 467.964844 C 71.003906 465.355469 74.914062 465.355469 74.914062 467.964844 \"/>\n",
       "<path fill-rule=\"nonzero\" fill=\"rgb(0%, 0%, 0%)\" fill-opacity=\"0.2\" stroke-width=\"0.708661\" stroke-linecap=\"round\" stroke-linejoin=\"round\" stroke=\"rgb(0%, 0%, 0%)\" stroke-opacity=\"0.2\" stroke-miterlimit=\"10\" d=\"M 75.125 457.796875 C 75.125 460.402344 71.21875 460.402344 71.21875 457.796875 C 71.21875 455.191406 75.125 455.191406 75.125 457.796875 \"/>\n",
       "<path fill-rule=\"nonzero\" fill=\"rgb(0%, 0%, 0%)\" fill-opacity=\"0.2\" stroke-width=\"0.708661\" stroke-linecap=\"round\" stroke-linejoin=\"round\" stroke=\"rgb(0%, 0%, 0%)\" stroke-opacity=\"0.2\" stroke-miterlimit=\"10\" d=\"M 74.488281 513.71875 C 74.488281 516.324219 70.578125 516.324219 70.578125 513.71875 C 70.578125 511.113281 74.488281 511.113281 74.488281 513.71875 \"/>\n",
       "<path fill-rule=\"nonzero\" fill=\"rgb(0%, 0%, 0%)\" fill-opacity=\"0.2\" stroke-width=\"0.708661\" stroke-linecap=\"round\" stroke-linejoin=\"round\" stroke=\"rgb(0%, 0%, 0%)\" stroke-opacity=\"0.2\" stroke-miterlimit=\"10\" d=\"M 74.0625 467.964844 C 74.0625 470.570312 70.152344 470.570312 70.152344 467.964844 C 70.152344 465.355469 74.0625 465.355469 74.0625 467.964844 \"/>\n",
       "<path fill-rule=\"nonzero\" fill=\"rgb(0%, 0%, 0%)\" fill-opacity=\"0.2\" stroke-width=\"0.708661\" stroke-linecap=\"round\" stroke-linejoin=\"round\" stroke=\"rgb(0%, 0%, 0%)\" stroke-opacity=\"0.2\" stroke-miterlimit=\"10\" d=\"M 75.976562 467.964844 C 75.976562 470.570312 72.070312 470.570312 72.070312 467.964844 C 72.070312 465.355469 75.976562 465.355469 75.976562 467.964844 \"/>\n",
       "<path fill-rule=\"nonzero\" fill=\"rgb(0%, 0%, 0%)\" fill-opacity=\"0.2\" stroke-width=\"0.708661\" stroke-linecap=\"round\" stroke-linejoin=\"round\" stroke=\"rgb(0%, 0%, 0%)\" stroke-opacity=\"0.2\" stroke-miterlimit=\"10\" d=\"M 73.847656 467.964844 C 73.847656 470.570312 69.941406 470.570312 69.941406 467.964844 C 69.941406 465.355469 73.847656 465.355469 73.847656 467.964844 \"/>\n",
       "<path fill-rule=\"nonzero\" fill=\"rgb(0%, 0%, 0%)\" fill-opacity=\"0.2\" stroke-width=\"0.708661\" stroke-linecap=\"round\" stroke-linejoin=\"round\" stroke=\"rgb(0%, 0%, 0%)\" stroke-opacity=\"0.2\" stroke-miterlimit=\"10\" d=\"M 75.339844 447.628906 C 75.339844 450.234375 71.429688 450.234375 71.429688 447.628906 C 71.429688 445.023438 75.339844 445.023438 75.339844 447.628906 \"/>\n",
       "<path fill-rule=\"nonzero\" fill=\"rgb(0%, 0%, 0%)\" fill-opacity=\"0.2\" stroke-width=\"0.708661\" stroke-linecap=\"round\" stroke-linejoin=\"round\" stroke=\"rgb(0%, 0%, 0%)\" stroke-opacity=\"0.2\" stroke-miterlimit=\"10\" d=\"M 75.125 412.042969 C 75.125 414.648438 71.21875 414.648438 71.21875 412.042969 C 71.21875 409.433594 75.125 409.433594 75.125 412.042969 \"/>\n",
       "<path fill-rule=\"nonzero\" fill=\"rgb(0%, 0%, 0%)\" fill-opacity=\"0.2\" stroke-width=\"0.708661\" stroke-linecap=\"round\" stroke-linejoin=\"round\" stroke=\"rgb(0%, 0%, 0%)\" stroke-opacity=\"0.2\" stroke-miterlimit=\"10\" d=\"M 73.847656 467.964844 C 73.847656 470.570312 69.941406 470.570312 69.941406 467.964844 C 69.941406 465.355469 73.847656 465.355469 73.847656 467.964844 \"/>\n",
       "<path fill-rule=\"nonzero\" fill=\"rgb(0%, 0%, 0%)\" fill-opacity=\"0.2\" stroke-width=\"0.708661\" stroke-linecap=\"round\" stroke-linejoin=\"round\" stroke=\"rgb(0%, 0%, 0%)\" stroke-opacity=\"0.2\" stroke-miterlimit=\"10\" d=\"M 73.847656 437.460938 C 73.847656 440.066406 69.941406 440.066406 69.941406 437.460938 C 69.941406 434.855469 73.847656 434.855469 73.847656 437.460938 \"/>\n",
       "<path fill-rule=\"nonzero\" fill=\"rgb(0%, 0%, 0%)\" fill-opacity=\"0.2\" stroke-width=\"0.708661\" stroke-linecap=\"round\" stroke-linejoin=\"round\" stroke=\"rgb(0%, 0%, 0%)\" stroke-opacity=\"0.2\" stroke-miterlimit=\"10\" d=\"M 77.679688 437.460938 C 77.679688 440.066406 73.769531 440.066406 73.769531 437.460938 C 73.769531 434.855469 77.679688 434.855469 77.679688 437.460938 \"/>\n",
       "<path fill-rule=\"nonzero\" fill=\"rgb(0%, 0%, 0%)\" fill-opacity=\"0.2\" stroke-width=\"0.708661\" stroke-linecap=\"round\" stroke-linejoin=\"round\" stroke=\"rgb(0%, 0%, 0%)\" stroke-opacity=\"0.2\" stroke-miterlimit=\"10\" d=\"M 74.0625 462.878906 C 74.0625 465.484375 70.152344 465.484375 70.152344 462.878906 C 70.152344 460.273438 74.0625 460.273438 74.0625 462.878906 \"/>\n",
       "<path fill-rule=\"nonzero\" fill=\"rgb(0%, 0%, 0%)\" fill-opacity=\"0.2\" stroke-width=\"0.708661\" stroke-linecap=\"round\" stroke-linejoin=\"round\" stroke=\"rgb(0%, 0%, 0%)\" stroke-opacity=\"0.2\" stroke-miterlimit=\"10\" d=\"M 74.0625 437.460938 C 74.0625 440.066406 70.152344 440.066406 70.152344 437.460938 C 70.152344 434.855469 74.0625 434.855469 74.0625 437.460938 \"/>\n",
       "<path fill-rule=\"nonzero\" fill=\"rgb(0%, 0%, 0%)\" fill-opacity=\"0.2\" stroke-width=\"0.708661\" stroke-linecap=\"round\" stroke-linejoin=\"round\" stroke=\"rgb(0%, 0%, 0%)\" stroke-opacity=\"0.2\" stroke-miterlimit=\"10\" d=\"M 74.0625 447.628906 C 74.0625 450.234375 70.152344 450.234375 70.152344 447.628906 C 70.152344 445.023438 74.0625 445.023438 74.0625 447.628906 \"/>\n",
       "<path fill-rule=\"nonzero\" fill=\"rgb(0%, 0%, 0%)\" fill-opacity=\"0.2\" stroke-width=\"0.708661\" stroke-linecap=\"round\" stroke-linejoin=\"round\" stroke=\"rgb(0%, 0%, 0%)\" stroke-opacity=\"0.2\" stroke-miterlimit=\"10\" d=\"M 73.847656 467.964844 C 73.847656 470.570312 69.941406 470.570312 69.941406 467.964844 C 69.941406 465.355469 73.847656 465.355469 73.847656 467.964844 \"/>\n",
       "<path fill-rule=\"nonzero\" fill=\"rgb(0%, 0%, 0%)\" fill-opacity=\"0.2\" stroke-width=\"0.708661\" stroke-linecap=\"round\" stroke-linejoin=\"round\" stroke=\"rgb(0%, 0%, 0%)\" stroke-opacity=\"0.2\" stroke-miterlimit=\"10\" d=\"M 73.847656 386.621094 C 73.847656 389.230469 69.941406 389.230469 69.941406 386.621094 C 69.941406 384.015625 73.847656 384.015625 73.847656 386.621094 \"/>\n",
       "<path fill-rule=\"nonzero\" fill=\"rgb(0%, 0%, 0%)\" fill-opacity=\"0.2\" stroke-width=\"0.708661\" stroke-linecap=\"round\" stroke-linejoin=\"round\" stroke=\"rgb(0%, 0%, 0%)\" stroke-opacity=\"0.2\" stroke-miterlimit=\"10\" d=\"M 75.125 422.210938 C 75.125 424.816406 71.21875 424.816406 71.21875 422.210938 C 71.21875 419.601562 75.125 419.601562 75.125 422.210938 \"/>\n",
       "<path fill-rule=\"nonzero\" fill=\"rgb(0%, 0%, 0%)\" fill-opacity=\"0.2\" stroke-width=\"0.708661\" stroke-linecap=\"round\" stroke-linejoin=\"round\" stroke=\"rgb(0%, 0%, 0%)\" stroke-opacity=\"0.2\" stroke-miterlimit=\"10\" d=\"M 74.699219 452.710938 C 74.699219 455.320312 70.792969 455.320312 70.792969 452.710938 C 70.792969 450.105469 74.699219 450.105469 74.699219 452.710938 \"/>\n",
       "<path fill-rule=\"nonzero\" fill=\"rgb(0%, 0%, 0%)\" fill-opacity=\"0.2\" stroke-width=\"0.708661\" stroke-linecap=\"round\" stroke-linejoin=\"round\" stroke=\"rgb(0%, 0%, 0%)\" stroke-opacity=\"0.2\" stroke-miterlimit=\"10\" d=\"M 76.828125 427.292969 C 76.828125 429.898438 72.921875 429.898438 72.921875 427.292969 C 72.921875 424.6875 76.828125 424.6875 76.828125 427.292969 \"/>\n",
       "<path fill-rule=\"nonzero\" fill=\"rgb(0%, 0%, 0%)\" fill-opacity=\"0.2\" stroke-width=\"0.708661\" stroke-linecap=\"round\" stroke-linejoin=\"round\" stroke=\"rgb(0%, 0%, 0%)\" stroke-opacity=\"0.2\" stroke-miterlimit=\"10\" d=\"M 74.273438 467.964844 C 74.273438 470.570312 70.367188 470.570312 70.367188 467.964844 C 70.367188 465.355469 74.273438 465.355469 74.273438 467.964844 \"/>\n",
       "<path fill-rule=\"nonzero\" fill=\"rgb(0%, 0%, 0%)\" fill-opacity=\"0.2\" stroke-width=\"0.708661\" stroke-linecap=\"round\" stroke-linejoin=\"round\" stroke=\"rgb(0%, 0%, 0%)\" stroke-opacity=\"0.2\" stroke-miterlimit=\"10\" d=\"M 73.847656 467.964844 C 73.847656 470.570312 69.941406 470.570312 69.941406 467.964844 C 69.941406 465.355469 73.847656 465.355469 73.847656 467.964844 \"/>\n",
       "<path fill-rule=\"nonzero\" fill=\"rgb(0%, 0%, 0%)\" fill-opacity=\"0.2\" stroke-width=\"0.708661\" stroke-linecap=\"round\" stroke-linejoin=\"round\" stroke=\"rgb(0%, 0%, 0%)\" stroke-opacity=\"0.2\" stroke-miterlimit=\"10\" d=\"M 73.847656 467.964844 C 73.847656 470.570312 69.941406 470.570312 69.941406 467.964844 C 69.941406 465.355469 73.847656 465.355469 73.847656 467.964844 \"/>\n",
       "<path fill-rule=\"nonzero\" fill=\"rgb(0%, 0%, 0%)\" fill-opacity=\"0.2\" stroke-width=\"0.708661\" stroke-linecap=\"round\" stroke-linejoin=\"round\" stroke=\"rgb(0%, 0%, 0%)\" stroke-opacity=\"0.2\" stroke-miterlimit=\"10\" d=\"M 85.769531 467.964844 C 85.769531 470.570312 81.859375 470.570312 81.859375 467.964844 C 81.859375 465.355469 85.769531 465.355469 85.769531 467.964844 \"/>\n",
       "<path fill-rule=\"nonzero\" fill=\"rgb(0%, 0%, 0%)\" fill-opacity=\"0.2\" stroke-width=\"0.708661\" stroke-linecap=\"round\" stroke-linejoin=\"round\" stroke=\"rgb(0%, 0%, 0%)\" stroke-opacity=\"0.2\" stroke-miterlimit=\"10\" d=\"M 74.0625 467.964844 C 74.0625 470.570312 70.152344 470.570312 70.152344 467.964844 C 70.152344 465.355469 74.0625 465.355469 74.0625 467.964844 \"/>\n",
       "<path fill-rule=\"nonzero\" fill=\"rgb(0%, 0%, 0%)\" fill-opacity=\"0.2\" stroke-width=\"0.708661\" stroke-linecap=\"round\" stroke-linejoin=\"round\" stroke=\"rgb(0%, 0%, 0%)\" stroke-opacity=\"0.2\" stroke-miterlimit=\"10\" d=\"M 74.488281 432.375 C 74.488281 434.984375 70.578125 434.984375 70.578125 432.375 C 70.578125 429.769531 74.488281 429.769531 74.488281 432.375 \"/>\n",
       "<path fill-rule=\"nonzero\" fill=\"rgb(0%, 0%, 0%)\" fill-opacity=\"0.2\" stroke-width=\"0.708661\" stroke-linecap=\"round\" stroke-linejoin=\"round\" stroke=\"rgb(0%, 0%, 0%)\" stroke-opacity=\"0.2\" stroke-miterlimit=\"10\" d=\"M 73.847656 447.628906 C 73.847656 450.234375 69.941406 450.234375 69.941406 447.628906 C 69.941406 445.023438 73.847656 445.023438 73.847656 447.628906 \"/>\n",
       "<path fill-rule=\"nonzero\" fill=\"rgb(0%, 0%, 0%)\" fill-opacity=\"0.2\" stroke-width=\"0.708661\" stroke-linecap=\"round\" stroke-linejoin=\"round\" stroke=\"rgb(0%, 0%, 0%)\" stroke-opacity=\"0.2\" stroke-miterlimit=\"10\" d=\"M 78.53125 432.375 C 78.53125 434.984375 74.621094 434.984375 74.621094 432.375 C 74.621094 429.769531 78.53125 429.769531 78.53125 432.375 \"/>\n",
       "<path fill-rule=\"nonzero\" fill=\"rgb(0%, 0%, 0%)\" fill-opacity=\"0.2\" stroke-width=\"0.708661\" stroke-linecap=\"round\" stroke-linejoin=\"round\" stroke=\"rgb(0%, 0%, 0%)\" stroke-opacity=\"0.2\" stroke-miterlimit=\"10\" d=\"M 73.847656 432.375 C 73.847656 434.984375 69.941406 434.984375 69.941406 432.375 C 69.941406 429.769531 73.847656 429.769531 73.847656 432.375 \"/>\n",
       "<path fill-rule=\"nonzero\" fill=\"rgb(0%, 0%, 0%)\" fill-opacity=\"0.2\" stroke-width=\"0.708661\" stroke-linecap=\"round\" stroke-linejoin=\"round\" stroke=\"rgb(0%, 0%, 0%)\" stroke-opacity=\"0.2\" stroke-miterlimit=\"10\" d=\"M 74.0625 467.964844 C 74.0625 470.570312 70.152344 470.570312 70.152344 467.964844 C 70.152344 465.355469 74.0625 465.355469 74.0625 467.964844 \"/>\n",
       "<path fill-rule=\"nonzero\" fill=\"rgb(0%, 0%, 0%)\" fill-opacity=\"0.2\" stroke-width=\"0.708661\" stroke-linecap=\"round\" stroke-linejoin=\"round\" stroke=\"rgb(0%, 0%, 0%)\" stroke-opacity=\"0.2\" stroke-miterlimit=\"10\" d=\"M 73.847656 437.460938 C 73.847656 440.066406 69.941406 440.066406 69.941406 437.460938 C 69.941406 434.855469 73.847656 434.855469 73.847656 437.460938 \"/>\n",
       "<path fill-rule=\"nonzero\" fill=\"rgb(0%, 0%, 0%)\" fill-opacity=\"0.2\" stroke-width=\"0.708661\" stroke-linecap=\"round\" stroke-linejoin=\"round\" stroke=\"rgb(0%, 0%, 0%)\" stroke-opacity=\"0.2\" stroke-miterlimit=\"10\" d=\"M 100.457031 417.125 C 100.457031 419.730469 96.546875 419.730469 96.546875 417.125 C 96.546875 414.519531 100.457031 414.519531 100.457031 417.125 \"/>\n",
       "<path fill-rule=\"nonzero\" fill=\"rgb(0%, 0%, 0%)\" fill-opacity=\"0.2\" stroke-width=\"0.708661\" stroke-linecap=\"round\" stroke-linejoin=\"round\" stroke=\"rgb(0%, 0%, 0%)\" stroke-opacity=\"0.2\" stroke-miterlimit=\"10\" d=\"M 74.699219 442.542969 C 74.699219 445.152344 70.792969 445.152344 70.792969 442.542969 C 70.792969 439.9375 74.699219 439.9375 74.699219 442.542969 \"/>\n",
       "<path fill-rule=\"nonzero\" fill=\"rgb(0%, 0%, 0%)\" fill-opacity=\"0.2\" stroke-width=\"0.708661\" stroke-linecap=\"round\" stroke-linejoin=\"round\" stroke=\"rgb(0%, 0%, 0%)\" stroke-opacity=\"0.2\" stroke-miterlimit=\"10\" d=\"M 75.125 447.628906 C 75.125 450.234375 71.21875 450.234375 71.21875 447.628906 C 71.21875 445.023438 75.125 445.023438 75.125 447.628906 \"/>\n",
       "<path fill-rule=\"nonzero\" fill=\"rgb(0%, 0%, 0%)\" fill-opacity=\"0.2\" stroke-width=\"0.708661\" stroke-linecap=\"round\" stroke-linejoin=\"round\" stroke=\"rgb(0%, 0%, 0%)\" stroke-opacity=\"0.2\" stroke-miterlimit=\"10\" d=\"M 538.089844 452.710938 C 538.089844 455.320312 534.179688 455.320312 534.179688 452.710938 C 534.179688 450.105469 538.089844 450.105469 538.089844 452.710938 \"/>\n",
       "<path fill-rule=\"nonzero\" fill=\"rgb(0%, 0%, 0%)\" fill-opacity=\"0.2\" stroke-width=\"0.708661\" stroke-linecap=\"round\" stroke-linejoin=\"round\" stroke=\"rgb(0%, 0%, 0%)\" stroke-opacity=\"0.2\" stroke-miterlimit=\"10\" d=\"M 75.765625 462.878906 C 75.765625 465.484375 71.855469 465.484375 71.855469 462.878906 C 71.855469 460.273438 75.765625 460.273438 75.765625 462.878906 \"/>\n",
       "<path fill-rule=\"nonzero\" fill=\"rgb(0%, 0%, 0%)\" fill-opacity=\"0.2\" stroke-width=\"0.708661\" stroke-linecap=\"round\" stroke-linejoin=\"round\" stroke=\"rgb(0%, 0%, 0%)\" stroke-opacity=\"0.2\" stroke-miterlimit=\"10\" d=\"M 74.273438 417.125 C 74.273438 419.730469 70.367188 419.730469 70.367188 417.125 C 70.367188 414.519531 74.273438 414.519531 74.273438 417.125 \"/>\n",
       "<path fill-rule=\"nonzero\" fill=\"rgb(0%, 0%, 0%)\" fill-opacity=\"0.2\" stroke-width=\"0.708661\" stroke-linecap=\"round\" stroke-linejoin=\"round\" stroke=\"rgb(0%, 0%, 0%)\" stroke-opacity=\"0.2\" stroke-miterlimit=\"10\" d=\"M 73.847656 340.867188 C 73.847656 343.472656 69.941406 343.472656 69.941406 340.867188 C 69.941406 338.261719 73.847656 338.261719 73.847656 340.867188 \"/>\n",
       "<path fill-rule=\"nonzero\" fill=\"rgb(0%, 0%, 0%)\" fill-opacity=\"0.2\" stroke-width=\"0.708661\" stroke-linecap=\"round\" stroke-linejoin=\"round\" stroke=\"rgb(0%, 0%, 0%)\" stroke-opacity=\"0.2\" stroke-miterlimit=\"10\" d=\"M 73.847656 452.710938 C 73.847656 455.320312 69.941406 455.320312 69.941406 452.710938 C 69.941406 450.105469 73.847656 450.105469 73.847656 452.710938 \"/>\n",
       "<path fill-rule=\"nonzero\" fill=\"rgb(0%, 0%, 0%)\" fill-opacity=\"0.2\" stroke-width=\"0.708661\" stroke-linecap=\"round\" stroke-linejoin=\"round\" stroke=\"rgb(0%, 0%, 0%)\" stroke-opacity=\"0.2\" stroke-miterlimit=\"10\" d=\"M 80.023438 498.464844 C 80.023438 501.074219 76.113281 501.074219 76.113281 498.464844 C 76.113281 495.859375 80.023438 495.859375 80.023438 498.464844 \"/>\n",
       "<path fill-rule=\"nonzero\" fill=\"rgb(0%, 0%, 0%)\" fill-opacity=\"0.2\" stroke-width=\"0.708661\" stroke-linecap=\"round\" stroke-linejoin=\"round\" stroke=\"rgb(0%, 0%, 0%)\" stroke-opacity=\"0.2\" stroke-miterlimit=\"10\" d=\"M 73.847656 467.964844 C 73.847656 470.570312 69.941406 470.570312 69.941406 467.964844 C 69.941406 465.355469 73.847656 465.355469 73.847656 467.964844 \"/>\n",
       "<path fill-rule=\"nonzero\" fill=\"rgb(0%, 0%, 0%)\" fill-opacity=\"0.2\" stroke-width=\"0.708661\" stroke-linecap=\"round\" stroke-linejoin=\"round\" stroke=\"rgb(0%, 0%, 0%)\" stroke-opacity=\"0.2\" stroke-miterlimit=\"10\" d=\"M 81.511719 503.550781 C 81.511719 506.15625 77.601562 506.15625 77.601562 503.550781 C 77.601562 500.945312 81.511719 500.945312 81.511719 503.550781 \"/>\n",
       "<path fill-rule=\"nonzero\" fill=\"rgb(0%, 0%, 0%)\" fill-opacity=\"0.2\" stroke-width=\"0.708661\" stroke-linecap=\"round\" stroke-linejoin=\"round\" stroke=\"rgb(0%, 0%, 0%)\" stroke-opacity=\"0.2\" stroke-miterlimit=\"10\" d=\"M 74.273438 361.203125 C 74.273438 363.808594 70.367188 363.808594 70.367188 361.203125 C 70.367188 358.597656 74.273438 358.597656 74.273438 361.203125 \"/>\n",
       "<path fill-rule=\"nonzero\" fill=\"rgb(0%, 0%, 0%)\" fill-opacity=\"0.2\" stroke-width=\"0.708661\" stroke-linecap=\"round\" stroke-linejoin=\"round\" stroke=\"rgb(0%, 0%, 0%)\" stroke-opacity=\"0.2\" stroke-miterlimit=\"10\" d=\"M 73.847656 467.964844 C 73.847656 470.570312 69.941406 470.570312 69.941406 467.964844 C 69.941406 465.355469 73.847656 465.355469 73.847656 467.964844 \"/>\n",
       "<path fill-rule=\"nonzero\" fill=\"rgb(0%, 0%, 0%)\" fill-opacity=\"0.2\" stroke-width=\"0.708661\" stroke-linecap=\"round\" stroke-linejoin=\"round\" stroke=\"rgb(0%, 0%, 0%)\" stroke-opacity=\"0.2\" stroke-miterlimit=\"10\" d=\"M 77.042969 452.710938 C 77.042969 455.320312 73.132812 455.320312 73.132812 452.710938 C 73.132812 450.105469 77.042969 450.105469 77.042969 452.710938 \"/>\n",
       "<path fill-rule=\"nonzero\" fill=\"rgb(0%, 0%, 0%)\" fill-opacity=\"0.2\" stroke-width=\"0.708661\" stroke-linecap=\"round\" stroke-linejoin=\"round\" stroke=\"rgb(0%, 0%, 0%)\" stroke-opacity=\"0.2\" stroke-miterlimit=\"10\" d=\"M 75.976562 467.964844 C 75.976562 470.570312 72.070312 470.570312 72.070312 467.964844 C 72.070312 465.355469 75.976562 465.355469 75.976562 467.964844 \"/>\n",
       "<path fill-rule=\"nonzero\" fill=\"rgb(0%, 0%, 0%)\" fill-opacity=\"0.2\" stroke-width=\"0.708661\" stroke-linecap=\"round\" stroke-linejoin=\"round\" stroke=\"rgb(0%, 0%, 0%)\" stroke-opacity=\"0.2\" stroke-miterlimit=\"10\" d=\"M 74.273438 467.964844 C 74.273438 470.570312 70.367188 470.570312 70.367188 467.964844 C 70.367188 465.355469 74.273438 465.355469 74.273438 467.964844 \"/>\n",
       "<path fill-rule=\"nonzero\" fill=\"rgb(0%, 0%, 0%)\" fill-opacity=\"0.2\" stroke-width=\"0.708661\" stroke-linecap=\"round\" stroke-linejoin=\"round\" stroke=\"rgb(0%, 0%, 0%)\" stroke-opacity=\"0.2\" stroke-miterlimit=\"10\" d=\"M 74.0625 437.460938 C 74.0625 440.066406 70.152344 440.066406 70.152344 437.460938 C 70.152344 434.855469 74.0625 434.855469 74.0625 437.460938 \"/>\n",
       "<path fill-rule=\"nonzero\" fill=\"rgb(0%, 0%, 0%)\" fill-opacity=\"0.2\" stroke-width=\"0.708661\" stroke-linecap=\"round\" stroke-linejoin=\"round\" stroke=\"rgb(0%, 0%, 0%)\" stroke-opacity=\"0.2\" stroke-miterlimit=\"10\" d=\"M 74.0625 447.628906 C 74.0625 450.234375 70.152344 450.234375 70.152344 447.628906 C 70.152344 445.023438 74.0625 445.023438 74.0625 447.628906 \"/>\n",
       "<path fill-rule=\"nonzero\" fill=\"rgb(0%, 0%, 0%)\" fill-opacity=\"0.2\" stroke-width=\"0.708661\" stroke-linecap=\"round\" stroke-linejoin=\"round\" stroke=\"rgb(0%, 0%, 0%)\" stroke-opacity=\"0.2\" stroke-miterlimit=\"10\" d=\"M 74.0625 442.542969 C 74.0625 445.152344 70.152344 445.152344 70.152344 442.542969 C 70.152344 439.9375 74.0625 439.9375 74.0625 442.542969 \"/>\n",
       "<path fill-rule=\"nonzero\" fill=\"rgb(0%, 0%, 0%)\" fill-opacity=\"0.2\" stroke-width=\"0.708661\" stroke-linecap=\"round\" stroke-linejoin=\"round\" stroke=\"rgb(0%, 0%, 0%)\" stroke-opacity=\"0.2\" stroke-miterlimit=\"10\" d=\"M 110.460938 483.214844 C 110.460938 485.820312 106.550781 485.820312 106.550781 483.214844 C 106.550781 480.609375 110.460938 480.609375 110.460938 483.214844 \"/>\n",
       "<path fill-rule=\"nonzero\" fill=\"rgb(0%, 0%, 0%)\" fill-opacity=\"0.2\" stroke-width=\"0.708661\" stroke-linecap=\"round\" stroke-linejoin=\"round\" stroke=\"rgb(0%, 0%, 0%)\" stroke-opacity=\"0.2\" stroke-miterlimit=\"10\" d=\"M 74.0625 478.132812 C 74.0625 480.738281 70.152344 480.738281 70.152344 478.132812 C 70.152344 475.523438 74.0625 475.523438 74.0625 478.132812 \"/>\n",
       "<path fill-rule=\"nonzero\" fill=\"rgb(0%, 0%, 0%)\" fill-opacity=\"0.2\" stroke-width=\"0.708661\" stroke-linecap=\"round\" stroke-linejoin=\"round\" stroke=\"rgb(0%, 0%, 0%)\" stroke-opacity=\"0.2\" stroke-miterlimit=\"10\" d=\"M 73.847656 447.628906 C 73.847656 450.234375 69.941406 450.234375 69.941406 447.628906 C 69.941406 445.023438 73.847656 445.023438 73.847656 447.628906 \"/>\n",
       "<path fill-rule=\"nonzero\" fill=\"rgb(0%, 0%, 0%)\" fill-opacity=\"0.2\" stroke-width=\"0.708661\" stroke-linecap=\"round\" stroke-linejoin=\"round\" stroke=\"rgb(0%, 0%, 0%)\" stroke-opacity=\"0.2\" stroke-miterlimit=\"10\" d=\"M 74.273438 483.214844 C 74.273438 485.820312 70.367188 485.820312 70.367188 483.214844 C 70.367188 480.609375 74.273438 480.609375 74.273438 483.214844 \"/>\n",
       "<path fill-rule=\"nonzero\" fill=\"rgb(0%, 0%, 0%)\" fill-opacity=\"0.2\" stroke-width=\"0.708661\" stroke-linecap=\"round\" stroke-linejoin=\"round\" stroke=\"rgb(0%, 0%, 0%)\" stroke-opacity=\"0.2\" stroke-miterlimit=\"10\" d=\"M 188.578125 467.964844 C 188.578125 470.570312 184.667969 470.570312 184.667969 467.964844 C 184.667969 465.355469 188.578125 465.355469 188.578125 467.964844 \"/>\n",
       "<path fill-rule=\"nonzero\" fill=\"rgb(0%, 0%, 0%)\" fill-opacity=\"0.2\" stroke-width=\"0.708661\" stroke-linecap=\"round\" stroke-linejoin=\"round\" stroke=\"rgb(0%, 0%, 0%)\" stroke-opacity=\"0.2\" stroke-miterlimit=\"10\" d=\"M 73.847656 467.964844 C 73.847656 470.570312 69.941406 470.570312 69.941406 467.964844 C 69.941406 465.355469 73.847656 465.355469 73.847656 467.964844 \"/>\n",
       "<path fill-rule=\"nonzero\" fill=\"rgb(0%, 0%, 0%)\" fill-opacity=\"0.2\" stroke-width=\"0.708661\" stroke-linecap=\"round\" stroke-linejoin=\"round\" stroke=\"rgb(0%, 0%, 0%)\" stroke-opacity=\"0.2\" stroke-miterlimit=\"10\" d=\"M 73.847656 442.542969 C 73.847656 445.152344 69.941406 445.152344 69.941406 442.542969 C 69.941406 439.9375 73.847656 439.9375 73.847656 442.542969 \"/>\n",
       "<path fill-rule=\"nonzero\" fill=\"rgb(0%, 0%, 0%)\" fill-opacity=\"0.2\" stroke-width=\"0.708661\" stroke-linecap=\"round\" stroke-linejoin=\"round\" stroke=\"rgb(0%, 0%, 0%)\" stroke-opacity=\"0.2\" stroke-miterlimit=\"10\" d=\"M 548.730469 467.964844 C 548.730469 470.570312 544.820312 470.570312 544.820312 467.964844 C 544.820312 465.355469 548.730469 465.355469 548.730469 467.964844 \"/>\n",
       "<path fill-rule=\"nonzero\" fill=\"rgb(0%, 0%, 0%)\" fill-opacity=\"0.2\" stroke-width=\"0.708661\" stroke-linecap=\"round\" stroke-linejoin=\"round\" stroke=\"rgb(0%, 0%, 0%)\" stroke-opacity=\"0.2\" stroke-miterlimit=\"10\" d=\"M 74.914062 447.628906 C 74.914062 450.234375 71.003906 450.234375 71.003906 447.628906 C 71.003906 445.023438 74.914062 445.023438 74.914062 447.628906 \"/>\n",
       "<path fill-rule=\"nonzero\" fill=\"rgb(0%, 0%, 0%)\" fill-opacity=\"0.2\" stroke-width=\"0.708661\" stroke-linecap=\"round\" stroke-linejoin=\"round\" stroke=\"rgb(0%, 0%, 0%)\" stroke-opacity=\"0.2\" stroke-miterlimit=\"10\" d=\"M 81.300781 447.628906 C 81.300781 450.234375 77.390625 450.234375 77.390625 447.628906 C 77.390625 445.023438 81.300781 445.023438 81.300781 447.628906 \"/>\n",
       "<path fill-rule=\"nonzero\" fill=\"rgb(0%, 0%, 0%)\" fill-opacity=\"0.2\" stroke-width=\"0.708661\" stroke-linecap=\"round\" stroke-linejoin=\"round\" stroke=\"rgb(0%, 0%, 0%)\" stroke-opacity=\"0.2\" stroke-miterlimit=\"10\" d=\"M 73.847656 467.964844 C 73.847656 470.570312 69.941406 470.570312 69.941406 467.964844 C 69.941406 465.355469 73.847656 465.355469 73.847656 467.964844 \"/>\n",
       "<path fill-rule=\"nonzero\" fill=\"rgb(0%, 0%, 0%)\" fill-opacity=\"0.2\" stroke-width=\"0.708661\" stroke-linecap=\"round\" stroke-linejoin=\"round\" stroke=\"rgb(0%, 0%, 0%)\" stroke-opacity=\"0.2\" stroke-miterlimit=\"10\" d=\"M 73.847656 442.542969 C 73.847656 445.152344 69.941406 445.152344 69.941406 442.542969 C 69.941406 439.9375 73.847656 439.9375 73.847656 442.542969 \"/>\n",
       "<path fill-rule=\"nonzero\" fill=\"rgb(0%, 0%, 0%)\" fill-opacity=\"0.2\" stroke-width=\"0.708661\" stroke-linecap=\"round\" stroke-linejoin=\"round\" stroke=\"rgb(0%, 0%, 0%)\" stroke-opacity=\"0.2\" stroke-miterlimit=\"10\" d=\"M 73.847656 422.210938 C 73.847656 424.816406 69.941406 424.816406 69.941406 422.210938 C 69.941406 419.601562 73.847656 419.601562 73.847656 422.210938 \"/>\n",
       "<path fill-rule=\"nonzero\" fill=\"rgb(0%, 0%, 0%)\" fill-opacity=\"0.2\" stroke-width=\"0.708661\" stroke-linecap=\"round\" stroke-linejoin=\"round\" stroke=\"rgb(0%, 0%, 0%)\" stroke-opacity=\"0.2\" stroke-miterlimit=\"10\" d=\"M 73.847656 467.964844 C 73.847656 470.570312 69.941406 470.570312 69.941406 467.964844 C 69.941406 465.355469 73.847656 465.355469 73.847656 467.964844 \"/>\n",
       "<path fill-rule=\"nonzero\" fill=\"rgb(0%, 0%, 0%)\" fill-opacity=\"0.2\" stroke-width=\"0.708661\" stroke-linecap=\"round\" stroke-linejoin=\"round\" stroke=\"rgb(0%, 0%, 0%)\" stroke-opacity=\"0.2\" stroke-miterlimit=\"10\" d=\"M 75.976562 467.964844 C 75.976562 470.570312 72.070312 470.570312 72.070312 467.964844 C 72.070312 465.355469 75.976562 465.355469 75.976562 467.964844 \"/>\n",
       "<path fill-rule=\"nonzero\" fill=\"rgb(0%, 0%, 0%)\" fill-opacity=\"0.2\" stroke-width=\"0.708661\" stroke-linecap=\"round\" stroke-linejoin=\"round\" stroke=\"rgb(0%, 0%, 0%)\" stroke-opacity=\"0.2\" stroke-miterlimit=\"10\" d=\"M 74.273438 366.289062 C 74.273438 368.894531 70.367188 368.894531 70.367188 366.289062 C 70.367188 363.679688 74.273438 363.679688 74.273438 366.289062 \"/>\n",
       "<path fill-rule=\"nonzero\" fill=\"rgb(0%, 0%, 0%)\" fill-opacity=\"0.2\" stroke-width=\"0.708661\" stroke-linecap=\"round\" stroke-linejoin=\"round\" stroke=\"rgb(0%, 0%, 0%)\" stroke-opacity=\"0.2\" stroke-miterlimit=\"10\" d=\"M 73.847656 412.042969 C 73.847656 414.648438 69.941406 414.648438 69.941406 412.042969 C 69.941406 409.433594 73.847656 409.433594 73.847656 412.042969 \"/>\n",
       "<path fill-rule=\"nonzero\" fill=\"rgb(0%, 0%, 0%)\" fill-opacity=\"0.2\" stroke-width=\"0.708661\" stroke-linecap=\"round\" stroke-linejoin=\"round\" stroke=\"rgb(0%, 0%, 0%)\" stroke-opacity=\"0.2\" stroke-miterlimit=\"10\" d=\"M 73.847656 467.964844 C 73.847656 470.570312 69.941406 470.570312 69.941406 467.964844 C 69.941406 465.355469 73.847656 465.355469 73.847656 467.964844 \"/>\n",
       "<path fill-rule=\"nonzero\" fill=\"rgb(0%, 0%, 0%)\" fill-opacity=\"0.2\" stroke-width=\"0.708661\" stroke-linecap=\"round\" stroke-linejoin=\"round\" stroke=\"rgb(0%, 0%, 0%)\" stroke-opacity=\"0.2\" stroke-miterlimit=\"10\" d=\"M 73.847656 447.628906 C 73.847656 450.234375 69.941406 450.234375 69.941406 447.628906 C 69.941406 445.023438 73.847656 445.023438 73.847656 447.628906 \"/>\n",
       "<path fill-rule=\"nonzero\" fill=\"rgb(0%, 0%, 0%)\" fill-opacity=\"0.2\" stroke-width=\"0.708661\" stroke-linecap=\"round\" stroke-linejoin=\"round\" stroke=\"rgb(0%, 0%, 0%)\" stroke-opacity=\"0.2\" stroke-miterlimit=\"10\" d=\"M 73.847656 437.460938 C 73.847656 440.066406 69.941406 440.066406 69.941406 437.460938 C 69.941406 434.855469 73.847656 434.855469 73.847656 437.460938 \"/>\n",
       "<path fill-rule=\"nonzero\" fill=\"rgb(0%, 0%, 0%)\" fill-opacity=\"0.2\" stroke-width=\"0.708661\" stroke-linecap=\"round\" stroke-linejoin=\"round\" stroke=\"rgb(0%, 0%, 0%)\" stroke-opacity=\"0.2\" stroke-miterlimit=\"10\" d=\"M 74.0625 467.964844 C 74.0625 470.570312 70.152344 470.570312 70.152344 467.964844 C 70.152344 465.355469 74.0625 465.355469 74.0625 467.964844 \"/>\n",
       "<path fill-rule=\"nonzero\" fill=\"rgb(0%, 0%, 0%)\" fill-opacity=\"0.2\" stroke-width=\"0.708661\" stroke-linecap=\"round\" stroke-linejoin=\"round\" stroke=\"rgb(0%, 0%, 0%)\" stroke-opacity=\"0.2\" stroke-miterlimit=\"10\" d=\"M 73.847656 467.964844 C 73.847656 470.570312 69.941406 470.570312 69.941406 467.964844 C 69.941406 465.355469 73.847656 465.355469 73.847656 467.964844 \"/>\n",
       "<path fill-rule=\"nonzero\" fill=\"rgb(0%, 0%, 0%)\" fill-opacity=\"0.2\" stroke-width=\"0.708661\" stroke-linecap=\"round\" stroke-linejoin=\"round\" stroke=\"rgb(0%, 0%, 0%)\" stroke-opacity=\"0.2\" stroke-miterlimit=\"10\" d=\"M 73.847656 437.460938 C 73.847656 440.066406 69.941406 440.066406 69.941406 437.460938 C 69.941406 434.855469 73.847656 434.855469 73.847656 437.460938 \"/>\n",
       "<path fill-rule=\"nonzero\" fill=\"rgb(0%, 0%, 0%)\" fill-opacity=\"0.2\" stroke-width=\"0.708661\" stroke-linecap=\"round\" stroke-linejoin=\"round\" stroke=\"rgb(0%, 0%, 0%)\" stroke-opacity=\"0.2\" stroke-miterlimit=\"10\" d=\"M 393.132812 473.046875 C 393.132812 475.652344 389.222656 475.652344 389.222656 473.046875 C 389.222656 470.441406 393.132812 470.441406 393.132812 473.046875 \"/>\n",
       "<path fill-rule=\"nonzero\" fill=\"rgb(0%, 0%, 0%)\" fill-opacity=\"0.2\" stroke-width=\"0.708661\" stroke-linecap=\"round\" stroke-linejoin=\"round\" stroke=\"rgb(0%, 0%, 0%)\" stroke-opacity=\"0.2\" stroke-miterlimit=\"10\" d=\"M 73.847656 467.964844 C 73.847656 470.570312 69.941406 470.570312 69.941406 467.964844 C 69.941406 465.355469 73.847656 465.355469 73.847656 467.964844 \"/>\n",
       "<path fill-rule=\"nonzero\" fill=\"rgb(0%, 0%, 0%)\" fill-opacity=\"0.2\" stroke-width=\"0.708661\" stroke-linecap=\"round\" stroke-linejoin=\"round\" stroke=\"rgb(0%, 0%, 0%)\" stroke-opacity=\"0.2\" stroke-miterlimit=\"10\" d=\"M 76.402344 467.964844 C 76.402344 470.570312 72.496094 470.570312 72.496094 467.964844 C 72.496094 465.355469 76.402344 465.355469 76.402344 467.964844 \"/>\n",
       "<path fill-rule=\"nonzero\" fill=\"rgb(0%, 0%, 0%)\" fill-opacity=\"0.2\" stroke-width=\"0.708661\" stroke-linecap=\"round\" stroke-linejoin=\"round\" stroke=\"rgb(0%, 0%, 0%)\" stroke-opacity=\"0.2\" stroke-miterlimit=\"10\" d=\"M 74.0625 467.964844 C 74.0625 470.570312 70.152344 470.570312 70.152344 467.964844 C 70.152344 465.355469 74.0625 465.355469 74.0625 467.964844 \"/>\n",
       "<path fill-rule=\"nonzero\" fill=\"rgb(0%, 0%, 0%)\" fill-opacity=\"0.2\" stroke-width=\"0.708661\" stroke-linecap=\"round\" stroke-linejoin=\"round\" stroke=\"rgb(0%, 0%, 0%)\" stroke-opacity=\"0.2\" stroke-miterlimit=\"10\" d=\"M 75.550781 442.542969 C 75.550781 445.152344 71.644531 445.152344 71.644531 442.542969 C 71.644531 439.9375 75.550781 439.9375 75.550781 442.542969 \"/>\n",
       "<path fill-rule=\"nonzero\" fill=\"rgb(0%, 0%, 0%)\" fill-opacity=\"0.2\" stroke-width=\"0.708661\" stroke-linecap=\"round\" stroke-linejoin=\"round\" stroke=\"rgb(0%, 0%, 0%)\" stroke-opacity=\"0.2\" stroke-miterlimit=\"10\" d=\"M 73.847656 467.964844 C 73.847656 470.570312 69.941406 470.570312 69.941406 467.964844 C 69.941406 465.355469 73.847656 465.355469 73.847656 467.964844 \"/>\n",
       "<path fill-rule=\"nonzero\" fill=\"rgb(0%, 0%, 0%)\" fill-opacity=\"0.2\" stroke-width=\"0.708661\" stroke-linecap=\"round\" stroke-linejoin=\"round\" stroke=\"rgb(0%, 0%, 0%)\" stroke-opacity=\"0.2\" stroke-miterlimit=\"10\" d=\"M 74.0625 457.796875 C 74.0625 460.402344 70.152344 460.402344 70.152344 457.796875 C 70.152344 455.191406 74.0625 455.191406 74.0625 457.796875 \"/>\n",
       "<path fill-rule=\"nonzero\" fill=\"rgb(0%, 0%, 0%)\" fill-opacity=\"0.2\" stroke-width=\"0.708661\" stroke-linecap=\"round\" stroke-linejoin=\"round\" stroke=\"rgb(0%, 0%, 0%)\" stroke-opacity=\"0.2\" stroke-miterlimit=\"10\" d=\"M 74.0625 462.878906 C 74.0625 465.484375 70.152344 465.484375 70.152344 462.878906 C 70.152344 460.273438 74.0625 460.273438 74.0625 462.878906 \"/>\n",
       "<path fill-rule=\"nonzero\" fill=\"rgb(0%, 0%, 0%)\" fill-opacity=\"0.2\" stroke-width=\"0.708661\" stroke-linecap=\"round\" stroke-linejoin=\"round\" stroke=\"rgb(0%, 0%, 0%)\" stroke-opacity=\"0.2\" stroke-miterlimit=\"10\" d=\"M 73.847656 467.964844 C 73.847656 470.570312 69.941406 470.570312 69.941406 467.964844 C 69.941406 465.355469 73.847656 465.355469 73.847656 467.964844 \"/>\n",
       "<path fill-rule=\"nonzero\" fill=\"rgb(0%, 0%, 0%)\" fill-opacity=\"0.2\" stroke-width=\"0.708661\" stroke-linecap=\"round\" stroke-linejoin=\"round\" stroke=\"rgb(0%, 0%, 0%)\" stroke-opacity=\"0.2\" stroke-miterlimit=\"10\" d=\"M 74.914062 493.382812 C 74.914062 495.988281 71.003906 495.988281 71.003906 493.382812 C 71.003906 490.777344 74.914062 490.777344 74.914062 493.382812 \"/>\n",
       "<path fill-rule=\"nonzero\" fill=\"rgb(0%, 0%, 0%)\" fill-opacity=\"0.2\" stroke-width=\"0.708661\" stroke-linecap=\"round\" stroke-linejoin=\"round\" stroke=\"rgb(0%, 0%, 0%)\" stroke-opacity=\"0.2\" stroke-miterlimit=\"10\" d=\"M 73.847656 452.710938 C 73.847656 455.320312 69.941406 455.320312 69.941406 452.710938 C 69.941406 450.105469 73.847656 450.105469 73.847656 452.710938 \"/>\n",
       "<path fill-rule=\"nonzero\" fill=\"rgb(0%, 0%, 0%)\" fill-opacity=\"0.2\" stroke-width=\"0.708661\" stroke-linecap=\"round\" stroke-linejoin=\"round\" stroke=\"rgb(0%, 0%, 0%)\" stroke-opacity=\"0.2\" stroke-miterlimit=\"10\" d=\"M 73.847656 467.964844 C 73.847656 470.570312 69.941406 470.570312 69.941406 467.964844 C 69.941406 465.355469 73.847656 465.355469 73.847656 467.964844 \"/>\n",
       "<path fill-rule=\"nonzero\" fill=\"rgb(0%, 0%, 0%)\" fill-opacity=\"0.2\" stroke-width=\"0.708661\" stroke-linecap=\"round\" stroke-linejoin=\"round\" stroke=\"rgb(0%, 0%, 0%)\" stroke-opacity=\"0.2\" stroke-miterlimit=\"10\" d=\"M 73.847656 432.375 C 73.847656 434.984375 69.941406 434.984375 69.941406 432.375 C 69.941406 429.769531 73.847656 429.769531 73.847656 432.375 \"/>\n",
       "<path fill-rule=\"nonzero\" fill=\"rgb(0%, 0%, 0%)\" fill-opacity=\"0.2\" stroke-width=\"0.708661\" stroke-linecap=\"round\" stroke-linejoin=\"round\" stroke=\"rgb(0%, 0%, 0%)\" stroke-opacity=\"0.2\" stroke-miterlimit=\"10\" d=\"M 78.105469 417.125 C 78.105469 419.730469 74.195312 419.730469 74.195312 417.125 C 74.195312 414.519531 78.105469 414.519531 78.105469 417.125 \"/>\n",
       "<path fill-rule=\"nonzero\" fill=\"rgb(0%, 0%, 0%)\" fill-opacity=\"0.2\" stroke-width=\"0.708661\" stroke-linecap=\"round\" stroke-linejoin=\"round\" stroke=\"rgb(0%, 0%, 0%)\" stroke-opacity=\"0.2\" stroke-miterlimit=\"10\" d=\"M 73.847656 422.210938 C 73.847656 424.816406 69.941406 424.816406 69.941406 422.210938 C 69.941406 419.601562 73.847656 419.601562 73.847656 422.210938 \"/>\n",
       "<path fill-rule=\"nonzero\" fill=\"rgb(0%, 0%, 0%)\" fill-opacity=\"0.2\" stroke-width=\"0.708661\" stroke-linecap=\"round\" stroke-linejoin=\"round\" stroke=\"rgb(0%, 0%, 0%)\" stroke-opacity=\"0.2\" stroke-miterlimit=\"10\" d=\"M 73.847656 467.964844 C 73.847656 470.570312 69.941406 470.570312 69.941406 467.964844 C 69.941406 465.355469 73.847656 465.355469 73.847656 467.964844 \"/>\n",
       "<path fill-rule=\"nonzero\" fill=\"rgb(0%, 0%, 0%)\" fill-opacity=\"0.2\" stroke-width=\"0.708661\" stroke-linecap=\"round\" stroke-linejoin=\"round\" stroke=\"rgb(0%, 0%, 0%)\" stroke-opacity=\"0.2\" stroke-miterlimit=\"10\" d=\"M 73.847656 437.460938 C 73.847656 440.066406 69.941406 440.066406 69.941406 437.460938 C 69.941406 434.855469 73.847656 434.855469 73.847656 437.460938 \"/>\n",
       "<path fill-rule=\"nonzero\" fill=\"rgb(0%, 0%, 0%)\" fill-opacity=\"0.2\" stroke-width=\"0.708661\" stroke-linecap=\"round\" stroke-linejoin=\"round\" stroke=\"rgb(0%, 0%, 0%)\" stroke-opacity=\"0.2\" stroke-miterlimit=\"10\" d=\"M 79.597656 442.542969 C 79.597656 445.152344 75.6875 445.152344 75.6875 442.542969 C 75.6875 439.9375 79.597656 439.9375 79.597656 442.542969 \"/>\n",
       "<path fill-rule=\"nonzero\" fill=\"rgb(0%, 0%, 0%)\" fill-opacity=\"0.2\" stroke-width=\"0.708661\" stroke-linecap=\"round\" stroke-linejoin=\"round\" stroke=\"rgb(0%, 0%, 0%)\" stroke-opacity=\"0.2\" stroke-miterlimit=\"10\" d=\"M 73.847656 452.710938 C 73.847656 455.320312 69.941406 455.320312 69.941406 452.710938 C 69.941406 450.105469 73.847656 450.105469 73.847656 452.710938 \"/>\n",
       "<path fill-rule=\"nonzero\" fill=\"rgb(0%, 0%, 0%)\" fill-opacity=\"0.2\" stroke-width=\"0.708661\" stroke-linecap=\"round\" stroke-linejoin=\"round\" stroke=\"rgb(0%, 0%, 0%)\" stroke-opacity=\"0.2\" stroke-miterlimit=\"10\" d=\"M 74.0625 467.964844 C 74.0625 470.570312 70.152344 470.570312 70.152344 467.964844 C 70.152344 465.355469 74.0625 465.355469 74.0625 467.964844 \"/>\n",
       "<path fill-rule=\"nonzero\" fill=\"rgb(0%, 0%, 0%)\" fill-opacity=\"0.2\" stroke-width=\"0.708661\" stroke-linecap=\"round\" stroke-linejoin=\"round\" stroke=\"rgb(0%, 0%, 0%)\" stroke-opacity=\"0.2\" stroke-miterlimit=\"10\" d=\"M 73.847656 442.542969 C 73.847656 445.152344 69.941406 445.152344 69.941406 442.542969 C 69.941406 439.9375 73.847656 439.9375 73.847656 442.542969 \"/>\n",
       "<path fill-rule=\"nonzero\" fill=\"rgb(0%, 0%, 0%)\" fill-opacity=\"0.2\" stroke-width=\"0.708661\" stroke-linecap=\"round\" stroke-linejoin=\"round\" stroke=\"rgb(0%, 0%, 0%)\" stroke-opacity=\"0.2\" stroke-miterlimit=\"10\" d=\"M 82.363281 447.628906 C 82.363281 450.234375 78.453125 450.234375 78.453125 447.628906 C 78.453125 445.023438 82.363281 445.023438 82.363281 447.628906 \"/>\n",
       "<path fill-rule=\"nonzero\" fill=\"rgb(0%, 0%, 0%)\" fill-opacity=\"0.2\" stroke-width=\"0.708661\" stroke-linecap=\"round\" stroke-linejoin=\"round\" stroke=\"rgb(0%, 0%, 0%)\" stroke-opacity=\"0.2\" stroke-miterlimit=\"10\" d=\"M 74.699219 462.878906 C 74.699219 465.484375 70.792969 465.484375 70.792969 462.878906 C 70.792969 460.273438 74.699219 460.273438 74.699219 462.878906 \"/>\n",
       "<path fill-rule=\"nonzero\" fill=\"rgb(0%, 0%, 0%)\" fill-opacity=\"0.2\" stroke-width=\"0.708661\" stroke-linecap=\"round\" stroke-linejoin=\"round\" stroke=\"rgb(0%, 0%, 0%)\" stroke-opacity=\"0.2\" stroke-miterlimit=\"10\" d=\"M 73.847656 467.964844 C 73.847656 470.570312 69.941406 470.570312 69.941406 467.964844 C 69.941406 465.355469 73.847656 465.355469 73.847656 467.964844 \"/>\n",
       "<path fill-rule=\"nonzero\" fill=\"rgb(0%, 0%, 0%)\" fill-opacity=\"0.2\" stroke-width=\"0.708661\" stroke-linecap=\"round\" stroke-linejoin=\"round\" stroke=\"rgb(0%, 0%, 0%)\" stroke-opacity=\"0.2\" stroke-miterlimit=\"10\" d=\"M 75.976562 467.964844 C 75.976562 470.570312 72.070312 470.570312 72.070312 467.964844 C 72.070312 465.355469 75.976562 465.355469 75.976562 467.964844 \"/>\n",
       "<path fill-rule=\"nonzero\" fill=\"rgb(0%, 0%, 0%)\" fill-opacity=\"0.2\" stroke-width=\"0.708661\" stroke-linecap=\"round\" stroke-linejoin=\"round\" stroke=\"rgb(0%, 0%, 0%)\" stroke-opacity=\"0.2\" stroke-miterlimit=\"10\" d=\"M 74.0625 432.375 C 74.0625 434.984375 70.152344 434.984375 70.152344 432.375 C 70.152344 429.769531 74.0625 429.769531 74.0625 432.375 \"/>\n",
       "<path fill-rule=\"nonzero\" fill=\"rgb(0%, 0%, 0%)\" fill-opacity=\"0.2\" stroke-width=\"0.708661\" stroke-linecap=\"round\" stroke-linejoin=\"round\" stroke=\"rgb(0%, 0%, 0%)\" stroke-opacity=\"0.2\" stroke-miterlimit=\"10\" d=\"M 73.847656 452.710938 C 73.847656 455.320312 69.941406 455.320312 69.941406 452.710938 C 69.941406 450.105469 73.847656 450.105469 73.847656 452.710938 \"/>\n",
       "<path fill-rule=\"nonzero\" fill=\"rgb(0%, 0%, 0%)\" fill-opacity=\"0.2\" stroke-width=\"0.708661\" stroke-linecap=\"round\" stroke-linejoin=\"round\" stroke=\"rgb(0%, 0%, 0%)\" stroke-opacity=\"0.2\" stroke-miterlimit=\"10\" d=\"M 73.847656 467.964844 C 73.847656 470.570312 69.941406 470.570312 69.941406 467.964844 C 69.941406 465.355469 73.847656 465.355469 73.847656 467.964844 \"/>\n",
       "<path fill-rule=\"nonzero\" fill=\"rgb(0%, 0%, 0%)\" fill-opacity=\"0.2\" stroke-width=\"0.708661\" stroke-linecap=\"round\" stroke-linejoin=\"round\" stroke=\"rgb(0%, 0%, 0%)\" stroke-opacity=\"0.2\" stroke-miterlimit=\"10\" d=\"M 73.847656 320.53125 C 73.847656 323.140625 69.941406 323.140625 69.941406 320.53125 C 69.941406 317.925781 73.847656 317.925781 73.847656 320.53125 \"/>\n",
       "<path fill-rule=\"nonzero\" fill=\"rgb(0%, 0%, 0%)\" fill-opacity=\"0.2\" stroke-width=\"0.708661\" stroke-linecap=\"round\" stroke-linejoin=\"round\" stroke=\"rgb(0%, 0%, 0%)\" stroke-opacity=\"0.2\" stroke-miterlimit=\"10\" d=\"M 73.847656 437.460938 C 73.847656 440.066406 69.941406 440.066406 69.941406 437.460938 C 69.941406 434.855469 73.847656 434.855469 73.847656 437.460938 \"/>\n",
       "<path fill-rule=\"nonzero\" fill=\"rgb(0%, 0%, 0%)\" fill-opacity=\"0.2\" stroke-width=\"0.708661\" stroke-linecap=\"round\" stroke-linejoin=\"round\" stroke=\"rgb(0%, 0%, 0%)\" stroke-opacity=\"0.2\" stroke-miterlimit=\"10\" d=\"M 74.0625 478.132812 C 74.0625 480.738281 70.152344 480.738281 70.152344 478.132812 C 70.152344 475.523438 74.0625 475.523438 74.0625 478.132812 \"/>\n",
       "<path fill-rule=\"nonzero\" fill=\"rgb(0%, 0%, 0%)\" fill-opacity=\"0.2\" stroke-width=\"0.708661\" stroke-linecap=\"round\" stroke-linejoin=\"round\" stroke=\"rgb(0%, 0%, 0%)\" stroke-opacity=\"0.2\" stroke-miterlimit=\"10\" d=\"M 74.0625 432.375 C 74.0625 434.984375 70.152344 434.984375 70.152344 432.375 C 70.152344 429.769531 74.0625 429.769531 74.0625 432.375 \"/>\n",
       "<path fill-rule=\"nonzero\" fill=\"rgb(0%, 0%, 0%)\" fill-opacity=\"0.2\" stroke-width=\"0.708661\" stroke-linecap=\"round\" stroke-linejoin=\"round\" stroke=\"rgb(0%, 0%, 0%)\" stroke-opacity=\"0.2\" stroke-miterlimit=\"10\" d=\"M 74.0625 391.707031 C 74.0625 394.3125 70.152344 394.3125 70.152344 391.707031 C 70.152344 389.101562 74.0625 389.101562 74.0625 391.707031 \"/>\n",
       "<path fill-rule=\"nonzero\" fill=\"rgb(0%, 0%, 0%)\" fill-opacity=\"0.2\" stroke-width=\"0.708661\" stroke-linecap=\"round\" stroke-linejoin=\"round\" stroke=\"rgb(0%, 0%, 0%)\" stroke-opacity=\"0.2\" stroke-miterlimit=\"10\" d=\"M 88.960938 467.964844 C 88.960938 470.570312 85.054688 470.570312 85.054688 467.964844 C 85.054688 465.355469 88.960938 465.355469 88.960938 467.964844 \"/>\n",
       "<path fill-rule=\"nonzero\" fill=\"rgb(0%, 0%, 0%)\" fill-opacity=\"0.2\" stroke-width=\"0.708661\" stroke-linecap=\"round\" stroke-linejoin=\"round\" stroke=\"rgb(0%, 0%, 0%)\" stroke-opacity=\"0.2\" stroke-miterlimit=\"10\" d=\"M 73.847656 467.964844 C 73.847656 470.570312 69.941406 470.570312 69.941406 467.964844 C 69.941406 465.355469 73.847656 465.355469 73.847656 467.964844 \"/>\n",
       "<path fill-rule=\"nonzero\" fill=\"rgb(0%, 0%, 0%)\" fill-opacity=\"0.2\" stroke-width=\"0.708661\" stroke-linecap=\"round\" stroke-linejoin=\"round\" stroke=\"rgb(0%, 0%, 0%)\" stroke-opacity=\"0.2\" stroke-miterlimit=\"10\" d=\"M 113.226562 305.28125 C 113.226562 307.886719 109.316406 307.886719 109.316406 305.28125 C 109.316406 302.675781 113.226562 302.675781 113.226562 305.28125 \"/>\n",
       "<path fill-rule=\"nonzero\" fill=\"rgb(0%, 0%, 0%)\" fill-opacity=\"0.2\" stroke-width=\"0.708661\" stroke-linecap=\"round\" stroke-linejoin=\"round\" stroke=\"rgb(0%, 0%, 0%)\" stroke-opacity=\"0.2\" stroke-miterlimit=\"10\" d=\"M 75.339844 432.375 C 75.339844 434.984375 71.429688 434.984375 71.429688 432.375 C 71.429688 429.769531 75.339844 429.769531 75.339844 432.375 \"/>\n",
       "<path fill-rule=\"nonzero\" fill=\"rgb(0%, 0%, 0%)\" fill-opacity=\"0.2\" stroke-width=\"0.708661\" stroke-linecap=\"round\" stroke-linejoin=\"round\" stroke=\"rgb(0%, 0%, 0%)\" stroke-opacity=\"0.2\" stroke-miterlimit=\"10\" d=\"M 73.847656 447.628906 C 73.847656 450.234375 69.941406 450.234375 69.941406 447.628906 C 69.941406 445.023438 73.847656 445.023438 73.847656 447.628906 \"/>\n",
       "<path fill-rule=\"nonzero\" fill=\"rgb(0%, 0%, 0%)\" fill-opacity=\"0.2\" stroke-width=\"0.708661\" stroke-linecap=\"round\" stroke-linejoin=\"round\" stroke=\"rgb(0%, 0%, 0%)\" stroke-opacity=\"0.2\" stroke-miterlimit=\"10\" d=\"M 73.847656 467.964844 C 73.847656 470.570312 69.941406 470.570312 69.941406 467.964844 C 69.941406 465.355469 73.847656 465.355469 73.847656 467.964844 \"/>\n",
       "<path fill-rule=\"nonzero\" fill=\"rgb(0%, 0%, 0%)\" fill-opacity=\"0.2\" stroke-width=\"0.708661\" stroke-linecap=\"round\" stroke-linejoin=\"round\" stroke=\"rgb(0%, 0%, 0%)\" stroke-opacity=\"0.2\" stroke-miterlimit=\"10\" d=\"M 73.847656 467.964844 C 73.847656 470.570312 69.941406 470.570312 69.941406 467.964844 C 69.941406 465.355469 73.847656 465.355469 73.847656 467.964844 \"/>\n",
       "<path fill-rule=\"nonzero\" fill=\"rgb(0%, 0%, 0%)\" fill-opacity=\"0.2\" stroke-width=\"0.708661\" stroke-linecap=\"round\" stroke-linejoin=\"round\" stroke=\"rgb(0%, 0%, 0%)\" stroke-opacity=\"0.2\" stroke-miterlimit=\"10\" d=\"M 193.261719 437.460938 C 193.261719 440.066406 189.351562 440.066406 189.351562 437.460938 C 189.351562 434.855469 193.261719 434.855469 193.261719 437.460938 \"/>\n",
       "<path fill-rule=\"nonzero\" fill=\"rgb(0%, 0%, 0%)\" fill-opacity=\"0.2\" stroke-width=\"0.708661\" stroke-linecap=\"round\" stroke-linejoin=\"round\" stroke=\"rgb(0%, 0%, 0%)\" stroke-opacity=\"0.2\" stroke-miterlimit=\"10\" d=\"M 73.847656 437.460938 C 73.847656 440.066406 69.941406 440.066406 69.941406 437.460938 C 69.941406 434.855469 73.847656 434.855469 73.847656 437.460938 \"/>\n",
       "<path fill-rule=\"nonzero\" fill=\"rgb(0%, 0%, 0%)\" fill-opacity=\"0.2\" stroke-width=\"0.708661\" stroke-linecap=\"round\" stroke-linejoin=\"round\" stroke=\"rgb(0%, 0%, 0%)\" stroke-opacity=\"0.2\" stroke-miterlimit=\"10\" d=\"M 74.0625 467.964844 C 74.0625 470.570312 70.152344 470.570312 70.152344 467.964844 C 70.152344 465.355469 74.0625 465.355469 74.0625 467.964844 \"/>\n",
       "<path fill-rule=\"nonzero\" fill=\"rgb(0%, 0%, 0%)\" fill-opacity=\"0.2\" stroke-width=\"0.708661\" stroke-linecap=\"round\" stroke-linejoin=\"round\" stroke=\"rgb(0%, 0%, 0%)\" stroke-opacity=\"0.2\" stroke-miterlimit=\"10\" d=\"M 73.847656 467.964844 C 73.847656 470.570312 69.941406 470.570312 69.941406 467.964844 C 69.941406 465.355469 73.847656 465.355469 73.847656 467.964844 \"/>\n",
       "<path fill-rule=\"nonzero\" fill=\"rgb(0%, 0%, 0%)\" fill-opacity=\"0.2\" stroke-width=\"0.708661\" stroke-linecap=\"round\" stroke-linejoin=\"round\" stroke=\"rgb(0%, 0%, 0%)\" stroke-opacity=\"0.2\" stroke-miterlimit=\"10\" d=\"M 76.191406 452.710938 C 76.191406 455.320312 72.28125 455.320312 72.28125 452.710938 C 72.28125 450.105469 76.191406 450.105469 76.191406 452.710938 \"/>\n",
       "<path fill-rule=\"nonzero\" fill=\"rgb(0%, 0%, 0%)\" fill-opacity=\"0.2\" stroke-width=\"0.708661\" stroke-linecap=\"round\" stroke-linejoin=\"round\" stroke=\"rgb(0%, 0%, 0%)\" stroke-opacity=\"0.2\" stroke-miterlimit=\"10\" d=\"M 73.847656 447.628906 C 73.847656 450.234375 69.941406 450.234375 69.941406 447.628906 C 69.941406 445.023438 73.847656 445.023438 73.847656 447.628906 \"/>\n",
       "<path fill-rule=\"nonzero\" fill=\"rgb(0%, 0%, 0%)\" fill-opacity=\"0.2\" stroke-width=\"0.708661\" stroke-linecap=\"round\" stroke-linejoin=\"round\" stroke=\"rgb(0%, 0%, 0%)\" stroke-opacity=\"0.2\" stroke-miterlimit=\"10\" d=\"M 73.847656 452.710938 C 73.847656 455.320312 69.941406 455.320312 69.941406 452.710938 C 69.941406 450.105469 73.847656 450.105469 73.847656 452.710938 \"/>\n",
       "<path fill-rule=\"nonzero\" fill=\"rgb(0%, 0%, 0%)\" fill-opacity=\"0.2\" stroke-width=\"0.708661\" stroke-linecap=\"round\" stroke-linejoin=\"round\" stroke=\"rgb(0%, 0%, 0%)\" stroke-opacity=\"0.2\" stroke-miterlimit=\"10\" d=\"M 73.847656 467.964844 C 73.847656 470.570312 69.941406 470.570312 69.941406 467.964844 C 69.941406 465.355469 73.847656 465.355469 73.847656 467.964844 \"/>\n",
       "<path fill-rule=\"nonzero\" fill=\"rgb(0%, 0%, 0%)\" fill-opacity=\"0.2\" stroke-width=\"0.708661\" stroke-linecap=\"round\" stroke-linejoin=\"round\" stroke=\"rgb(0%, 0%, 0%)\" stroke-opacity=\"0.2\" stroke-miterlimit=\"10\" d=\"M 73.847656 467.964844 C 73.847656 470.570312 69.941406 470.570312 69.941406 467.964844 C 69.941406 465.355469 73.847656 465.355469 73.847656 467.964844 \"/>\n",
       "<path fill-rule=\"nonzero\" fill=\"rgb(0%, 0%, 0%)\" fill-opacity=\"0.2\" stroke-width=\"0.708661\" stroke-linecap=\"round\" stroke-linejoin=\"round\" stroke=\"rgb(0%, 0%, 0%)\" stroke-opacity=\"0.2\" stroke-miterlimit=\"10\" d=\"M 73.847656 452.710938 C 73.847656 455.320312 69.941406 455.320312 69.941406 452.710938 C 69.941406 450.105469 73.847656 450.105469 73.847656 452.710938 \"/>\n",
       "<path fill-rule=\"nonzero\" fill=\"rgb(0%, 0%, 0%)\" fill-opacity=\"0.2\" stroke-width=\"0.708661\" stroke-linecap=\"round\" stroke-linejoin=\"round\" stroke=\"rgb(0%, 0%, 0%)\" stroke-opacity=\"0.2\" stroke-miterlimit=\"10\" d=\"M 73.847656 452.710938 C 73.847656 455.320312 69.941406 455.320312 69.941406 452.710938 C 69.941406 450.105469 73.847656 450.105469 73.847656 452.710938 \"/>\n",
       "<path fill-rule=\"nonzero\" fill=\"rgb(0%, 0%, 0%)\" fill-opacity=\"0.2\" stroke-width=\"0.708661\" stroke-linecap=\"round\" stroke-linejoin=\"round\" stroke=\"rgb(0%, 0%, 0%)\" stroke-opacity=\"0.2\" stroke-miterlimit=\"10\" d=\"M 73.847656 462.878906 C 73.847656 465.484375 69.941406 465.484375 69.941406 462.878906 C 69.941406 460.273438 73.847656 460.273438 73.847656 462.878906 \"/>\n",
       "<path fill-rule=\"nonzero\" fill=\"rgb(0%, 0%, 0%)\" fill-opacity=\"0.2\" stroke-width=\"0.708661\" stroke-linecap=\"round\" stroke-linejoin=\"round\" stroke=\"rgb(0%, 0%, 0%)\" stroke-opacity=\"0.2\" stroke-miterlimit=\"10\" d=\"M 75.976562 467.964844 C 75.976562 470.570312 72.070312 470.570312 72.070312 467.964844 C 72.070312 465.355469 75.976562 465.355469 75.976562 467.964844 \"/>\n",
       "<path fill-rule=\"nonzero\" fill=\"rgb(0%, 0%, 0%)\" fill-opacity=\"0.2\" stroke-width=\"0.708661\" stroke-linecap=\"round\" stroke-linejoin=\"round\" stroke=\"rgb(0%, 0%, 0%)\" stroke-opacity=\"0.2\" stroke-miterlimit=\"10\" d=\"M 74.0625 473.046875 C 74.0625 475.652344 70.152344 475.652344 70.152344 473.046875 C 70.152344 470.441406 74.0625 470.441406 74.0625 473.046875 \"/>\n",
       "<path fill-rule=\"nonzero\" fill=\"rgb(0%, 0%, 0%)\" fill-opacity=\"0.2\" stroke-width=\"0.708661\" stroke-linecap=\"round\" stroke-linejoin=\"round\" stroke=\"rgb(0%, 0%, 0%)\" stroke-opacity=\"0.2\" stroke-miterlimit=\"10\" d=\"M 124.296875 432.375 C 124.296875 434.984375 120.386719 434.984375 120.386719 432.375 C 120.386719 429.769531 124.296875 429.769531 124.296875 432.375 \"/>\n",
       "<path fill-rule=\"nonzero\" fill=\"rgb(0%, 0%, 0%)\" fill-opacity=\"0.2\" stroke-width=\"0.708661\" stroke-linecap=\"round\" stroke-linejoin=\"round\" stroke=\"rgb(0%, 0%, 0%)\" stroke-opacity=\"0.2\" stroke-miterlimit=\"10\" d=\"M 74.0625 457.796875 C 74.0625 460.402344 70.152344 460.402344 70.152344 457.796875 C 70.152344 455.191406 74.0625 455.191406 74.0625 457.796875 \"/>\n",
       "<path fill-rule=\"nonzero\" fill=\"rgb(0%, 0%, 0%)\" fill-opacity=\"0.2\" stroke-width=\"0.708661\" stroke-linecap=\"round\" stroke-linejoin=\"round\" stroke=\"rgb(0%, 0%, 0%)\" stroke-opacity=\"0.2\" stroke-miterlimit=\"10\" d=\"M 73.847656 427.292969 C 73.847656 429.898438 69.941406 429.898438 69.941406 427.292969 C 69.941406 424.6875 73.847656 424.6875 73.847656 427.292969 \"/>\n",
       "<path fill-rule=\"nonzero\" fill=\"rgb(0%, 0%, 0%)\" fill-opacity=\"0.2\" stroke-width=\"0.708661\" stroke-linecap=\"round\" stroke-linejoin=\"round\" stroke=\"rgb(0%, 0%, 0%)\" stroke-opacity=\"0.2\" stroke-miterlimit=\"10\" d=\"M 74.0625 325.617188 C 74.0625 328.222656 70.152344 328.222656 70.152344 325.617188 C 70.152344 323.011719 74.0625 323.011719 74.0625 325.617188 \"/>\n",
       "<path fill-rule=\"nonzero\" fill=\"rgb(0%, 0%, 0%)\" fill-opacity=\"0.2\" stroke-width=\"0.708661\" stroke-linecap=\"round\" stroke-linejoin=\"round\" stroke=\"rgb(0%, 0%, 0%)\" stroke-opacity=\"0.2\" stroke-miterlimit=\"10\" d=\"M 73.847656 462.878906 C 73.847656 465.484375 69.941406 465.484375 69.941406 462.878906 C 69.941406 460.273438 73.847656 460.273438 73.847656 462.878906 \"/>\n",
       "<path fill-rule=\"nonzero\" fill=\"rgb(0%, 0%, 0%)\" fill-opacity=\"0.2\" stroke-width=\"0.708661\" stroke-linecap=\"round\" stroke-linejoin=\"round\" stroke=\"rgb(0%, 0%, 0%)\" stroke-opacity=\"0.2\" stroke-miterlimit=\"10\" d=\"M 73.847656 473.046875 C 73.847656 475.652344 69.941406 475.652344 69.941406 473.046875 C 69.941406 470.441406 73.847656 470.441406 73.847656 473.046875 \"/>\n",
       "<path fill-rule=\"nonzero\" fill=\"rgb(0%, 0%, 0%)\" fill-opacity=\"0.2\" stroke-width=\"0.708661\" stroke-linecap=\"round\" stroke-linejoin=\"round\" stroke=\"rgb(0%, 0%, 0%)\" stroke-opacity=\"0.2\" stroke-miterlimit=\"10\" d=\"M 73.847656 467.964844 C 73.847656 470.570312 69.941406 470.570312 69.941406 467.964844 C 69.941406 465.355469 73.847656 465.355469 73.847656 467.964844 \"/>\n",
       "<path fill-rule=\"nonzero\" fill=\"rgb(0%, 0%, 0%)\" fill-opacity=\"0.2\" stroke-width=\"0.708661\" stroke-linecap=\"round\" stroke-linejoin=\"round\" stroke=\"rgb(0%, 0%, 0%)\" stroke-opacity=\"0.2\" stroke-miterlimit=\"10\" d=\"M 73.847656 467.964844 C 73.847656 470.570312 69.941406 470.570312 69.941406 467.964844 C 69.941406 465.355469 73.847656 465.355469 73.847656 467.964844 \"/>\n",
       "<path fill-rule=\"nonzero\" fill=\"rgb(0%, 0%, 0%)\" fill-opacity=\"0.2\" stroke-width=\"0.708661\" stroke-linecap=\"round\" stroke-linejoin=\"round\" stroke=\"rgb(0%, 0%, 0%)\" stroke-opacity=\"0.2\" stroke-miterlimit=\"10\" d=\"M 74.273438 467.964844 C 74.273438 470.570312 70.367188 470.570312 70.367188 467.964844 C 70.367188 465.355469 74.273438 465.355469 74.273438 467.964844 \"/>\n",
       "<path fill-rule=\"nonzero\" fill=\"rgb(0%, 0%, 0%)\" fill-opacity=\"0.2\" stroke-width=\"0.708661\" stroke-linecap=\"round\" stroke-linejoin=\"round\" stroke=\"rgb(0%, 0%, 0%)\" stroke-opacity=\"0.2\" stroke-miterlimit=\"10\" d=\"M 74.0625 467.964844 C 74.0625 470.570312 70.152344 470.570312 70.152344 467.964844 C 70.152344 465.355469 74.0625 465.355469 74.0625 467.964844 \"/>\n",
       "<path fill-rule=\"nonzero\" fill=\"rgb(0%, 0%, 0%)\" fill-opacity=\"0.2\" stroke-width=\"0.708661\" stroke-linecap=\"round\" stroke-linejoin=\"round\" stroke=\"rgb(0%, 0%, 0%)\" stroke-opacity=\"0.2\" stroke-miterlimit=\"10\" d=\"M 73.847656 457.796875 C 73.847656 460.402344 69.941406 460.402344 69.941406 457.796875 C 69.941406 455.191406 73.847656 455.191406 73.847656 457.796875 \"/>\n",
       "<path fill-rule=\"nonzero\" fill=\"rgb(0%, 0%, 0%)\" fill-opacity=\"0.2\" stroke-width=\"0.708661\" stroke-linecap=\"round\" stroke-linejoin=\"round\" stroke=\"rgb(0%, 0%, 0%)\" stroke-opacity=\"0.2\" stroke-miterlimit=\"10\" d=\"M 76.402344 467.964844 C 76.402344 470.570312 72.496094 470.570312 72.496094 467.964844 C 72.496094 465.355469 76.402344 465.355469 76.402344 467.964844 \"/>\n",
       "<path fill-rule=\"nonzero\" fill=\"rgb(0%, 0%, 0%)\" fill-opacity=\"0.2\" stroke-width=\"0.708661\" stroke-linecap=\"round\" stroke-linejoin=\"round\" stroke=\"rgb(0%, 0%, 0%)\" stroke-opacity=\"0.2\" stroke-miterlimit=\"10\" d=\"M 74.0625 437.460938 C 74.0625 440.066406 70.152344 440.066406 70.152344 437.460938 C 70.152344 434.855469 74.0625 434.855469 74.0625 437.460938 \"/>\n",
       "<path fill-rule=\"nonzero\" fill=\"rgb(0%, 0%, 0%)\" fill-opacity=\"0.2\" stroke-width=\"0.708661\" stroke-linecap=\"round\" stroke-linejoin=\"round\" stroke=\"rgb(0%, 0%, 0%)\" stroke-opacity=\"0.2\" stroke-miterlimit=\"10\" d=\"M 74.0625 51.089844 C 74.0625 53.695312 70.152344 53.695312 70.152344 51.089844 C 70.152344 48.484375 74.0625 48.484375 74.0625 51.089844 \"/>\n",
       "<path fill-rule=\"nonzero\" fill=\"rgb(0%, 0%, 0%)\" fill-opacity=\"0.2\" stroke-width=\"0.708661\" stroke-linecap=\"round\" stroke-linejoin=\"round\" stroke=\"rgb(0%, 0%, 0%)\" stroke-opacity=\"0.2\" stroke-miterlimit=\"10\" d=\"M 453.160156 457.796875 C 453.160156 460.402344 449.25 460.402344 449.25 457.796875 C 449.25 455.191406 453.160156 455.191406 453.160156 457.796875 \"/>\n",
       "<path fill-rule=\"nonzero\" fill=\"rgb(0%, 0%, 0%)\" fill-opacity=\"0.2\" stroke-width=\"0.708661\" stroke-linecap=\"round\" stroke-linejoin=\"round\" stroke=\"rgb(0%, 0%, 0%)\" stroke-opacity=\"0.2\" stroke-miterlimit=\"10\" d=\"M 73.847656 442.542969 C 73.847656 445.152344 69.941406 445.152344 69.941406 442.542969 C 69.941406 439.9375 73.847656 439.9375 73.847656 442.542969 \"/>\n",
       "<path fill-rule=\"nonzero\" fill=\"rgb(0%, 0%, 0%)\" fill-opacity=\"0.2\" stroke-width=\"0.708661\" stroke-linecap=\"round\" stroke-linejoin=\"round\" stroke=\"rgb(0%, 0%, 0%)\" stroke-opacity=\"0.2\" stroke-miterlimit=\"10\" d=\"M 73.847656 432.375 C 73.847656 434.984375 69.941406 434.984375 69.941406 432.375 C 69.941406 429.769531 73.847656 429.769531 73.847656 432.375 \"/>\n",
       "<path fill-rule=\"nonzero\" fill=\"rgb(0%, 0%, 0%)\" fill-opacity=\"0.2\" stroke-width=\"0.708661\" stroke-linecap=\"round\" stroke-linejoin=\"round\" stroke=\"rgb(0%, 0%, 0%)\" stroke-opacity=\"0.2\" stroke-miterlimit=\"10\" d=\"M 73.847656 467.964844 C 73.847656 470.570312 69.941406 470.570312 69.941406 467.964844 C 69.941406 465.355469 73.847656 465.355469 73.847656 467.964844 \"/>\n",
       "<path fill-rule=\"nonzero\" fill=\"rgb(0%, 0%, 0%)\" fill-opacity=\"0.2\" stroke-width=\"0.708661\" stroke-linecap=\"round\" stroke-linejoin=\"round\" stroke=\"rgb(0%, 0%, 0%)\" stroke-opacity=\"0.2\" stroke-miterlimit=\"10\" d=\"M 75.125 457.796875 C 75.125 460.402344 71.21875 460.402344 71.21875 457.796875 C 71.21875 455.191406 75.125 455.191406 75.125 457.796875 \"/>\n",
       "<path fill-rule=\"nonzero\" fill=\"rgb(0%, 0%, 0%)\" fill-opacity=\"0.2\" stroke-width=\"0.708661\" stroke-linecap=\"round\" stroke-linejoin=\"round\" stroke=\"rgb(0%, 0%, 0%)\" stroke-opacity=\"0.2\" stroke-miterlimit=\"10\" d=\"M 74.914062 452.710938 C 74.914062 455.320312 71.003906 455.320312 71.003906 452.710938 C 71.003906 450.105469 74.914062 450.105469 74.914062 452.710938 \"/>\n",
       "<path fill-rule=\"nonzero\" fill=\"rgb(0%, 0%, 0%)\" fill-opacity=\"0.2\" stroke-width=\"0.708661\" stroke-linecap=\"round\" stroke-linejoin=\"round\" stroke=\"rgb(0%, 0%, 0%)\" stroke-opacity=\"0.2\" stroke-miterlimit=\"10\" d=\"M 73.847656 442.542969 C 73.847656 445.152344 69.941406 445.152344 69.941406 442.542969 C 69.941406 439.9375 73.847656 439.9375 73.847656 442.542969 \"/>\n",
       "<path fill-rule=\"nonzero\" fill=\"rgb(0%, 0%, 0%)\" fill-opacity=\"0.2\" stroke-width=\"0.708661\" stroke-linecap=\"round\" stroke-linejoin=\"round\" stroke=\"rgb(0%, 0%, 0%)\" stroke-opacity=\"0.2\" stroke-miterlimit=\"10\" d=\"M 74.0625 447.628906 C 74.0625 450.234375 70.152344 450.234375 70.152344 447.628906 C 70.152344 445.023438 74.0625 445.023438 74.0625 447.628906 \"/>\n",
       "<path fill-rule=\"nonzero\" fill=\"rgb(0%, 0%, 0%)\" fill-opacity=\"0.2\" stroke-width=\"0.708661\" stroke-linecap=\"round\" stroke-linejoin=\"round\" stroke=\"rgb(0%, 0%, 0%)\" stroke-opacity=\"0.2\" stroke-miterlimit=\"10\" d=\"M 75.976562 422.210938 C 75.976562 424.816406 72.070312 424.816406 72.070312 422.210938 C 72.070312 419.601562 75.976562 419.601562 75.976562 422.210938 \"/>\n",
       "<path fill-rule=\"nonzero\" fill=\"rgb(0%, 0%, 0%)\" fill-opacity=\"0.2\" stroke-width=\"0.708661\" stroke-linecap=\"round\" stroke-linejoin=\"round\" stroke=\"rgb(0%, 0%, 0%)\" stroke-opacity=\"0.2\" stroke-miterlimit=\"10\" d=\"M 74.488281 467.964844 C 74.488281 470.570312 70.578125 470.570312 70.578125 467.964844 C 70.578125 465.355469 74.488281 465.355469 74.488281 467.964844 \"/>\n",
       "<path fill-rule=\"nonzero\" fill=\"rgb(0%, 0%, 0%)\" fill-opacity=\"0.2\" stroke-width=\"0.708661\" stroke-linecap=\"round\" stroke-linejoin=\"round\" stroke=\"rgb(0%, 0%, 0%)\" stroke-opacity=\"0.2\" stroke-miterlimit=\"10\" d=\"M 74.0625 467.964844 C 74.0625 470.570312 70.152344 470.570312 70.152344 467.964844 C 70.152344 465.355469 74.0625 465.355469 74.0625 467.964844 \"/>\n",
       "<path fill-rule=\"nonzero\" fill=\"rgb(0%, 0%, 0%)\" fill-opacity=\"0.2\" stroke-width=\"0.708661\" stroke-linecap=\"round\" stroke-linejoin=\"round\" stroke=\"rgb(0%, 0%, 0%)\" stroke-opacity=\"0.2\" stroke-miterlimit=\"10\" d=\"M 74.0625 467.964844 C 74.0625 470.570312 70.152344 470.570312 70.152344 467.964844 C 70.152344 465.355469 74.0625 465.355469 74.0625 467.964844 \"/>\n",
       "<path fill-rule=\"nonzero\" fill=\"rgb(0%, 0%, 0%)\" fill-opacity=\"0.2\" stroke-width=\"0.708661\" stroke-linecap=\"round\" stroke-linejoin=\"round\" stroke=\"rgb(0%, 0%, 0%)\" stroke-opacity=\"0.2\" stroke-miterlimit=\"10\" d=\"M 74.699219 447.628906 C 74.699219 450.234375 70.792969 450.234375 70.792969 447.628906 C 70.792969 445.023438 74.699219 445.023438 74.699219 447.628906 \"/>\n",
       "<path fill-rule=\"nonzero\" fill=\"rgb(0%, 0%, 0%)\" fill-opacity=\"0.2\" stroke-width=\"0.708661\" stroke-linecap=\"round\" stroke-linejoin=\"round\" stroke=\"rgb(0%, 0%, 0%)\" stroke-opacity=\"0.2\" stroke-miterlimit=\"10\" d=\"M 77.679688 391.707031 C 77.679688 394.3125 73.769531 394.3125 73.769531 391.707031 C 73.769531 389.101562 77.679688 389.101562 77.679688 391.707031 \"/>\n",
       "<path fill-rule=\"nonzero\" fill=\"rgb(0%, 0%, 0%)\" fill-opacity=\"0.2\" stroke-width=\"0.708661\" stroke-linecap=\"round\" stroke-linejoin=\"round\" stroke=\"rgb(0%, 0%, 0%)\" stroke-opacity=\"0.2\" stroke-miterlimit=\"10\" d=\"M 73.847656 452.710938 C 73.847656 455.320312 69.941406 455.320312 69.941406 452.710938 C 69.941406 450.105469 73.847656 450.105469 73.847656 452.710938 \"/>\n",
       "<path fill-rule=\"nonzero\" fill=\"rgb(0%, 0%, 0%)\" fill-opacity=\"0.2\" stroke-width=\"0.708661\" stroke-linecap=\"round\" stroke-linejoin=\"round\" stroke=\"rgb(0%, 0%, 0%)\" stroke-opacity=\"0.2\" stroke-miterlimit=\"10\" d=\"M 73.847656 300.199219 C 73.847656 302.804688 69.941406 302.804688 69.941406 300.199219 C 69.941406 297.589844 73.847656 297.589844 73.847656 300.199219 \"/>\n",
       "<path fill-rule=\"nonzero\" fill=\"rgb(0%, 0%, 0%)\" fill-opacity=\"0.2\" stroke-width=\"0.708661\" stroke-linecap=\"round\" stroke-linejoin=\"round\" stroke=\"rgb(0%, 0%, 0%)\" stroke-opacity=\"0.2\" stroke-miterlimit=\"10\" d=\"M 73.847656 467.964844 C 73.847656 470.570312 69.941406 470.570312 69.941406 467.964844 C 69.941406 465.355469 73.847656 465.355469 73.847656 467.964844 \"/>\n",
       "<path fill-rule=\"nonzero\" fill=\"rgb(0%, 0%, 0%)\" fill-opacity=\"0.2\" stroke-width=\"0.708661\" stroke-linecap=\"round\" stroke-linejoin=\"round\" stroke=\"rgb(0%, 0%, 0%)\" stroke-opacity=\"0.2\" stroke-miterlimit=\"10\" d=\"M 74.488281 467.964844 C 74.488281 470.570312 70.578125 470.570312 70.578125 467.964844 C 70.578125 465.355469 74.488281 465.355469 74.488281 467.964844 \"/>\n",
       "<path fill-rule=\"nonzero\" fill=\"rgb(0%, 0%, 0%)\" fill-opacity=\"0.2\" stroke-width=\"0.708661\" stroke-linecap=\"round\" stroke-linejoin=\"round\" stroke=\"rgb(0%, 0%, 0%)\" stroke-opacity=\"0.2\" stroke-miterlimit=\"10\" d=\"M 73.847656 467.964844 C 73.847656 470.570312 69.941406 470.570312 69.941406 467.964844 C 69.941406 465.355469 73.847656 465.355469 73.847656 467.964844 \"/>\n",
       "<path fill-rule=\"nonzero\" fill=\"rgb(0%, 0%, 0%)\" fill-opacity=\"0.2\" stroke-width=\"0.708661\" stroke-linecap=\"round\" stroke-linejoin=\"round\" stroke=\"rgb(0%, 0%, 0%)\" stroke-opacity=\"0.2\" stroke-miterlimit=\"10\" d=\"M 79.597656 447.628906 C 79.597656 450.234375 75.6875 450.234375 75.6875 447.628906 C 75.6875 445.023438 79.597656 445.023438 79.597656 447.628906 \"/>\n",
       "<path fill-rule=\"nonzero\" fill=\"rgb(0%, 0%, 0%)\" fill-opacity=\"0.2\" stroke-width=\"0.708661\" stroke-linecap=\"round\" stroke-linejoin=\"round\" stroke=\"rgb(0%, 0%, 0%)\" stroke-opacity=\"0.2\" stroke-miterlimit=\"10\" d=\"M 74.699219 467.964844 C 74.699219 470.570312 70.792969 470.570312 70.792969 467.964844 C 70.792969 465.355469 74.699219 465.355469 74.699219 467.964844 \"/>\n",
       "<path fill-rule=\"nonzero\" fill=\"rgb(0%, 0%, 0%)\" fill-opacity=\"0.2\" stroke-width=\"0.708661\" stroke-linecap=\"round\" stroke-linejoin=\"round\" stroke=\"rgb(0%, 0%, 0%)\" stroke-opacity=\"0.2\" stroke-miterlimit=\"10\" d=\"M 74.0625 467.964844 C 74.0625 470.570312 70.152344 470.570312 70.152344 467.964844 C 70.152344 465.355469 74.0625 465.355469 74.0625 467.964844 \"/>\n",
       "<path fill-rule=\"nonzero\" fill=\"rgb(0%, 0%, 0%)\" fill-opacity=\"0.2\" stroke-width=\"0.708661\" stroke-linecap=\"round\" stroke-linejoin=\"round\" stroke=\"rgb(0%, 0%, 0%)\" stroke-opacity=\"0.2\" stroke-miterlimit=\"10\" d=\"M 78.320312 432.375 C 78.320312 434.984375 74.410156 434.984375 74.410156 432.375 C 74.410156 429.769531 78.320312 429.769531 78.320312 432.375 \"/>\n",
       "<path fill-rule=\"nonzero\" fill=\"rgb(0%, 0%, 0%)\" fill-opacity=\"0.2\" stroke-width=\"0.708661\" stroke-linecap=\"round\" stroke-linejoin=\"round\" stroke=\"rgb(0%, 0%, 0%)\" stroke-opacity=\"0.2\" stroke-miterlimit=\"10\" d=\"M 75.550781 442.542969 C 75.550781 445.152344 71.644531 445.152344 71.644531 442.542969 C 71.644531 439.9375 75.550781 439.9375 75.550781 442.542969 \"/>\n",
       "<path fill-rule=\"nonzero\" fill=\"rgb(0%, 0%, 0%)\" fill-opacity=\"0.2\" stroke-width=\"0.708661\" stroke-linecap=\"round\" stroke-linejoin=\"round\" stroke=\"rgb(0%, 0%, 0%)\" stroke-opacity=\"0.2\" stroke-miterlimit=\"10\" d=\"M 74.273438 467.964844 C 74.273438 470.570312 70.367188 470.570312 70.367188 467.964844 C 70.367188 465.355469 74.273438 465.355469 74.273438 467.964844 \"/>\n",
       "<path fill-rule=\"nonzero\" fill=\"rgb(0%, 0%, 0%)\" fill-opacity=\"0.2\" stroke-width=\"0.708661\" stroke-linecap=\"round\" stroke-linejoin=\"round\" stroke=\"rgb(0%, 0%, 0%)\" stroke-opacity=\"0.2\" stroke-miterlimit=\"10\" d=\"M 141.964844 442.542969 C 141.964844 445.152344 138.054688 445.152344 138.054688 442.542969 C 138.054688 439.9375 141.964844 439.9375 141.964844 442.542969 \"/>\n",
       "<path fill-rule=\"nonzero\" fill=\"rgb(0%, 0%, 0%)\" fill-opacity=\"0.2\" stroke-width=\"0.708661\" stroke-linecap=\"round\" stroke-linejoin=\"round\" stroke=\"rgb(0%, 0%, 0%)\" stroke-opacity=\"0.2\" stroke-miterlimit=\"10\" d=\"M 77.46875 467.964844 C 77.46875 470.570312 73.558594 470.570312 73.558594 467.964844 C 73.558594 465.355469 77.46875 465.355469 77.46875 467.964844 \"/>\n",
       "<path fill-rule=\"nonzero\" fill=\"rgb(0%, 0%, 0%)\" fill-opacity=\"0.2\" stroke-width=\"0.708661\" stroke-linecap=\"round\" stroke-linejoin=\"round\" stroke=\"rgb(0%, 0%, 0%)\" stroke-opacity=\"0.2\" stroke-miterlimit=\"10\" d=\"M 74.0625 462.878906 C 74.0625 465.484375 70.152344 465.484375 70.152344 462.878906 C 70.152344 460.273438 74.0625 460.273438 74.0625 462.878906 \"/>\n",
       "<path fill-rule=\"nonzero\" fill=\"rgb(0%, 0%, 0%)\" fill-opacity=\"0.2\" stroke-width=\"0.708661\" stroke-linecap=\"round\" stroke-linejoin=\"round\" stroke=\"rgb(0%, 0%, 0%)\" stroke-opacity=\"0.2\" stroke-miterlimit=\"10\" d=\"M 74.0625 330.699219 C 74.0625 333.308594 70.152344 333.308594 70.152344 330.699219 C 70.152344 328.09375 74.0625 328.09375 74.0625 330.699219 \"/>\n",
       "<path fill-rule=\"nonzero\" fill=\"rgb(0%, 0%, 0%)\" fill-opacity=\"0.2\" stroke-width=\"0.708661\" stroke-linecap=\"round\" stroke-linejoin=\"round\" stroke=\"rgb(0%, 0%, 0%)\" stroke-opacity=\"0.2\" stroke-miterlimit=\"10\" d=\"M 73.847656 467.964844 C 73.847656 470.570312 69.941406 470.570312 69.941406 467.964844 C 69.941406 465.355469 73.847656 465.355469 73.847656 467.964844 \"/>\n",
       "<path fill-rule=\"nonzero\" fill=\"rgb(0%, 0%, 0%)\" fill-opacity=\"0.2\" stroke-width=\"0.708661\" stroke-linecap=\"round\" stroke-linejoin=\"round\" stroke=\"rgb(0%, 0%, 0%)\" stroke-opacity=\"0.2\" stroke-miterlimit=\"10\" d=\"M 73.847656 467.964844 C 73.847656 470.570312 69.941406 470.570312 69.941406 467.964844 C 69.941406 465.355469 73.847656 465.355469 73.847656 467.964844 \"/>\n",
       "<path fill-rule=\"nonzero\" fill=\"rgb(0%, 0%, 0%)\" fill-opacity=\"0.2\" stroke-width=\"0.708661\" stroke-linecap=\"round\" stroke-linejoin=\"round\" stroke=\"rgb(0%, 0%, 0%)\" stroke-opacity=\"0.2\" stroke-miterlimit=\"10\" d=\"M 73.847656 467.964844 C 73.847656 470.570312 69.941406 470.570312 69.941406 467.964844 C 69.941406 465.355469 73.847656 465.355469 73.847656 467.964844 \"/>\n",
       "<path fill-rule=\"nonzero\" fill=\"rgb(0%, 0%, 0%)\" fill-opacity=\"0.2\" stroke-width=\"0.708661\" stroke-linecap=\"round\" stroke-linejoin=\"round\" stroke=\"rgb(0%, 0%, 0%)\" stroke-opacity=\"0.2\" stroke-miterlimit=\"10\" d=\"M 73.847656 452.710938 C 73.847656 455.320312 69.941406 455.320312 69.941406 452.710938 C 69.941406 450.105469 73.847656 450.105469 73.847656 452.710938 \"/>\n",
       "<path fill-rule=\"nonzero\" fill=\"rgb(0%, 0%, 0%)\" fill-opacity=\"0.2\" stroke-width=\"0.708661\" stroke-linecap=\"round\" stroke-linejoin=\"round\" stroke=\"rgb(0%, 0%, 0%)\" stroke-opacity=\"0.2\" stroke-miterlimit=\"10\" d=\"M 73.847656 467.964844 C 73.847656 470.570312 69.941406 470.570312 69.941406 467.964844 C 69.941406 465.355469 73.847656 465.355469 73.847656 467.964844 \"/>\n",
       "<path fill-rule=\"nonzero\" fill=\"rgb(0%, 0%, 0%)\" fill-opacity=\"0.2\" stroke-width=\"0.708661\" stroke-linecap=\"round\" stroke-linejoin=\"round\" stroke=\"rgb(0%, 0%, 0%)\" stroke-opacity=\"0.2\" stroke-miterlimit=\"10\" d=\"M 74.488281 442.542969 C 74.488281 445.152344 70.578125 445.152344 70.578125 442.542969 C 70.578125 439.9375 74.488281 439.9375 74.488281 442.542969 \"/>\n",
       "<path fill-rule=\"nonzero\" fill=\"rgb(0%, 0%, 0%)\" fill-opacity=\"0.2\" stroke-width=\"0.708661\" stroke-linecap=\"round\" stroke-linejoin=\"round\" stroke=\"rgb(0%, 0%, 0%)\" stroke-opacity=\"0.2\" stroke-miterlimit=\"10\" d=\"M 73.847656 467.964844 C 73.847656 470.570312 69.941406 470.570312 69.941406 467.964844 C 69.941406 465.355469 73.847656 465.355469 73.847656 467.964844 \"/>\n",
       "<path fill-rule=\"nonzero\" fill=\"rgb(0%, 0%, 0%)\" fill-opacity=\"0.2\" stroke-width=\"0.708661\" stroke-linecap=\"round\" stroke-linejoin=\"round\" stroke=\"rgb(0%, 0%, 0%)\" stroke-opacity=\"0.2\" stroke-miterlimit=\"10\" d=\"M 78.746094 467.964844 C 78.746094 470.570312 74.835938 470.570312 74.835938 467.964844 C 74.835938 465.355469 78.746094 465.355469 78.746094 467.964844 \"/>\n",
       "<path fill-rule=\"nonzero\" fill=\"rgb(0%, 0%, 0%)\" fill-opacity=\"0.2\" stroke-width=\"0.708661\" stroke-linecap=\"round\" stroke-linejoin=\"round\" stroke=\"rgb(0%, 0%, 0%)\" stroke-opacity=\"0.2\" stroke-miterlimit=\"10\" d=\"M 74.273438 91.761719 C 74.273438 94.367188 70.367188 94.367188 70.367188 91.761719 C 70.367188 89.15625 74.273438 89.15625 74.273438 91.761719 \"/>\n",
       "<g fill=\"rgb(30.196078%, 30.196078%, 30.196078%)\" fill-opacity=\"1\">\n",
       "<use xlink:href=\"#glyph-0-0\" x=\"29.21875\" y=\"431.65625\"/>\n",
       "<use xlink:href=\"#glyph-0-1\" x=\"36.21875\" y=\"431.65625\"/>\n",
       "</g>\n",
       "<g fill=\"rgb(30.196078%, 30.196078%, 30.196078%)\" fill-opacity=\"1\">\n",
       "<use xlink:href=\"#glyph-0-1\" x=\"29.21875\" y=\"304.5625\"/>\n",
       "<use xlink:href=\"#glyph-0-2\" x=\"36.21875\" y=\"304.5625\"/>\n",
       "</g>\n",
       "<g fill=\"rgb(30.196078%, 30.196078%, 30.196078%)\" fill-opacity=\"1\">\n",
       "<use xlink:href=\"#glyph-0-3\" x=\"29.21875\" y=\"177.464844\"/>\n",
       "<use xlink:href=\"#glyph-0-1\" x=\"36.21875\" y=\"177.464844\"/>\n",
       "</g>\n",
       "<g fill=\"rgb(30.196078%, 30.196078%, 30.196078%)\" fill-opacity=\"1\">\n",
       "<use xlink:href=\"#glyph-0-4\" x=\"22.21875\" y=\"50.371094\"/>\n",
       "<use xlink:href=\"#glyph-0-2\" x=\"29.21875\" y=\"50.371094\"/>\n",
       "<use xlink:href=\"#glyph-0-2\" x=\"36.21875\" y=\"50.371094\"/>\n",
       "</g>\n",
       "<path fill=\"none\" stroke-width=\"1.066978\" stroke-linecap=\"butt\" stroke-linejoin=\"round\" stroke=\"rgb(20%, 20%, 20%)\" stroke-opacity=\"1\" stroke-miterlimit=\"10\" d=\"M 45.410156 427.292969 L 48.152344 427.292969 \"/>\n",
       "<path fill=\"none\" stroke-width=\"1.066978\" stroke-linecap=\"butt\" stroke-linejoin=\"round\" stroke=\"rgb(20%, 20%, 20%)\" stroke-opacity=\"1\" stroke-miterlimit=\"10\" d=\"M 45.410156 300.199219 L 48.152344 300.199219 \"/>\n",
       "<path fill=\"none\" stroke-width=\"1.066978\" stroke-linecap=\"butt\" stroke-linejoin=\"round\" stroke=\"rgb(20%, 20%, 20%)\" stroke-opacity=\"1\" stroke-miterlimit=\"10\" d=\"M 45.410156 173.101562 L 48.152344 173.101562 \"/>\n",
       "<path fill=\"none\" stroke-width=\"1.066978\" stroke-linecap=\"butt\" stroke-linejoin=\"round\" stroke=\"rgb(20%, 20%, 20%)\" stroke-opacity=\"1\" stroke-miterlimit=\"10\" d=\"M 45.410156 46.007812 L 48.152344 46.007812 \"/>\n",
       "<path fill=\"none\" stroke-width=\"1.066978\" stroke-linecap=\"butt\" stroke-linejoin=\"round\" stroke=\"rgb(20%, 20%, 20%)\" stroke-opacity=\"1\" stroke-miterlimit=\"10\" d=\"M 71.894531 539.589844 L 71.894531 536.847656 \"/>\n",
       "<path fill=\"none\" stroke-width=\"1.066978\" stroke-linecap=\"butt\" stroke-linejoin=\"round\" stroke=\"rgb(20%, 20%, 20%)\" stroke-opacity=\"1\" stroke-miterlimit=\"10\" d=\"M 178.324219 539.589844 L 178.324219 536.847656 \"/>\n",
       "<path fill=\"none\" stroke-width=\"1.066978\" stroke-linecap=\"butt\" stroke-linejoin=\"round\" stroke=\"rgb(20%, 20%, 20%)\" stroke-opacity=\"1\" stroke-miterlimit=\"10\" d=\"M 284.75 539.589844 L 284.75 536.847656 \"/>\n",
       "<path fill=\"none\" stroke-width=\"1.066978\" stroke-linecap=\"butt\" stroke-linejoin=\"round\" stroke=\"rgb(20%, 20%, 20%)\" stroke-opacity=\"1\" stroke-miterlimit=\"10\" d=\"M 391.179688 539.589844 L 391.179688 536.847656 \"/>\n",
       "<path fill=\"none\" stroke-width=\"1.066978\" stroke-linecap=\"butt\" stroke-linejoin=\"round\" stroke=\"rgb(20%, 20%, 20%)\" stroke-opacity=\"1\" stroke-miterlimit=\"10\" d=\"M 497.605469 539.589844 L 497.605469 536.847656 \"/>\n",
       "<g fill=\"rgb(30.196078%, 30.196078%, 30.196078%)\" fill-opacity=\"1\">\n",
       "<use xlink:href=\"#glyph-0-2\" x=\"68.394531\" y=\"550.644531\"/>\n",
       "</g>\n",
       "<g fill=\"rgb(30.196078%, 30.196078%, 30.196078%)\" fill-opacity=\"1\">\n",
       "<use xlink:href=\"#glyph-0-1\" x=\"171.324219\" y=\"550.644531\"/>\n",
       "<use xlink:href=\"#glyph-0-2\" x=\"178.324219\" y=\"550.644531\"/>\n",
       "</g>\n",
       "<g fill=\"rgb(30.196078%, 30.196078%, 30.196078%)\" fill-opacity=\"1\">\n",
       "<use xlink:href=\"#glyph-0-4\" x=\"274.25\" y=\"550.644531\"/>\n",
       "<use xlink:href=\"#glyph-0-2\" x=\"281.25\" y=\"550.644531\"/>\n",
       "<use xlink:href=\"#glyph-0-2\" x=\"288.25\" y=\"550.644531\"/>\n",
       "</g>\n",
       "<g fill=\"rgb(30.196078%, 30.196078%, 30.196078%)\" fill-opacity=\"1\">\n",
       "<use xlink:href=\"#glyph-0-4\" x=\"380.679688\" y=\"550.644531\"/>\n",
       "<use xlink:href=\"#glyph-0-1\" x=\"387.679688\" y=\"550.644531\"/>\n",
       "<use xlink:href=\"#glyph-0-2\" x=\"394.679688\" y=\"550.644531\"/>\n",
       "</g>\n",
       "<g fill=\"rgb(30.196078%, 30.196078%, 30.196078%)\" fill-opacity=\"1\">\n",
       "<use xlink:href=\"#glyph-0-0\" x=\"487.105469\" y=\"550.644531\"/>\n",
       "<use xlink:href=\"#glyph-0-2\" x=\"494.105469\" y=\"550.644531\"/>\n",
       "<use xlink:href=\"#glyph-0-2\" x=\"501.105469\" y=\"550.644531\"/>\n",
       "</g>\n",
       "<g fill=\"rgb(0%, 0%, 0%)\" fill-opacity=\"1\">\n",
       "<use xlink:href=\"#glyph-1-0\" x=\"238.335938\" y=\"567.098633\"/>\n",
       "<use xlink:href=\"#glyph-1-1\" x=\"246.335938\" y=\"567.098633\"/>\n",
       "<use xlink:href=\"#glyph-1-2\" x=\"254.335938\" y=\"567.098633\"/>\n",
       "<use xlink:href=\"#glyph-1-3\" x=\"258.335938\" y=\"567.098633\"/>\n",
       "<use xlink:href=\"#glyph-1-4\" x=\"266.335938\" y=\"567.098633\"/>\n",
       "<use xlink:href=\"#glyph-1-5\" x=\"269.335938\" y=\"567.098633\"/>\n",
       "<use xlink:href=\"#glyph-1-6\" x=\"273.335938\" y=\"567.098633\"/>\n",
       "<use xlink:href=\"#glyph-1-4\" x=\"283.335938\" y=\"567.098633\"/>\n",
       "<use xlink:href=\"#glyph-1-3\" x=\"286.335938\" y=\"567.098633\"/>\n",
       "<use xlink:href=\"#glyph-1-7\" x=\"294.335938\" y=\"567.098633\"/>\n",
       "<use xlink:href=\"#glyph-1-2\" x=\"302.335938\" y=\"567.098633\"/>\n",
       "<use xlink:href=\"#glyph-1-8\" x=\"306.335938\" y=\"567.098633\"/>\n",
       "<use xlink:href=\"#glyph-1-9\" x=\"309.335938\" y=\"567.098633\"/>\n",
       "<use xlink:href=\"#glyph-1-10\" x=\"321.335938\" y=\"567.098633\"/>\n",
       "<use xlink:href=\"#glyph-1-5\" x=\"329.335938\" y=\"567.098633\"/>\n",
       "<use xlink:href=\"#glyph-1-11\" x=\"333.335938\" y=\"567.098633\"/>\n",
       "<use xlink:href=\"#glyph-1-12\" x=\"338.335938\" y=\"567.098633\"/>\n",
       "<use xlink:href=\"#glyph-1-1\" x=\"346.335938\" y=\"567.098633\"/>\n",
       "<use xlink:href=\"#glyph-1-13\" x=\"354.335938\" y=\"567.098633\"/>\n",
       "<use xlink:href=\"#glyph-1-14\" x=\"362.335938\" y=\"567.098633\"/>\n",
       "<use xlink:href=\"#glyph-1-15\" x=\"367.335938\" y=\"567.098633\"/>\n",
       "<use xlink:href=\"#glyph-1-16\" x=\"375.335938\" y=\"567.098633\"/>\n",
       "</g>\n",
       "<g fill=\"rgb(0%, 0%, 0%)\" fill-opacity=\"1\">\n",
       "<use xlink:href=\"#glyph-2-0\" x=\"16.05957\" y=\"320.902344\"/>\n",
       "<use xlink:href=\"#glyph-2-1\" x=\"16.05957\" y=\"310.902344\"/>\n",
       "<use xlink:href=\"#glyph-2-2\" x=\"16.05957\" y=\"302.902344\"/>\n",
       "<use xlink:href=\"#glyph-2-3\" x=\"16.05957\" y=\"294.902344\"/>\n",
       "<use xlink:href=\"#glyph-2-4\" x=\"16.05957\" y=\"290.902344\"/>\n",
       "<use xlink:href=\"#glyph-2-5\" x=\"16.05957\" y=\"285.902344\"/>\n",
       "<use xlink:href=\"#glyph-2-2\" x=\"16.05957\" y=\"277.902344\"/>\n",
       "<use xlink:href=\"#glyph-2-6\" x=\"16.05957\" y=\"269.902344\"/>\n",
       "<use xlink:href=\"#glyph-2-7\" x=\"16.05957\" y=\"261.902344\"/>\n",
       "<use xlink:href=\"#glyph-2-8\" x=\"16.05957\" y=\"256.902344\"/>\n",
       "<use xlink:href=\"#glyph-2-9\" x=\"16.05957\" y=\"248.902344\"/>\n",
       "</g>\n",
       "<g fill=\"rgb(0%, 0%, 0%)\" fill-opacity=\"1\">\n",
       "<use xlink:href=\"#glyph-3-0\" x=\"48.152344\" y=\"17.775391\"/>\n",
       "<use xlink:href=\"#glyph-3-1\" x=\"59.152344\" y=\"17.775391\"/>\n",
       "<use xlink:href=\"#glyph-3-2\" x=\"63.152344\" y=\"17.775391\"/>\n",
       "<use xlink:href=\"#glyph-3-3\" x=\"73.152344\" y=\"17.775391\"/>\n",
       "<use xlink:href=\"#glyph-3-4\" x=\"83.152344\" y=\"17.775391\"/>\n",
       "<use xlink:href=\"#glyph-3-5\" x=\"89.152344\" y=\"17.775391\"/>\n",
       "<use xlink:href=\"#glyph-3-6\" x=\"99.152344\" y=\"17.775391\"/>\n",
       "<use xlink:href=\"#glyph-3-7\" x=\"104.152344\" y=\"17.775391\"/>\n",
       "<use xlink:href=\"#glyph-3-8\" x=\"114.152344\" y=\"17.775391\"/>\n",
       "<use xlink:href=\"#glyph-3-6\" x=\"119.152344\" y=\"17.775391\"/>\n",
       "<use xlink:href=\"#glyph-3-9\" x=\"124.152344\" y=\"17.775391\"/>\n",
       "<use xlink:href=\"#glyph-3-10\" x=\"133.152344\" y=\"17.775391\"/>\n",
       "<use xlink:href=\"#glyph-3-11\" x=\"143.152344\" y=\"17.775391\"/>\n",
       "<use xlink:href=\"#glyph-3-12\" x=\"148.152344\" y=\"17.775391\"/>\n",
       "<use xlink:href=\"#glyph-3-13\" x=\"158.152344\" y=\"17.775391\"/>\n",
       "<use xlink:href=\"#glyph-3-6\" x=\"162.152344\" y=\"17.775391\"/>\n",
       "<use xlink:href=\"#glyph-3-14\" x=\"167.152344\" y=\"17.775391\"/>\n",
       "<use xlink:href=\"#glyph-3-13\" x=\"179.152344\" y=\"17.775391\"/>\n",
       "<use xlink:href=\"#glyph-3-12\" x=\"183.152344\" y=\"17.775391\"/>\n",
       "<use xlink:href=\"#glyph-3-15\" x=\"193.152344\" y=\"17.775391\"/>\n",
       "<use xlink:href=\"#glyph-3-11\" x=\"202.152344\" y=\"17.775391\"/>\n",
       "<use xlink:href=\"#glyph-3-1\" x=\"207.152344\" y=\"17.775391\"/>\n",
       "<use xlink:href=\"#glyph-3-16\" x=\"211.152344\" y=\"17.775391\"/>\n",
       "<use xlink:href=\"#glyph-3-5\" x=\"226.152344\" y=\"17.775391\"/>\n",
       "<use xlink:href=\"#glyph-3-6\" x=\"236.152344\" y=\"17.775391\"/>\n",
       "<use xlink:href=\"#glyph-3-17\" x=\"241.152344\" y=\"17.775391\"/>\n",
       "<use xlink:href=\"#glyph-3-18\" x=\"250.152344\" y=\"17.775391\"/>\n",
       "<use xlink:href=\"#glyph-3-8\" x=\"259.152344\" y=\"17.775391\"/>\n",
       "<use xlink:href=\"#glyph-3-6\" x=\"264.152344\" y=\"17.775391\"/>\n",
       "<use xlink:href=\"#glyph-3-19\" x=\"268.152344\" y=\"17.775391\"/>\n",
       "<use xlink:href=\"#glyph-3-2\" x=\"280.152344\" y=\"17.775391\"/>\n",
       "<use xlink:href=\"#glyph-3-5\" x=\"290.152344\" y=\"17.775391\"/>\n",
       "</g>\n",
       "</svg>\n"
      ],
      "text/plain": [
       "plot without title"
      ]
     },
     "metadata": {
      "application/pdf": {
       "height": 480,
       "width": 480
      },
      "image/jpeg": {
       "height": 480,
       "width": 480
      },
      "image/png": {
       "height": 480,
       "width": 480
      },
      "image/svg+xml": {
       "height": 480,
       "isolated": true,
       "width": 480
      }
     },
     "output_type": "display_data"
    }
   ],
   "source": [
    "options(repr.plot.width = 8, repr.plot.height = 8)\n",
    "\n",
    "age_playtime <- data |>\n",
    "ggplot(aes(x = played_hours, y = age)) +\n",
    "geom_point(alpha = 0.2) +\n",
    "labs(x = \"Total Playtime (hours)\", y = \"Age (years)\") +\n",
    "ggtitle(\"Figure 1. Total Playtime vs. Age\") +\n",
    "theme(text = element_text(size = 15))\n",
    "\n",
    "age_playtime"
   ]
  },
  {
   "cell_type": "markdown",
   "id": "d756ac66-4f4a-4e1d-af72-6ef30fef76c2",
   "metadata": {},
   "source": [
    "**Figure 1. Total Playtime vs. Age **"
   ]
  },
  {
   "cell_type": "markdown",
   "id": "7854deb7-f479-4cf9-9609-aea885a16ef6",
   "metadata": {},
   "source": [
    "From this figure, we can conclude that the dataset includes mostly players who are young (< 30 years) and play very few hours. Among the players that *do* play many hours (e.g. more than 25 hours), most of them are young (< 30 years).\n",
    "\n",
    "From the figure, the relationship is not especially clear, but perhaps it could be weakly linear. There seem to be a few outliers (e.g. an individual who has played nearly 250 hours) and a lot of zero-hour plays. A **negative relationship** between *age* and *played_hours* is still somewhat visible on the scatterplot.\n",
    "\n",
    "We would like to further explore the relationship between `age` and `played_hours`. Since both variables are numeric, and we see a slight indication of a linear relationship, we'll try a **linear regression**. Since we would like to know the characteristics of players that contribute a large amount of data, we will create a model that predicts `age` using `played_hours`. If our model is accurate-- in other words, if the $RMSE$ and $RMSPE$ are low enough-- we will conclude that player's *age* can help us to predict their *played hours*."
   ]
  },
  {
   "cell_type": "markdown",
   "id": "99d0ffa9-5d8d-4e12-bf7c-5226564c91ea",
   "metadata": {},
   "source": [
    "In this step, we will:\n",
    "\n",
    "- create a linear regression model specification, named `lm_spec`\n",
    "- create a recipe for `lm_spec`, named `data_recipe`\n",
    "- fit the model specification and recipe in a workflow, named `data_fit`"
   ]
  },
  {
   "cell_type": "code",
   "execution_count": 10,
   "id": "da011157-6236-4c0b-875a-24d1a8e0d7d2",
   "metadata": {},
   "outputs": [
    {
     "data": {
      "text/plain": [
       "══ Workflow [trained] ══════════════════════════════════════════════════════════\n",
       "\u001b[3mPreprocessor:\u001b[23m Recipe\n",
       "\u001b[3mModel:\u001b[23m linear_reg()\n",
       "\n",
       "── Preprocessor ────────────────────────────────────────────────────────────────\n",
       "0 Recipe Steps\n",
       "\n",
       "── Model ───────────────────────────────────────────────────────────────────────\n",
       "\n",
       "Call:\n",
       "stats::lm(formula = ..y ~ ., data = data)\n",
       "\n",
       "Coefficients:\n",
       " (Intercept)  played_hours  \n",
       "    21.69401      -0.02578  \n"
      ]
     },
     "metadata": {},
     "output_type": "display_data"
    }
   ],
   "source": [
    "lm_spec <- linear_reg() |> \n",
    "       set_engine(\"lm\") |>\n",
    "       set_mode(\"regression\")\n",
    "\n",
    "data_recipe <- recipe(age ~ played_hours, data = data_training)\n",
    "\n",
    "data_fit <- workflow() |>\n",
    "       add_recipe(data_recipe) |>\n",
    "       add_model(lm_spec) |>\n",
    "       fit(data = data_training)\n",
    "\n",
    "data_fit"
   ]
  },
  {
   "cell_type": "markdown",
   "id": "3450e080-71af-48c2-8375-1abbaa5a93a6",
   "metadata": {},
   "source": [
    "<br>\n",
    "The equation of the line indicates that when played_hours is 0, the predicated age is 22. From the y-intercept (age) of 22, the average player's age decreases, at the rate of 0.02578 years per hour of playtime.\n",
    "\n",
    "<br>\n",
    "<br>\n",
    "Next, we will calculate the $RMSE$ to assess the goodness of fit on `data_fit`.\n",
    "\n",
    "Note that this is going to tell us how well the model predicts the **training data** used to fit the model."
   ]
  },
  {
   "cell_type": "code",
   "execution_count": 11,
   "id": "f87e3fd3-b3d6-4770-82a1-d83d25dd71b8",
   "metadata": {},
   "outputs": [
    {
     "data": {
      "text/html": [
       "11.0208473104685"
      ],
      "text/latex": [
       "11.0208473104685"
      ],
      "text/markdown": [
       "11.0208473104685"
      ],
      "text/plain": [
       "[1] 11.02085"
      ]
     },
     "metadata": {},
     "output_type": "display_data"
    }
   ],
   "source": [
    "lm_rmse <- data_fit |>\n",
    "         predict(data_training) |>\n",
    "         bind_cols(data_training) |>\n",
    "         metrics(truth = age, estimate = .pred) |>\n",
    "         filter(.metric == \"rmse\") |>\n",
    "         select(.estimate) |>\n",
    "         pull()\n",
    "\n",
    "lm_rmse"
   ]
  },
  {
   "cell_type": "markdown",
   "id": "e1fb300a-8aab-4a63-805a-da5d15f260ca",
   "metadata": {},
   "source": [
    "The $RMSE$ of 11.02 tells us that the training data points on the scatterplot were off by an average distance of 11.02 years from the line of best fit.\n",
    "\n",
    "Let's calculate the $RMSPE$ by doing the same process on the **testing data**."
   ]
  },
  {
   "cell_type": "code",
   "execution_count": 12,
   "id": "a6269dda-112f-4621-adb0-247be55dc9b7",
   "metadata": {},
   "outputs": [
    {
     "data": {
      "text/html": [
       "5.78311112161356"
      ],
      "text/latex": [
       "5.78311112161356"
      ],
      "text/markdown": [
       "5.78311112161356"
      ],
      "text/plain": [
       "[1] 5.783111"
      ]
     },
     "metadata": {},
     "output_type": "display_data"
    }
   ],
   "source": [
    "lm_rmspe <- data_fit |>\n",
    "         predict(data_testing) |>\n",
    "         bind_cols(data_testing) |>\n",
    "         metrics(truth = age, estimate = .pred) |>\n",
    "         filter(.metric == \"rmse\") |>\n",
    "         select(.estimate) |>\n",
    "         pull()\n",
    "\n",
    "lm_rmspe"
   ]
  },
  {
   "cell_type": "markdown",
   "id": "44af603a-36b8-4bfe-887d-224296c61e5f",
   "metadata": {},
   "source": [
    "The $RMSPE$ of 5.78 tells us that the training data points on the scatterplot were off by an average distance of 5.78 years from the line of best fit.\n",
    "\n",
    "Especially considering the dataset mostly consists of players < 30 years, a 5.78 difference in predicted age is substantial. Using `played_hours` as a predictor does not result in a particularily accurate prediction.\n",
    "\n",
    "The outliers mentioned earlier (i.e. points of astonishingly high play times and points of surprisingly advanced age) may contribue to this. Let's identify them, by ordering the data frame in **descending order** for each variable, using the `arrange` function."
   ]
  },
  {
   "cell_type": "code",
   "execution_count": 13,
   "id": "8e7ec9c1-55aa-4218-939e-eb6b0ea8d807",
   "metadata": {},
   "outputs": [
    {
     "data": {
      "text/html": [
       "<table class=\"dataframe\">\n",
       "<caption>A tibble: 6 × 8</caption>\n",
       "<thead>\n",
       "\t<tr><th scope=col>experience</th><th scope=col>subscribe</th><th scope=col>hashedEmail</th><th scope=col>played_hours</th><th scope=col>name</th><th scope=col>gender</th><th scope=col>age</th><th scope=col>number_of_sessions</th></tr>\n",
       "\t<tr><th scope=col>&lt;fct&gt;</th><th scope=col>&lt;lgl&gt;</th><th scope=col>&lt;chr&gt;</th><th scope=col>&lt;dbl&gt;</th><th scope=col>&lt;chr&gt;</th><th scope=col>&lt;fct&gt;</th><th scope=col>&lt;dbl&gt;</th><th scope=col>&lt;int&gt;</th></tr>\n",
       "</thead>\n",
       "<tbody>\n",
       "\t<tr><td>Regular</td><td> TRUE</td><td>7d71c49cbbce8dcf0276b2bfecfa2d16f22cb31a4024556d6085884298f2ee8d</td><td> 0.1</td><td>Devin    </td><td>Two-Spirited</td><td>99</td><td> 1</td></tr>\n",
       "\t<tr><td>Pro    </td><td> TRUE</td><td>d9473710057f7d42f36570f0be83817a4eea614029ff90cf50d8889cdd729d11</td><td> 0.2</td><td>Ahmed    </td><td>Other       </td><td>91</td><td> 1</td></tr>\n",
       "\t<tr><td>Regular</td><td>FALSE</td><td>7b17513f11968feaf6b02977885c436dc2a4549489ca25ef03022f9fbae19d81</td><td> 0.0</td><td>Balthazar</td><td>Male        </td><td>50</td><td> 1</td></tr>\n",
       "\t<tr><td>Regular</td><td> TRUE</td><td>c57fa94e436cf49a929d0168e47d26fec3d900b321775e280ef136979c01d5a4</td><td>18.5</td><td>Dante    </td><td>Male        </td><td>49</td><td>16</td></tr>\n",
       "\t<tr><td>Veteran</td><td>FALSE</td><td>4c0662a559f9d83b4d84ce3d86e6577c9f7a426c80465c6174321afd96664da5</td><td> 0.0</td><td>Selena   </td><td>Male        </td><td>46</td><td>NA</td></tr>\n",
       "\t<tr><td>Amateur</td><td>FALSE</td><td>6fa105fac7f4f37350f21830db78cde153d8edda41d6f4f2d48c9785d605c5e5</td><td> 0.1</td><td>Yosef    </td><td>Male        </td><td>45</td><td> 1</td></tr>\n",
       "</tbody>\n",
       "</table>\n"
      ],
      "text/latex": [
       "A tibble: 6 × 8\n",
       "\\begin{tabular}{llllllll}\n",
       " experience & subscribe & hashedEmail & played\\_hours & name & gender & age & number\\_of\\_sessions\\\\\n",
       " <fct> & <lgl> & <chr> & <dbl> & <chr> & <fct> & <dbl> & <int>\\\\\n",
       "\\hline\n",
       "\t Regular &  TRUE & 7d71c49cbbce8dcf0276b2bfecfa2d16f22cb31a4024556d6085884298f2ee8d &  0.1 & Devin     & Two-Spirited & 99 &  1\\\\\n",
       "\t Pro     &  TRUE & d9473710057f7d42f36570f0be83817a4eea614029ff90cf50d8889cdd729d11 &  0.2 & Ahmed     & Other        & 91 &  1\\\\\n",
       "\t Regular & FALSE & 7b17513f11968feaf6b02977885c436dc2a4549489ca25ef03022f9fbae19d81 &  0.0 & Balthazar & Male         & 50 &  1\\\\\n",
       "\t Regular &  TRUE & c57fa94e436cf49a929d0168e47d26fec3d900b321775e280ef136979c01d5a4 & 18.5 & Dante     & Male         & 49 & 16\\\\\n",
       "\t Veteran & FALSE & 4c0662a559f9d83b4d84ce3d86e6577c9f7a426c80465c6174321afd96664da5 &  0.0 & Selena    & Male         & 46 & NA\\\\\n",
       "\t Amateur & FALSE & 6fa105fac7f4f37350f21830db78cde153d8edda41d6f4f2d48c9785d605c5e5 &  0.1 & Yosef     & Male         & 45 &  1\\\\\n",
       "\\end{tabular}\n"
      ],
      "text/markdown": [
       "\n",
       "A tibble: 6 × 8\n",
       "\n",
       "| experience &lt;fct&gt; | subscribe &lt;lgl&gt; | hashedEmail &lt;chr&gt; | played_hours &lt;dbl&gt; | name &lt;chr&gt; | gender &lt;fct&gt; | age &lt;dbl&gt; | number_of_sessions &lt;int&gt; |\n",
       "|---|---|---|---|---|---|---|---|\n",
       "| Regular |  TRUE | 7d71c49cbbce8dcf0276b2bfecfa2d16f22cb31a4024556d6085884298f2ee8d |  0.1 | Devin     | Two-Spirited | 99 |  1 |\n",
       "| Pro     |  TRUE | d9473710057f7d42f36570f0be83817a4eea614029ff90cf50d8889cdd729d11 |  0.2 | Ahmed     | Other        | 91 |  1 |\n",
       "| Regular | FALSE | 7b17513f11968feaf6b02977885c436dc2a4549489ca25ef03022f9fbae19d81 |  0.0 | Balthazar | Male         | 50 |  1 |\n",
       "| Regular |  TRUE | c57fa94e436cf49a929d0168e47d26fec3d900b321775e280ef136979c01d5a4 | 18.5 | Dante     | Male         | 49 | 16 |\n",
       "| Veteran | FALSE | 4c0662a559f9d83b4d84ce3d86e6577c9f7a426c80465c6174321afd96664da5 |  0.0 | Selena    | Male         | 46 | NA |\n",
       "| Amateur | FALSE | 6fa105fac7f4f37350f21830db78cde153d8edda41d6f4f2d48c9785d605c5e5 |  0.1 | Yosef     | Male         | 45 |  1 |\n",
       "\n"
      ],
      "text/plain": [
       "  experience subscribe\n",
       "1 Regular     TRUE    \n",
       "2 Pro         TRUE    \n",
       "3 Regular    FALSE    \n",
       "4 Regular     TRUE    \n",
       "5 Veteran    FALSE    \n",
       "6 Amateur    FALSE    \n",
       "  hashedEmail                                                      played_hours\n",
       "1 7d71c49cbbce8dcf0276b2bfecfa2d16f22cb31a4024556d6085884298f2ee8d  0.1        \n",
       "2 d9473710057f7d42f36570f0be83817a4eea614029ff90cf50d8889cdd729d11  0.2        \n",
       "3 7b17513f11968feaf6b02977885c436dc2a4549489ca25ef03022f9fbae19d81  0.0        \n",
       "4 c57fa94e436cf49a929d0168e47d26fec3d900b321775e280ef136979c01d5a4 18.5        \n",
       "5 4c0662a559f9d83b4d84ce3d86e6577c9f7a426c80465c6174321afd96664da5  0.0        \n",
       "6 6fa105fac7f4f37350f21830db78cde153d8edda41d6f4f2d48c9785d605c5e5  0.1        \n",
       "  name      gender       age number_of_sessions\n",
       "1 Devin     Two-Spirited 99   1                \n",
       "2 Ahmed     Other        91   1                \n",
       "3 Balthazar Male         50   1                \n",
       "4 Dante     Male         49  16                \n",
       "5 Selena    Male         46  NA                \n",
       "6 Yosef     Male         45   1                "
      ]
     },
     "metadata": {},
     "output_type": "display_data"
    }
   ],
   "source": [
    "data_age_desc <- arrange(data, desc(age))\n",
    "head(data_age_desc)"
   ]
  },
  {
   "cell_type": "markdown",
   "id": "41affc54-0487-4c33-a16a-4de7ca36b715",
   "metadata": {},
   "source": [
    "**Table 2. All Players, in descending order of `age`**\\\n",
    "(Only the head is displayed for the sake of readability.)"
   ]
  },
  {
   "cell_type": "code",
   "execution_count": 14,
   "id": "75b20f70-c354-4041-b8c0-052678556e66",
   "metadata": {},
   "outputs": [
    {
     "data": {
      "text/html": [
       "<table class=\"dataframe\">\n",
       "<caption>A tibble: 6 × 8</caption>\n",
       "<thead>\n",
       "\t<tr><th scope=col>experience</th><th scope=col>subscribe</th><th scope=col>hashedEmail</th><th scope=col>played_hours</th><th scope=col>name</th><th scope=col>gender</th><th scope=col>age</th><th scope=col>number_of_sessions</th></tr>\n",
       "\t<tr><th scope=col>&lt;fct&gt;</th><th scope=col>&lt;lgl&gt;</th><th scope=col>&lt;chr&gt;</th><th scope=col>&lt;dbl&gt;</th><th scope=col>&lt;chr&gt;</th><th scope=col>&lt;fct&gt;</th><th scope=col>&lt;dbl&gt;</th><th scope=col>&lt;int&gt;</th></tr>\n",
       "</thead>\n",
       "<tbody>\n",
       "\t<tr><td>Regular</td><td>TRUE</td><td>bfce39c89d6549f2bb94d8064d3ce69dc3d7e72b38f431d8aa0c4bf95ccee6bf</td><td>223.1</td><td>Hiroshi</td><td>Male      </td><td>17</td><td>219</td></tr>\n",
       "\t<tr><td>Regular</td><td>TRUE</td><td>b622593d2ef8b337dc554acb307d04a88114f2bf453b18fb5d2c80052aeb2319</td><td>218.1</td><td>Akio   </td><td>Non-binary</td><td>20</td><td> 95</td></tr>\n",
       "\t<tr><td>Regular</td><td>TRUE</td><td>ad6390295640af1ed0e45ffc58a53b2d9074b0eea694b16210addd44d7c81f83</td><td>178.2</td><td>Piper  </td><td>Female    </td><td>19</td><td>147</td></tr>\n",
       "\t<tr><td>Amateur</td><td>TRUE</td><td>f8f5477f5a2e53616ae37421b1c660b971192bd8ff77e3398304c7ae42581fdc</td><td>150.0</td><td>Delara </td><td>Female    </td><td>16</td><td>159</td></tr>\n",
       "\t<tr><td>Amateur</td><td>TRUE</td><td>fd6563a4e0f6f4273580e5fedbd8dda64990447aea5a33cbb5e894a3867ca44d</td><td> 56.1</td><td>Dana   </td><td>Male      </td><td>23</td><td>310</td></tr>\n",
       "\t<tr><td>Amateur</td><td>TRUE</td><td>36d9cbb4c6bc0c1a6911436d2da0d09ec625e43e6552f575d4acc9cf487c4686</td><td> 53.9</td><td>Alex   </td><td>Male      </td><td>17</td><td>130</td></tr>\n",
       "</tbody>\n",
       "</table>\n"
      ],
      "text/latex": [
       "A tibble: 6 × 8\n",
       "\\begin{tabular}{llllllll}\n",
       " experience & subscribe & hashedEmail & played\\_hours & name & gender & age & number\\_of\\_sessions\\\\\n",
       " <fct> & <lgl> & <chr> & <dbl> & <chr> & <fct> & <dbl> & <int>\\\\\n",
       "\\hline\n",
       "\t Regular & TRUE & bfce39c89d6549f2bb94d8064d3ce69dc3d7e72b38f431d8aa0c4bf95ccee6bf & 223.1 & Hiroshi & Male       & 17 & 219\\\\\n",
       "\t Regular & TRUE & b622593d2ef8b337dc554acb307d04a88114f2bf453b18fb5d2c80052aeb2319 & 218.1 & Akio    & Non-binary & 20 &  95\\\\\n",
       "\t Regular & TRUE & ad6390295640af1ed0e45ffc58a53b2d9074b0eea694b16210addd44d7c81f83 & 178.2 & Piper   & Female     & 19 & 147\\\\\n",
       "\t Amateur & TRUE & f8f5477f5a2e53616ae37421b1c660b971192bd8ff77e3398304c7ae42581fdc & 150.0 & Delara  & Female     & 16 & 159\\\\\n",
       "\t Amateur & TRUE & fd6563a4e0f6f4273580e5fedbd8dda64990447aea5a33cbb5e894a3867ca44d &  56.1 & Dana    & Male       & 23 & 310\\\\\n",
       "\t Amateur & TRUE & 36d9cbb4c6bc0c1a6911436d2da0d09ec625e43e6552f575d4acc9cf487c4686 &  53.9 & Alex    & Male       & 17 & 130\\\\\n",
       "\\end{tabular}\n"
      ],
      "text/markdown": [
       "\n",
       "A tibble: 6 × 8\n",
       "\n",
       "| experience &lt;fct&gt; | subscribe &lt;lgl&gt; | hashedEmail &lt;chr&gt; | played_hours &lt;dbl&gt; | name &lt;chr&gt; | gender &lt;fct&gt; | age &lt;dbl&gt; | number_of_sessions &lt;int&gt; |\n",
       "|---|---|---|---|---|---|---|---|\n",
       "| Regular | TRUE | bfce39c89d6549f2bb94d8064d3ce69dc3d7e72b38f431d8aa0c4bf95ccee6bf | 223.1 | Hiroshi | Male       | 17 | 219 |\n",
       "| Regular | TRUE | b622593d2ef8b337dc554acb307d04a88114f2bf453b18fb5d2c80052aeb2319 | 218.1 | Akio    | Non-binary | 20 |  95 |\n",
       "| Regular | TRUE | ad6390295640af1ed0e45ffc58a53b2d9074b0eea694b16210addd44d7c81f83 | 178.2 | Piper   | Female     | 19 | 147 |\n",
       "| Amateur | TRUE | f8f5477f5a2e53616ae37421b1c660b971192bd8ff77e3398304c7ae42581fdc | 150.0 | Delara  | Female     | 16 | 159 |\n",
       "| Amateur | TRUE | fd6563a4e0f6f4273580e5fedbd8dda64990447aea5a33cbb5e894a3867ca44d |  56.1 | Dana    | Male       | 23 | 310 |\n",
       "| Amateur | TRUE | 36d9cbb4c6bc0c1a6911436d2da0d09ec625e43e6552f575d4acc9cf487c4686 |  53.9 | Alex    | Male       | 17 | 130 |\n",
       "\n"
      ],
      "text/plain": [
       "  experience subscribe\n",
       "1 Regular    TRUE     \n",
       "2 Regular    TRUE     \n",
       "3 Regular    TRUE     \n",
       "4 Amateur    TRUE     \n",
       "5 Amateur    TRUE     \n",
       "6 Amateur    TRUE     \n",
       "  hashedEmail                                                      played_hours\n",
       "1 bfce39c89d6549f2bb94d8064d3ce69dc3d7e72b38f431d8aa0c4bf95ccee6bf 223.1       \n",
       "2 b622593d2ef8b337dc554acb307d04a88114f2bf453b18fb5d2c80052aeb2319 218.1       \n",
       "3 ad6390295640af1ed0e45ffc58a53b2d9074b0eea694b16210addd44d7c81f83 178.2       \n",
       "4 f8f5477f5a2e53616ae37421b1c660b971192bd8ff77e3398304c7ae42581fdc 150.0       \n",
       "5 fd6563a4e0f6f4273580e5fedbd8dda64990447aea5a33cbb5e894a3867ca44d  56.1       \n",
       "6 36d9cbb4c6bc0c1a6911436d2da0d09ec625e43e6552f575d4acc9cf487c4686  53.9       \n",
       "  name    gender     age number_of_sessions\n",
       "1 Hiroshi Male       17  219               \n",
       "2 Akio    Non-binary 20   95               \n",
       "3 Piper   Female     19  147               \n",
       "4 Delara  Female     16  159               \n",
       "5 Dana    Male       23  310               \n",
       "6 Alex    Male       17  130               "
      ]
     },
     "metadata": {},
     "output_type": "display_data"
    }
   ],
   "source": [
    "data_playtime_desc <- arrange(data, desc(played_hours))\n",
    "head(data_playtime_desc)"
   ]
  },
  {
   "cell_type": "markdown",
   "id": "5b75a3c6-8c91-468e-8bb0-85a472f702d6",
   "metadata": {},
   "source": [
    "**Table 3. All Players, in descending order of `played_hours`**\n",
    "(Only the head is displayed for the sake of readability.)"
   ]
  },
  {
   "cell_type": "markdown",
   "id": "88cbb66f-63f0-42d8-aaeb-2ae6571d438c",
   "metadata": {},
   "source": [
    "We can see that players **Devin, Ahmed, Hiroshi, Akio, Piper and Delara** have either (1) playtimes that are orders of magnitude higher than most of the players, or (2) a very advanced age, compared to most other players. This may be affecting our model's accuracy.\n",
    "\n",
    "We delete them from the data frame using the `filter` function."
   ]
  },
  {
   "cell_type": "code",
   "execution_count": 37,
   "id": "8896de71-2bf8-4d45-a874-30181e9cb7f0",
   "metadata": {},
   "outputs": [
    {
     "data": {
      "text/html": [
       "<table class=\"dataframe\">\n",
       "<caption>A tibble: 6 × 8</caption>\n",
       "<thead>\n",
       "\t<tr><th scope=col>experience</th><th scope=col>subscribe</th><th scope=col>hashedEmail</th><th scope=col>played_hours</th><th scope=col>name</th><th scope=col>gender</th><th scope=col>age</th><th scope=col>number_of_sessions</th></tr>\n",
       "\t<tr><th scope=col>&lt;fct&gt;</th><th scope=col>&lt;lgl&gt;</th><th scope=col>&lt;chr&gt;</th><th scope=col>&lt;dbl&gt;</th><th scope=col>&lt;chr&gt;</th><th scope=col>&lt;fct&gt;</th><th scope=col>&lt;dbl&gt;</th><th scope=col>&lt;int&gt;</th></tr>\n",
       "</thead>\n",
       "<tbody>\n",
       "\t<tr><td>Pro    </td><td> TRUE</td><td>f6daba428a5e19a3d47574858c13550499be23603422e6a0ee9728f8b53e192d</td><td>30.3</td><td>Morgan   </td><td>Male  </td><td> 9</td><td>27</td></tr>\n",
       "\t<tr><td>Veteran</td><td> TRUE</td><td>f3c813577c458ba0dfef80996f8f32c93b6e8af1fa939732842f2312358a88e9</td><td> 3.8</td><td>Christian</td><td>Male  </td><td>17</td><td> 3</td></tr>\n",
       "\t<tr><td>Veteran</td><td>FALSE</td><td>b674dd7ee0d24096d1c019615ce4d12b20fcbff12d79d3c5a9d2118eb7ccbb28</td><td> 0.0</td><td>Blake    </td><td>Male  </td><td>17</td><td> 1</td></tr>\n",
       "\t<tr><td>Amateur</td><td> TRUE</td><td>23fe711e0e3b77f1da7aa221ab1192afe21648d47d2b4fa7a5a659ff443a0eb5</td><td> 0.7</td><td>Flora    </td><td>Female</td><td>21</td><td> 1</td></tr>\n",
       "\t<tr><td>Regular</td><td> TRUE</td><td>7dc01f10bf20671ecfccdac23812b1b415acd42c2147cb0af4d48fcce2420f3e</td><td> 0.1</td><td>Kylie    </td><td>Male  </td><td>21</td><td> 1</td></tr>\n",
       "\t<tr><td>Amateur</td><td> TRUE</td><td>f58aad5996a435f16b0284a3b267f973f9af99e7a89bee0430055a44fa92f977</td><td> 0.0</td><td>Adrian   </td><td>Female</td><td>17</td><td>NA</td></tr>\n",
       "</tbody>\n",
       "</table>\n"
      ],
      "text/latex": [
       "A tibble: 6 × 8\n",
       "\\begin{tabular}{llllllll}\n",
       " experience & subscribe & hashedEmail & played\\_hours & name & gender & age & number\\_of\\_sessions\\\\\n",
       " <fct> & <lgl> & <chr> & <dbl> & <chr> & <fct> & <dbl> & <int>\\\\\n",
       "\\hline\n",
       "\t Pro     &  TRUE & f6daba428a5e19a3d47574858c13550499be23603422e6a0ee9728f8b53e192d & 30.3 & Morgan    & Male   &  9 & 27\\\\\n",
       "\t Veteran &  TRUE & f3c813577c458ba0dfef80996f8f32c93b6e8af1fa939732842f2312358a88e9 &  3.8 & Christian & Male   & 17 &  3\\\\\n",
       "\t Veteran & FALSE & b674dd7ee0d24096d1c019615ce4d12b20fcbff12d79d3c5a9d2118eb7ccbb28 &  0.0 & Blake     & Male   & 17 &  1\\\\\n",
       "\t Amateur &  TRUE & 23fe711e0e3b77f1da7aa221ab1192afe21648d47d2b4fa7a5a659ff443a0eb5 &  0.7 & Flora     & Female & 21 &  1\\\\\n",
       "\t Regular &  TRUE & 7dc01f10bf20671ecfccdac23812b1b415acd42c2147cb0af4d48fcce2420f3e &  0.1 & Kylie     & Male   & 21 &  1\\\\\n",
       "\t Amateur &  TRUE & f58aad5996a435f16b0284a3b267f973f9af99e7a89bee0430055a44fa92f977 &  0.0 & Adrian    & Female & 17 & NA\\\\\n",
       "\\end{tabular}\n"
      ],
      "text/markdown": [
       "\n",
       "A tibble: 6 × 8\n",
       "\n",
       "| experience &lt;fct&gt; | subscribe &lt;lgl&gt; | hashedEmail &lt;chr&gt; | played_hours &lt;dbl&gt; | name &lt;chr&gt; | gender &lt;fct&gt; | age &lt;dbl&gt; | number_of_sessions &lt;int&gt; |\n",
       "|---|---|---|---|---|---|---|---|\n",
       "| Pro     |  TRUE | f6daba428a5e19a3d47574858c13550499be23603422e6a0ee9728f8b53e192d | 30.3 | Morgan    | Male   |  9 | 27 |\n",
       "| Veteran |  TRUE | f3c813577c458ba0dfef80996f8f32c93b6e8af1fa939732842f2312358a88e9 |  3.8 | Christian | Male   | 17 |  3 |\n",
       "| Veteran | FALSE | b674dd7ee0d24096d1c019615ce4d12b20fcbff12d79d3c5a9d2118eb7ccbb28 |  0.0 | Blake     | Male   | 17 |  1 |\n",
       "| Amateur |  TRUE | 23fe711e0e3b77f1da7aa221ab1192afe21648d47d2b4fa7a5a659ff443a0eb5 |  0.7 | Flora     | Female | 21 |  1 |\n",
       "| Regular |  TRUE | 7dc01f10bf20671ecfccdac23812b1b415acd42c2147cb0af4d48fcce2420f3e |  0.1 | Kylie     | Male   | 21 |  1 |\n",
       "| Amateur |  TRUE | f58aad5996a435f16b0284a3b267f973f9af99e7a89bee0430055a44fa92f977 |  0.0 | Adrian    | Female | 17 | NA |\n",
       "\n"
      ],
      "text/plain": [
       "  experience subscribe\n",
       "1 Pro         TRUE    \n",
       "2 Veteran     TRUE    \n",
       "3 Veteran    FALSE    \n",
       "4 Amateur     TRUE    \n",
       "5 Regular     TRUE    \n",
       "6 Amateur     TRUE    \n",
       "  hashedEmail                                                      played_hours\n",
       "1 f6daba428a5e19a3d47574858c13550499be23603422e6a0ee9728f8b53e192d 30.3        \n",
       "2 f3c813577c458ba0dfef80996f8f32c93b6e8af1fa939732842f2312358a88e9  3.8        \n",
       "3 b674dd7ee0d24096d1c019615ce4d12b20fcbff12d79d3c5a9d2118eb7ccbb28  0.0        \n",
       "4 23fe711e0e3b77f1da7aa221ab1192afe21648d47d2b4fa7a5a659ff443a0eb5  0.7        \n",
       "5 7dc01f10bf20671ecfccdac23812b1b415acd42c2147cb0af4d48fcce2420f3e  0.1        \n",
       "6 f58aad5996a435f16b0284a3b267f973f9af99e7a89bee0430055a44fa92f977  0.0        \n",
       "  name      gender age number_of_sessions\n",
       "1 Morgan    Male    9  27                \n",
       "2 Christian Male   17   3                \n",
       "3 Blake     Male   17   1                \n",
       "4 Flora     Female 21   1                \n",
       "5 Kylie     Male   21   1                \n",
       "6 Adrian    Female 17  NA                "
      ]
     },
     "metadata": {},
     "output_type": "display_data"
    }
   ],
   "source": [
    "outliers <- c(\"Devin\", \"Ahmed\", \"Hiroshi\", \"Akio\", \"Piper\", \"Delara\")\n",
    "\n",
    "ref_data <- filter(data, !name %in% outliers)\n",
    "head(ref_data)"
   ]
  },
  {
   "cell_type": "markdown",
   "id": "802bc9f4-61e0-4641-ab58-52e5754b6c11",
   "metadata": {},
   "source": [
    "**Table 4. Dataframe of all player data, with outliers removed**"
   ]
  },
  {
   "cell_type": "markdown",
   "id": "d3619e56-e173-45a6-954a-6d66cfd05593",
   "metadata": {},
   "source": [
    "Using this refined data frame, we will now repeat the entire process (except creating the recipe, since that is identical) and calculate its $RMSE$ and $RMSPE$."
   ]
  },
  {
   "cell_type": "code",
   "execution_count": 104,
   "id": "783b562a-8185-45d8-ac65-d9bc60be4f61",
   "metadata": {},
   "outputs": [
    {
     "data": {
      "text/plain": [
       "══ Workflow [trained] ══════════════════════════════════════════════════════════\n",
       "\u001b[3mPreprocessor:\u001b[23m Recipe\n",
       "\u001b[3mModel:\u001b[23m linear_reg()\n",
       "\n",
       "── Preprocessor ────────────────────────────────────────────────────────────────\n",
       "0 Recipe Steps\n",
       "\n",
       "── Model ───────────────────────────────────────────────────────────────────────\n",
       "\n",
       "Call:\n",
       "stats::lm(formula = ..y ~ ., data = data)\n",
       "\n",
       "Coefficients:\n",
       " (Intercept)  played_hours  \n",
       "     20.9246        0.0237  \n"
      ]
     },
     "metadata": {},
     "output_type": "display_data"
    }
   ],
   "source": [
    "set.seed(1999)\n",
    "\n",
    "ref_data_split <- initial_split(ref_data, prop = 0.7, strata = age)\n",
    "ref_data_training <- training(ref_data_split)\n",
    "ref_data_testing <- testing(ref_data_split)\n",
    "\n",
    "ref_data_recipe <- recipe(age ~ played_hours, data = ref_data_training)\n",
    "\n",
    "ref_data_fit <- workflow() |>\n",
    "       add_recipe(ref_data_recipe) |>\n",
    "       add_model(lm_spec) |>\n",
    "       fit(data = ref_data_training)\n",
    "\n",
    "ref_data_fit"
   ]
  },
  {
   "cell_type": "code",
   "execution_count": 102,
   "id": "3387da95-1a89-4365-a1bb-38c8b1841f3a",
   "metadata": {},
   "outputs": [
    {
     "data": {
      "text/html": [
       "6.49931329118165"
      ],
      "text/latex": [
       "6.49931329118165"
      ],
      "text/markdown": [
       "6.49931329118165"
      ],
      "text/plain": [
       "[1] 6.499313"
      ]
     },
     "metadata": {},
     "output_type": "display_data"
    }
   ],
   "source": [
    "ref_lm_rmse <- ref_data_fit |>\n",
    "         predict(ref_data_training) |>\n",
    "         bind_cols(ref_data_training) |>\n",
    "         metrics(truth = age, estimate = .pred) |>\n",
    "         filter(.metric == \"rmse\") |>\n",
    "         select(.estimate) |>\n",
    "         pull()\n",
    "\n",
    "ref_lm_rmse"
   ]
  },
  {
   "cell_type": "code",
   "execution_count": 103,
   "id": "4e9bbcba-cd83-4c94-b0d1-9f633c02cf29",
   "metadata": {},
   "outputs": [
    {
     "data": {
      "text/html": [
       "5.54763859142635"
      ],
      "text/latex": [
       "5.54763859142635"
      ],
      "text/markdown": [
       "5.54763859142635"
      ],
      "text/plain": [
       "[1] 5.547639"
      ]
     },
     "metadata": {},
     "output_type": "display_data"
    }
   ],
   "source": [
    "ref_lm_rmspe <- ref_data_fit |>\n",
    "         predict(ref_data_testing) |>\n",
    "         bind_cols(ref_data_testing) |>\n",
    "         metrics(truth = age, estimate = .pred) |>\n",
    "         filter(.metric == \"rmse\") |>\n",
    "         select(.estimate) |>\n",
    "         pull()\n",
    "\n",
    "ref_lm_rmspe"
   ]
  },
  {
   "cell_type": "markdown",
   "id": "6de4e8d6-515d-48ff-816f-b9dec77c4df1",
   "metadata": {},
   "source": [
    "Nice! The calculated $RMSE$ and $RMSPE$ values are both lower than their previous values. The $RMSPE$ value of 5.55 is slightly more accurate!\n",
    "\n",
    "This tells us that there is a **negative** relationship between `age` and `playtime`."
   ]
  },
  {
   "cell_type": "markdown",
   "id": "49355bad-c430-412e-9c95-065cd6a1289c",
   "metadata": {},
   "source": [
    "<h2>Discussion</h2> \n",
    "\n",
    "#### Summary of analysis and findings ####\n",
    "\n",
    "Based on our exploratory data analysis, we predicted a relationship between the age of the player and the total number of hours played. Based on that intuition, we created a linear regression model, where the predictor variable was the total number of hours played (`played_hours`) and the predictor variable was the age of the player (`age`). \n",
    "\n",
    "To test the performance of the model, we used the training model to predict age from the test data, and calculated the $RMSPE$. The model had an $RMSPE$ of 5.36. \n",
    "\n",
    "This $RMSPE$ indicates that **there is a negative relationship between age and total played hours**. Looking back Figure 1, we can see that **players younger than ~25 years are likely to contribute the most playtime**. \n",
    "\n",
    "#### Expectations ####\n",
    "\n",
    "The results aligned with our expectations. Given that the linear relationship appeared weak in our exploratory analysis, we did not have expectations of a particularly low RMSPE. The linear regression indicated that there exists a relationship between age and total play time, which we expected. \n",
    "\n",
    "Our results also connect to our expectations based on our day-to-day experiences. We’d expect young adults might be most likely to engage in video games (such as PLAICraft) compared to other age groups. \n",
    "\n",
    "#### Impact of the findings #### \n",
    "\n",
    "The research team might use this information in their recruitment, in order to develop tailored marketing strategies. They can target people less than 25 years old (range around the intercept calculated from REFINED workflow), since they are likely to play for the greatest total number of hours. Knowing young adult participants are most likely to contribute large amounts of data, the researchers could e.g. advertise their study in locations that young adults frequent. \n",
    "\n",
    "#### Future questions #### \n",
    "\n",
    "Our findings lead to several more questions:\n",
    "\n",
    "* How can the game be developed to cater specifically to the target audience? "
   ]
  },
  {
   "cell_type": "code",
   "execution_count": null,
   "id": "2377d90b-cf69-4873-b7c3-ae68570afcb3",
   "metadata": {},
   "outputs": [],
   "source": []
  }
 ],
 "metadata": {
  "kernelspec": {
   "display_name": "R",
   "language": "R",
   "name": "ir"
  },
  "language_info": {
   "codemirror_mode": "r",
   "file_extension": ".r",
   "mimetype": "text/x-r-source",
   "name": "R",
   "pygments_lexer": "r",
   "version": "4.3.3"
  }
 },
 "nbformat": 4,
 "nbformat_minor": 5
}
